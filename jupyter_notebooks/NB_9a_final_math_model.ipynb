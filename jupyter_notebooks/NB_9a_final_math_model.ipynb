{
  "cells": [
    {
      "cell_type": "markdown",
      "metadata": {
        "id": "0aStgWSO0E0E"
      },
      "source": [
        "# **STUDENT AI** - MATH MODEL CREATION (CLASSIFICATION)"
      ]
    },
    {
      "cell_type": "markdown",
      "metadata": {
        "id": "1eLEkw5O0ECa"
      },
      "source": [
        "## Objectives\n",
        "\n",
        "Output a usable model for predicting student performance for use in a streamlit dashboard.\n",
        "\n",
        "## Inputs\n",
        "\n",
        "Main Data set cleaned and engineered for model training.\n",
        "\n",
        "## Outputs\n",
        "\n",
        "Pipeline and .pkl file to use for predicting a students math score based on the derived calculated best feature variables.\n"
      ]
    },
    {
      "cell_type": "markdown",
      "metadata": {
        "id": "9uWZXH9LwoQg"
      },
      "source": [
        "---"
      ]
    },
    {
      "cell_type": "markdown",
      "metadata": {},
      "source": [
        "# Import required libraries"
      ]
    },
    {
      "cell_type": "code",
      "execution_count": 1,
      "metadata": {},
      "outputs": [
        {
          "name": "stderr",
          "output_type": "stream",
          "text": [
            "/workspace/.pyenv_mirror/user/3.8.18/lib/python3.8/site-packages/xgboost/compat.py:93: FutureWarning: pandas.Int64Index is deprecated and will be removed from pandas in a future version. Use pandas.Index with the appropriate dtype instead.\n",
            "  from pandas import MultiIndex, Int64Index\n"
          ]
        },
        {
          "name": "stdout",
          "output_type": "stream",
          "text": [
            "All Libraries Loaded\n"
          ]
        }
      ],
      "source": [
        "\n",
        "\n",
        "import os\n",
        "import joblib\n",
        "import numpy as np\n",
        "import pandas as pd\n",
        "import matplotlib.pyplot as plt\n",
        "import seaborn as sns\n",
        "sns.set_style('whitegrid')\n",
        "\n",
        "### Pipeline\n",
        "from sklearn.pipeline import Pipeline\n",
        "\n",
        "### Feature Engineering\n",
        "from feature_engine.encoding import OrdinalEncoder\n",
        "\n",
        "### Feature Scaling\n",
        "from sklearn.preprocessing import StandardScaler\n",
        "\n",
        "### libraries for custom transformer\n",
        "from sklearn.base import BaseEstimator, TransformerMixin\n",
        "\n",
        "### Feature Balancing\n",
        "from imblearn.pipeline import Pipeline as ImbPipeline\n",
        "from imblearn.under_sampling import RandomUnderSampler\n",
        "from imblearn.over_sampling import SMOTE\n",
        "\n",
        "### Feature  Selection\n",
        "from sklearn.feature_selection import SelectFromModel\n",
        "\n",
        "### ML algorithms \n",
        "from sklearn.tree import DecisionTreeClassifier \n",
        "from sklearn.ensemble import RandomForestClassifier\n",
        "from sklearn.ensemble import GradientBoostingClassifier \n",
        "from sklearn.ensemble import ExtraTreesClassifier\n",
        "from sklearn.ensemble import AdaBoostClassifier\n",
        "from xgboost import XGBClassifier\n",
        "from sklearn.linear_model import SGDClassifier\n",
        "\n",
        "### EqualFrequencyDiscretiser\n",
        "from feature_engine.discretisation import EqualFrequencyDiscretiser\n",
        "\n",
        "### packages for classification report and confusion matrix\n",
        "from sklearn.metrics import make_scorer, recall_score\n",
        "\n",
        "### Train test split\n",
        "from sklearn.model_selection import train_test_split\n",
        "\n",
        "### Packages for generating a classification report and confusion matrix\n",
        "from sklearn.metrics import classification_report, confusion_matrix\n",
        "\n",
        "### GridSearchCV\n",
        "from sklearn.model_selection import GridSearchCV\n",
        "\n",
        "### Load Custom Functions\n",
        "import io\n",
        "import sys\n",
        "sys.path.append('/workspace/student-AI/src')\n",
        "from data_management import save_analysis\n",
        "from data_management import confusion_matrix_and_report, clf_performance\n",
        "\n",
        "print('All Libraries Loaded')"
      ]
    },
    {
      "cell_type": "markdown",
      "metadata": {
        "id": "cqP-UeN-z3i2"
      },
      "source": [
        "# Change working directory"
      ]
    },
    {
      "cell_type": "markdown",
      "metadata": {
        "id": "aOGIGS-uz3i2"
      },
      "source": [
        "### Set the working directory to notebook parent folder\n",
        "If the output does not match, click **'clear all outputs'** and then **'restart'** the notebook. \n",
        "Then run cells from top to bottom."
      ]
    },
    {
      "cell_type": "code",
      "execution_count": 2,
      "metadata": {
        "id": "wZfF_j-Bz3i4",
        "outputId": "66943449-1436-4c3d-85c7-b85f9f78349b"
      },
      "outputs": [
        {
          "name": "stdout",
          "output_type": "stream",
          "text": [
            "If correct, Active Directory should read: /workspace/student-AI\n",
            "Active Directory: /workspace/student-AI\n"
          ]
        }
      ],
      "source": [
        "current_dir = os.getcwd()\n",
        "os.chdir(os.path.dirname(current_dir))\n",
        "current_dir = os.getcwd()\n",
        "print('If correct, Active Directory should read: /workspace/student-AI')\n",
        "print(f\"Active Directory: {current_dir}\")"
      ]
    },
    {
      "cell_type": "markdown",
      "metadata": {},
      "source": [
        "### Load cleaned dataset"
      ]
    },
    {
      "cell_type": "code",
      "execution_count": 3,
      "metadata": {},
      "outputs": [
        {
          "data": {
            "text/html": [
              "<div>\n",
              "<style scoped>\n",
              "    .dataframe tbody tr th:only-of-type {\n",
              "        vertical-align: middle;\n",
              "    }\n",
              "\n",
              "    .dataframe tbody tr th {\n",
              "        vertical-align: top;\n",
              "    }\n",
              "\n",
              "    .dataframe thead th {\n",
              "        text-align: right;\n",
              "    }\n",
              "</style>\n",
              "<table border=\"1\" class=\"dataframe\">\n",
              "  <thead>\n",
              "    <tr style=\"text-align: right;\">\n",
              "      <th></th>\n",
              "      <th>Gender</th>\n",
              "      <th>EthnicGroup</th>\n",
              "      <th>ParentEduc</th>\n",
              "      <th>LunchType</th>\n",
              "      <th>TestPrep</th>\n",
              "      <th>MathScore</th>\n",
              "    </tr>\n",
              "  </thead>\n",
              "  <tbody>\n",
              "    <tr>\n",
              "      <th>0</th>\n",
              "      <td>female</td>\n",
              "      <td>C</td>\n",
              "      <td>bachelor</td>\n",
              "      <td>standard</td>\n",
              "      <td>not completed</td>\n",
              "      <td>71</td>\n",
              "    </tr>\n",
              "    <tr>\n",
              "      <th>1</th>\n",
              "      <td>female</td>\n",
              "      <td>C</td>\n",
              "      <td>college</td>\n",
              "      <td>standard</td>\n",
              "      <td>not completed</td>\n",
              "      <td>69</td>\n",
              "    </tr>\n",
              "    <tr>\n",
              "      <th>2</th>\n",
              "      <td>female</td>\n",
              "      <td>B</td>\n",
              "      <td>masters</td>\n",
              "      <td>standard</td>\n",
              "      <td>not completed</td>\n",
              "      <td>87</td>\n",
              "    </tr>\n",
              "    <tr>\n",
              "      <th>3</th>\n",
              "      <td>male</td>\n",
              "      <td>A</td>\n",
              "      <td>associates</td>\n",
              "      <td>free</td>\n",
              "      <td>not completed</td>\n",
              "      <td>45</td>\n",
              "    </tr>\n",
              "    <tr>\n",
              "      <th>4</th>\n",
              "      <td>male</td>\n",
              "      <td>C</td>\n",
              "      <td>college</td>\n",
              "      <td>standard</td>\n",
              "      <td>not completed</td>\n",
              "      <td>76</td>\n",
              "    </tr>\n",
              "    <tr>\n",
              "      <th>...</th>\n",
              "      <td>...</td>\n",
              "      <td>...</td>\n",
              "      <td>...</td>\n",
              "      <td>...</td>\n",
              "      <td>...</td>\n",
              "      <td>...</td>\n",
              "    </tr>\n",
              "    <tr>\n",
              "      <th>30636</th>\n",
              "      <td>female</td>\n",
              "      <td>D</td>\n",
              "      <td>highschool</td>\n",
              "      <td>standard</td>\n",
              "      <td>not completed</td>\n",
              "      <td>59</td>\n",
              "    </tr>\n",
              "    <tr>\n",
              "      <th>30637</th>\n",
              "      <td>male</td>\n",
              "      <td>E</td>\n",
              "      <td>highschool</td>\n",
              "      <td>standard</td>\n",
              "      <td>not completed</td>\n",
              "      <td>58</td>\n",
              "    </tr>\n",
              "    <tr>\n",
              "      <th>30638</th>\n",
              "      <td>female</td>\n",
              "      <td>C</td>\n",
              "      <td>highschool</td>\n",
              "      <td>free</td>\n",
              "      <td>completed</td>\n",
              "      <td>61</td>\n",
              "    </tr>\n",
              "    <tr>\n",
              "      <th>30639</th>\n",
              "      <td>female</td>\n",
              "      <td>D</td>\n",
              "      <td>associates</td>\n",
              "      <td>standard</td>\n",
              "      <td>completed</td>\n",
              "      <td>82</td>\n",
              "    </tr>\n",
              "    <tr>\n",
              "      <th>30640</th>\n",
              "      <td>male</td>\n",
              "      <td>B</td>\n",
              "      <td>college</td>\n",
              "      <td>standard</td>\n",
              "      <td>not completed</td>\n",
              "      <td>64</td>\n",
              "    </tr>\n",
              "  </tbody>\n",
              "</table>\n",
              "<p>30641 rows × 6 columns</p>\n",
              "</div>"
            ],
            "text/plain": [
              "       Gender EthnicGroup  ParentEduc LunchType       TestPrep  MathScore\n",
              "0      female           C    bachelor  standard  not completed         71\n",
              "1      female           C     college  standard  not completed         69\n",
              "2      female           B     masters  standard  not completed         87\n",
              "3        male           A  associates      free  not completed         45\n",
              "4        male           C     college  standard  not completed         76\n",
              "...       ...         ...         ...       ...            ...        ...\n",
              "30636  female           D  highschool  standard  not completed         59\n",
              "30637    male           E  highschool  standard  not completed         58\n",
              "30638  female           C  highschool      free      completed         61\n",
              "30639  female           D  associates  standard      completed         82\n",
              "30640    male           B     college  standard  not completed         64\n",
              "\n",
              "[30641 rows x 6 columns]"
            ]
          },
          "execution_count": 3,
          "metadata": {},
          "output_type": "execute_result"
        }
      ],
      "source": [
        "df_maths = pd.read_csv('outputs/dataset/Expanded_data_with_more_features_clean.csv').filter(['Gender', 'EthnicGroup', 'ParentEduc', 'LunchType', 'TestPrep', 'MathScore'])\n",
        "df_maths"
      ]
    },
    {
      "cell_type": "code",
      "execution_count": 4,
      "metadata": {},
      "outputs": [
        {
          "name": "stdout",
          "output_type": "stream",
          "text": [
            "* The classes represent the following ranges: \n",
            "{'MathScore': [-inf, 67.0, inf]} \n",
            "\n"
          ]
        },
        {
          "data": {
            "image/png": "[encoded data removed]",
            "text/plain": [
              "<Figure size 640x480 with 1 Axes>"
            ]
          },
          "metadata": {},
          "output_type": "display_data"
        }
      ],
      "source": [
        "efd = EqualFrequencyDiscretiser(q=2, variables=['MathScore'])\n",
        "df_maths_efd = efd.fit_transform(df_maths)\n",
        "\n",
        "print(f\"* The classes represent the following ranges: \\n{efd.binner_dict_} \\n\")\n",
        "fig_maths_efd = sns.countplot(data=df_maths_efd, x='MathScore')\n",
        "plt.bar_label(fig_maths_efd.containers[0])\n",
        "plt.show()"
      ]
    },
    {
      "cell_type": "code",
      "execution_count": 5,
      "metadata": {},
      "outputs": [
        {
          "data": {
            "text/html": [
              "<div>\n",
              "<style scoped>\n",
              "    .dataframe tbody tr th:only-of-type {\n",
              "        vertical-align: middle;\n",
              "    }\n",
              "\n",
              "    .dataframe tbody tr th {\n",
              "        vertical-align: top;\n",
              "    }\n",
              "\n",
              "    .dataframe thead th {\n",
              "        text-align: right;\n",
              "    }\n",
              "</style>\n",
              "<table border=\"1\" class=\"dataframe\">\n",
              "  <thead>\n",
              "    <tr style=\"text-align: right;\">\n",
              "      <th></th>\n",
              "      <th>Gender</th>\n",
              "      <th>EthnicGroup</th>\n",
              "      <th>ParentEduc</th>\n",
              "      <th>LunchType</th>\n",
              "      <th>TestPrep</th>\n",
              "      <th>MathScore</th>\n",
              "    </tr>\n",
              "  </thead>\n",
              "  <tbody>\n",
              "    <tr>\n",
              "      <th>0</th>\n",
              "      <td>female</td>\n",
              "      <td>C</td>\n",
              "      <td>bachelor</td>\n",
              "      <td>standard</td>\n",
              "      <td>not completed</td>\n",
              "      <td>1</td>\n",
              "    </tr>\n",
              "    <tr>\n",
              "      <th>1</th>\n",
              "      <td>female</td>\n",
              "      <td>C</td>\n",
              "      <td>college</td>\n",
              "      <td>standard</td>\n",
              "      <td>not completed</td>\n",
              "      <td>1</td>\n",
              "    </tr>\n",
              "    <tr>\n",
              "      <th>2</th>\n",
              "      <td>female</td>\n",
              "      <td>B</td>\n",
              "      <td>masters</td>\n",
              "      <td>standard</td>\n",
              "      <td>not completed</td>\n",
              "      <td>1</td>\n",
              "    </tr>\n",
              "    <tr>\n",
              "      <th>3</th>\n",
              "      <td>male</td>\n",
              "      <td>A</td>\n",
              "      <td>associates</td>\n",
              "      <td>free</td>\n",
              "      <td>not completed</td>\n",
              "      <td>0</td>\n",
              "    </tr>\n",
              "    <tr>\n",
              "      <th>4</th>\n",
              "      <td>male</td>\n",
              "      <td>C</td>\n",
              "      <td>college</td>\n",
              "      <td>standard</td>\n",
              "      <td>not completed</td>\n",
              "      <td>1</td>\n",
              "    </tr>\n",
              "    <tr>\n",
              "      <th>...</th>\n",
              "      <td>...</td>\n",
              "      <td>...</td>\n",
              "      <td>...</td>\n",
              "      <td>...</td>\n",
              "      <td>...</td>\n",
              "      <td>...</td>\n",
              "    </tr>\n",
              "    <tr>\n",
              "      <th>30636</th>\n",
              "      <td>female</td>\n",
              "      <td>D</td>\n",
              "      <td>highschool</td>\n",
              "      <td>standard</td>\n",
              "      <td>not completed</td>\n",
              "      <td>0</td>\n",
              "    </tr>\n",
              "    <tr>\n",
              "      <th>30637</th>\n",
              "      <td>male</td>\n",
              "      <td>E</td>\n",
              "      <td>highschool</td>\n",
              "      <td>standard</td>\n",
              "      <td>not completed</td>\n",
              "      <td>0</td>\n",
              "    </tr>\n",
              "    <tr>\n",
              "      <th>30638</th>\n",
              "      <td>female</td>\n",
              "      <td>C</td>\n",
              "      <td>highschool</td>\n",
              "      <td>free</td>\n",
              "      <td>completed</td>\n",
              "      <td>0</td>\n",
              "    </tr>\n",
              "    <tr>\n",
              "      <th>30639</th>\n",
              "      <td>female</td>\n",
              "      <td>D</td>\n",
              "      <td>associates</td>\n",
              "      <td>standard</td>\n",
              "      <td>completed</td>\n",
              "      <td>1</td>\n",
              "    </tr>\n",
              "    <tr>\n",
              "      <th>30640</th>\n",
              "      <td>male</td>\n",
              "      <td>B</td>\n",
              "      <td>college</td>\n",
              "      <td>standard</td>\n",
              "      <td>not completed</td>\n",
              "      <td>0</td>\n",
              "    </tr>\n",
              "  </tbody>\n",
              "</table>\n",
              "<p>30641 rows × 6 columns</p>\n",
              "</div>"
            ],
            "text/plain": [
              "       Gender EthnicGroup  ParentEduc LunchType       TestPrep  MathScore\n",
              "0      female           C    bachelor  standard  not completed          1\n",
              "1      female           C     college  standard  not completed          1\n",
              "2      female           B     masters  standard  not completed          1\n",
              "3        male           A  associates      free  not completed          0\n",
              "4        male           C     college  standard  not completed          1\n",
              "...       ...         ...         ...       ...            ...        ...\n",
              "30636  female           D  highschool  standard  not completed          0\n",
              "30637    male           E  highschool  standard  not completed          0\n",
              "30638  female           C  highschool      free      completed          0\n",
              "30639  female           D  associates  standard      completed          1\n",
              "30640    male           B     college  standard  not completed          0\n",
              "\n",
              "[30641 rows x 6 columns]"
            ]
          },
          "execution_count": 5,
          "metadata": {},
          "output_type": "execute_result"
        }
      ],
      "source": [
        "df_maths_efd"
      ]
    },
    {
      "cell_type": "markdown",
      "metadata": {},
      "source": [
        "### Split Data Set into Train and Test sets"
      ]
    },
    {
      "cell_type": "code",
      "execution_count": 6,
      "metadata": {},
      "outputs": [
        {
          "name": "stdout",
          "output_type": "stream",
          "text": [
            "* Train set: (24512, 5) (24512,) \n",
            "* Test set: (6129, 5) (6129,)\n"
          ]
        }
      ],
      "source": [
        " math_train_features, math_test_features, math_train_scores, math_test_scores = train_test_split(\n",
        "    df_maths_efd.drop(['MathScore'], axis=1),\n",
        "    df_maths_efd['MathScore'],\n",
        "    test_size = 0.2,\n",
        "    random_state = 7\n",
        ")\n",
        "\n",
        "print(\"* Train set:\", math_train_features.shape, math_train_scores.shape, \"\\n* Test set:\",  math_test_features.shape, math_test_scores.shape)"
      ]
    },
    {
      "cell_type": "code",
      "execution_count": 7,
      "metadata": {},
      "outputs": [
        {
          "data": {
            "image/png": "[encoded data removed]",
            "text/plain": [
              "<Figure size 640x480 with 1 Axes>"
            ]
          },
          "metadata": {},
          "output_type": "display_data"
        }
      ],
      "source": [
        "sns.set_style(\"whitegrid\")\n",
        "math_train_scores.value_counts().plot(kind='bar', title='Train Set Target Distribution')\n",
        "plt.show()"
      ]
    },
    {
      "cell_type": "markdown",
      "metadata": {},
      "source": [
        "### Hard code Features determined in previous Notebook"
      ]
    },
    {
      "cell_type": "code",
      "execution_count": 8,
      "metadata": {},
      "outputs": [],
      "source": [
        "feature_set = ['EthnicGroup', 'ParentEduc']"
      ]
    },
    {
      "cell_type": "markdown",
      "metadata": {},
      "source": [
        "### Remove all other features..."
      ]
    },
    {
      "cell_type": "code",
      "execution_count": 9,
      "metadata": {},
      "outputs": [
        {
          "data": {
            "text/html": [
              "<div>\n",
              "<style scoped>\n",
              "    .dataframe tbody tr th:only-of-type {\n",
              "        vertical-align: middle;\n",
              "    }\n",
              "\n",
              "    .dataframe tbody tr th {\n",
              "        vertical-align: top;\n",
              "    }\n",
              "\n",
              "    .dataframe thead th {\n",
              "        text-align: right;\n",
              "    }\n",
              "</style>\n",
              "<table border=\"1\" class=\"dataframe\">\n",
              "  <thead>\n",
              "    <tr style=\"text-align: right;\">\n",
              "      <th></th>\n",
              "      <th>EthnicGroup</th>\n",
              "      <th>ParentEduc</th>\n",
              "    </tr>\n",
              "  </thead>\n",
              "  <tbody>\n",
              "    <tr>\n",
              "      <th>28031</th>\n",
              "      <td>C</td>\n",
              "      <td>masters</td>\n",
              "    </tr>\n",
              "    <tr>\n",
              "      <th>14300</th>\n",
              "      <td>B</td>\n",
              "      <td>bachelor</td>\n",
              "    </tr>\n",
              "    <tr>\n",
              "      <th>21304</th>\n",
              "      <td>D</td>\n",
              "      <td>college</td>\n",
              "    </tr>\n",
              "    <tr>\n",
              "      <th>19953</th>\n",
              "      <td>E</td>\n",
              "      <td>associates</td>\n",
              "    </tr>\n",
              "    <tr>\n",
              "      <th>28702</th>\n",
              "      <td>C</td>\n",
              "      <td>highschool</td>\n",
              "    </tr>\n",
              "    <tr>\n",
              "      <th>...</th>\n",
              "      <td>...</td>\n",
              "      <td>...</td>\n",
              "    </tr>\n",
              "    <tr>\n",
              "      <th>10709</th>\n",
              "      <td>C</td>\n",
              "      <td>associates</td>\n",
              "    </tr>\n",
              "    <tr>\n",
              "      <th>29370</th>\n",
              "      <td>C</td>\n",
              "      <td>highschool</td>\n",
              "    </tr>\n",
              "    <tr>\n",
              "      <th>6591</th>\n",
              "      <td>B</td>\n",
              "      <td>highschool</td>\n",
              "    </tr>\n",
              "    <tr>\n",
              "      <th>18170</th>\n",
              "      <td>D</td>\n",
              "      <td>associates</td>\n",
              "    </tr>\n",
              "    <tr>\n",
              "      <th>6836</th>\n",
              "      <td>C</td>\n",
              "      <td>highschool</td>\n",
              "    </tr>\n",
              "  </tbody>\n",
              "</table>\n",
              "<p>6129 rows × 2 columns</p>\n",
              "</div>"
            ],
            "text/plain": [
              "      EthnicGroup  ParentEduc\n",
              "28031           C     masters\n",
              "14300           B    bachelor\n",
              "21304           D     college\n",
              "19953           E  associates\n",
              "28702           C  highschool\n",
              "...           ...         ...\n",
              "10709           C  associates\n",
              "29370           C  highschool\n",
              "6591            B  highschool\n",
              "18170           D  associates\n",
              "6836            C  highschool\n",
              "\n",
              "[6129 rows x 2 columns]"
            ]
          },
          "execution_count": 9,
          "metadata": {},
          "output_type": "execute_result"
        }
      ],
      "source": [
        "math_train_features = math_train_features.filter(feature_set)\n",
        "math_test_features = math_test_features.filter(feature_set)\n",
        "math_test_features"
      ]
    },
    {
      "cell_type": "code",
      "execution_count": 10,
      "metadata": {},
      "outputs": [],
      "source": [
        "def PipelineOptimization(model):\n",
        "    pipeline_base = Pipeline([\n",
        "\n",
        "        (\"OrdinalCategoricalEncoder\", OrdinalEncoder(\n",
        "            encoding_method='arbitrary', \n",
        "            variables=feature_set)),\n",
        "\n",
        "        (\"model\", model),\n",
        "\n",
        "    ])\n",
        "\n",
        "    return pipeline_base"
      ]
    },
    {
      "cell_type": "markdown",
      "metadata": {},
      "source": [
        "### Define best algorithm and hyperparameters\n",
        "Best Parameters determined in previous Notebook"
      ]
    },
    {
      "cell_type": "code",
      "execution_count": 11,
      "metadata": {},
      "outputs": [
        {
          "data": {
            "text/plain": [
              "{'AdaBoostClassifier': {'model__n_estimators': [25],\n",
              "  'model__learning_rate': [0.1]}}"
            ]
          },
          "execution_count": 11,
          "metadata": {},
          "output_type": "execute_result"
        }
      ],
      "source": [
        "selected_model = {\"AdaBoostClassifier\": AdaBoostClassifier(random_state=0),}\n",
        "selected_model_parameters = {\"AdaBoostClassifier\": {\n",
        "    'model__n_estimators': [25],\n",
        "    'model__learning_rate':[0.1],\n",
        "    }\n",
        "  }\n",
        "\n",
        "selected_model_parameters"
      ]
    },
    {
      "cell_type": "markdown",
      "metadata": {},
      "source": [
        "### Final GridSearch CV"
      ]
    },
    {
      "cell_type": "code",
      "execution_count": 12,
      "metadata": {},
      "outputs": [],
      "source": [
        "from sklearn.model_selection import GridSearchCV\n",
        "class HyperparameterOptimizationSearch:\n",
        "\n",
        "    def __init__(self, models, parameters):\n",
        "        self.models = models\n",
        "        self.parameters = parameters\n",
        "        self.keys = models.keys()\n",
        "        self.grid_searches = {}\n",
        "\n",
        "    def fit(self, x, y, cv, n_jobs, verbose=1, scoring=None, refit=False):\n",
        "        for key in self.keys:\n",
        "            print(f\"\\nRunning GridSearchCV for {key} \\n\")\n",
        "            model =  PipelineOptimization(self.models[key])\n",
        "\n",
        "            parameters = self.parameters[key]\n",
        "            grid_search = GridSearchCV(model, parameters, cv=cv, n_jobs=n_jobs, verbose=verbose, scoring=scoring)\n",
        "            grid_search.fit(x, y)\n",
        "            self.grid_searches[key] = grid_search\n",
        "\n",
        "    def score_summary(self, sort_by='mean_score'):\n",
        "        def row(key, scores, parameters):\n",
        "            summary = {\n",
        "                 'estimator': key,\n",
        "                 'minimum_score': min(scores),\n",
        "                 'maximum_score': max(scores),\n",
        "                 'mean_score': np.mean(scores),\n",
        "                 'standard_deviation_score': np.std(scores),\n",
        "            }\n",
        "            return pd.Series({**parameters,**summary})\n",
        "\n",
        "        rows = []\n",
        "        for k in self.grid_searches:\n",
        "            parameters = self.grid_searches[k].cv_results_['params']\n",
        "            scores = []\n",
        "            for i in range(self.grid_searches[k].cv):\n",
        "                key = \"split{}_test_score\".format(i)\n",
        "                result = self.grid_searches[k].cv_results_[key]        \n",
        "                scores.append(result.reshape(len(parameters), 1))\n",
        "\n",
        "            all_scores = np.hstack(scores)\n",
        "            for p, s in zip(parameters, all_scores):\n",
        "                rows.append((row(k, s, p)))\n",
        "\n",
        "        df = pd.concat(rows, axis=1).T.sort_values([sort_by], ascending=False)\n",
        "\n",
        "        columns = ['estimator', 'minimum_score', 'mean_score', 'maximum_score', 'standard_deviation_score']\n",
        "        columns = columns + [column for column in df.columns if column not in columns]\n",
        "\n",
        "        return df[columns], self.grid_searches"
      ]
    },
    {
      "cell_type": "code",
      "execution_count": 13,
      "metadata": {},
      "outputs": [
        {
          "name": "stdout",
          "output_type": "stream",
          "text": [
            "\n",
            "Running GridSearchCV for AdaBoostClassifier \n",
            "\n",
            "Fitting 5 folds for each of 1 candidates, totalling 5 fits\n"
          ]
        }
      ],
      "source": [
        "math_model = HyperparameterOptimizationSearch(models=selected_model, parameters=selected_model_parameters)\n",
        "math_model.fit(math_train_features, math_train_scores,\n",
        "           scoring = make_scorer(recall_score, labels=[0], average=None),\n",
        "           n_jobs=-1,cv=5)\n"
      ]
    },
    {
      "cell_type": "code",
      "execution_count": 14,
      "metadata": {},
      "outputs": [
        {
          "data": {
            "text/html": [
              "<div>\n",
              "<style scoped>\n",
              "    .dataframe tbody tr th:only-of-type {\n",
              "        vertical-align: middle;\n",
              "    }\n",
              "\n",
              "    .dataframe tbody tr th {\n",
              "        vertical-align: top;\n",
              "    }\n",
              "\n",
              "    .dataframe thead th {\n",
              "        text-align: right;\n",
              "    }\n",
              "</style>\n",
              "<table border=\"1\" class=\"dataframe\">\n",
              "  <thead>\n",
              "    <tr style=\"text-align: right;\">\n",
              "      <th></th>\n",
              "      <th>estimator</th>\n",
              "      <th>minimum_score</th>\n",
              "      <th>mean_score</th>\n",
              "      <th>maximum_score</th>\n",
              "      <th>standard_deviation_score</th>\n",
              "      <th>model__learning_rate</th>\n",
              "      <th>model__n_estimators</th>\n",
              "    </tr>\n",
              "  </thead>\n",
              "  <tbody>\n",
              "    <tr>\n",
              "      <th>0</th>\n",
              "      <td>AdaBoostClassifier</td>\n",
              "      <td>0.782268</td>\n",
              "      <td>0.802668</td>\n",
              "      <td>0.830129</td>\n",
              "      <td>0.021151</td>\n",
              "      <td>0.1</td>\n",
              "      <td>25</td>\n",
              "    </tr>\n",
              "  </tbody>\n",
              "</table>\n",
              "</div>"
            ],
            "text/plain": [
              "            estimator minimum_score mean_score maximum_score  \\\n",
              "0  AdaBoostClassifier      0.782268   0.802668      0.830129   \n",
              "\n",
              "  standard_deviation_score model__learning_rate model__n_estimators  \n",
              "0                 0.021151                  0.1                  25  "
            ]
          },
          "execution_count": 14,
          "metadata": {},
          "output_type": "execute_result"
        }
      ],
      "source": [
        "grid_search_summary_final, grid_search_pipelines_final = math_model.score_summary()\n",
        "grid_search_summary_final"
      ]
    },
    {
      "cell_type": "code",
      "execution_count": 15,
      "metadata": {},
      "outputs": [
        {
          "data": {
            "text/plain": [
              "'AdaBoostClassifier'"
            ]
          },
          "execution_count": 15,
          "metadata": {},
          "output_type": "execute_result"
        }
      ],
      "source": [
        "final_model = grid_search_summary_final.iloc[0,0]\n",
        "final_model"
      ]
    },
    {
      "cell_type": "code",
      "execution_count": 16,
      "metadata": {},
      "outputs": [
        {
          "data": {
            "text/plain": [
              "Pipeline(steps=[('OrdinalCategoricalEncoder',\n",
              "                 OrdinalEncoder(encoding_method='arbitrary',\n",
              "                                variables=['EthnicGroup', 'ParentEduc'])),\n",
              "                ('model',\n",
              "                 AdaBoostClassifier(learning_rate=0.1, n_estimators=25,\n",
              "                                    random_state=0))])"
            ]
          },
          "execution_count": 16,
          "metadata": {},
          "output_type": "execute_result"
        }
      ],
      "source": [
        "pipeline_clf_final = grid_search_pipelines_final[final_model].best_estimator_\n",
        "pipeline_clf_final"
      ]
    },
    {
      "cell_type": "code",
      "execution_count": 17,
      "metadata": {},
      "outputs": [
        {
          "name": "stdout",
          "output_type": "stream",
          "text": [
            "* These are the 2 most important features in descending order. The model was trained on them: \n",
            "['EthnicGroup', 'ParentEduc']\n"
          ]
        },
        {
          "data": {
            "image/png": "[encoded data removed]",
            "text/plain": [
              "<Figure size 640x480 with 1 Axes>"
            ]
          },
          "metadata": {},
          "output_type": "display_data"
        }
      ],
      "source": [
        "data_cleaning_feat_eng_steps = 1\n",
        "columns_after_data_cleaning_feat_eng = (Pipeline(pipeline_clf_final.steps[:data_cleaning_feat_eng_steps])\n",
        "                                        .transform(math_train_features)\n",
        "                                        .columns)\n",
        "\n",
        "# create DataFrame to display feature importance\n",
        "df_feature_importance_final = (pd.DataFrame(data={\n",
        "          'Feature': columns_after_data_cleaning_feat_eng,\n",
        "          'Importance': pipeline_clf_final['model'].feature_importances_})\n",
        "  .sort_values(by='Importance', ascending=False)\n",
        "  )\n",
        "\n",
        "best_features_final = df_feature_importance_final['Feature'].to_list() # reassign best features in order\n",
        "\n",
        "# Most important features statement and plot\n",
        "print(f\"* These are the {len(best_features_final)} most important features in descending order. \"\n",
        "      f\"The model was trained on them: \\n{best_features_final}\")\n",
        "\n",
        "df_feature_importance_final.plot(kind='bar', x='Feature', y='Importance')\n",
        "plt.show()"
      ]
    },
    {
      "cell_type": "code",
      "execution_count": 18,
      "metadata": {},
      "outputs": [],
      "source": [
        "label_map = label_map = ['Might need assistance', 'No assistance needed']"
      ]
    },
    {
      "cell_type": "markdown",
      "metadata": {},
      "source": [
        "### Create Confusion Matrix using modified custom function"
      ]
    },
    {
      "cell_type": "code",
      "execution_count": 19,
      "metadata": {},
      "outputs": [
        {
          "name": "stdout",
          "output_type": "stream",
          "text": [
            "Math - Train Set\n",
            "\n",
            "#### Confusion Matrix\n",
            "\n",
            "|                                  |   Actual Might need assistance |   Actual No assistance needed |\n",
            "|:---------------------------------|-------------------------------:|------------------------------:|\n",
            "| Prediction Might need assistance |                          10531 |                          2214 |\n",
            "| Prediction No assistance needed  |                           8120 |                          3647 |\n",
            "\n",
            "#### Classification Report\n",
            "\n",
            "|                       | precision   | recall   |   f1-score | support   |\n",
            "|:----------------------|:------------|:---------|-----------:|:----------|\n",
            "| Might need assistance | 0.565       | 0.826    |      0.671 | 12745     |\n",
            "| No assistance needed  | 0.622       | 0.31     |      0.414 | 11767     |\n",
            "| accuracy              |             |          |      0.578 |           |\n",
            "| macro avg             | 0.593       | 0.568    |      0.542 | 24512     |\n",
            "| weighted avg          | 0.592       | 0.578    |      0.547 | 24512     |\n",
            "\n",
            "Math - Test Set\n",
            "\n",
            "#### Confusion Matrix\n",
            "\n",
            "|                                  |   Actual Might need assistance |   Actual No assistance needed |\n",
            "|:---------------------------------|-------------------------------:|------------------------------:|\n",
            "| Prediction Might need assistance |                           2664 |                           561 |\n",
            "| Prediction No assistance needed  |                           1970 |                           934 |\n",
            "\n",
            "#### Classification Report\n",
            "\n",
            "|                       | precision   | recall   |   f1-score | support   |\n",
            "|:----------------------|:------------|:---------|-----------:|:----------|\n",
            "| Might need assistance | 0.575       | 0.826    |      0.678 | 3225      |\n",
            "| No assistance needed  | 0.625       | 0.322    |      0.425 | 2904      |\n",
            "| accuracy              |             |          |      0.587 |           |\n",
            "| macro avg             | 0.6         | 0.574    |      0.551 | 6129      |\n",
            "| weighted avg          | 0.599       | 0.587    |      0.558 | 6129      |\n",
            "\n"
          ]
        }
      ],
      "source": [
        "clf_performance(\n",
        "    math_train_features,\n",
        "    math_train_scores,\n",
        "    math_test_features,\n",
        "    math_test_scores,\n",
        "    pipeline_clf_final,\n",
        "    label_map,\n",
        "    'math' )\n"
      ]
    },
    {
      "cell_type": "markdown",
      "metadata": {},
      "source": [
        "# Analysis\n",
        "This is a good verification that reducing the dataset to only the feature variables had no effect on the end result. I can go ahead and save the model for use in the dashboard."
      ]
    },
    {
      "cell_type": "markdown",
      "metadata": {},
      "source": [
        "## Create Final Model Files"
      ]
    },
    {
      "cell_type": "markdown",
      "metadata": {},
      "source": [
        "### Set Model Type / Version and destination"
      ]
    },
    {
      "cell_type": "code",
      "execution_count": 20,
      "metadata": {},
      "outputs": [
        {
          "data": {
            "text/plain": [
              "'outputs/models/math/v2'"
            ]
          },
          "execution_count": 20,
          "metadata": {},
          "output_type": "execute_result"
        }
      ],
      "source": [
        "version = \"v2\"\n",
        "target = \"math\"\n",
        "\n",
        "file_path = f\"outputs/models/{target}/{version}\"\n",
        "file_path"
      ]
    },
    {
      "cell_type": "markdown",
      "metadata": {},
      "source": [
        "### Output files"
      ]
    },
    {
      "cell_type": "code",
      "execution_count": 21,
      "metadata": {},
      "outputs": [
        {
          "name": "stdout",
          "output_type": "stream",
          "text": [
            "*** Removing previous files  ***\n",
            "outputs/models/math/v2/math-train-features.csv removed\n",
            "outputs/models/math/v2/math-train-scores.csv removed\n",
            "outputs/models/math/v2/math-test-features.csv removed\n",
            "outputs/models/math/v2/math-test-scores.csv removed\n",
            "outputs/models/math/v2/math-model.pkl removed\n",
            "outputs/models/math/v2/math-labels.pkl removed\n",
            "outputs/models/math/v2/math-feature-importance.png removed\n",
            "\n",
            "*** Creating files in: outputs/models/math/v2 ***\n",
            "math-train-features.csv created\n",
            "math-train-scores.csv created\n",
            "math-test-features.csv created\n",
            "math-test-scores.csv created\n",
            "math_model.pkl created\n",
            "math_labels created\n"
          ]
        },
        {
          "data": {
            "image/png": "[encoded data removed]",
            "text/plain": [
              "<Figure size 640x480 with 1 Axes>"
            ]
          },
          "metadata": {},
          "output_type": "display_data"
        }
      ],
      "source": [
        "# Define which files to save/update\n",
        "file_names = [\n",
        "    f\"{target}-train-features.csv\",\n",
        "    f\"{target}-train-scores.csv\",\n",
        "    f\"{target}-test-features.csv\",\n",
        "    f\"{target}-test-scores.csv\",\n",
        "    f\"{target}-model.pkl\",\n",
        "    f\"{target}-labels.pkl\",\n",
        "    f\"{target}-feature-importance.png\",\n",
        "]\n",
        "\n",
        "# Ensure the directory exists\n",
        "os.makedirs(file_path, exist_ok=True)\n",
        "\n",
        "# Remove files if they exist\n",
        "print(f'*** Removing previous files  ***')\n",
        "for name in file_names:\n",
        "    file = os.path.join(file_path, name)\n",
        "    if os.path.exists(file):\n",
        "        os.remove(file)\n",
        "        print(f\"{file} removed\")\n",
        "    else:\n",
        "        print(f\"{file} does not exist\")\n",
        "\n",
        "print('')\n",
        "\n",
        "# Save .csv files\n",
        "print(f'*** Creating files in: {file_path} ***')\n",
        "\n",
        "math_train_features.to_csv(f\"{file_path}/{target}-train-features.csv\", index=False)\n",
        "print(f'{target}-train-features.csv created')\n",
        "\n",
        "math_train_scores.to_csv(f\"{file_path}/{target}-train-scores.csv\", index=False)\n",
        "print(f'{target}-train-scores.csv created')\n",
        "\n",
        "math_test_features.to_csv(f\"{file_path}/{target}-test-features.csv\", index=False)\n",
        "print(f'{target}-test-features.csv created')\n",
        "\n",
        "math_test_scores.to_csv(f\"{file_path}/{target}-test-scores.csv\", index=False)\n",
        "print(f'{target}-test-scores.csv created')\n",
        "\n",
        "# Save .pkl model files\n",
        "joblib.dump(value=pipeline_clf_final, filename=f\"{file_path}/{target}-model.pkl\")\n",
        "print(f'{target}_model.pkl created')\n",
        "\n",
        "joblib.dump(value=label_map, filename=f\"{file_path}/{target}-labels.pkl\")\n",
        "print(f'{target}_labels created')\n",
        "\n",
        "# Save features plot image\n",
        "df_feature_importance_final.plot(kind='bar',x='Feature',y='Importance')\n",
        "plt.savefig(f'{file_path}/{target}-feature-importance.png', bbox_inches='tight')\n",
        "\n"
      ]
    }
  ],
  "metadata": {
    "accelerator": "GPU",
    "colab": {
      "name": "Data Practitioner Jupyter Notebook.ipynb",
      "provenance": [],
      "toc_visible": true
    },
    "interpreter": {
      "hash": "8b8334dab9339717f727a1deaf837b322d7a41c20d15cc86be99a8e69ceec8ce"
    },
    "kernelspec": {
      "display_name": "Python 3.8.12 64-bit ('3.8.12': pyenv)",
      "name": "python3"
    },
    "language_info": {
      "codemirror_mode": {
        "name": "ipython",
        "version": 3
      },
      "file_extension": ".py",
      "mimetype": "text/x-python",
      "name": "python",
      "nbconvert_exporter": "python",
      "pygments_lexer": "ipython3",
      "version": "3.12.1"
    },
    "orig_nbformat": 2
  },
  "nbformat": 4,
  "nbformat_minor": 2
}
