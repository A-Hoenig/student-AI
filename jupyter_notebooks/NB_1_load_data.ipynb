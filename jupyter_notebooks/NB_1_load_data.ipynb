{
  "cells": [
    {
      "cell_type": "markdown",
      "metadata": {
        "id": "0aStgWSO0E0E"
      },
      "source": [
        "# **STUDENT AI** - LOAD DATA"
      ]
    },
    {
      "cell_type": "markdown",
      "metadata": {
        "id": "1eLEkw5O0ECa"
      },
      "source": [
        "## Objectives\n",
        "\n",
        "Import the dataset provided by the customer\n",
        "\n",
        "## Inputs\n",
        "\n",
        "Takes a comma separated values dataset as the input (.csv) from the customer.\n",
        "In this case, a fictional dataset is sourced from Kaggle. The dataset contains 2 versions. \n",
        "1.  less features and more rows and no data issues.\n",
        "2.  more features and less rows but also including some missing data.\n",
        "\n",
        "This project will use the second set to demonstrate techniques that might be needed for real world datasets.\n",
        "\n",
        "## Outputs\n",
        "\n",
        "Saves the dataset from Kaggle as .csv in the inputs/dataset folder\n",
        "\n",
        "## Additional Comments\n",
        "\n",
        "A private kaggle account will be neccassary and the API key stored locally in a kaggle.json file.\n",
        "\n"
      ]
    },
    {
      "cell_type": "markdown",
      "metadata": {
        "id": "9uWZXH9LwoQg"
      },
      "source": [
        "---"
      ]
    },
    {
      "cell_type": "markdown",
      "metadata": {
        "id": "cqP-UeN-z3i2"
      },
      "source": [
        "# Change working directory"
      ]
    },
    {
      "cell_type": "markdown",
      "metadata": {
        "id": "aOGIGS-uz3i2"
      },
      "source": [
        "### Get current directory of this jupyter notebook as well as install the neccessary packages"
      ]
    },
    {
      "cell_type": "code",
      "execution_count": 1,
      "metadata": {
        "id": "wZfF_j-Bz3i4",
        "outputId": "66943449-1436-4c3d-85c7-b85f9f78349b"
      },
      "outputs": [
        {
          "data": {
            "text/plain": [
              "'/workspace/student-AI/jupyter_notebooks'"
            ]
          },
          "execution_count": 1,
          "metadata": {},
          "output_type": "execute_result"
        }
      ],
      "source": [
        "import os\n",
        "import pandas as pd\n",
        "current_dir = os.getcwd()\n",
        "current_dir"
      ]
    },
    {
      "cell_type": "markdown",
      "metadata": {
        "id": "9MWW8E7lz3i7"
      },
      "source": [
        "### Set directory to Project root (parent directory)"
      ]
    },
    {
      "cell_type": "code",
      "execution_count": 2,
      "metadata": {
        "id": "TwHsQRWjz3i9",
        "outputId": "86849db3-cd2f-4cc5-ebb8-2d0caafa1a2c"
      },
      "outputs": [
        {
          "name": "stdout",
          "output_type": "stream",
          "text": [
            "New Directory: /workspace/student-AI\n"
          ]
        }
      ],
      "source": [
        "os.chdir(os.path.dirname(current_dir))\n",
        "current_dir = os.getcwd()\n",
        "print(f\"New Directory: {current_dir}\")"
      ]
    },
    {
      "cell_type": "markdown",
      "metadata": {
        "id": "-mavJ8DibrcQ"
      },
      "source": [
        "# Import Dataset from Kaggle\n",
        "This section would be replaced with the actual API to the educational facilities Database, or at least a manual import of the .csv file for each grade.\n",
        "\n",
        "**Install kaggle package to access dataset directly through kaggle API:**"
      ]
    },
    {
      "cell_type": "code",
      "execution_count": 3,
      "metadata": {},
      "outputs": [
        {
          "name": "stdout",
          "output_type": "stream",
          "text": [
            "Requirement already satisfied: kaggle==1.5.12 in /workspace/.pyenv_mirror/fakeroot/versions/3.8.18/lib/python3.8/site-packages (1.5.12)\n",
            "Requirement already satisfied: six>=1.10 in /workspace/.pyenv_mirror/user/3.8.18/lib/python3.8/site-packages (from kaggle==1.5.12) (1.16.0)\n",
            "Requirement already satisfied: certifi in /workspace/.pyenv_mirror/user/3.8.18/lib/python3.8/site-packages (from kaggle==1.5.12) (2024.2.2)\n",
            "Requirement already satisfied: python-dateutil in /workspace/.pyenv_mirror/user/3.8.18/lib/python3.8/site-packages (from kaggle==1.5.12) (2.8.2)\n",
            "Requirement already satisfied: requests in /workspace/.pyenv_mirror/user/3.8.18/lib/python3.8/site-packages (from kaggle==1.5.12) (2.31.0)\n",
            "Requirement already satisfied: tqdm in /workspace/.pyenv_mirror/user/3.8.18/lib/python3.8/site-packages (from kaggle==1.5.12) (4.66.2)\n",
            "Requirement already satisfied: python-slugify in /workspace/.pyenv_mirror/fakeroot/versions/3.8.18/lib/python3.8/site-packages (from kaggle==1.5.12) (8.0.4)\n",
            "Requirement already satisfied: urllib3 in /workspace/.pyenv_mirror/user/3.8.18/lib/python3.8/site-packages (from kaggle==1.5.12) (2.2.0)\n",
            "Requirement already satisfied: text-unidecode>=1.3 in /workspace/.pyenv_mirror/fakeroot/versions/3.8.18/lib/python3.8/site-packages (from python-slugify->kaggle==1.5.12) (1.3)\n",
            "Requirement already satisfied: charset-normalizer<4,>=2 in /workspace/.pyenv_mirror/user/3.8.18/lib/python3.8/site-packages (from requests->kaggle==1.5.12) (3.3.2)\n",
            "Requirement already satisfied: idna<4,>=2.5 in /workspace/.pyenv_mirror/user/3.8.18/lib/python3.8/site-packages (from requests->kaggle==1.5.12) (3.6)\n"
          ]
        }
      ],
      "source": [
        "! pip install kaggle==1.5.12"
      ]
    },
    {
      "cell_type": "markdown",
      "metadata": {},
      "source": [
        "Set Evironment Variable for Kaggle API based on kaggle.json file"
      ]
    },
    {
      "cell_type": "code",
      "execution_count": 3,
      "metadata": {},
      "outputs": [],
      "source": [
        "os.environ['KAGGLE_CONFIG_DIR'] = os.getcwd()\n",
        "! chmod 600 kaggle.json"
      ]
    },
    {
      "cell_type": "markdown",
      "metadata": {},
      "source": [
        "#### Download student performance dataset from Kaggle - can be viewed on the site [here](https://www.kaggle.com/datasets/desalegngeb/students-exam-scores)\n",
        "\n",
        "**CAUTION - SCRIPT WILL DELETE PREVIOUS COPY OF DATASET AND REPLACE WITH ONE DOWNLOADED DIRECT FROM KAGGLE**"
      ]
    },
    {
      "cell_type": "code",
      "execution_count": 5,
      "metadata": {},
      "outputs": [],
      "source": [
        "! rm inputs/dataset/Expanded_data_with_more_features.csv\n",
        "! rm inputs/dataset/Original_data_with_more_rows.csv\n",
        "\n",
        "SourcePath = \"desalegngeb/students-exam-scores\"\n",
        "DestinationPath = \"inputs/dataset\"   \n",
        "\n",
        "from kaggle.api.kaggle_api_extended import KaggleApi\n",
        "\n",
        "# Initialize Kaggle API\n",
        "api = KaggleApi()\n",
        "api.authenticate()\n",
        "\n",
        "# Download dataset\n",
        "api.dataset_download_files(dataset=\"desalegngeb/students-exam-scores\", path=\"inputs/dataset\", unzip=True)"
      ]
    },
    {
      "cell_type": "markdown",
      "metadata": {
        "id": "ZY3l0-AxO93d"
      },
      "source": [
        "---"
      ]
    },
    {
      "cell_type": "markdown",
      "metadata": {
        "id": "uFQo3ycuO-v6"
      },
      "source": [
        "# Inspect Dataset for correct load"
      ]
    },
    {
      "cell_type": "markdown",
      "metadata": {},
      "source": [
        "Read dataset using Pandas library and display head of dataframe:"
      ]
    },
    {
      "cell_type": "code",
      "execution_count": 4,
      "metadata": {},
      "outputs": [
        {
          "data": {
            "text/html": [
              "<div>\n",
              "<style scoped>\n",
              "    .dataframe tbody tr th:only-of-type {\n",
              "        vertical-align: middle;\n",
              "    }\n",
              "\n",
              "    .dataframe tbody tr th {\n",
              "        vertical-align: top;\n",
              "    }\n",
              "\n",
              "    .dataframe thead th {\n",
              "        text-align: right;\n",
              "    }\n",
              "</style>\n",
              "<table border=\"1\" class=\"dataframe\">\n",
              "  <thead>\n",
              "    <tr style=\"text-align: right;\">\n",
              "      <th></th>\n",
              "      <th>Unnamed: 0</th>\n",
              "      <th>Gender</th>\n",
              "      <th>EthnicGroup</th>\n",
              "      <th>ParentEduc</th>\n",
              "      <th>LunchType</th>\n",
              "      <th>TestPrep</th>\n",
              "      <th>ParentMaritalStatus</th>\n",
              "      <th>PracticeSport</th>\n",
              "      <th>IsFirstChild</th>\n",
              "      <th>NrSiblings</th>\n",
              "      <th>TransportMeans</th>\n",
              "      <th>WklyStudyHours</th>\n",
              "      <th>MathScore</th>\n",
              "      <th>ReadingScore</th>\n",
              "      <th>WritingScore</th>\n",
              "    </tr>\n",
              "  </thead>\n",
              "  <tbody>\n",
              "    <tr>\n",
              "      <th>0</th>\n",
              "      <td>0</td>\n",
              "      <td>female</td>\n",
              "      <td>NaN</td>\n",
              "      <td>bachelor's degree</td>\n",
              "      <td>standard</td>\n",
              "      <td>none</td>\n",
              "      <td>married</td>\n",
              "      <td>regularly</td>\n",
              "      <td>yes</td>\n",
              "      <td>3.0</td>\n",
              "      <td>school_bus</td>\n",
              "      <td>&lt; 5</td>\n",
              "      <td>71</td>\n",
              "      <td>71</td>\n",
              "      <td>74</td>\n",
              "    </tr>\n",
              "    <tr>\n",
              "      <th>1</th>\n",
              "      <td>1</td>\n",
              "      <td>female</td>\n",
              "      <td>group C</td>\n",
              "      <td>some college</td>\n",
              "      <td>standard</td>\n",
              "      <td>NaN</td>\n",
              "      <td>married</td>\n",
              "      <td>sometimes</td>\n",
              "      <td>yes</td>\n",
              "      <td>0.0</td>\n",
              "      <td>NaN</td>\n",
              "      <td>5 - 10</td>\n",
              "      <td>69</td>\n",
              "      <td>90</td>\n",
              "      <td>88</td>\n",
              "    </tr>\n",
              "    <tr>\n",
              "      <th>2</th>\n",
              "      <td>2</td>\n",
              "      <td>female</td>\n",
              "      <td>group B</td>\n",
              "      <td>master's degree</td>\n",
              "      <td>standard</td>\n",
              "      <td>none</td>\n",
              "      <td>single</td>\n",
              "      <td>sometimes</td>\n",
              "      <td>yes</td>\n",
              "      <td>4.0</td>\n",
              "      <td>school_bus</td>\n",
              "      <td>&lt; 5</td>\n",
              "      <td>87</td>\n",
              "      <td>93</td>\n",
              "      <td>91</td>\n",
              "    </tr>\n",
              "    <tr>\n",
              "      <th>3</th>\n",
              "      <td>3</td>\n",
              "      <td>male</td>\n",
              "      <td>group A</td>\n",
              "      <td>associate's degree</td>\n",
              "      <td>free/reduced</td>\n",
              "      <td>none</td>\n",
              "      <td>married</td>\n",
              "      <td>never</td>\n",
              "      <td>no</td>\n",
              "      <td>1.0</td>\n",
              "      <td>NaN</td>\n",
              "      <td>5 - 10</td>\n",
              "      <td>45</td>\n",
              "      <td>56</td>\n",
              "      <td>42</td>\n",
              "    </tr>\n",
              "    <tr>\n",
              "      <th>4</th>\n",
              "      <td>4</td>\n",
              "      <td>male</td>\n",
              "      <td>group C</td>\n",
              "      <td>some college</td>\n",
              "      <td>standard</td>\n",
              "      <td>none</td>\n",
              "      <td>married</td>\n",
              "      <td>sometimes</td>\n",
              "      <td>yes</td>\n",
              "      <td>0.0</td>\n",
              "      <td>school_bus</td>\n",
              "      <td>5 - 10</td>\n",
              "      <td>76</td>\n",
              "      <td>78</td>\n",
              "      <td>75</td>\n",
              "    </tr>\n",
              "    <tr>\n",
              "      <th>...</th>\n",
              "      <td>...</td>\n",
              "      <td>...</td>\n",
              "      <td>...</td>\n",
              "      <td>...</td>\n",
              "      <td>...</td>\n",
              "      <td>...</td>\n",
              "      <td>...</td>\n",
              "      <td>...</td>\n",
              "      <td>...</td>\n",
              "      <td>...</td>\n",
              "      <td>...</td>\n",
              "      <td>...</td>\n",
              "      <td>...</td>\n",
              "      <td>...</td>\n",
              "      <td>...</td>\n",
              "    </tr>\n",
              "    <tr>\n",
              "      <th>30636</th>\n",
              "      <td>816</td>\n",
              "      <td>female</td>\n",
              "      <td>group D</td>\n",
              "      <td>high school</td>\n",
              "      <td>standard</td>\n",
              "      <td>none</td>\n",
              "      <td>single</td>\n",
              "      <td>sometimes</td>\n",
              "      <td>no</td>\n",
              "      <td>2.0</td>\n",
              "      <td>school_bus</td>\n",
              "      <td>5 - 10</td>\n",
              "      <td>59</td>\n",
              "      <td>61</td>\n",
              "      <td>65</td>\n",
              "    </tr>\n",
              "    <tr>\n",
              "      <th>30637</th>\n",
              "      <td>890</td>\n",
              "      <td>male</td>\n",
              "      <td>group E</td>\n",
              "      <td>high school</td>\n",
              "      <td>standard</td>\n",
              "      <td>none</td>\n",
              "      <td>single</td>\n",
              "      <td>regularly</td>\n",
              "      <td>no</td>\n",
              "      <td>1.0</td>\n",
              "      <td>private</td>\n",
              "      <td>5 - 10</td>\n",
              "      <td>58</td>\n",
              "      <td>53</td>\n",
              "      <td>51</td>\n",
              "    </tr>\n",
              "    <tr>\n",
              "      <th>30638</th>\n",
              "      <td>911</td>\n",
              "      <td>female</td>\n",
              "      <td>NaN</td>\n",
              "      <td>high school</td>\n",
              "      <td>free/reduced</td>\n",
              "      <td>completed</td>\n",
              "      <td>married</td>\n",
              "      <td>sometimes</td>\n",
              "      <td>no</td>\n",
              "      <td>1.0</td>\n",
              "      <td>private</td>\n",
              "      <td>5 - 10</td>\n",
              "      <td>61</td>\n",
              "      <td>70</td>\n",
              "      <td>67</td>\n",
              "    </tr>\n",
              "    <tr>\n",
              "      <th>30639</th>\n",
              "      <td>934</td>\n",
              "      <td>female</td>\n",
              "      <td>group D</td>\n",
              "      <td>associate's degree</td>\n",
              "      <td>standard</td>\n",
              "      <td>completed</td>\n",
              "      <td>married</td>\n",
              "      <td>regularly</td>\n",
              "      <td>no</td>\n",
              "      <td>3.0</td>\n",
              "      <td>school_bus</td>\n",
              "      <td>5 - 10</td>\n",
              "      <td>82</td>\n",
              "      <td>90</td>\n",
              "      <td>93</td>\n",
              "    </tr>\n",
              "    <tr>\n",
              "      <th>30640</th>\n",
              "      <td>960</td>\n",
              "      <td>male</td>\n",
              "      <td>group B</td>\n",
              "      <td>some college</td>\n",
              "      <td>standard</td>\n",
              "      <td>none</td>\n",
              "      <td>married</td>\n",
              "      <td>never</td>\n",
              "      <td>no</td>\n",
              "      <td>1.0</td>\n",
              "      <td>school_bus</td>\n",
              "      <td>5 - 10</td>\n",
              "      <td>64</td>\n",
              "      <td>60</td>\n",
              "      <td>58</td>\n",
              "    </tr>\n",
              "  </tbody>\n",
              "</table>\n",
              "<p>30641 rows × 15 columns</p>\n",
              "</div>"
            ],
            "text/plain": [
              "       Unnamed: 0  Gender EthnicGroup          ParentEduc     LunchType  \\\n",
              "0               0  female         NaN   bachelor's degree      standard   \n",
              "1               1  female     group C        some college      standard   \n",
              "2               2  female     group B     master's degree      standard   \n",
              "3               3    male     group A  associate's degree  free/reduced   \n",
              "4               4    male     group C        some college      standard   \n",
              "...           ...     ...         ...                 ...           ...   \n",
              "30636         816  female     group D         high school      standard   \n",
              "30637         890    male     group E         high school      standard   \n",
              "30638         911  female         NaN         high school  free/reduced   \n",
              "30639         934  female     group D  associate's degree      standard   \n",
              "30640         960    male     group B        some college      standard   \n",
              "\n",
              "        TestPrep ParentMaritalStatus PracticeSport IsFirstChild  NrSiblings  \\\n",
              "0           none             married     regularly          yes         3.0   \n",
              "1            NaN             married     sometimes          yes         0.0   \n",
              "2           none              single     sometimes          yes         4.0   \n",
              "3           none             married         never           no         1.0   \n",
              "4           none             married     sometimes          yes         0.0   \n",
              "...          ...                 ...           ...          ...         ...   \n",
              "30636       none              single     sometimes           no         2.0   \n",
              "30637       none              single     regularly           no         1.0   \n",
              "30638  completed             married     sometimes           no         1.0   \n",
              "30639  completed             married     regularly           no         3.0   \n",
              "30640       none             married         never           no         1.0   \n",
              "\n",
              "      TransportMeans WklyStudyHours  MathScore  ReadingScore  WritingScore  \n",
              "0         school_bus            < 5         71            71            74  \n",
              "1                NaN         5 - 10         69            90            88  \n",
              "2         school_bus            < 5         87            93            91  \n",
              "3                NaN         5 - 10         45            56            42  \n",
              "4         school_bus         5 - 10         76            78            75  \n",
              "...              ...            ...        ...           ...           ...  \n",
              "30636     school_bus         5 - 10         59            61            65  \n",
              "30637        private         5 - 10         58            53            51  \n",
              "30638        private         5 - 10         61            70            67  \n",
              "30639     school_bus         5 - 10         82            90            93  \n",
              "30640     school_bus         5 - 10         64            60            58  \n",
              "\n",
              "[30641 rows x 15 columns]"
            ]
          },
          "execution_count": 4,
          "metadata": {},
          "output_type": "execute_result"
        }
      ],
      "source": [
        "df = pd.read_csv(f\"inputs/dataset/Expanded_data_with_more_features.csv\", index_col=False)\n",
        "df"
      ]
    },
    {
      "cell_type": "code",
      "execution_count": 5,
      "metadata": {},
      "outputs": [
        {
          "data": {
            "text/plain": [
              "array(['< 5', '5 - 10', '> 10', nan], dtype=object)"
            ]
          },
          "execution_count": 5,
          "metadata": {},
          "output_type": "execute_result"
        }
      ],
      "source": [
        "df['WklyStudyHours'].unique()"
      ]
    },
    {
      "cell_type": "markdown",
      "metadata": {},
      "source": [
        "### Show initial dataset rows and datatypes:"
      ]
    },
    {
      "cell_type": "code",
      "execution_count": 6,
      "metadata": {},
      "outputs": [
        {
          "name": "stdout",
          "output_type": "stream",
          "text": [
            "<class 'pandas.core.frame.DataFrame'>\n",
            "RangeIndex: 30641 entries, 0 to 30640\n",
            "Data columns (total 15 columns):\n",
            " #   Column               Non-Null Count  Dtype  \n",
            "---  ------               --------------  -----  \n",
            " 0   Unnamed: 0           30641 non-null  int64  \n",
            " 1   Gender               30641 non-null  object \n",
            " 2   EthnicGroup          28801 non-null  object \n",
            " 3   ParentEduc           28796 non-null  object \n",
            " 4   LunchType            30641 non-null  object \n",
            " 5   TestPrep             28811 non-null  object \n",
            " 6   ParentMaritalStatus  29451 non-null  object \n",
            " 7   PracticeSport        30010 non-null  object \n",
            " 8   IsFirstChild         29737 non-null  object \n",
            " 9   NrSiblings           29069 non-null  float64\n",
            " 10  TransportMeans       27507 non-null  object \n",
            " 11  WklyStudyHours       29686 non-null  object \n",
            " 12  MathScore            30641 non-null  int64  \n",
            " 13  ReadingScore         30641 non-null  int64  \n",
            " 14  WritingScore         30641 non-null  int64  \n",
            "dtypes: float64(1), int64(4), object(10)\n",
            "memory usage: 3.5+ MB\n"
          ]
        }
      ],
      "source": [
        "df.info()"
      ]
    },
    {
      "cell_type": "markdown",
      "metadata": {},
      "source": [
        "---"
      ]
    }
  ],
  "metadata": {
    "accelerator": "GPU",
    "colab": {
      "name": "Data Practitioner Jupyter Notebook.ipynb",
      "provenance": [],
      "toc_visible": true
    },
    "interpreter": {
      "hash": "8b8334dab9339717f727a1deaf837b322d7a41c20d15cc86be99a8e69ceec8ce"
    },
    "kernelspec": {
      "display_name": "Python 3.8.12 64-bit ('3.8.12': pyenv)",
      "name": "python3"
    },
    "language_info": {
      "codemirror_mode": {
        "name": "ipython",
        "version": 3
      },
      "file_extension": ".py",
      "mimetype": "text/x-python",
      "name": "python",
      "nbconvert_exporter": "python",
      "pygments_lexer": "ipython3",
      "version": "3.12.1"
    },
    "orig_nbformat": 2
  },
  "nbformat": 4,
  "nbformat_minor": 2
}
