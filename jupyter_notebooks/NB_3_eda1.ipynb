{
  "cells": [
    {
      "cell_type": "markdown",
      "metadata": {
        "id": "0aStgWSO0E0E"
      },
      "source": [
        "# **STUDENT AI** - EDA\n",
        "Exploratory Data Analysis"
      ]
    },
    {
      "cell_type": "markdown",
      "metadata": {
        "id": "1eLEkw5O0ECa"
      },
      "source": [
        "## Objectives\n",
        "\n",
        "Conduct Exploratory analysis of the data to glean insights into how it might be used to solve the business case. Final objective is to identify significant variables to train the model on.\n",
        "\n",
        "## Inputs\n",
        "\n",
        "Cleaned Dataset from previous notebook.\n",
        "\n",
        "## Outputs\n",
        "\n",
        "None\n"
      ]
    },
    {
      "cell_type": "markdown",
      "metadata": {},
      "source": [
        "### Install new libraries needed for EDA"
      ]
    },
    {
      "cell_type": "markdown",
      "metadata": {
        "id": "9uWZXH9LwoQg"
      },
      "source": [
        "---"
      ]
    },
    {
      "cell_type": "markdown",
      "metadata": {},
      "source": [
        "# Import required libraries"
      ]
    },
    {
      "cell_type": "code",
      "execution_count": 1,
      "metadata": {},
      "outputs": [
        {
          "name": "stdout",
          "output_type": "stream",
          "text": [
            "All Libraries Loaded\n"
          ]
        }
      ],
      "source": [
        "import os\n",
        "import sys\n",
        "import pandas as pd\n",
        "import seaborn as sns\n",
        "import numpy as np\n",
        "import ppscore as pps\n",
        "import pingouin as pg\n",
        "import pickle\n",
        "import scipy.stats as stats\n",
        "import matplotlib.pyplot as plt\n",
        "plt.style.use('ggplot')\n",
        "\n",
        "from feature_engine import transformation as vt\n",
        "from sklearn.pipeline import Pipeline\n",
        "from pandas.plotting import table\n",
        "sys.path.append('/workspace/student-AI/src')\n",
        "from data_management import save_plot, save_df, save_analysis\n",
        "\n",
        "print('All Libraries Loaded')\n",
        "\n",
        "# set default diagram size for matplotlib\n",
        "plt.rcParams['figure.figsize'] = [3, 3]\n",
        "colors = ['red', 'blue', 'green', 'orange', 'purple','yellow']"
      ]
    },
    {
      "cell_type": "markdown",
      "metadata": {
        "id": "cqP-UeN-z3i2"
      },
      "source": [
        "# Load Clean Dataset"
      ]
    },
    {
      "cell_type": "markdown",
      "metadata": {
        "id": "aOGIGS-uz3i2"
      },
      "source": [
        "### Set the working directory to notebook parent folder\n",
        "If the output does not match, click **'clear all outputs'** and then **'restart'** the notebook. \n",
        "Then run cells from top to bottom."
      ]
    },
    {
      "cell_type": "code",
      "execution_count": 2,
      "metadata": {
        "id": "wZfF_j-Bz3i4",
        "outputId": "66943449-1436-4c3d-85c7-b85f9f78349b"
      },
      "outputs": [
        {
          "name": "stdout",
          "output_type": "stream",
          "text": [
            "If correct, Active Directory should read: /workspace/student-AI\n",
            "Active Directory: /workspace/student-AI\n"
          ]
        }
      ],
      "source": [
        "current_dir = os.getcwd()\n",
        "os.chdir(os.path.dirname(current_dir))\n",
        "current_dir = os.getcwd()\n",
        "print('If correct, Active Directory should read: /workspace/student-AI')\n",
        "print(f\"Active Directory: {current_dir}\")"
      ]
    },
    {
      "cell_type": "markdown",
      "metadata": {},
      "source": [
        "### Load cleaned dataset"
      ]
    },
    {
      "cell_type": "code",
      "execution_count": 3,
      "metadata": {},
      "outputs": [
        {
          "data": {
            "text/html": [
              "<div>\n",
              "<style scoped>\n",
              "    .dataframe tbody tr th:only-of-type {\n",
              "        vertical-align: middle;\n",
              "    }\n",
              "\n",
              "    .dataframe tbody tr th {\n",
              "        vertical-align: top;\n",
              "    }\n",
              "\n",
              "    .dataframe thead th {\n",
              "        text-align: right;\n",
              "    }\n",
              "</style>\n",
              "<table border=\"1\" class=\"dataframe\">\n",
              "  <thead>\n",
              "    <tr style=\"text-align: right;\">\n",
              "      <th></th>\n",
              "      <th>Gender</th>\n",
              "      <th>EthnicGroup</th>\n",
              "      <th>ParentEduc</th>\n",
              "      <th>LunchType</th>\n",
              "      <th>TestPrep</th>\n",
              "      <th>ParentMaritalStatus</th>\n",
              "      <th>PracticeSport</th>\n",
              "      <th>IsFirstChild</th>\n",
              "      <th>NrSiblings</th>\n",
              "      <th>TransportMeans</th>\n",
              "      <th>WklyStudyHours</th>\n",
              "      <th>MathScore</th>\n",
              "      <th>ReadingScore</th>\n",
              "      <th>WritingScore</th>\n",
              "    </tr>\n",
              "  </thead>\n",
              "  <tbody>\n",
              "    <tr>\n",
              "      <th>0</th>\n",
              "      <td>female</td>\n",
              "      <td>C</td>\n",
              "      <td>bachelor</td>\n",
              "      <td>standard</td>\n",
              "      <td>not completed</td>\n",
              "      <td>married</td>\n",
              "      <td>regularly</td>\n",
              "      <td>yes</td>\n",
              "      <td>3</td>\n",
              "      <td>schoolbus</td>\n",
              "      <td>Less than 5 hours</td>\n",
              "      <td>71</td>\n",
              "      <td>71</td>\n",
              "      <td>74</td>\n",
              "    </tr>\n",
              "    <tr>\n",
              "      <th>1</th>\n",
              "      <td>female</td>\n",
              "      <td>C</td>\n",
              "      <td>college</td>\n",
              "      <td>standard</td>\n",
              "      <td>not completed</td>\n",
              "      <td>married</td>\n",
              "      <td>sometimes</td>\n",
              "      <td>yes</td>\n",
              "      <td>0</td>\n",
              "      <td>schoolbus</td>\n",
              "      <td>Between 5-10 hours</td>\n",
              "      <td>69</td>\n",
              "      <td>90</td>\n",
              "      <td>88</td>\n",
              "    </tr>\n",
              "    <tr>\n",
              "      <th>2</th>\n",
              "      <td>female</td>\n",
              "      <td>B</td>\n",
              "      <td>masters</td>\n",
              "      <td>standard</td>\n",
              "      <td>not completed</td>\n",
              "      <td>single</td>\n",
              "      <td>sometimes</td>\n",
              "      <td>yes</td>\n",
              "      <td>4</td>\n",
              "      <td>schoolbus</td>\n",
              "      <td>Less than 5 hours</td>\n",
              "      <td>87</td>\n",
              "      <td>93</td>\n",
              "      <td>91</td>\n",
              "    </tr>\n",
              "    <tr>\n",
              "      <th>3</th>\n",
              "      <td>male</td>\n",
              "      <td>A</td>\n",
              "      <td>associates</td>\n",
              "      <td>free</td>\n",
              "      <td>not completed</td>\n",
              "      <td>married</td>\n",
              "      <td>never</td>\n",
              "      <td>no</td>\n",
              "      <td>1</td>\n",
              "      <td>schoolbus</td>\n",
              "      <td>Between 5-10 hours</td>\n",
              "      <td>45</td>\n",
              "      <td>56</td>\n",
              "      <td>42</td>\n",
              "    </tr>\n",
              "    <tr>\n",
              "      <th>4</th>\n",
              "      <td>male</td>\n",
              "      <td>C</td>\n",
              "      <td>college</td>\n",
              "      <td>standard</td>\n",
              "      <td>not completed</td>\n",
              "      <td>married</td>\n",
              "      <td>sometimes</td>\n",
              "      <td>yes</td>\n",
              "      <td>0</td>\n",
              "      <td>schoolbus</td>\n",
              "      <td>Between 5-10 hours</td>\n",
              "      <td>76</td>\n",
              "      <td>78</td>\n",
              "      <td>75</td>\n",
              "    </tr>\n",
              "  </tbody>\n",
              "</table>\n",
              "</div>"
            ],
            "text/plain": [
              "   Gender EthnicGroup  ParentEduc LunchType       TestPrep  \\\n",
              "0  female           C    bachelor  standard  not completed   \n",
              "1  female           C     college  standard  not completed   \n",
              "2  female           B     masters  standard  not completed   \n",
              "3    male           A  associates      free  not completed   \n",
              "4    male           C     college  standard  not completed   \n",
              "\n",
              "  ParentMaritalStatus PracticeSport IsFirstChild  NrSiblings TransportMeans  \\\n",
              "0             married     regularly          yes           3      schoolbus   \n",
              "1             married     sometimes          yes           0      schoolbus   \n",
              "2              single     sometimes          yes           4      schoolbus   \n",
              "3             married         never           no           1      schoolbus   \n",
              "4             married     sometimes          yes           0      schoolbus   \n",
              "\n",
              "       WklyStudyHours  MathScore  ReadingScore  WritingScore  \n",
              "0   Less than 5 hours         71            71            74  \n",
              "1  Between 5-10 hours         69            90            88  \n",
              "2   Less than 5 hours         87            93            91  \n",
              "3  Between 5-10 hours         45            56            42  \n",
              "4  Between 5-10 hours         76            78            75  "
            ]
          },
          "execution_count": 3,
          "metadata": {},
          "output_type": "execute_result"
        }
      ],
      "source": [
        "df = pd.read_csv(f\"outputs/dataset/Expanded_data_with_more_features_clean.csv\")\n",
        "df.head()"
      ]
    },
    {
      "cell_type": "markdown",
      "metadata": {},
      "source": [
        "### Add mean score to be able to compare all 3 scores as a single value against the features"
      ]
    },
    {
      "cell_type": "code",
      "execution_count": 4,
      "metadata": {},
      "outputs": [
        {
          "data": {
            "text/html": [
              "<div>\n",
              "<style scoped>\n",
              "    .dataframe tbody tr th:only-of-type {\n",
              "        vertical-align: middle;\n",
              "    }\n",
              "\n",
              "    .dataframe tbody tr th {\n",
              "        vertical-align: top;\n",
              "    }\n",
              "\n",
              "    .dataframe thead th {\n",
              "        text-align: right;\n",
              "    }\n",
              "</style>\n",
              "<table border=\"1\" class=\"dataframe\">\n",
              "  <thead>\n",
              "    <tr style=\"text-align: right;\">\n",
              "      <th></th>\n",
              "      <th>Gender</th>\n",
              "      <th>EthnicGroup</th>\n",
              "      <th>ParentEduc</th>\n",
              "      <th>LunchType</th>\n",
              "      <th>TestPrep</th>\n",
              "      <th>ParentMaritalStatus</th>\n",
              "      <th>PracticeSport</th>\n",
              "      <th>IsFirstChild</th>\n",
              "      <th>NrSiblings</th>\n",
              "      <th>TransportMeans</th>\n",
              "      <th>WklyStudyHours</th>\n",
              "      <th>MathScore</th>\n",
              "      <th>ReadingScore</th>\n",
              "      <th>WritingScore</th>\n",
              "      <th>MeanScore</th>\n",
              "    </tr>\n",
              "  </thead>\n",
              "  <tbody>\n",
              "    <tr>\n",
              "      <th>0</th>\n",
              "      <td>female</td>\n",
              "      <td>C</td>\n",
              "      <td>bachelor</td>\n",
              "      <td>standard</td>\n",
              "      <td>not completed</td>\n",
              "      <td>married</td>\n",
              "      <td>regularly</td>\n",
              "      <td>yes</td>\n",
              "      <td>3</td>\n",
              "      <td>schoolbus</td>\n",
              "      <td>Less than 5 hours</td>\n",
              "      <td>71</td>\n",
              "      <td>71</td>\n",
              "      <td>74</td>\n",
              "      <td>72</td>\n",
              "    </tr>\n",
              "    <tr>\n",
              "      <th>1</th>\n",
              "      <td>female</td>\n",
              "      <td>C</td>\n",
              "      <td>college</td>\n",
              "      <td>standard</td>\n",
              "      <td>not completed</td>\n",
              "      <td>married</td>\n",
              "      <td>sometimes</td>\n",
              "      <td>yes</td>\n",
              "      <td>0</td>\n",
              "      <td>schoolbus</td>\n",
              "      <td>Between 5-10 hours</td>\n",
              "      <td>69</td>\n",
              "      <td>90</td>\n",
              "      <td>88</td>\n",
              "      <td>82</td>\n",
              "    </tr>\n",
              "    <tr>\n",
              "      <th>2</th>\n",
              "      <td>female</td>\n",
              "      <td>B</td>\n",
              "      <td>masters</td>\n",
              "      <td>standard</td>\n",
              "      <td>not completed</td>\n",
              "      <td>single</td>\n",
              "      <td>sometimes</td>\n",
              "      <td>yes</td>\n",
              "      <td>4</td>\n",
              "      <td>schoolbus</td>\n",
              "      <td>Less than 5 hours</td>\n",
              "      <td>87</td>\n",
              "      <td>93</td>\n",
              "      <td>91</td>\n",
              "      <td>90</td>\n",
              "    </tr>\n",
              "    <tr>\n",
              "      <th>3</th>\n",
              "      <td>male</td>\n",
              "      <td>A</td>\n",
              "      <td>associates</td>\n",
              "      <td>free</td>\n",
              "      <td>not completed</td>\n",
              "      <td>married</td>\n",
              "      <td>never</td>\n",
              "      <td>no</td>\n",
              "      <td>1</td>\n",
              "      <td>schoolbus</td>\n",
              "      <td>Between 5-10 hours</td>\n",
              "      <td>45</td>\n",
              "      <td>56</td>\n",
              "      <td>42</td>\n",
              "      <td>48</td>\n",
              "    </tr>\n",
              "    <tr>\n",
              "      <th>4</th>\n",
              "      <td>male</td>\n",
              "      <td>C</td>\n",
              "      <td>college</td>\n",
              "      <td>standard</td>\n",
              "      <td>not completed</td>\n",
              "      <td>married</td>\n",
              "      <td>sometimes</td>\n",
              "      <td>yes</td>\n",
              "      <td>0</td>\n",
              "      <td>schoolbus</td>\n",
              "      <td>Between 5-10 hours</td>\n",
              "      <td>76</td>\n",
              "      <td>78</td>\n",
              "      <td>75</td>\n",
              "      <td>76</td>\n",
              "    </tr>\n",
              "  </tbody>\n",
              "</table>\n",
              "</div>"
            ],
            "text/plain": [
              "   Gender EthnicGroup  ParentEduc LunchType       TestPrep  \\\n",
              "0  female           C    bachelor  standard  not completed   \n",
              "1  female           C     college  standard  not completed   \n",
              "2  female           B     masters  standard  not completed   \n",
              "3    male           A  associates      free  not completed   \n",
              "4    male           C     college  standard  not completed   \n",
              "\n",
              "  ParentMaritalStatus PracticeSport IsFirstChild  NrSiblings TransportMeans  \\\n",
              "0             married     regularly          yes           3      schoolbus   \n",
              "1             married     sometimes          yes           0      schoolbus   \n",
              "2              single     sometimes          yes           4      schoolbus   \n",
              "3             married         never           no           1      schoolbus   \n",
              "4             married     sometimes          yes           0      schoolbus   \n",
              "\n",
              "       WklyStudyHours  MathScore  ReadingScore  WritingScore  MeanScore  \n",
              "0   Less than 5 hours         71            71            74         72  \n",
              "1  Between 5-10 hours         69            90            88         82  \n",
              "2   Less than 5 hours         87            93            91         90  \n",
              "3  Between 5-10 hours         45            56            42         48  \n",
              "4  Between 5-10 hours         76            78            75         76  "
            ]
          },
          "execution_count": 4,
          "metadata": {},
          "output_type": "execute_result"
        }
      ],
      "source": [
        "df['MeanScore'] = df[['MathScore', 'ReadingScore', 'WritingScore']].mean(axis=1).round().astype(int)\n",
        "df.head()"
      ]
    },
    {
      "cell_type": "markdown",
      "metadata": {},
      "source": [
        "## Individual Feature Analysis vs Target Variables (Math, Reading & Writing Score)\n",
        "Running these cells will calculate several plots for each column variable.<br>\n",
        "All data is also saved and overwritten to disk so that it is automatically updated in the streamlit dashboard."
      ]
    },
    {
      "cell_type": "code",
      "execution_count": 5,
      "metadata": {},
      "outputs": [],
      "source": [
        "# define custom function to plot categorical variables based on column name\n",
        "def plot_category_distribution(column):\n",
        "    \n",
        "    palette = 'Set2'\n",
        "    sns.set_palette(palette)\n",
        "    sns.countplot(x=column, data=df)\n",
        "    plt.title(f'Distribution of {column}')\n",
        "    plt.xlabel('Categories')\n",
        "    plt.ylabel('Frequency')\n",
        "    plt.xticks(rotation=45, ha='right')\n",
        "    save_plot(plt, f'{column}-distribution.png')\n",
        "    plt.show()\n",
        "\n",
        "    # Create a figure and 4 subplots\n",
        "    fig, axs = plt.subplots(1, 4, figsize=(12, 4))\n",
        "\n",
        "    # Box plots\n",
        "    sns.boxplot(ax=axs[0], x=column, y='MathScore', data=df)\n",
        "    axs[0].set_title('Math Score')\n",
        "    axs[0].set_xticklabels(axs[0].get_xticklabels(), rotation=45, ha='right')\n",
        "\n",
        "    sns.boxplot(ax=axs[1], x=column, y='ReadingScore', data=df)\n",
        "    axs[1].set_title('Reading Score')\n",
        "    axs[1].set_xticklabels(axs[1].get_xticklabels(), rotation=45, ha='right')\n",
        "\n",
        "    sns.boxplot(ax=axs[2], x=column, y='WritingScore', data=df)\n",
        "    axs[2].set_title('Writing Score')\n",
        "    axs[2].set_xticklabels(axs[2].get_xticklabels(), rotation=45, ha='right')\n",
        "    \n",
        "    sns.boxplot(ax=axs[3], x=column, y='MeanScore', data=df)\n",
        "    axs[3].set_title('Mean Score')\n",
        "    axs[3].set_xticklabels(axs[3].get_xticklabels(), rotation=45, ha='right')\n",
        "    \n",
        "    plt.tight_layout()\n",
        "    save_plot(plt, f'{column}-boxplot.png')\n",
        "    plt.show()\n",
        "\n",
        "    # print scores compared to the given feature\n",
        "    df_grouped = df.groupby([column])[['MathScore', 'ReadingScore', 'WritingScore', 'MeanScore']].agg(np.mean)\n",
        "    df_sorted = df_grouped.sort_values(by='MeanScore', ascending=False)\n",
        "    \n",
        "    styled_df = df_sorted.style.background_gradient(cmap='Blues')\n",
        "    display(styled_df)\n",
        "    save_df(df_sorted, f'{column}-data.pkl')\n",
        "    \n",
        "    mean_max = df_sorted['MeanScore'].iloc[0]\n",
        "    mean_min = df_sorted['MeanScore'].iloc[-1]\n",
        "    spread = mean_max - mean_min\n",
        "    spread_rounded = round(spread, 2)\n",
        "    print(f'Mean Range: {spread_rounded}')\n",
        "\n"
      ]
    },
    {
      "cell_type": "code",
      "execution_count": 6,
      "metadata": {},
      "outputs": [
        {
          "data": {
            "image/png": "[encoded data removed]",
            "text/plain": [
              "<Figure size 300x300 with 1 Axes>"
            ]
          },
          "metadata": {},
          "output_type": "display_data"
        },
        {
          "data": {
            "image/png": "[encoded data removed]",
            "text/plain": [
              "<Figure size 1200x400 with 4 Axes>"
            ]
          },
          "metadata": {},
          "output_type": "display_data"
        },
        {
          "data": {
            "text/html": [
              "<style type=\"text/css\">\n",
              "#T_77982_row0_col0, #T_77982_row1_col1, #T_77982_row1_col2, #T_77982_row1_col3 {\n",
              "  background-color: #f7fbff;\n",
              "  color: #000000;\n",
              "}\n",
              "#T_77982_row0_col1, #T_77982_row0_col2, #T_77982_row0_col3, #T_77982_row1_col0 {\n",
              "  background-color: #08306b;\n",
              "  color: #f1f1f1;\n",
              "}\n",
              "</style>\n",
              "<table id=\"T_77982\">\n",
              "  <thead>\n",
              "    <tr>\n",
              "      <th class=\"blank level0\" >&nbsp;</th>\n",
              "      <th id=\"T_77982_level0_col0\" class=\"col_heading level0 col0\" >MathScore</th>\n",
              "      <th id=\"T_77982_level0_col1\" class=\"col_heading level0 col1\" >ReadingScore</th>\n",
              "      <th id=\"T_77982_level0_col2\" class=\"col_heading level0 col2\" >WritingScore</th>\n",
              "      <th id=\"T_77982_level0_col3\" class=\"col_heading level0 col3\" >MeanScore</th>\n",
              "    </tr>\n",
              "    <tr>\n",
              "      <th class=\"index_name level0\" >Gender</th>\n",
              "      <th class=\"blank col0\" >&nbsp;</th>\n",
              "      <th class=\"blank col1\" >&nbsp;</th>\n",
              "      <th class=\"blank col2\" >&nbsp;</th>\n",
              "      <th class=\"blank col3\" >&nbsp;</th>\n",
              "    </tr>\n",
              "  </thead>\n",
              "  <tbody>\n",
              "    <tr>\n",
              "      <th id=\"T_77982_level0_row0\" class=\"row_heading level0 row0\" >female</th>\n",
              "      <td id=\"T_77982_row0_col0\" class=\"data row0 col0\" >64.080654</td>\n",
              "      <td id=\"T_77982_row0_col1\" class=\"data row0 col1\" >72.853216</td>\n",
              "      <td id=\"T_77982_row0_col2\" class=\"data row0 col2\" >72.856457</td>\n",
              "      <td id=\"T_77982_row0_col3\" class=\"data row0 col3\" >69.928683</td>\n",
              "    </tr>\n",
              "    <tr>\n",
              "      <th id=\"T_77982_level0_row1\" class=\"row_heading level0 row1\" >male</th>\n",
              "      <td id=\"T_77982_row1_col0\" class=\"data row1 col0\" >69.069856</td>\n",
              "      <td id=\"T_77982_row1_col1\" class=\"data row1 col1\" >65.854571</td>\n",
              "      <td id=\"T_77982_row1_col2\" class=\"data row1 col2\" >63.920418</td>\n",
              "      <td id=\"T_77982_row1_col3\" class=\"data row1 col3\" >66.280147</td>\n",
              "    </tr>\n",
              "  </tbody>\n",
              "</table>\n"
            ],
            "text/plain": [
              "<pandas.io.formats.style.Styler at 0x7f28d3a99f70>"
            ]
          },
          "metadata": {},
          "output_type": "display_data"
        },
        {
          "name": "stdout",
          "output_type": "stream",
          "text": [
            "Mean Range: 3.65\n"
          ]
        }
      ],
      "source": [
        "plot_category_distribution('Gender')"
      ]
    },
    {
      "cell_type": "code",
      "execution_count": 8,
      "metadata": {},
      "outputs": [],
      "source": [
        "column = 'Gender'\n",
        "\n",
        "analysis = f\"\"\"This shows that the expected distribution of {column} among \n",
        "        students.\n",
        "        The mean shows that female students on average have better results,\n",
        "        but specifically for Maths that fact is reversed.\n",
        "        With a difference of only 3 percent average score, the effect of \n",
        "        {column} however, is **not** a major contributing factor to overall \n",
        "        score.\"\"\"\n",
        "         \n",
        "save_analysis(analysis, f'{column}-analysis.txt')"
      ]
    },
    {
      "cell_type": "markdown",
      "metadata": {},
      "source": [
        "#### The data is well balanced and shows that females have an overall better performance, but tend to have lower maths skills.\n",
        "**I hypothesize that gender will not have a very large impact on the predicted score.**"
      ]
    },
    {
      "cell_type": "code",
      "execution_count": null,
      "metadata": {},
      "outputs": [],
      "source": [
        "plot_category_distribution('EthnicGroup')"
      ]
    },
    {
      "cell_type": "markdown",
      "metadata": {},
      "source": [
        "#### This data is not balanced as group C far outnumbers group A ... this will need to be adjusted prior to training the models, as it would unfarely give group C a higher significance in predicting the student performance.\n",
        "\n",
        "Group E shows the highest mean score and is significantly better performing in school.<br>\n",
        "Group A shows the least performance with a mean score almost 10% lower.<br>\n",
        "\n",
        "**I hypothesize that Ethnic Group should have a significant influence on the predicted score.**"
      ]
    },
    {
      "cell_type": "code",
      "execution_count": null,
      "metadata": {},
      "outputs": [],
      "source": [
        "column = 'EthnicGroup'\n",
        "\n",
        "analysis = f\"\"\"Shows that group C is the clear majority in this specific school,\n",
        "    and group A is the clear minority.\n",
        "    However, Group E, the second minority, is significantly better\n",
        "    than the other groups, while GroupA performs the worst.\n",
        "    With a difference of 9 percent on average, it is clear that {column}\n",
        "    has a significant influence on the overall score of a student.\"\"\"\n",
        "    \n",
        "save_analysis(analysis, f'{column}-analysis.txt')"
      ]
    },
    {
      "cell_type": "code",
      "execution_count": null,
      "metadata": {},
      "outputs": [],
      "source": [
        "plot_category_distribution('ParentEduc')"
      ]
    },
    {
      "cell_type": "markdown",
      "metadata": {},
      "source": [
        "#### This data is not balanced and will need to be adjusted prior to training the models, as it would unfarely give students with parents with some college higher emphasis in predicting the student performance.\n",
        "\n",
        "Parents with a masters degree have the lowest frequency, but tend to have children that outperform all other students.\n",
        "\n",
        "**I hypothesize that parental education should have a significant influence on the predicted score.**"
      ]
    },
    {
      "cell_type": "code",
      "execution_count": null,
      "metadata": {},
      "outputs": [],
      "source": [
        "column = 'ParentEduc'\n",
        "\n",
        "analysis = \"\"\"This shows that Parental Education plays a significant role in\n",
        " the students performance with a Mean spread of 10. Students who'se parents\n",
        "have a masters degree on average are 10 percent better than students with \n",
        "parents who only completed high school.\"\"\"\n",
        "    \n",
        "save_analysis(analysis, f'{column}-analysis.txt')"
      ]
    },
    {
      "cell_type": "code",
      "execution_count": null,
      "metadata": {},
      "outputs": [],
      "source": [
        "plot_category_distribution('LunchType')"
      ]
    },
    {
      "cell_type": "markdown",
      "metadata": {},
      "source": [
        "#### This data is not balanced and will need to be adjusted prior to training the models as it will bias the results towards students who receive a standard lunch.\n",
        "\n",
        "Students who receive a lunch from their parents (standard) are on average 10% better then students who do not. This is a very generalized indicator of economic well being of the family.<br>\n",
        "the assumption can be made that parents who do not need to rely on free school lunch programs can afford not only a bespoke lunch meal, but also other benficiary activities such as purchasing study guides, better access to internet / PCs, tutoring etc.\n",
        "\n",
        "**I hypothesize that LunchType should have a significant influence on the predicted score.**"
      ]
    },
    {
      "cell_type": "code",
      "execution_count": null,
      "metadata": {},
      "outputs": [],
      "source": [
        "column = 'LunchType'\n",
        "\n",
        "analysis = f\"\"\"Interestingly the {column} seems to have an influence \n",
        "over the students performance. This most likely can be explained in terms of\n",
        "socio-economic context - parents who do not need to rely on free lunches most\n",
        "likely can also afford additional support for their children (eg tutors). They \n",
        "might also be in a position to supervise their childrens education more if \n",
        "they are not having to work significant hours to maintain the family.\"\"\"\n",
        "    \n",
        "save_analysis(analysis, f'{column}-analysis.txt')"
      ]
    },
    {
      "cell_type": "code",
      "execution_count": null,
      "metadata": {},
      "outputs": [],
      "source": [
        "plot_category_distribution('TransportMeans')"
      ]
    },
    {
      "cell_type": "markdown",
      "metadata": {},
      "source": [
        "This data is also not balanced, but shows it has no impact on the performance of the students."
      ]
    },
    {
      "cell_type": "code",
      "execution_count": null,
      "metadata": {},
      "outputs": [],
      "source": [
        "column = 'TransportMeans'\n",
        "\n",
        "analysis = \"\"\"With a Mean spread of 0.07, whether a student takes the bus or\n",
        "is privately driven to school has no bearing on their performance.\"\"\"\n",
        "    \n",
        "save_analysis(analysis, f'{column}-analysis.txt')"
      ]
    },
    {
      "cell_type": "code",
      "execution_count": null,
      "metadata": {},
      "outputs": [],
      "source": [
        "plot_category_distribution('TestPrep')"
      ]
    },
    {
      "cell_type": "markdown",
      "metadata": {},
      "source": [
        "#### This data is not balanced and will need to be adjusted prior to training the models as it will bias the results towards students who did not complete their test prep studies.\n",
        "\n",
        "Faily obviously, students who completed the test preparation perform  on average 7% better in the end.\n",
        "\n",
        "**I hypothesize that TestPrep should have an influence on the predicted score.**"
      ]
    },
    {
      "cell_type": "code",
      "execution_count": null,
      "metadata": {},
      "outputs": [],
      "source": [
        "column = 'TestPrep'\n",
        "\n",
        "analysis = f\"\"\"Rather obviously whether or not a student completed their test\n",
        "preparation has a 7 percent impact on their overall performance. I expect\n",
        "{column} will have measurable impact on the predictive model.\"\"\"\n",
        "    \n",
        "save_analysis(analysis, f'{column}-analysis.txt')"
      ]
    },
    {
      "cell_type": "code",
      "execution_count": null,
      "metadata": {},
      "outputs": [],
      "source": [
        "plot_category_distribution('ParentMaritalStatus')"
      ]
    },
    {
      "cell_type": "markdown",
      "metadata": {},
      "source": [
        "#### This data is not balanced and will need to be adjusted prior to training the models as it will bias the results towards students with married parents.\n",
        "Also, students with widowed parents seem to be an outlier and might skew the data somewhat.\n",
        "\n",
        "Based on the mean score, no significant influence of parental marital status can be determined. After confirmation I will likely drop this feature.\n",
        "\n",
        "**I hypothesize that ParentMaritalStatus should have an no influence on the predicted score.**"
      ]
    },
    {
      "cell_type": "code",
      "execution_count": null,
      "metadata": {},
      "outputs": [],
      "source": [
        "column = 'ParentMaritalStatus'\n",
        "\n",
        "analysis = f\"\"\"{column} has no impact on student performance as can be seen \n",
        "from a mean range of 0.7\"\"\"\n",
        "    \n",
        "save_analysis(analysis, f'{column}-analysis.txt')"
      ]
    },
    {
      "cell_type": "code",
      "execution_count": null,
      "metadata": {},
      "outputs": [],
      "source": [
        "plot_category_distribution('PracticeSport')"
      ]
    },
    {
      "cell_type": "markdown",
      "metadata": {},
      "source": [
        "#### This data is not balanced and will need to be adjusted prior to training the models as it will bias the results towards students who sometimes do sports.\n",
        "\n",
        "Based on the mean score, only a minor impact of sports can be determined. After confirmation I will likely drop this feature, unless other features aslone are not sufficient.\n",
        "\n",
        "**I hypothesize that PracticeSport should have only minor influence on the predicted score.**"
      ]
    },
    {
      "cell_type": "code",
      "execution_count": null,
      "metadata": {},
      "outputs": [],
      "source": [
        "column = 'PracticeSport'\n",
        "\n",
        "analysis = f\"\"\"{column} has almost no impact on overall student performance\n",
        "with a mean range of only **2.78**\"\"\"\n",
        "    \n",
        "save_analysis(analysis, f'{column}-analysis.txt')"
      ]
    },
    {
      "cell_type": "code",
      "execution_count": null,
      "metadata": {},
      "outputs": [],
      "source": [
        "plot_category_distribution('IsFirstChild')"
      ]
    },
    {
      "cell_type": "markdown",
      "metadata": {},
      "source": [
        "#### This data is not balanced and will need to be adjusted prior to training the models as it will bias the results towards students who are the first child.\n",
        "\n",
        "Based on the mean score, only a minor impact of being first child can be determined. After confirmation I will likely drop this feature, unless other features aslone are not sufficient.\n",
        "\n",
        "**I hypothesize that IsFirstChild should have only minor influence on the predicted score.**"
      ]
    },
    {
      "cell_type": "code",
      "execution_count": null,
      "metadata": {},
      "outputs": [],
      "source": [
        "column = 'IsFirstChild'\n",
        "\n",
        "analysis = f\"\"\"Whether or not a student {column} has almost no impact on \n",
        "overall student performance with a mean range of only **0.39**\"\"\"\n",
        "    \n",
        "save_analysis(analysis, f'{column}-analysis.txt')"
      ]
    },
    {
      "cell_type": "code",
      "execution_count": null,
      "metadata": {},
      "outputs": [],
      "source": [
        "plot_category_distribution('WklyStudyHours')"
      ]
    },
    {
      "cell_type": "markdown",
      "metadata": {},
      "source": [
        "#### This data is not balanced and will need to be adjusted prior to training the models as it will bias the results towards students who study between 5-10 hours.\n",
        "\n",
        "Based on the mean score, students who study more than 10h per week have on average 3% better score than student who study <5 hours. This is also not a very signigicant difference. A small biad towards mathematics can be seen 4% difference vs 2 or 3 .. indicating that particularly Maths benefits from extra study time.\n",
        "\n",
        "**I hypothesize that StudyHours should have only minor influence on the predicted score.**"
      ]
    },
    {
      "cell_type": "code",
      "execution_count": null,
      "metadata": {},
      "outputs": [],
      "source": [
        "column = 'WklyStudyHours'\n",
        "\n",
        "analysis = f\"\"\"With a mean range of only 3 percent, the weekly study hours of\n",
        "as student surprisingly has very little influence on their overall performance\n",
        "in the exam. Student who study more than 10 hours compared to ones that study\n",
        "less than 5 hours only perform about 3 percent better on average.\n",
        "That is really surprising.\"\"\"\n",
        "    \n",
        "save_analysis(analysis, f'{column}-analysis.txt')"
      ]
    },
    {
      "cell_type": "code",
      "execution_count": null,
      "metadata": {},
      "outputs": [],
      "source": [
        "plot_category_distribution('NrSiblings')"
      ]
    },
    {
      "cell_type": "markdown",
      "metadata": {},
      "source": [
        "#### This data is not balanced.\n",
        "\n",
        "Based on the mean score, there is practically no difference between being an only child (0) or having 7 siblings ... this indicates that this feature has no bearing on the overall student performance and can be dropped.\n",
        "\n",
        "**I hypothesize that NrSiblings has NO influence on the predicted score.**"
      ]
    },
    {
      "cell_type": "code",
      "execution_count": null,
      "metadata": {},
      "outputs": [],
      "source": [
        "column = 'NrSiblings'\n",
        "\n",
        "analysis = f\"\"\"The number of siblings has no bearing on the students performace\n",
        "most evident by the fact that according to the dataset, students with ZERO\n",
        "or 7(!) siblings perform the same in the exam. This veriable will not be a\n",
        "significant contributer to the model.\"\"\"\n",
        "    \n",
        "save_analysis(analysis, f'{column}-analysis.txt')"
      ]
    },
    {
      "cell_type": "markdown",
      "metadata": {},
      "source": [
        "## Assess distribution of numerical data"
      ]
    },
    {
      "cell_type": "code",
      "execution_count": null,
      "metadata": {},
      "outputs": [],
      "source": [
        "columns = ['MathScore', 'ReadingScore', 'WritingScore','MeanScore']\n",
        "summaries_dict = {}\n",
        "\n",
        "for column in columns:\n",
        "    summary = df[column].describe()\n",
        "    summaries_dict[column] = summary\n",
        "\n",
        "# Convert the dictionary of summaries into a DataFrame\n",
        "summaries_df = pd.DataFrame(summaries_dict)\n",
        "\n",
        "# Display DataFrames\n",
        "summaries_df"
      ]
    },
    {
      "cell_type": "code",
      "execution_count": null,
      "metadata": {},
      "outputs": [],
      "source": [
        "columns = ['MathScore', 'ReadingScore', 'WritingScore','MeanScore']\n",
        "plt.figure(figsize=(14, 3))\n",
        "\n",
        "for i, column in enumerate(columns, start=1):\n",
        "    plt.subplot(1, 4, i) \n",
        "    sns.histplot(df[column], fill=True)\n",
        "    plt.title(column)\n",
        "    plt.xlabel('Score')\n",
        "    plt.ylabel('Count')\n",
        "    \n",
        "    #add standard deviation to plots\n",
        "    std_dev = df[column].std()\n",
        "    plt.text(x=0.5, y=0.9, s=f'SD: {std_dev:.2f}', \n",
        "             horizontalalignment='center', verticalalignment='center', \n",
        "             transform=plt.gca().transAxes, fontsize=12)\n",
        "\n",
        "save_plot(plt, f'Numerical-distribution.png')\n",
        "\n",
        "# add box plots\n",
        "fig, axs = plt.subplots(1, 4, figsize=(12, 3))\n",
        "# Columns to plot\n",
        "for i, col in enumerate(columns):\n",
        "    ax = axs[i]\n",
        "    sns.boxplot(x=df[col], ax=ax)\n",
        "    ax.set_title(f\"Boxplot ({col})\")\n",
        "\n",
        "plt.tight_layout()\n",
        "save_plot(plt, f'Numerical-boxplots.png')\n",
        "plt.show()"
      ]
    },
    {
      "cell_type": "markdown",
      "metadata": {},
      "source": [
        "### Create a subplot of KDE diagrams to visualize density/concentration of data"
      ]
    },
    {
      "cell_type": "code",
      "execution_count": null,
      "metadata": {},
      "outputs": [],
      "source": [
        "plt.figure(figsize=(20, 5))\n",
        "\n",
        "for i, column in enumerate(columns, start=1):\n",
        "    plt.subplot(1, 4, i) \n",
        "    sns.kdeplot(df[column], fill=True)\n",
        "    plt.title(column)\n",
        "    plt.xlabel('Value')\n",
        "    plt.ylabel('Density')\n",
        "\n",
        "plt.tight_layout()\n",
        "save_plot(plt, f'Numerical-kde.png')\n",
        "plt.show()\n"
      ]
    },
    {
      "cell_type": "markdown",
      "metadata": {},
      "source": [
        "### Visually the data seems to follow a standard 'bell curve' and appears normally distributed, which is very helpful for model fitting.\n",
        "A standard deviation of 15 indicates the students performance are reasonably close to the mean grade. To further analyse the normal distribution I will plot QQ diagrams below:"
      ]
    },
    {
      "cell_type": "code",
      "execution_count": null,
      "metadata": {},
      "outputs": [],
      "source": [
        "plt.figure(figsize=(20, 5))\n",
        "\n",
        "for i, column in enumerate(columns, start=1):\n",
        "    plt.subplot(1, 4, i) \n",
        "    data = df[column]\n",
        "    pg.qqplot(df[column], dist='norm')\n",
        "    plt.title(column)\n",
        "    plt.xlabel('Theoretical Quantiles')\n",
        "    plt.ylabel('Ordered Quantiles')\n",
        "\n",
        "plt.tight_layout()\n",
        "save_plot(plt, f'Numerical-qq.png')\n",
        "plt.show()"
      ]
    },
    {
      "cell_type": "markdown",
      "metadata": {},
      "source": [
        "#### The QQ plots are very closely aligned to the diagonal indicating an very good normal distribution especially around the mean. The values deviate slightly at the ends indicating some possible outliers skewing the normality of the data. This will hopefully not influence any linear regression models to be applied but might need to be dealt with if accuracy becomes an issue.\n",
        "\n",
        "The R2 value of 0.994+ is also very good indicator of normalness.\n",
        "\n",
        "Testing for shapiro wilk, we get a dissappointing result:"
      ]
    },
    {
      "cell_type": "code",
      "execution_count": null,
      "metadata": {},
      "outputs": [],
      "source": [
        "shapiro_results = []\n",
        "\n",
        "# Loop and perform the Shapiro-Wilk test\n",
        "for column in columns:\n",
        "    test_result = pg.normality(data=df[column], alpha=0.05)\n",
        "    test_result['Variable'] = column\n",
        "    shapiro_results.append(test_result)\n",
        "\n",
        "# add to DataFrame\n",
        "shapiro_results_df = pd.concat(shapiro_results, ignore_index=True)\n",
        "\n",
        "shapiro_results_df"
      ]
    },
    {
      "cell_type": "markdown",
      "metadata": {},
      "source": [
        "The Shapiro_wilk check seems to indicate that the data is not normal, despite the R2 values and visual confirmation of the Q-Q Plots. However, as the warninig suggests, the test is known to get more sensitive to even small deviations on very large datasets. For this reason, I will press on with the data preparation, under the assumption that data normalcy won't be an issue."
      ]
    }
  ],
  "metadata": {
    "accelerator": "GPU",
    "colab": {
      "name": "Data Practitioner Jupyter Notebook.ipynb",
      "provenance": [],
      "toc_visible": true
    },
    "interpreter": {
      "hash": "8b8334dab9339717f727a1deaf837b322d7a41c20d15cc86be99a8e69ceec8ce"
    },
    "kernelspec": {
      "display_name": "Python 3.8.12 64-bit ('3.8.12': pyenv)",
      "name": "python3"
    },
    "language_info": {
      "codemirror_mode": {
        "name": "ipython",
        "version": 3
      },
      "file_extension": ".py",
      "mimetype": "text/x-python",
      "name": "python",
      "nbconvert_exporter": "python",
      "pygments_lexer": "ipython3",
      "version": "3.8.18"
    },
    "orig_nbformat": 2
  },
  "nbformat": 4,
  "nbformat_minor": 2
}
