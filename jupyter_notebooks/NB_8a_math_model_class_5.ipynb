{
  "cells": [
    {
      "cell_type": "markdown",
      "metadata": {
        "id": "0aStgWSO0E0E"
      },
      "source": [
        "# **STUDENT AI** - MATH MODEL CREATION (CLASSIFICATION)"
      ]
    },
    {
      "cell_type": "markdown",
      "metadata": {
        "id": "1eLEkw5O0ECa"
      },
      "source": [
        "## Objectives\n",
        "\n",
        "Create a classification model to predict Math score based on Key dataset features. Numerical variables will be grouped into bins. <br> \n",
        "Initially I will try to use 5, analog to the EDA study grouping student performance based on the mean value and 1-2 standard deviations from mean. That would allow the model to predict students in the fail, below average, average, above average and exeptional categories. - however accuracy is still a concearn, so alternative classification will be analysed using 3 bins. This will allow prediction of below average, average and above average performance and will probably achieve higher accuracy in prediction. <br>\n",
        "Worst case, the dataset would have to be grouped into 2 bins around the mean allowing classification into below average and above average.\n",
        "\n",
        "This would flag many more students however of needing additional assistance. \n",
        "\n",
        "## Inputs\n",
        "\n",
        "Continues to assess dataset loaded in previous notebook.\n",
        "\n",
        "## Outputs\n",
        "\n",
        "Pipeline and .pkl file to use for predicting a students math score based on the derived calculated best feature variables.\n"
      ]
    },
    {
      "cell_type": "markdown",
      "metadata": {
        "id": "9uWZXH9LwoQg"
      },
      "source": [
        "---"
      ]
    },
    {
      "cell_type": "markdown",
      "metadata": {},
      "source": [
        "## Build Pipeline for classification model to predict Math numerical target variable\n",
        "\n",
        "The steps for a classification model are a little more involved when using a dataset with a numerical target variable\n",
        "\n",
        "| Step |  Purpose | \n",
        "|---|---|\n",
        "|Data Cleaning|Deal with missing data or wrong data - step already completed in the saved dataset|\n",
        "|Discretize Numerical Target|group target variable into bins for categorization|\n",
        "|Encode Categorical Features|Model algorithms can only handle numerical data. Needs to be converted first|\n",
        "|Feature Scaling|Ensure all numerical data has a similar scale and is centered around zero - neccessary / improves model performance|\n",
        "|Data Balancing|Classification models are affected negatively by imbalanced data. SMOTE or Undersampling needs to be performed to balance the dataset|\n",
        "|Feature Smart Correlation|Determine which features are most significant and eliminate uneccessary ones - helps prevent overfitting - not neccesary|\n",
        "|Feature Selection|Select which features will be used |\n",
        "|Algorithm Selection|Assess best algorithm for the data set as well as the best associated Parameters and Hyperparameters|\n",
        "|Model Training|Train the model on the train data and evaluate with the test set|\n"
      ]
    },
    {
      "cell_type": "markdown",
      "metadata": {},
      "source": [
        "# Import required libraries"
      ]
    },
    {
      "cell_type": "code",
      "execution_count": 1,
      "metadata": {},
      "outputs": [
        {
          "name": "stdout",
          "output_type": "stream",
          "text": [
            "All Libraries Loaded\n"
          ]
        }
      ],
      "source": [
        "import os\n",
        "import joblib\n",
        "import numpy as np\n",
        "import pandas as pd\n",
        "import matplotlib.pyplot as plt\n",
        "import seaborn as sns\n",
        "sns.set_style('whitegrid')\n",
        "\n",
        "### Pipeline\n",
        "from sklearn.pipeline import Pipeline\n",
        "\n",
        "### Feature Engineering\n",
        "from feature_engine.encoding import OrdinalEncoder\n",
        "\n",
        "### Feature Scaling\n",
        "from sklearn.preprocessing import StandardScaler\n",
        "\n",
        "### libraries for custom transformer\n",
        "from sklearn.base import BaseEstimator, TransformerMixin\n",
        "\n",
        "### Feature Balancing\n",
        "from imblearn.pipeline import Pipeline as ImbPipeline\n",
        "from imblearn.under_sampling import RandomUnderSampler\n",
        "from imblearn.over_sampling import SMOTE\n",
        "\n",
        "### Feature  Selection\n",
        "from sklearn.feature_selection import SelectFromModel\n",
        "\n",
        "### ML algorithms \n",
        "from sklearn.tree import DecisionTreeClassifier \n",
        "from sklearn.ensemble import RandomForestClassifier\n",
        "from sklearn.ensemble import GradientBoostingClassifier \n",
        "from sklearn.ensemble import ExtraTreesClassifier\n",
        "from sklearn.ensemble import AdaBoostClassifier\n",
        "from xgboost import XGBClassifier\n",
        "from sklearn.linear_model import SGDClassifier\n",
        "\n",
        "### EqualFrequencyDiscretiser\n",
        "from feature_engine.discretisation import EqualFrequencyDiscretiser\n",
        "\n",
        "### packages for classification report and confusion matrix\n",
        "from sklearn.metrics import make_scorer, recall_score\n",
        "\n",
        "### Train test split\n",
        "from sklearn.model_selection import train_test_split\n",
        "\n",
        "### Packages for generating a classification report and confusion matrix\n",
        "from sklearn.metrics import classification_report, confusion_matrix\n",
        "\n",
        "### GridSearchCV\n",
        "from sklearn.model_selection import GridSearchCV\n",
        "\n",
        "print('All Libraries Loaded')"
      ]
    },
    {
      "cell_type": "markdown",
      "metadata": {
        "id": "cqP-UeN-z3i2"
      },
      "source": [
        "# Change working directory"
      ]
    },
    {
      "cell_type": "markdown",
      "metadata": {
        "id": "aOGIGS-uz3i2"
      },
      "source": [
        "### Set the working directory to notebook parent folder\n",
        "If the output does not match, click **'clear all outputs'** and then **'restart'** the notebook. \n",
        "Then run cells from top to bottom."
      ]
    },
    {
      "cell_type": "code",
      "execution_count": 2,
      "metadata": {
        "id": "wZfF_j-Bz3i4",
        "outputId": "66943449-1436-4c3d-85c7-b85f9f78349b"
      },
      "outputs": [
        {
          "name": "stdout",
          "output_type": "stream",
          "text": [
            "If correct, Active Directory should read: /workspace/student-AI\n",
            "Active Directory: /workspace/student-AI\n"
          ]
        }
      ],
      "source": [
        "current_dir = os.getcwd()\n",
        "os.chdir(os.path.dirname(current_dir))\n",
        "current_dir = os.getcwd()\n",
        "print('If correct, Active Directory should read: /workspace/student-AI')\n",
        "print(f\"Active Directory: {current_dir}\")"
      ]
    },
    {
      "cell_type": "markdown",
      "metadata": {},
      "source": [
        "### Load cleaned dataset"
      ]
    },
    {
      "cell_type": "code",
      "execution_count": 3,
      "metadata": {},
      "outputs": [
        {
          "data": {
            "text/html": [
              "<div>\n",
              "<style scoped>\n",
              "    .dataframe tbody tr th:only-of-type {\n",
              "        vertical-align: middle;\n",
              "    }\n",
              "\n",
              "    .dataframe tbody tr th {\n",
              "        vertical-align: top;\n",
              "    }\n",
              "\n",
              "    .dataframe thead th {\n",
              "        text-align: right;\n",
              "    }\n",
              "</style>\n",
              "<table border=\"1\" class=\"dataframe\">\n",
              "  <thead>\n",
              "    <tr style=\"text-align: right;\">\n",
              "      <th></th>\n",
              "      <th>Gender</th>\n",
              "      <th>EthnicGroup</th>\n",
              "      <th>ParentEduc</th>\n",
              "      <th>LunchType</th>\n",
              "      <th>TestPrep</th>\n",
              "      <th>ParentMaritalStatus</th>\n",
              "      <th>PracticeSport</th>\n",
              "      <th>IsFirstChild</th>\n",
              "      <th>NrSiblings</th>\n",
              "      <th>WklyStudyHours</th>\n",
              "      <th>MathScore</th>\n",
              "      <th>ReadingScore</th>\n",
              "      <th>WritingScore</th>\n",
              "    </tr>\n",
              "  </thead>\n",
              "  <tbody>\n",
              "    <tr>\n",
              "      <th>0</th>\n",
              "      <td>female</td>\n",
              "      <td>group C</td>\n",
              "      <td>bachelor's degree</td>\n",
              "      <td>standard</td>\n",
              "      <td>none</td>\n",
              "      <td>married</td>\n",
              "      <td>regularly</td>\n",
              "      <td>yes</td>\n",
              "      <td>3</td>\n",
              "      <td>&lt; 5</td>\n",
              "      <td>71</td>\n",
              "      <td>71</td>\n",
              "      <td>74</td>\n",
              "    </tr>\n",
              "    <tr>\n",
              "      <th>1</th>\n",
              "      <td>female</td>\n",
              "      <td>group C</td>\n",
              "      <td>some college</td>\n",
              "      <td>standard</td>\n",
              "      <td>none</td>\n",
              "      <td>married</td>\n",
              "      <td>sometimes</td>\n",
              "      <td>yes</td>\n",
              "      <td>0</td>\n",
              "      <td>5 - 10</td>\n",
              "      <td>69</td>\n",
              "      <td>90</td>\n",
              "      <td>88</td>\n",
              "    </tr>\n",
              "    <tr>\n",
              "      <th>2</th>\n",
              "      <td>female</td>\n",
              "      <td>group B</td>\n",
              "      <td>master's degree</td>\n",
              "      <td>standard</td>\n",
              "      <td>none</td>\n",
              "      <td>single</td>\n",
              "      <td>sometimes</td>\n",
              "      <td>yes</td>\n",
              "      <td>4</td>\n",
              "      <td>&lt; 5</td>\n",
              "      <td>87</td>\n",
              "      <td>93</td>\n",
              "      <td>91</td>\n",
              "    </tr>\n",
              "    <tr>\n",
              "      <th>3</th>\n",
              "      <td>male</td>\n",
              "      <td>group A</td>\n",
              "      <td>associate's degree</td>\n",
              "      <td>free/reduced</td>\n",
              "      <td>none</td>\n",
              "      <td>married</td>\n",
              "      <td>never</td>\n",
              "      <td>no</td>\n",
              "      <td>1</td>\n",
              "      <td>5 - 10</td>\n",
              "      <td>45</td>\n",
              "      <td>56</td>\n",
              "      <td>42</td>\n",
              "    </tr>\n",
              "    <tr>\n",
              "      <th>4</th>\n",
              "      <td>male</td>\n",
              "      <td>group C</td>\n",
              "      <td>some college</td>\n",
              "      <td>standard</td>\n",
              "      <td>none</td>\n",
              "      <td>married</td>\n",
              "      <td>sometimes</td>\n",
              "      <td>yes</td>\n",
              "      <td>0</td>\n",
              "      <td>5 - 10</td>\n",
              "      <td>76</td>\n",
              "      <td>78</td>\n",
              "      <td>75</td>\n",
              "    </tr>\n",
              "  </tbody>\n",
              "</table>\n",
              "</div>"
            ],
            "text/plain": [
              "   Gender EthnicGroup          ParentEduc     LunchType TestPrep  \\\n",
              "0  female     group C   bachelor's degree      standard     none   \n",
              "1  female     group C        some college      standard     none   \n",
              "2  female     group B     master's degree      standard     none   \n",
              "3    male     group A  associate's degree  free/reduced     none   \n",
              "4    male     group C        some college      standard     none   \n",
              "\n",
              "  ParentMaritalStatus PracticeSport IsFirstChild  NrSiblings WklyStudyHours  \\\n",
              "0             married     regularly          yes           3            < 5   \n",
              "1             married     sometimes          yes           0         5 - 10   \n",
              "2              single     sometimes          yes           4            < 5   \n",
              "3             married         never           no           1         5 - 10   \n",
              "4             married     sometimes          yes           0         5 - 10   \n",
              "\n",
              "   MathScore  ReadingScore  WritingScore  \n",
              "0         71            71            74  \n",
              "1         69            90            88  \n",
              "2         87            93            91  \n",
              "3         45            56            42  \n",
              "4         76            78            75  "
            ]
          },
          "execution_count": 3,
          "metadata": {},
          "output_type": "execute_result"
        }
      ],
      "source": [
        "df = pd.read_csv(f\"outputs/dataset/Expanded_data_with_more_features_clean.csv\")\n",
        "df.head()"
      ]
    },
    {
      "cell_type": "markdown",
      "metadata": {},
      "source": [
        "nrSiblings is treated as a numerical variable. As I determined previously it has no bearing on the target variables, so I will drop it rather than convert to categorical. The other variables previously identified in the EDA as having not much impact, I will keep in, as the Feature Selection step did not suggest to eliminate any. I will also drop teh features that the EDA determined has no bearing on the target variables."
      ]
    },
    {
      "cell_type": "code",
      "execution_count": 4,
      "metadata": {},
      "outputs": [
        {
          "name": "stdout",
          "output_type": "stream",
          "text": [
            "<class 'pandas.core.frame.DataFrame'>\n",
            "RangeIndex: 30641 entries, 0 to 30640\n",
            "Data columns (total 6 columns):\n",
            " #   Column       Non-Null Count  Dtype \n",
            "---  ------       --------------  ----- \n",
            " 0   Gender       30641 non-null  object\n",
            " 1   EthnicGroup  30641 non-null  object\n",
            " 2   ParentEduc   30641 non-null  object\n",
            " 3   LunchType    30641 non-null  object\n",
            " 4   TestPrep     30641 non-null  object\n",
            " 5   MathScore    30641 non-null  int64 \n",
            "dtypes: int64(1), object(5)\n",
            "memory usage: 1.4+ MB\n"
          ]
        }
      ],
      "source": [
        "# df['NrSiblings'] = df['NrSiblings'].astype(str)\n",
        "# 'ParentMaritalStatus', 'PracticeSport','IsFirstChild','NrSiblings','WklyStudyHours'\n",
        "df_math = df.drop(['ReadingScore', 'WritingScore','NrSiblings','ParentMaritalStatus', 'PracticeSport','IsFirstChild','NrSiblings','WklyStudyHours'], axis=1)\n",
        "df_math.info()"
      ]
    },
    {
      "cell_type": "code",
      "execution_count": 17,
      "metadata": {},
      "outputs": [],
      "source": [
        "def PipelineOptimization(model):\n",
        "    pipeline_base = ImbPipeline([\n",
        "\n",
        "        (\"OrdinalCategoricalEncoder\", OrdinalEncoder(\n",
        "            encoding_method='arbitrary', \n",
        "            variables=[\n",
        "                'Gender',\n",
        "                'EthnicGroup',\n",
        "                'ParentEduc',\n",
        "                'LunchType',\n",
        "                'TestPrep',\n",
        "                ])),\n",
        "\n",
        "        #(\"undersample\", RandomUnderSampler()),  # Assuming enough data values - another option will be SMOTE\n",
        "        # (\"oversample\", SMOTE()),  # alternate balancing technique -- only allow one or teh other until best option is determined\n",
        "\n",
        "        (\"feature_selection\", SelectFromModel(model)),\n",
        "\n",
        "        (\"model\", model),\n",
        "\n",
        "    ])\n",
        "\n",
        "    return pipeline_base"
      ]
    },
    {
      "cell_type": "code",
      "execution_count": 6,
      "metadata": {},
      "outputs": [],
      "source": [
        "models_algorithm_list = {\n",
        "    \"XGBClassifier\": XGBClassifier(random_state=0),\n",
        "    \"DecisionTreeClassifier\": DecisionTreeClassifier(random_state=0),\n",
        "    \"RandomForestClassifier\": RandomForestClassifier(random_state=0),\n",
        "    \"GradientBoostingClassifier\": GradientBoostingClassifier(random_state=0),\n",
        "    \"ExtraTreesClassifier\": ExtraTreesClassifier(random_state=0),\n",
        "    \"AdaBoostClassifier\": AdaBoostClassifier(random_state=0),\n",
        "}\n",
        "\n",
        "parameters_list = {\n",
        "    \"XGBClassifier\":{},\n",
        "    \"DecisionTreeClassifier\":{},\n",
        "    \"RandomForestClassifier\":{},\n",
        "    \"GradientBoostingClassifier\":{},\n",
        "    \"ExtraTreesClassifier\":{},\n",
        "    \"AdaBoostClassifier\":{},\n",
        "}"
      ]
    },
    {
      "cell_type": "markdown",
      "metadata": {},
      "source": [
        "### Custom Confusion Matrix Function from CI Customer Churn Course"
      ]
    },
    {
      "cell_type": "code",
      "execution_count": 7,
      "metadata": {},
      "outputs": [],
      "source": [
        "def confusion_matrix_and_report(x, y, pipeline, label_map):\n",
        "\n",
        "  prediction = pipeline.predict(x)\n",
        "\n",
        "  print('---  Confusion Matrix  ---')\n",
        "  print(pd.DataFrame(confusion_matrix(y_true=prediction, y_pred=y),\n",
        "        columns=[ [\"Actual \" + sub for sub in label_map] ], \n",
        "        index= [ [\"Prediction \" + sub for sub in label_map ]]\n",
        "        ))\n",
        "  print(\"\\n\")\n",
        "\n",
        "  print('---  Classification Report  ---')\n",
        "  print(classification_report(y, prediction, target_names=label_map),\"\\n\")\n",
        "\n",
        "def clf_performance(math_train_features, math_train_scores, math_test_features, math_test_scores, pipeline, label_map):\n",
        "  print(\"#### Train Set #### \\n\")\n",
        "  confusion_matrix_and_report(math_train_features, math_train_scores, pipeline, label_map)\n",
        "\n",
        "  print(\"#### Test Set ####\\n\")\n",
        "  confusion_matrix_and_report(math_test_features, math_test_scores, pipeline, label_map)"
      ]
    },
    {
      "cell_type": "markdown",
      "metadata": {},
      "source": [
        "### Custom Hyperparameter search class (same as previous notebook)\n",
        "\n",
        "To select the best algorithm and hyperparameters we will fit a model with each different type / parameter set and compare the results.\n",
        "To do this I can use the custom parameter test function, derived in the CodeInstitute Churnometer Walkthrough [here](https://github.com/AdamBoley/churnometer/blob/main/jupyter_notebooks/06%20-%20Modeling%20and%20Evaluation%20-%20Predict%20Tenure.ipynb)"
      ]
    },
    {
      "cell_type": "code",
      "execution_count": 8,
      "metadata": {},
      "outputs": [],
      "source": [
        "from sklearn.model_selection import GridSearchCV\n",
        "class HyperparameterOptimizationSearch:\n",
        "\n",
        "    def __init__(self, models, parameters):\n",
        "        self.models = models\n",
        "        self.parameters = parameters\n",
        "        self.keys = models.keys()\n",
        "        self.grid_searches = {}\n",
        "\n",
        "    def fit(self, x, y, cv, n_jobs, verbose=1, scoring=None, refit=False):\n",
        "        for key in self.keys:\n",
        "            print(f\"\\nRunning GridSearchCV for {key} \\n\")\n",
        "            model =  PipelineOptimization(self.models[key])\n",
        "\n",
        "            parameters = self.parameters[key]\n",
        "            grid_search = GridSearchCV(model, parameters, cv=cv, n_jobs=n_jobs, verbose=verbose, scoring=scoring)\n",
        "            grid_search.fit(x, y)\n",
        "            self.grid_searches[key] = grid_search\n",
        "\n",
        "    def score_summary(self, sort_by='mean_score'):\n",
        "        def row(key, scores, parameters):\n",
        "            summary = {\n",
        "                 'estimator': key,\n",
        "                 'minimum_score': min(scores),\n",
        "                 'maximum_score': max(scores),\n",
        "                 'mean_score': np.mean(scores),\n",
        "                 'standard_deviation_score': np.std(scores),\n",
        "            }\n",
        "            return pd.Series({**parameters,**summary})\n",
        "\n",
        "        rows = []\n",
        "        for k in self.grid_searches:\n",
        "            parameters = self.grid_searches[k].cv_results_['params']\n",
        "            scores = []\n",
        "            for i in range(self.grid_searches[k].cv):\n",
        "                key = \"split{}_test_score\".format(i)\n",
        "                result = self.grid_searches[k].cv_results_[key]        \n",
        "                scores.append(result.reshape(len(parameters), 1))\n",
        "\n",
        "            all_scores = np.hstack(scores)\n",
        "            for p, s in zip(parameters, all_scores):\n",
        "                rows.append((row(k, s, p)))\n",
        "\n",
        "        df = pd.concat(rows, axis=1).T.sort_values([sort_by], ascending=False)\n",
        "\n",
        "        columns = ['estimator', 'minimum_score', 'mean_score', 'maximum_score', 'standard_deviation_score']\n",
        "        columns = columns + [column for column in df.columns if column not in columns]\n",
        "\n",
        "        return df[columns], self.grid_searches"
      ]
    },
    {
      "cell_type": "markdown",
      "metadata": {},
      "source": [
        "### Create custom transformer to discretize the dataframe based on 5, 3 or 2 bins.\n",
        "Criteria for boundaries is based on calculated mean and standard deviation."
      ]
    },
    {
      "cell_type": "code",
      "execution_count": 9,
      "metadata": {},
      "outputs": [],
      "source": [
        "class CustomDiscretizer(BaseEstimator, TransformerMixin):\n",
        "    \"\"\"\n",
        "    Custom Transformer to automatically generate categorical bins from a numerical variable\n",
        "    Arguments are a pandas dataframe, the number of bins and the column(s) to discretize\n",
        "    bins are sized based on the column mean value and standard deviation\n",
        "    2 bins are spit at the mean\n",
        "    3 bins are split +- 1/2 the SD\n",
        "    5 bins are split at the  mean with 1*SD and 2*Sd as the cutoff\n",
        "    If wrong bin argument is given, defaults to 5\n",
        "    No column arg = use all columns (default)\n",
        "    \"\"\"\n",
        "    def __init__(self, n_bins=3, columns=None):\n",
        "        if n_bins not in [2, 3, 5]:\n",
        "            print(\"Error: n_bins must be : [2, 3 or 5]. Setting 5 as default.\")\n",
        "            self.n_bins = 5  # Default\n",
        "        else:\n",
        "            self.n_bins = n_bins\n",
        "        self.columns = columns\n",
        "    \n",
        "    def fit(self, X, y=None):\n",
        "        # not needed\n",
        "        return self\n",
        "    \n",
        "    def transform(self, X):\n",
        "        # Ensure X is a DataFrame\n",
        "        X_transformed = X.copy()\n",
        "        # If columns param is None, apply to all columns\n",
        "        columns_to_discretize = self.columns if self.columns is not None else X.columns\n",
        "        \n",
        "        for column in columns_to_discretize:\n",
        "            if column in X.columns:  # Check column exists\n",
        "                mean = X[column].mean()\n",
        "                std = X[column].std()\n",
        "                min_val = X[column].min()\n",
        "                max_val = X[column].max()\n",
        "\n",
        "                if self.n_bins == 5:\n",
        "                    bins = [min_val-1, mean - 2*std, mean - std, mean, mean + std, max_val+1]\n",
        "                    labels = [0, 1, 2, 3, 4]\n",
        "                \n",
        "                elif self.n_bins == 3:\n",
        "                    bins = [min_val-1, mean - std/2, mean + std/2, max_val+1]\n",
        "                    labels = [0, 1, 2]\n",
        "                \n",
        "                elif self.n_bins == 2:\n",
        "                    bins = [min_val-1, mean, max_val+1]\n",
        "                    labels = [0, 1]\n",
        "\n",
        "                X_transformed[column] = pd.cut(X[column], bins=bins, labels=labels, include_lowest=True)\n",
        "            else:\n",
        "                # If the column is not in the DataFrame,  raise an error or warn\n",
        "                print(f\"Column {column} not found in DataFrame!\")\n",
        "        \n",
        "        return X_transformed"
      ]
    },
    {
      "cell_type": "markdown",
      "metadata": {},
      "source": [
        "#### Test CustomDiscretizer"
      ]
    },
    {
      "cell_type": "code",
      "execution_count": 10,
      "metadata": {},
      "outputs": [
        {
          "data": {
            "text/html": [
              "<div>\n",
              "<style scoped>\n",
              "    .dataframe tbody tr th:only-of-type {\n",
              "        vertical-align: middle;\n",
              "    }\n",
              "\n",
              "    .dataframe tbody tr th {\n",
              "        vertical-align: top;\n",
              "    }\n",
              "\n",
              "    .dataframe thead th {\n",
              "        text-align: right;\n",
              "    }\n",
              "</style>\n",
              "<table border=\"1\" class=\"dataframe\">\n",
              "  <thead>\n",
              "    <tr style=\"text-align: right;\">\n",
              "      <th></th>\n",
              "      <th>Gender</th>\n",
              "      <th>EthnicGroup</th>\n",
              "      <th>ParentEduc</th>\n",
              "      <th>LunchType</th>\n",
              "      <th>TestPrep</th>\n",
              "      <th>MathScore</th>\n",
              "    </tr>\n",
              "  </thead>\n",
              "  <tbody>\n",
              "    <tr>\n",
              "      <th>0</th>\n",
              "      <td>female</td>\n",
              "      <td>group C</td>\n",
              "      <td>bachelor's degree</td>\n",
              "      <td>standard</td>\n",
              "      <td>none</td>\n",
              "      <td>3</td>\n",
              "    </tr>\n",
              "    <tr>\n",
              "      <th>1</th>\n",
              "      <td>female</td>\n",
              "      <td>group C</td>\n",
              "      <td>some college</td>\n",
              "      <td>standard</td>\n",
              "      <td>none</td>\n",
              "      <td>3</td>\n",
              "    </tr>\n",
              "    <tr>\n",
              "      <th>2</th>\n",
              "      <td>female</td>\n",
              "      <td>group B</td>\n",
              "      <td>master's degree</td>\n",
              "      <td>standard</td>\n",
              "      <td>none</td>\n",
              "      <td>4</td>\n",
              "    </tr>\n",
              "    <tr>\n",
              "      <th>3</th>\n",
              "      <td>male</td>\n",
              "      <td>group A</td>\n",
              "      <td>associate's degree</td>\n",
              "      <td>free/reduced</td>\n",
              "      <td>none</td>\n",
              "      <td>1</td>\n",
              "    </tr>\n",
              "    <tr>\n",
              "      <th>4</th>\n",
              "      <td>male</td>\n",
              "      <td>group C</td>\n",
              "      <td>some college</td>\n",
              "      <td>standard</td>\n",
              "      <td>none</td>\n",
              "      <td>3</td>\n",
              "    </tr>\n",
              "  </tbody>\n",
              "</table>\n",
              "</div>"
            ],
            "text/plain": [
              "   Gender EthnicGroup          ParentEduc     LunchType TestPrep MathScore\n",
              "0  female     group C   bachelor's degree      standard     none         3\n",
              "1  female     group C        some college      standard     none         3\n",
              "2  female     group B     master's degree      standard     none         4\n",
              "3    male     group A  associate's degree  free/reduced     none         1\n",
              "4    male     group C        some college      standard     none         3"
            ]
          },
          "execution_count": 10,
          "metadata": {},
          "output_type": "execute_result"
        }
      ],
      "source": [
        "discretizer = CustomDiscretizer(n_bins=5, columns=['MathScore'])\n",
        "df_transformed = discretizer.fit_transform(df_math)\n",
        "df_transformed.head()\n"
      ]
    },
    {
      "cell_type": "markdown",
      "metadata": {},
      "source": [
        "### Visualize custom created bins"
      ]
    },
    {
      "cell_type": "code",
      "execution_count": 11,
      "metadata": {},
      "outputs": [
        {
          "data": {
            "image/png": "[encoded data removed]",
            "text/plain": [
              "<Figure size 600x300 with 2 Axes>"
            ]
          },
          "metadata": {},
          "output_type": "display_data"
        }
      ],
      "source": [
        "plt.figure(figsize=(6, 3))\n",
        "\n",
        "# Original distribution\n",
        "plt.subplot(1, 2, 1)\n",
        "sns.histplot(df['MathScore'], bins='auto', kde=True)\n",
        "plt.title('Original Distribution')\n",
        "\n",
        "# Discretized distribution\n",
        "plt.subplot(1, 2, 2)\n",
        "sns.histplot(df_transformed['MathScore'], bins='auto', kde=False)\n",
        "plt.title('Discretized Distribution')\n",
        "\n",
        "plt.tight_layout()\n",
        "plt.show()"
      ]
    },
    {
      "cell_type": "markdown",
      "metadata": {},
      "source": [
        "### Start model tests"
      ]
    },
    {
      "cell_type": "code",
      "execution_count": 19,
      "metadata": {},
      "outputs": [
        {
          "name": "stdout",
          "output_type": "stream",
          "text": [
            "* Train set: (24512, 5) (24512,) \n",
            "* Test set: (6129, 5) (6129,)\n"
          ]
        }
      ],
      "source": [
        "math_train_features, math_test_features, math_train_scores, math_test_scores = train_test_split(\n",
        "    df_transformed.drop(['MathScore'], axis=1),\n",
        "    df_transformed['MathScore'],\n",
        "    test_size = 0.2,\n",
        "    random_state = 7\n",
        ")\n",
        "\n",
        "print(\"* Train set:\", math_train_features.shape, math_train_scores.shape, \"\\n* Test set:\",  math_test_features.shape, math_test_scores.shape)"
      ]
    },
    {
      "cell_type": "markdown",
      "metadata": {},
      "source": [
        "### Check distribution of training set"
      ]
    },
    {
      "cell_type": "code",
      "execution_count": 20,
      "metadata": {},
      "outputs": [
        {
          "data": {
            "image/png": "[encoded data removed]",
            "text/plain": [
              "<Figure size 640x480 with 1 Axes>"
            ]
          },
          "metadata": {},
          "output_type": "display_data"
        }
      ],
      "source": [
        "sns.set_style(\"whitegrid\")\n",
        "math_train_scores.value_counts().plot(kind='bar', title='Train Set Target Distribution')\n",
        "plt.show()"
      ]
    },
    {
      "cell_type": "markdown",
      "metadata": {},
      "source": [
        "### Balance Data\n",
        "This plot shows the data is very imbalanced, especially teh fail grades (0). Since I am primarily interested in lower performing students and there are many datarows and the majority is in the average category (3) I will use undersample to randomly remove values from the majority values. This will likely greatly reduce teh total rows, but should still be enough to train the model on and then test on the reserved test data."
      ]
    },
    {
      "cell_type": "code",
      "execution_count": 21,
      "metadata": {},
      "outputs": [
        {
          "name": "stdout",
          "output_type": "stream",
          "text": [
            "(2865, 5) (2865,)\n"
          ]
        }
      ],
      "source": [
        "undersample = RandomUnderSampler(random_state=0)\n",
        "math_train_features, math_train_scores = undersample.fit_resample(math_train_features, math_train_scores)\n",
        "print(math_train_features.shape, math_train_scores.shape)"
      ]
    },
    {
      "cell_type": "markdown",
      "metadata": {},
      "source": [
        "### Check balanced plot..."
      ]
    },
    {
      "cell_type": "code",
      "execution_count": 22,
      "metadata": {},
      "outputs": [
        {
          "data": {
            "image/png": "[encoded data removed]",
            "text/plain": [
              "<Figure size 640x480 with 1 Axes>"
            ]
          },
          "metadata": {},
          "output_type": "display_data"
        }
      ],
      "source": [
        "math_train_scores.value_counts().plot(kind='bar', title='Train Set Target Distribution (Balanced)')\n",
        "plt.show()"
      ]
    },
    {
      "cell_type": "markdown",
      "metadata": {},
      "source": [
        "### Analysis\n",
        "This plot shows the resulting Target distribution is now well balanced and as predicted greatly reduced in numbers (2865 rows vs 30000+)"
      ]
    },
    {
      "cell_type": "code",
      "execution_count": 23,
      "metadata": {},
      "outputs": [
        {
          "name": "stdout",
          "output_type": "stream",
          "text": [
            "\n",
            "Running GridSearchCV for XGBClassifier \n",
            "\n",
            "Fitting 5 folds for each of 1 candidates, totalling 5 fits\n",
            "\n",
            "Running GridSearchCV for DecisionTreeClassifier \n",
            "\n",
            "Fitting 5 folds for each of 1 candidates, totalling 5 fits\n",
            "\n",
            "Running GridSearchCV for RandomForestClassifier \n",
            "\n",
            "Fitting 5 folds for each of 1 candidates, totalling 5 fits\n",
            "\n",
            "Running GridSearchCV for GradientBoostingClassifier \n",
            "\n",
            "Fitting 5 folds for each of 1 candidates, totalling 5 fits\n",
            "\n",
            "Running GridSearchCV for ExtraTreesClassifier \n",
            "\n",
            "Fitting 5 folds for each of 1 candidates, totalling 5 fits\n",
            "\n",
            "Running GridSearchCV for AdaBoostClassifier \n",
            "\n",
            "Fitting 5 folds for each of 1 candidates, totalling 5 fits\n"
          ]
        }
      ],
      "source": [
        "model_search = HyperparameterOptimizationSearch(models=models_algorithm_list, parameters=parameters_list)\n",
        "model_search.fit(math_train_features, math_train_scores, scoring=make_scorer(recall_score, labels=[0], average=None), n_jobs=-1, cv=5)\n"
      ]
    },
    {
      "cell_type": "code",
      "execution_count": 24,
      "metadata": {},
      "outputs": [
        {
          "data": {
            "text/html": [
              "<div>\n",
              "<style scoped>\n",
              "    .dataframe tbody tr th:only-of-type {\n",
              "        vertical-align: middle;\n",
              "    }\n",
              "\n",
              "    .dataframe tbody tr th {\n",
              "        vertical-align: top;\n",
              "    }\n",
              "\n",
              "    .dataframe thead th {\n",
              "        text-align: right;\n",
              "    }\n",
              "</style>\n",
              "<table border=\"1\" class=\"dataframe\">\n",
              "  <thead>\n",
              "    <tr style=\"text-align: right;\">\n",
              "      <th></th>\n",
              "      <th>estimator</th>\n",
              "      <th>minimum_score</th>\n",
              "      <th>mean_score</th>\n",
              "      <th>maximum_score</th>\n",
              "      <th>standard_deviation_score</th>\n",
              "    </tr>\n",
              "  </thead>\n",
              "  <tbody>\n",
              "    <tr>\n",
              "      <th>0</th>\n",
              "      <td>XGBClassifier</td>\n",
              "      <td>0.669565</td>\n",
              "      <td>0.771533</td>\n",
              "      <td>0.824561</td>\n",
              "      <td>0.054031</td>\n",
              "    </tr>\n",
              "    <tr>\n",
              "      <th>3</th>\n",
              "      <td>GradientBoostingClassifier</td>\n",
              "      <td>0.469565</td>\n",
              "      <td>0.680885</td>\n",
              "      <td>0.789474</td>\n",
              "      <td>0.116105</td>\n",
              "    </tr>\n",
              "    <tr>\n",
              "      <th>1</th>\n",
              "      <td>DecisionTreeClassifier</td>\n",
              "      <td>0.452174</td>\n",
              "      <td>0.612921</td>\n",
              "      <td>0.745614</td>\n",
              "      <td>0.103194</td>\n",
              "    </tr>\n",
              "    <tr>\n",
              "      <th>4</th>\n",
              "      <td>ExtraTreesClassifier</td>\n",
              "      <td>0.452174</td>\n",
              "      <td>0.612921</td>\n",
              "      <td>0.745614</td>\n",
              "      <td>0.103194</td>\n",
              "    </tr>\n",
              "    <tr>\n",
              "      <th>2</th>\n",
              "      <td>RandomForestClassifier</td>\n",
              "      <td>0.452174</td>\n",
              "      <td>0.598932</td>\n",
              "      <td>0.745614</td>\n",
              "      <td>0.101993</td>\n",
              "    </tr>\n",
              "    <tr>\n",
              "      <th>5</th>\n",
              "      <td>AdaBoostClassifier</td>\n",
              "      <td>0.469565</td>\n",
              "      <td>0.562105</td>\n",
              "      <td>0.622807</td>\n",
              "      <td>0.06061</td>\n",
              "    </tr>\n",
              "  </tbody>\n",
              "</table>\n",
              "</div>"
            ],
            "text/plain": [
              "                    estimator minimum_score mean_score maximum_score  \\\n",
              "0               XGBClassifier      0.669565   0.771533      0.824561   \n",
              "3  GradientBoostingClassifier      0.469565   0.680885      0.789474   \n",
              "1      DecisionTreeClassifier      0.452174   0.612921      0.745614   \n",
              "4        ExtraTreesClassifier      0.452174   0.612921      0.745614   \n",
              "2      RandomForestClassifier      0.452174   0.598932      0.745614   \n",
              "5          AdaBoostClassifier      0.469565   0.562105      0.622807   \n",
              "\n",
              "  standard_deviation_score  \n",
              "0                 0.054031  \n",
              "3                 0.116105  \n",
              "1                 0.103194  \n",
              "4                 0.103194  \n",
              "2                 0.101993  \n",
              "5                  0.06061  "
            ]
          },
          "execution_count": 24,
          "metadata": {},
          "output_type": "execute_result"
        }
      ],
      "source": [
        "model_grid_search_summary, model_grid_search_pipelines = model_search.score_summary(sort_by='mean_score')\n",
        "model_grid_search_summary"
      ]
    },
    {
      "cell_type": "markdown",
      "metadata": {},
      "source": [
        "### Analysis\n",
        "The algorithm search shows the best Classifier is the XGBClassifier with a mean score of 0.7715. This is above the desired value of 0.6 si I will proceed with it. GradientBoost is significantly lower at 0.577, so I dont expect it to improve to a better position, even with some optimized hyperparameters. The next step will therfore use the 2 best Classifiers and generate results for different hyperparameter combinations to see if the value can be improved."
      ]
    },
    {
      "cell_type": "markdown",
      "metadata": {},
      "source": [
        "### Define Hyperparameter list for 2 best models and apply to evaluate the best options"
      ]
    },
    {
      "cell_type": "code",
      "execution_count": 25,
      "metadata": {},
      "outputs": [],
      "source": [
        "best_models = {\n",
        "    \"XGBClassifier\": XGBClassifier(random_state=0),\n",
        "    \"GradientBoostingClassifier\": GradientBoostingClassifier(random_state=0),\n",
        "    # \"AdaBoostClassifier\": AdaBoostClassifier(random_state=0),\n",
        "}\n",
        " \n",
        "test_parameters = {\n",
        "    \"XGBClassifier\":{'model__n_estimators': [30,80,200],\n",
        "                      'model__max_depth': [None, 3, 15],\n",
        "                      'model__learning_rate': [0.01,0.1,0.001],\n",
        "                      'model__gamma': [0, 0.1],\n",
        "                            },\n",
        "\n",
        "    \"GradientBoostingClassifier\":{'model__n_estimators': [100,50,140],\n",
        "                                  'model__learning_rate':[0.1, 0.01, 0.001],\n",
        "                                  'model__max_depth': [3,15, None],\n",
        "                                  'model__min_samples_split': [2,50],\n",
        "                                  'model__min_samples_leaf': [1,50],\n",
        "                                  'model__max_leaf_nodes': [None,50],\n",
        "                            },\n",
        "\n",
        "    # \"AdaBoostClassifier\":{'model__n_estimators': [50,25,80,150],\n",
        "    #                       'model__learning_rate':[1,0.1, 2],\n",
        "    #                         }\n",
        "  }"
      ]
    },
    {
      "cell_type": "code",
      "execution_count": 26,
      "metadata": {},
      "outputs": [
        {
          "name": "stdout",
          "output_type": "stream",
          "text": [
            "\n",
            "Running GridSearchCV for XGBClassifier \n",
            "\n",
            "Fitting 5 folds for each of 54 candidates, totalling 270 fits\n",
            "\n",
            "Running GridSearchCV for GradientBoostingClassifier \n",
            "\n",
            "Fitting 5 folds for each of 216 candidates, totalling 1080 fits\n"
          ]
        }
      ],
      "source": [
        "parameters_search = HyperparameterOptimizationSearch(models=best_models, parameters=test_parameters)\n",
        "parameters_search.fit(math_train_features, math_train_scores, scoring=make_scorer(recall_score, labels=[0], average=None), n_jobs=-1, cv=5)"
      ]
    },
    {
      "cell_type": "code",
      "execution_count": 27,
      "metadata": {},
      "outputs": [
        {
          "data": {
            "text/html": [
              "<div>\n",
              "<style scoped>\n",
              "    .dataframe tbody tr th:only-of-type {\n",
              "        vertical-align: middle;\n",
              "    }\n",
              "\n",
              "    .dataframe tbody tr th {\n",
              "        vertical-align: top;\n",
              "    }\n",
              "\n",
              "    .dataframe thead th {\n",
              "        text-align: right;\n",
              "    }\n",
              "</style>\n",
              "<table border=\"1\" class=\"dataframe\">\n",
              "  <thead>\n",
              "    <tr style=\"text-align: right;\">\n",
              "      <th></th>\n",
              "      <th>estimator</th>\n",
              "      <th>minimum_score</th>\n",
              "      <th>mean_score</th>\n",
              "      <th>maximum_score</th>\n",
              "      <th>standard_deviation_score</th>\n",
              "      <th>model__gamma</th>\n",
              "      <th>model__learning_rate</th>\n",
              "      <th>model__max_depth</th>\n",
              "      <th>model__n_estimators</th>\n",
              "      <th>model__max_leaf_nodes</th>\n",
              "      <th>model__min_samples_leaf</th>\n",
              "      <th>model__min_samples_split</th>\n",
              "    </tr>\n",
              "  </thead>\n",
              "  <tbody>\n",
              "    <tr>\n",
              "      <th>0</th>\n",
              "      <td>XGBClassifier</td>\n",
              "      <td>0.669565</td>\n",
              "      <td>0.771533</td>\n",
              "      <td>0.824561</td>\n",
              "      <td>0.054031</td>\n",
              "      <td>0</td>\n",
              "      <td>0.01</td>\n",
              "      <td>None</td>\n",
              "      <td>30</td>\n",
              "      <td>NaN</td>\n",
              "      <td>NaN</td>\n",
              "      <td>NaN</td>\n",
              "    </tr>\n",
              "    <tr>\n",
              "      <th>42</th>\n",
              "      <td>XGBClassifier</td>\n",
              "      <td>0.669565</td>\n",
              "      <td>0.771533</td>\n",
              "      <td>0.824561</td>\n",
              "      <td>0.054031</td>\n",
              "      <td>0.1</td>\n",
              "      <td>0.1</td>\n",
              "      <td>15</td>\n",
              "      <td>30</td>\n",
              "      <td>NaN</td>\n",
              "      <td>NaN</td>\n",
              "      <td>NaN</td>\n",
              "    </tr>\n",
              "    <tr>\n",
              "      <th>30</th>\n",
              "      <td>XGBClassifier</td>\n",
              "      <td>0.669565</td>\n",
              "      <td>0.771533</td>\n",
              "      <td>0.824561</td>\n",
              "      <td>0.054031</td>\n",
              "      <td>0.1</td>\n",
              "      <td>0.01</td>\n",
              "      <td>3</td>\n",
              "      <td>30</td>\n",
              "      <td>NaN</td>\n",
              "      <td>NaN</td>\n",
              "      <td>NaN</td>\n",
              "    </tr>\n",
              "    <tr>\n",
              "      <th>31</th>\n",
              "      <td>XGBClassifier</td>\n",
              "      <td>0.669565</td>\n",
              "      <td>0.771533</td>\n",
              "      <td>0.824561</td>\n",
              "      <td>0.054031</td>\n",
              "      <td>0.1</td>\n",
              "      <td>0.01</td>\n",
              "      <td>3</td>\n",
              "      <td>80</td>\n",
              "      <td>NaN</td>\n",
              "      <td>NaN</td>\n",
              "      <td>NaN</td>\n",
              "    </tr>\n",
              "    <tr>\n",
              "      <th>32</th>\n",
              "      <td>XGBClassifier</td>\n",
              "      <td>0.669565</td>\n",
              "      <td>0.771533</td>\n",
              "      <td>0.824561</td>\n",
              "      <td>0.054031</td>\n",
              "      <td>0.1</td>\n",
              "      <td>0.01</td>\n",
              "      <td>3</td>\n",
              "      <td>200</td>\n",
              "      <td>NaN</td>\n",
              "      <td>NaN</td>\n",
              "      <td>NaN</td>\n",
              "    </tr>\n",
              "    <tr>\n",
              "      <th>...</th>\n",
              "      <td>...</td>\n",
              "      <td>...</td>\n",
              "      <td>...</td>\n",
              "      <td>...</td>\n",
              "      <td>...</td>\n",
              "      <td>...</td>\n",
              "      <td>...</td>\n",
              "      <td>...</td>\n",
              "      <td>...</td>\n",
              "      <td>...</td>\n",
              "      <td>...</td>\n",
              "      <td>...</td>\n",
              "    </tr>\n",
              "    <tr>\n",
              "      <th>59</th>\n",
              "      <td>GradientBoostingClassifier</td>\n",
              "      <td>0.469565</td>\n",
              "      <td>0.680885</td>\n",
              "      <td>0.789474</td>\n",
              "      <td>0.116105</td>\n",
              "      <td>NaN</td>\n",
              "      <td>0.1</td>\n",
              "      <td>3</td>\n",
              "      <td>140</td>\n",
              "      <td>None</td>\n",
              "      <td>1</td>\n",
              "      <td>50</td>\n",
              "    </tr>\n",
              "    <tr>\n",
              "      <th>58</th>\n",
              "      <td>GradientBoostingClassifier</td>\n",
              "      <td>0.469565</td>\n",
              "      <td>0.680885</td>\n",
              "      <td>0.789474</td>\n",
              "      <td>0.116105</td>\n",
              "      <td>NaN</td>\n",
              "      <td>0.1</td>\n",
              "      <td>3</td>\n",
              "      <td>50</td>\n",
              "      <td>None</td>\n",
              "      <td>1</td>\n",
              "      <td>50</td>\n",
              "    </tr>\n",
              "    <tr>\n",
              "      <th>57</th>\n",
              "      <td>GradientBoostingClassifier</td>\n",
              "      <td>0.469565</td>\n",
              "      <td>0.680885</td>\n",
              "      <td>0.789474</td>\n",
              "      <td>0.116105</td>\n",
              "      <td>NaN</td>\n",
              "      <td>0.1</td>\n",
              "      <td>3</td>\n",
              "      <td>100</td>\n",
              "      <td>None</td>\n",
              "      <td>1</td>\n",
              "      <td>50</td>\n",
              "    </tr>\n",
              "    <tr>\n",
              "      <th>56</th>\n",
              "      <td>GradientBoostingClassifier</td>\n",
              "      <td>0.469565</td>\n",
              "      <td>0.680885</td>\n",
              "      <td>0.789474</td>\n",
              "      <td>0.116105</td>\n",
              "      <td>NaN</td>\n",
              "      <td>0.1</td>\n",
              "      <td>3</td>\n",
              "      <td>140</td>\n",
              "      <td>None</td>\n",
              "      <td>1</td>\n",
              "      <td>2</td>\n",
              "    </tr>\n",
              "    <tr>\n",
              "      <th>269</th>\n",
              "      <td>GradientBoostingClassifier</td>\n",
              "      <td>0.469565</td>\n",
              "      <td>0.680885</td>\n",
              "      <td>0.789474</td>\n",
              "      <td>0.116105</td>\n",
              "      <td>NaN</td>\n",
              "      <td>0.001</td>\n",
              "      <td>None</td>\n",
              "      <td>140</td>\n",
              "      <td>50</td>\n",
              "      <td>50</td>\n",
              "      <td>50</td>\n",
              "    </tr>\n",
              "  </tbody>\n",
              "</table>\n",
              "<p>270 rows × 12 columns</p>\n",
              "</div>"
            ],
            "text/plain": [
              "                      estimator minimum_score mean_score maximum_score  \\\n",
              "0                 XGBClassifier      0.669565   0.771533      0.824561   \n",
              "42                XGBClassifier      0.669565   0.771533      0.824561   \n",
              "30                XGBClassifier      0.669565   0.771533      0.824561   \n",
              "31                XGBClassifier      0.669565   0.771533      0.824561   \n",
              "32                XGBClassifier      0.669565   0.771533      0.824561   \n",
              "..                          ...           ...        ...           ...   \n",
              "59   GradientBoostingClassifier      0.469565   0.680885      0.789474   \n",
              "58   GradientBoostingClassifier      0.469565   0.680885      0.789474   \n",
              "57   GradientBoostingClassifier      0.469565   0.680885      0.789474   \n",
              "56   GradientBoostingClassifier      0.469565   0.680885      0.789474   \n",
              "269  GradientBoostingClassifier      0.469565   0.680885      0.789474   \n",
              "\n",
              "    standard_deviation_score model__gamma model__learning_rate  \\\n",
              "0                   0.054031            0                 0.01   \n",
              "42                  0.054031          0.1                  0.1   \n",
              "30                  0.054031          0.1                 0.01   \n",
              "31                  0.054031          0.1                 0.01   \n",
              "32                  0.054031          0.1                 0.01   \n",
              "..                       ...          ...                  ...   \n",
              "59                  0.116105          NaN                  0.1   \n",
              "58                  0.116105          NaN                  0.1   \n",
              "57                  0.116105          NaN                  0.1   \n",
              "56                  0.116105          NaN                  0.1   \n",
              "269                 0.116105          NaN                0.001   \n",
              "\n",
              "    model__max_depth model__n_estimators model__max_leaf_nodes  \\\n",
              "0               None                  30                   NaN   \n",
              "42                15                  30                   NaN   \n",
              "30                 3                  30                   NaN   \n",
              "31                 3                  80                   NaN   \n",
              "32                 3                 200                   NaN   \n",
              "..               ...                 ...                   ...   \n",
              "59                 3                 140                  None   \n",
              "58                 3                  50                  None   \n",
              "57                 3                 100                  None   \n",
              "56                 3                 140                  None   \n",
              "269             None                 140                    50   \n",
              "\n",
              "    model__min_samples_leaf model__min_samples_split  \n",
              "0                       NaN                      NaN  \n",
              "42                      NaN                      NaN  \n",
              "30                      NaN                      NaN  \n",
              "31                      NaN                      NaN  \n",
              "32                      NaN                      NaN  \n",
              "..                      ...                      ...  \n",
              "59                        1                       50  \n",
              "58                        1                       50  \n",
              "57                        1                       50  \n",
              "56                        1                        2  \n",
              "269                      50                       50  \n",
              "\n",
              "[270 rows x 12 columns]"
            ]
          },
          "execution_count": 27,
          "metadata": {},
          "output_type": "execute_result"
        }
      ],
      "source": [
        "parameters_grid_search_summary, parameters_grid_search_pipelines = parameters_search.score_summary(sort_by='mean_score')\n",
        "parameters_grid_search_summary"
      ]
    },
    {
      "cell_type": "markdown",
      "metadata": {},
      "source": [
        "### Analysis\n",
        "Unfortunately trying different hyperparameters had no effect, so teh default values will be passed to the final pipeline."
      ]
    },
    {
      "cell_type": "code",
      "execution_count": 28,
      "metadata": {},
      "outputs": [
        {
          "data": {
            "text/plain": [
              "'XGBClassifier'"
            ]
          },
          "execution_count": 28,
          "metadata": {},
          "output_type": "execute_result"
        }
      ],
      "source": [
        "maths_best_model = parameters_grid_search_summary.iloc[0,0]\n",
        "maths_best_model"
      ]
    },
    {
      "cell_type": "code",
      "execution_count": 29,
      "metadata": {},
      "outputs": [
        {
          "data": {
            "text/plain": [
              "{'model__gamma': 0,\n",
              " 'model__learning_rate': 0.01,\n",
              " 'model__max_depth': None,\n",
              " 'model__n_estimators': 30}"
            ]
          },
          "execution_count": 29,
          "metadata": {},
          "output_type": "execute_result"
        }
      ],
      "source": [
        "maths_best_parameters = parameters_grid_search_pipelines[maths_best_model].best_params_\n",
        "maths_best_parameters"
      ]
    },
    {
      "cell_type": "code",
      "execution_count": 30,
      "metadata": {},
      "outputs": [
        {
          "data": {
            "text/html": [
              "<style>#sk-container-id-1 {color: black;}#sk-container-id-1 pre{padding: 0;}#sk-container-id-1 div.sk-toggleable {background-color: white;}#sk-container-id-1 label.sk-toggleable__label {cursor: pointer;display: block;width: 100%;margin-bottom: 0;padding: 0.3em;box-sizing: border-box;text-align: center;}#sk-container-id-1 label.sk-toggleable__label-arrow:before {content: \"▸\";float: left;margin-right: 0.25em;color: #696969;}#sk-container-id-1 label.sk-toggleable__label-arrow:hover:before {color: black;}#sk-container-id-1 div.sk-estimator:hover label.sk-toggleable__label-arrow:before {color: black;}#sk-container-id-1 div.sk-toggleable__content {max-height: 0;max-width: 0;overflow: hidden;text-align: left;background-color: #f0f8ff;}#sk-container-id-1 div.sk-toggleable__content pre {margin: 0.2em;color: black;border-radius: 0.25em;background-color: #f0f8ff;}#sk-container-id-1 input.sk-toggleable__control:checked~div.sk-toggleable__content {max-height: 200px;max-width: 100%;overflow: auto;}#sk-container-id-1 input.sk-toggleable__control:checked~label.sk-toggleable__label-arrow:before {content: \"▾\";}#sk-container-id-1 div.sk-estimator input.sk-toggleable__control:checked~label.sk-toggleable__label {background-color: #d4ebff;}#sk-container-id-1 div.sk-label input.sk-toggleable__control:checked~label.sk-toggleable__label {background-color: #d4ebff;}#sk-container-id-1 input.sk-hidden--visually {border: 0;clip: rect(1px 1px 1px 1px);clip: rect(1px, 1px, 1px, 1px);height: 1px;margin: -1px;overflow: hidden;padding: 0;position: absolute;width: 1px;}#sk-container-id-1 div.sk-estimator {font-family: monospace;background-color: #f0f8ff;border: 1px dotted black;border-radius: 0.25em;box-sizing: border-box;margin-bottom: 0.5em;}#sk-container-id-1 div.sk-estimator:hover {background-color: #d4ebff;}#sk-container-id-1 div.sk-parallel-item::after {content: \"\";width: 100%;border-bottom: 1px solid gray;flex-grow: 1;}#sk-container-id-1 div.sk-label:hover label.sk-toggleable__label {background-color: #d4ebff;}#sk-container-id-1 div.sk-serial::before {content: \"\";position: absolute;border-left: 1px solid gray;box-sizing: border-box;top: 0;bottom: 0;left: 50%;z-index: 0;}#sk-container-id-1 div.sk-serial {display: flex;flex-direction: column;align-items: center;background-color: white;padding-right: 0.2em;padding-left: 0.2em;position: relative;}#sk-container-id-1 div.sk-item {position: relative;z-index: 1;}#sk-container-id-1 div.sk-parallel {display: flex;align-items: stretch;justify-content: center;background-color: white;position: relative;}#sk-container-id-1 div.sk-item::before, #sk-container-id-1 div.sk-parallel-item::before {content: \"\";position: absolute;border-left: 1px solid gray;box-sizing: border-box;top: 0;bottom: 0;left: 50%;z-index: -1;}#sk-container-id-1 div.sk-parallel-item {display: flex;flex-direction: column;z-index: 1;position: relative;background-color: white;}#sk-container-id-1 div.sk-parallel-item:first-child::after {align-self: flex-end;width: 50%;}#sk-container-id-1 div.sk-parallel-item:last-child::after {align-self: flex-start;width: 50%;}#sk-container-id-1 div.sk-parallel-item:only-child::after {width: 0;}#sk-container-id-1 div.sk-dashed-wrapped {border: 1px dashed gray;margin: 0 0.4em 0.5em 0.4em;box-sizing: border-box;padding-bottom: 0.4em;background-color: white;}#sk-container-id-1 div.sk-label label {font-family: monospace;font-weight: bold;display: inline-block;line-height: 1.2em;}#sk-container-id-1 div.sk-label-container {text-align: center;}#sk-container-id-1 div.sk-container {/* jupyter's `normalize.less` sets `[hidden] { display: none; }` but bootstrap.min.css set `[hidden] { display: none !important; }` so we also need the `!important` here to be able to override the default hidden behavior on the sphinx rendered scikit-learn.org. See: https://github.com/scikit-learn/scikit-learn/issues/21755 */display: inline-block !important;position: relative;}#sk-container-id-1 div.sk-text-repr-fallback {display: none;}</style><div id=\"sk-container-id-1\" class=\"sk-top-container\"><div class=\"sk-text-repr-fallback\"><pre>Pipeline(steps=[(&#x27;OrdinalCategoricalEncoder&#x27;,\n",
              "                 OrdinalEncoder(encoding_method=&#x27;arbitrary&#x27;,\n",
              "                                variables=[&#x27;Gender&#x27;, &#x27;EthnicGroup&#x27;,\n",
              "                                           &#x27;ParentEduc&#x27;, &#x27;LunchType&#x27;,\n",
              "                                           &#x27;TestPrep&#x27;])),\n",
              "                (&#x27;feature_selection&#x27;,\n",
              "                 SelectFromModel(estimator=XGBClassifier(base_score=None,\n",
              "                                                         booster=None,\n",
              "                                                         callbacks=None,\n",
              "                                                         colsample_bylevel=None,\n",
              "                                                         colsample_bynode=None,\n",
              "                                                         colsample_bytree=None,\n",
              "                                                         device=None,\n",
              "                                                         early...\n",
              "                               feature_types=None, gamma=0, grow_policy=None,\n",
              "                               importance_type=None,\n",
              "                               interaction_constraints=None, learning_rate=0.01,\n",
              "                               max_bin=None, max_cat_threshold=None,\n",
              "                               max_cat_to_onehot=None, max_delta_step=None,\n",
              "                               max_depth=None, max_leaves=None,\n",
              "                               min_child_weight=None, missing=nan,\n",
              "                               monotone_constraints=None, multi_strategy=None,\n",
              "                               n_estimators=30, n_jobs=None,\n",
              "                               num_parallel_tree=None,\n",
              "                               objective=&#x27;multi:softprob&#x27;, ...))])</pre><b>In a Jupyter environment, please rerun this cell to show the HTML representation or trust the notebook. <br />On GitHub, the HTML representation is unable to render, please try loading this page with nbviewer.org.</b></div><div class=\"sk-container\" hidden><div class=\"sk-item sk-dashed-wrapped\"><div class=\"sk-label-container\"><div class=\"sk-label sk-toggleable\"><input class=\"sk-toggleable__control sk-hidden--visually\" id=\"sk-estimator-id-1\" type=\"checkbox\" ><label for=\"sk-estimator-id-1\" class=\"sk-toggleable__label sk-toggleable__label-arrow\">Pipeline</label><div class=\"sk-toggleable__content\"><pre>Pipeline(steps=[(&#x27;OrdinalCategoricalEncoder&#x27;,\n",
              "                 OrdinalEncoder(encoding_method=&#x27;arbitrary&#x27;,\n",
              "                                variables=[&#x27;Gender&#x27;, &#x27;EthnicGroup&#x27;,\n",
              "                                           &#x27;ParentEduc&#x27;, &#x27;LunchType&#x27;,\n",
              "                                           &#x27;TestPrep&#x27;])),\n",
              "                (&#x27;feature_selection&#x27;,\n",
              "                 SelectFromModel(estimator=XGBClassifier(base_score=None,\n",
              "                                                         booster=None,\n",
              "                                                         callbacks=None,\n",
              "                                                         colsample_bylevel=None,\n",
              "                                                         colsample_bynode=None,\n",
              "                                                         colsample_bytree=None,\n",
              "                                                         device=None,\n",
              "                                                         early...\n",
              "                               feature_types=None, gamma=0, grow_policy=None,\n",
              "                               importance_type=None,\n",
              "                               interaction_constraints=None, learning_rate=0.01,\n",
              "                               max_bin=None, max_cat_threshold=None,\n",
              "                               max_cat_to_onehot=None, max_delta_step=None,\n",
              "                               max_depth=None, max_leaves=None,\n",
              "                               min_child_weight=None, missing=nan,\n",
              "                               monotone_constraints=None, multi_strategy=None,\n",
              "                               n_estimators=30, n_jobs=None,\n",
              "                               num_parallel_tree=None,\n",
              "                               objective=&#x27;multi:softprob&#x27;, ...))])</pre></div></div></div><div class=\"sk-serial\"><div class=\"sk-item\"><div class=\"sk-estimator sk-toggleable\"><input class=\"sk-toggleable__control sk-hidden--visually\" id=\"sk-estimator-id-2\" type=\"checkbox\" ><label for=\"sk-estimator-id-2\" class=\"sk-toggleable__label sk-toggleable__label-arrow\">OrdinalEncoder</label><div class=\"sk-toggleable__content\"><pre>OrdinalEncoder(encoding_method=&#x27;arbitrary&#x27;,\n",
              "               variables=[&#x27;Gender&#x27;, &#x27;EthnicGroup&#x27;, &#x27;ParentEduc&#x27;, &#x27;LunchType&#x27;,\n",
              "                          &#x27;TestPrep&#x27;])</pre></div></div></div><div class=\"sk-item sk-dashed-wrapped\"><div class=\"sk-label-container\"><div class=\"sk-label sk-toggleable\"><input class=\"sk-toggleable__control sk-hidden--visually\" id=\"sk-estimator-id-3\" type=\"checkbox\" ><label for=\"sk-estimator-id-3\" class=\"sk-toggleable__label sk-toggleable__label-arrow\">feature_selection: SelectFromModel</label><div class=\"sk-toggleable__content\"><pre>SelectFromModel(estimator=XGBClassifier(base_score=None, booster=None,\n",
              "                                        callbacks=None, colsample_bylevel=None,\n",
              "                                        colsample_bynode=None,\n",
              "                                        colsample_bytree=None, device=None,\n",
              "                                        early_stopping_rounds=None,\n",
              "                                        enable_categorical=False,\n",
              "                                        eval_metric=None, feature_types=None,\n",
              "                                        gamma=None, grow_policy=None,\n",
              "                                        importance_type=None,\n",
              "                                        interaction_constraints=None,\n",
              "                                        learning_rate=None, max_bin=None,\n",
              "                                        max_cat_threshold=None,\n",
              "                                        max_cat_to_onehot=None,\n",
              "                                        max_delta_step=None, max_depth=None,\n",
              "                                        max_leaves=None, min_child_weight=None,\n",
              "                                        missing=nan, monotone_constraints=None,\n",
              "                                        multi_strategy=None, n_estimators=None,\n",
              "                                        n_jobs=None, num_parallel_tree=None,\n",
              "                                        random_state=0, ...))</pre></div></div></div><div class=\"sk-parallel\"><div class=\"sk-parallel-item\"><div class=\"sk-item\"><div class=\"sk-label-container\"><div class=\"sk-label sk-toggleable\"><input class=\"sk-toggleable__control sk-hidden--visually\" id=\"sk-estimator-id-4\" type=\"checkbox\" ><label for=\"sk-estimator-id-4\" class=\"sk-toggleable__label sk-toggleable__label-arrow\">estimator: XGBClassifier</label><div class=\"sk-toggleable__content\"><pre>XGBClassifier(base_score=None, booster=None, callbacks=None,\n",
              "              colsample_bylevel=None, colsample_bynode=None,\n",
              "              colsample_bytree=None, device=None, early_stopping_rounds=None,\n",
              "              enable_categorical=False, eval_metric=None, feature_types=None,\n",
              "              gamma=None, grow_policy=None, importance_type=None,\n",
              "              interaction_constraints=None, learning_rate=None, max_bin=None,\n",
              "              max_cat_threshold=None, max_cat_to_onehot=None,\n",
              "              max_delta_step=None, max_depth=None, max_leaves=None,\n",
              "              min_child_weight=None, missing=nan, monotone_constraints=None,\n",
              "              multi_strategy=None, n_estimators=None, n_jobs=None,\n",
              "              num_parallel_tree=None, random_state=0, ...)</pre></div></div></div><div class=\"sk-serial\"><div class=\"sk-item\"><div class=\"sk-estimator sk-toggleable\"><input class=\"sk-toggleable__control sk-hidden--visually\" id=\"sk-estimator-id-5\" type=\"checkbox\" ><label for=\"sk-estimator-id-5\" class=\"sk-toggleable__label sk-toggleable__label-arrow\">XGBClassifier</label><div class=\"sk-toggleable__content\"><pre>XGBClassifier(base_score=None, booster=None, callbacks=None,\n",
              "              colsample_bylevel=None, colsample_bynode=None,\n",
              "              colsample_bytree=None, device=None, early_stopping_rounds=None,\n",
              "              enable_categorical=False, eval_metric=None, feature_types=None,\n",
              "              gamma=None, grow_policy=None, importance_type=None,\n",
              "              interaction_constraints=None, learning_rate=None, max_bin=None,\n",
              "              max_cat_threshold=None, max_cat_to_onehot=None,\n",
              "              max_delta_step=None, max_depth=None, max_leaves=None,\n",
              "              min_child_weight=None, missing=nan, monotone_constraints=None,\n",
              "              multi_strategy=None, n_estimators=None, n_jobs=None,\n",
              "              num_parallel_tree=None, random_state=0, ...)</pre></div></div></div></div></div></div></div></div><div class=\"sk-item\"><div class=\"sk-estimator sk-toggleable\"><input class=\"sk-toggleable__control sk-hidden--visually\" id=\"sk-estimator-id-6\" type=\"checkbox\" ><label for=\"sk-estimator-id-6\" class=\"sk-toggleable__label sk-toggleable__label-arrow\">XGBClassifier</label><div class=\"sk-toggleable__content\"><pre>XGBClassifier(base_score=None, booster=None, callbacks=None,\n",
              "              colsample_bylevel=None, colsample_bynode=None,\n",
              "              colsample_bytree=None, device=None, early_stopping_rounds=None,\n",
              "              enable_categorical=False, eval_metric=None, feature_types=None,\n",
              "              gamma=0, grow_policy=None, importance_type=None,\n",
              "              interaction_constraints=None, learning_rate=0.01, max_bin=None,\n",
              "              max_cat_threshold=None, max_cat_to_onehot=None,\n",
              "              max_delta_step=None, max_depth=None, max_leaves=None,\n",
              "              min_child_weight=None, missing=nan, monotone_constraints=None,\n",
              "              multi_strategy=None, n_estimators=30, n_jobs=None,\n",
              "              num_parallel_tree=None, objective=&#x27;multi:softprob&#x27;, ...)</pre></div></div></div></div></div></div></div>"
            ],
            "text/plain": [
              "Pipeline(steps=[('OrdinalCategoricalEncoder',\n",
              "                 OrdinalEncoder(encoding_method='arbitrary',\n",
              "                                variables=['Gender', 'EthnicGroup',\n",
              "                                           'ParentEduc', 'LunchType',\n",
              "                                           'TestPrep'])),\n",
              "                ('feature_selection',\n",
              "                 SelectFromModel(estimator=XGBClassifier(base_score=None,\n",
              "                                                         booster=None,\n",
              "                                                         callbacks=None,\n",
              "                                                         colsample_bylevel=None,\n",
              "                                                         colsample_bynode=None,\n",
              "                                                         colsample_bytree=None,\n",
              "                                                         device=None,\n",
              "                                                         early...\n",
              "                               feature_types=None, gamma=0, grow_policy=None,\n",
              "                               importance_type=None,\n",
              "                               interaction_constraints=None, learning_rate=0.01,\n",
              "                               max_bin=None, max_cat_threshold=None,\n",
              "                               max_cat_to_onehot=None, max_delta_step=None,\n",
              "                               max_depth=None, max_leaves=None,\n",
              "                               min_child_weight=None, missing=nan,\n",
              "                               monotone_constraints=None, multi_strategy=None,\n",
              "                               n_estimators=30, n_jobs=None,\n",
              "                               num_parallel_tree=None,\n",
              "                               objective='multi:softprob', ...))])"
            ]
          },
          "execution_count": 30,
          "metadata": {},
          "output_type": "execute_result"
        }
      ],
      "source": [
        "pipeline_classifier = parameters_grid_search_pipelines[maths_best_model].best_estimator_\n",
        "pipeline_classifier"
      ]
    },
    {
      "cell_type": "code",
      "execution_count": 31,
      "metadata": {},
      "outputs": [
        {
          "name": "stdout",
          "output_type": "stream",
          "text": [
            "* These are the 1 most important features in descending order. The model was trained on them: \n",
            "['LunchType']\n"
          ]
        },
        {
          "data": {
            "image/png": "[encoded data removed]",
            "text/plain": [
              "<Figure size 640x480 with 1 Axes>"
            ]
          },
          "metadata": {},
          "output_type": "display_data"
        }
      ],
      "source": [
        "data_cleaning_feat_eng_steps = 1\n",
        "columns_after_data_cleaning_feat_eng = (Pipeline(pipeline_classifier.steps[:data_cleaning_feat_eng_steps])\n",
        "                                        .transform(math_train_features)\n",
        "                                        .columns)\n",
        "\n",
        "best_features = columns_after_data_cleaning_feat_eng[pipeline_classifier['feature_selection'].get_support()].to_list()\n",
        "\n",
        "# create DataFrame to display feature importance\n",
        "df_feature_importance = (pd.DataFrame(data={\n",
        "          'Feature': columns_after_data_cleaning_feat_eng[pipeline_classifier['feature_selection'].get_support()],\n",
        "          'Importance': pipeline_classifier['model'].feature_importances_})\n",
        "  .sort_values(by='Importance', ascending=False)\n",
        "  )\n",
        "\n",
        "maths_best_features = df_feature_importance['Feature'].to_list() # reassign best features in order\n",
        "\n",
        "# Most important features statement and plot\n",
        "print(f\"* These are the {len(best_features)} most important features in descending order. \"\n",
        "      f\"The model was trained on them: \\n{best_features}\")\n",
        "\n",
        "df_feature_importance.plot(kind='bar',x='Feature',y='Importance')\n",
        "plt.show()"
      ]
    },
    {
      "cell_type": "markdown",
      "metadata": {},
      "source": [
        "### Analysis\n",
        "The hyperparameter optimiztion and pipeline test has narrowed down the feature importance to a single one, albeit the one teh EDA also showed to be of significance. However, using it as the sole feature might not be a good way forward. Below I will assess the predictive power against the test set of data split earlier on."
      ]
    },
    {
      "cell_type": "code",
      "execution_count": 32,
      "metadata": {},
      "outputs": [],
      "source": [
        "label_map = ['Fail', 'Below Average','Average','Above Average','Exceptional']"
      ]
    },
    {
      "cell_type": "code",
      "execution_count": 33,
      "metadata": {},
      "outputs": [
        {
          "name": "stdout",
          "output_type": "stream",
          "text": [
            "#### Train Set #### \n",
            "\n",
            "---  Confusion Matrix  ---\n",
            "                         Actual Fail Actual Below Average Actual Average  \\\n",
            "Prediction Fail                  442                  339            235   \n",
            "Prediction Below Average           0                    0              0   \n",
            "Prediction Average                 0                    0              0   \n",
            "Prediction Above Average           0                    0              0   \n",
            "Prediction Exceptional           131                  234            338   \n",
            "\n",
            "                         Actual Above Average Actual Exceptional  \n",
            "Prediction Fail                           141                 64  \n",
            "Prediction Below Average                    0                  0  \n",
            "Prediction Average                          0                  0  \n",
            "Prediction Above Average                    0                  0  \n",
            "Prediction Exceptional                    432                509  \n",
            "\n",
            "\n",
            "---  Classification Report  ---\n",
            "               precision    recall  f1-score   support\n",
            "\n",
            "         Fail       0.36      0.77      0.49       573\n",
            "Below Average       0.00      0.00      0.00       573\n",
            "      Average       0.00      0.00      0.00       573\n",
            "Above Average       0.00      0.00      0.00       573\n",
            "  Exceptional       0.31      0.89      0.46       573\n",
            "\n",
            "     accuracy                           0.33      2865\n",
            "    macro avg       0.13      0.33      0.19      2865\n",
            " weighted avg       0.13      0.33      0.19      2865\n",
            " \n",
            "\n",
            "#### Test Set ####\n",
            "\n",
            "---  Confusion Matrix  ---\n",
            "                         Actual Fail Actual Below Average Actual Average  \\\n",
            "Prediction Fail                  134                  518            865   \n",
            "Prediction Below Average           0                    0              0   \n",
            "Prediction Average                 0                    0              0   \n",
            "Prediction Above Average           0                    0              0   \n",
            "Prediction Exceptional            29                  376           1150   \n",
            "\n",
            "                         Actual Above Average Actual Exceptional  \n",
            "Prediction Fail                           520                132  \n",
            "Prediction Below Average                    0                  0  \n",
            "Prediction Average                          0                  0  \n",
            "Prediction Above Average                    0                  0  \n",
            "Prediction Exceptional                   1473                932  \n",
            "\n",
            "\n",
            "---  Classification Report  ---\n",
            "               precision    recall  f1-score   support\n",
            "\n",
            "         Fail       0.06      0.82      0.11       163\n",
            "Below Average       0.00      0.00      0.00       894\n",
            "      Average       0.00      0.00      0.00      2015\n",
            "Above Average       0.00      0.00      0.00      1993\n",
            "  Exceptional       0.24      0.88      0.37      1064\n",
            "\n",
            "     accuracy                           0.17      6129\n",
            "    macro avg       0.06      0.34      0.10      6129\n",
            " weighted avg       0.04      0.17      0.07      6129\n",
            " \n",
            "\n"
          ]
        },
        {
          "name": "stderr",
          "output_type": "stream",
          "text": [
            "/home/gitpod/.pyenv/versions/3.8.18/lib/python3.8/site-packages/sklearn/metrics/_classification.py:1471: UndefinedMetricWarning: Precision and F-score are ill-defined and being set to 0.0 in labels with no predicted samples. Use `zero_division` parameter to control this behavior.\n",
            "  _warn_prf(average, modifier, msg_start, len(result))\n",
            "/home/gitpod/.pyenv/versions/3.8.18/lib/python3.8/site-packages/sklearn/metrics/_classification.py:1471: UndefinedMetricWarning: Precision and F-score are ill-defined and being set to 0.0 in labels with no predicted samples. Use `zero_division` parameter to control this behavior.\n",
            "  _warn_prf(average, modifier, msg_start, len(result))\n",
            "/home/gitpod/.pyenv/versions/3.8.18/lib/python3.8/site-packages/sklearn/metrics/_classification.py:1471: UndefinedMetricWarning: Precision and F-score are ill-defined and being set to 0.0 in labels with no predicted samples. Use `zero_division` parameter to control this behavior.\n",
            "  _warn_prf(average, modifier, msg_start, len(result))\n",
            "/home/gitpod/.pyenv/versions/3.8.18/lib/python3.8/site-packages/sklearn/metrics/_classification.py:1471: UndefinedMetricWarning: Precision and F-score are ill-defined and being set to 0.0 in labels with no predicted samples. Use `zero_division` parameter to control this behavior.\n",
            "  _warn_prf(average, modifier, msg_start, len(result))\n",
            "/home/gitpod/.pyenv/versions/3.8.18/lib/python3.8/site-packages/sklearn/metrics/_classification.py:1471: UndefinedMetricWarning: Precision and F-score are ill-defined and being set to 0.0 in labels with no predicted samples. Use `zero_division` parameter to control this behavior.\n",
            "  _warn_prf(average, modifier, msg_start, len(result))\n",
            "/home/gitpod/.pyenv/versions/3.8.18/lib/python3.8/site-packages/sklearn/metrics/_classification.py:1471: UndefinedMetricWarning: Precision and F-score are ill-defined and being set to 0.0 in labels with no predicted samples. Use `zero_division` parameter to control this behavior.\n",
            "  _warn_prf(average, modifier, msg_start, len(result))\n"
          ]
        }
      ],
      "source": [
        "clf_performance(math_train_features, math_train_scores, math_test_features, math_test_scores, pipeline_classifier, label_map )"
      ]
    },
    {
      "cell_type": "markdown",
      "metadata": {},
      "source": [
        "## Conclusion\n",
        "Unfortunately the test shows that the model is not able to predict any classes between the extremes and is so low the function throws an error and outputs 0. The recall of 0.82 and 0.88 for fail and exceptional might seem usable, but the majority of the students will fall within the mean +- 1 SD so this will not be of much use. \n",
        "\n",
        "I will repeat the pipeline optimization using 3 instead of 5 bins to see if that improves the predictive power."
      ]
    }
  ],
  "metadata": {
    "accelerator": "GPU",
    "colab": {
      "name": "Data Practitioner Jupyter Notebook.ipynb",
      "provenance": [],
      "toc_visible": true
    },
    "interpreter": {
      "hash": "8b8334dab9339717f727a1deaf837b322d7a41c20d15cc86be99a8e69ceec8ce"
    },
    "kernelspec": {
      "display_name": "Python 3.8.12 64-bit ('3.8.12': pyenv)",
      "name": "python3"
    },
    "language_info": {
      "codemirror_mode": {
        "name": "ipython",
        "version": 3
      },
      "file_extension": ".py",
      "mimetype": "text/x-python",
      "name": "python",
      "nbconvert_exporter": "python",
      "pygments_lexer": "ipython3",
      "version": "3.8.18"
    },
    "orig_nbformat": 2
  },
  "nbformat": 4,
  "nbformat_minor": 2
}
