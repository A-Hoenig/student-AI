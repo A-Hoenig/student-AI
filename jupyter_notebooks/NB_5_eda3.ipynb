{
  "cells": [
    {
      "cell_type": "markdown",
      "metadata": {
        "id": "0aStgWSO0E0E"
      },
      "source": [
        "# **STUDENT AI** - PARALLEL PLOTS"
      ]
    },
    {
      "cell_type": "markdown",
      "metadata": {
        "id": "1eLEkw5O0ECa"
      },
      "source": [
        "## Objectives\n",
        "\n",
        "Create interactive parallel box plots to embedd in the streamlit dashboard. This will visualize the feature relationship with the selected target variables.\n",
        "\n",
        "## Inputs\n",
        "\n",
        "standard dataset ... Numerical variables will need to be 'boxed' into discreet buckets to better visualize teh relationships.\n",
        "\n",
        "## Outputs\n",
        "\n",
        "Interactive boxplot for later user display. Saved as html file.\n"
      ]
    },
    {
      "cell_type": "markdown",
      "metadata": {
        "id": "9uWZXH9LwoQg"
      },
      "source": [
        "---"
      ]
    },
    {
      "cell_type": "markdown",
      "metadata": {},
      "source": [
        "# Import required libraries"
      ]
    },
    {
      "cell_type": "code",
      "execution_count": 1,
      "metadata": {},
      "outputs": [
        {
          "name": "stdout",
          "output_type": "stream",
          "text": [
            "All Libraries Loaded\n"
          ]
        }
      ],
      "source": [
        "import os\n",
        "import numpy as np\n",
        "import pandas as pd\n",
        "import plotly.express as px\n",
        "import matplotlib.pyplot as plt\n",
        "from feature_engine.discretisation import ArbitraryDiscretiser\n",
        "%matplotlib inline\n",
        "\n",
        "print('All Libraries Loaded')"
      ]
    },
    {
      "cell_type": "markdown",
      "metadata": {},
      "source": [
        "## Enable / Disable Plot Saving & Updating\n",
        "Set the variable below to **True** if you want to save generated plots to disk. Old versions will be overwritten!\n",
        "The saved files are linked to the streamlit app and any updates will be displayed there.\n",
        "To update plots in deployed version remember to commit/push and re-deploy app.\n",
        "\n",
        "Keep Variable **False** if you just want to test different plots without saving any updates.\n",
        "\n",
        "**Remember to re-run the cell if you change the value**"
      ]
    },
    {
      "cell_type": "code",
      "execution_count": 2,
      "metadata": {},
      "outputs": [],
      "source": [
        "save_to_disk = False"
      ]
    },
    {
      "cell_type": "markdown",
      "metadata": {
        "id": "cqP-UeN-z3i2"
      },
      "source": [
        "# Change working directory"
      ]
    },
    {
      "cell_type": "markdown",
      "metadata": {
        "id": "aOGIGS-uz3i2"
      },
      "source": [
        "### Set the working directory to notebook parent folder\n",
        "If the output does not match, click **'clear all outputs'** and then **'restart'** the notebook. \n",
        "Then run cells from top to bottom."
      ]
    },
    {
      "cell_type": "code",
      "execution_count": 3,
      "metadata": {
        "id": "wZfF_j-Bz3i4",
        "outputId": "66943449-1436-4c3d-85c7-b85f9f78349b"
      },
      "outputs": [
        {
          "name": "stdout",
          "output_type": "stream",
          "text": [
            "If correct, Active Directory should read: /workspace/student-AI\n",
            "Active Directory: /workspace/student-AI\n"
          ]
        }
      ],
      "source": [
        "current_dir = os.getcwd()\n",
        "os.chdir(os.path.dirname(current_dir))\n",
        "current_dir = os.getcwd()\n",
        "print('If correct, Active Directory should read: /workspace/student-AI')\n",
        "print(f\"Active Directory: {current_dir}\")"
      ]
    },
    {
      "cell_type": "markdown",
      "metadata": {},
      "source": [
        "### Load cleaned dataset"
      ]
    },
    {
      "cell_type": "code",
      "execution_count": 4,
      "metadata": {},
      "outputs": [
        {
          "data": {
            "text/html": [
              "<div>\n",
              "<style scoped>\n",
              "    .dataframe tbody tr th:only-of-type {\n",
              "        vertical-align: middle;\n",
              "    }\n",
              "\n",
              "    .dataframe tbody tr th {\n",
              "        vertical-align: top;\n",
              "    }\n",
              "\n",
              "    .dataframe thead th {\n",
              "        text-align: right;\n",
              "    }\n",
              "</style>\n",
              "<table border=\"1\" class=\"dataframe\">\n",
              "  <thead>\n",
              "    <tr style=\"text-align: right;\">\n",
              "      <th></th>\n",
              "      <th>Gender</th>\n",
              "      <th>EthnicGroup</th>\n",
              "      <th>ParentEduc</th>\n",
              "      <th>LunchType</th>\n",
              "      <th>TestPrep</th>\n",
              "      <th>ParentMaritalStatus</th>\n",
              "      <th>PracticeSport</th>\n",
              "      <th>IsFirstChild</th>\n",
              "      <th>NrSiblings</th>\n",
              "      <th>TransportMeans</th>\n",
              "      <th>WklyStudyHours</th>\n",
              "      <th>MathScore</th>\n",
              "      <th>ReadingScore</th>\n",
              "      <th>WritingScore</th>\n",
              "    </tr>\n",
              "  </thead>\n",
              "  <tbody>\n",
              "    <tr>\n",
              "      <th>0</th>\n",
              "      <td>female</td>\n",
              "      <td>C</td>\n",
              "      <td>bachelor</td>\n",
              "      <td>standard</td>\n",
              "      <td>not completed</td>\n",
              "      <td>married</td>\n",
              "      <td>regularly</td>\n",
              "      <td>yes</td>\n",
              "      <td>3</td>\n",
              "      <td>schoolbus</td>\n",
              "      <td>Less than 5 hours</td>\n",
              "      <td>71</td>\n",
              "      <td>71</td>\n",
              "      <td>74</td>\n",
              "    </tr>\n",
              "    <tr>\n",
              "      <th>1</th>\n",
              "      <td>female</td>\n",
              "      <td>C</td>\n",
              "      <td>college</td>\n",
              "      <td>standard</td>\n",
              "      <td>not completed</td>\n",
              "      <td>married</td>\n",
              "      <td>sometimes</td>\n",
              "      <td>yes</td>\n",
              "      <td>0</td>\n",
              "      <td>schoolbus</td>\n",
              "      <td>Between 5-10 hours</td>\n",
              "      <td>69</td>\n",
              "      <td>90</td>\n",
              "      <td>88</td>\n",
              "    </tr>\n",
              "    <tr>\n",
              "      <th>2</th>\n",
              "      <td>female</td>\n",
              "      <td>B</td>\n",
              "      <td>masters</td>\n",
              "      <td>standard</td>\n",
              "      <td>not completed</td>\n",
              "      <td>single</td>\n",
              "      <td>sometimes</td>\n",
              "      <td>yes</td>\n",
              "      <td>4</td>\n",
              "      <td>schoolbus</td>\n",
              "      <td>Less than 5 hours</td>\n",
              "      <td>87</td>\n",
              "      <td>93</td>\n",
              "      <td>91</td>\n",
              "    </tr>\n",
              "    <tr>\n",
              "      <th>3</th>\n",
              "      <td>male</td>\n",
              "      <td>A</td>\n",
              "      <td>associates</td>\n",
              "      <td>free</td>\n",
              "      <td>not completed</td>\n",
              "      <td>married</td>\n",
              "      <td>never</td>\n",
              "      <td>no</td>\n",
              "      <td>1</td>\n",
              "      <td>schoolbus</td>\n",
              "      <td>Between 5-10 hours</td>\n",
              "      <td>45</td>\n",
              "      <td>56</td>\n",
              "      <td>42</td>\n",
              "    </tr>\n",
              "    <tr>\n",
              "      <th>4</th>\n",
              "      <td>male</td>\n",
              "      <td>C</td>\n",
              "      <td>college</td>\n",
              "      <td>standard</td>\n",
              "      <td>not completed</td>\n",
              "      <td>married</td>\n",
              "      <td>sometimes</td>\n",
              "      <td>yes</td>\n",
              "      <td>0</td>\n",
              "      <td>schoolbus</td>\n",
              "      <td>Between 5-10 hours</td>\n",
              "      <td>76</td>\n",
              "      <td>78</td>\n",
              "      <td>75</td>\n",
              "    </tr>\n",
              "  </tbody>\n",
              "</table>\n",
              "</div>"
            ],
            "text/plain": [
              "   Gender EthnicGroup  ParentEduc LunchType       TestPrep  \\\n",
              "0  female           C    bachelor  standard  not completed   \n",
              "1  female           C     college  standard  not completed   \n",
              "2  female           B     masters  standard  not completed   \n",
              "3    male           A  associates      free  not completed   \n",
              "4    male           C     college  standard  not completed   \n",
              "\n",
              "  ParentMaritalStatus PracticeSport IsFirstChild  NrSiblings TransportMeans  \\\n",
              "0             married     regularly          yes           3      schoolbus   \n",
              "1             married     sometimes          yes           0      schoolbus   \n",
              "2              single     sometimes          yes           4      schoolbus   \n",
              "3             married         never           no           1      schoolbus   \n",
              "4             married     sometimes          yes           0      schoolbus   \n",
              "\n",
              "       WklyStudyHours  MathScore  ReadingScore  WritingScore  \n",
              "0   Less than 5 hours         71            71            74  \n",
              "1  Between 5-10 hours         69            90            88  \n",
              "2   Less than 5 hours         87            93            91  \n",
              "3  Between 5-10 hours         45            56            42  \n",
              "4  Between 5-10 hours         76            78            75  "
            ]
          },
          "execution_count": 4,
          "metadata": {},
          "output_type": "execute_result"
        }
      ],
      "source": [
        "df = pd.read_csv(f\"outputs/dataset/Expanded_data_with_more_features_clean.csv\")\n",
        "df.head()"
      ]
    },
    {
      "cell_type": "markdown",
      "metadata": {},
      "source": [
        "### Significant Feature Variables\n",
        "Based on the previous analysis, I determined that 'ParentMaritalStatus', 'PracticeSport', 'IsFirstChild', 'NrSiblings', 'WklyStudyHours' features have very limited to no influence on the student performance prediction. For the purpose of a cleaner visualization, these will be dropped."
      ]
    },
    {
      "cell_type": "code",
      "execution_count": 5,
      "metadata": {},
      "outputs": [
        {
          "data": {
            "text/html": [
              "<div>\n",
              "<style scoped>\n",
              "    .dataframe tbody tr th:only-of-type {\n",
              "        vertical-align: middle;\n",
              "    }\n",
              "\n",
              "    .dataframe tbody tr th {\n",
              "        vertical-align: top;\n",
              "    }\n",
              "\n",
              "    .dataframe thead th {\n",
              "        text-align: right;\n",
              "    }\n",
              "</style>\n",
              "<table border=\"1\" class=\"dataframe\">\n",
              "  <thead>\n",
              "    <tr style=\"text-align: right;\">\n",
              "      <th></th>\n",
              "      <th>Gender</th>\n",
              "      <th>EthnicGroup</th>\n",
              "      <th>ParentEduc</th>\n",
              "      <th>LunchType</th>\n",
              "      <th>TestPrep</th>\n",
              "      <th>TransportMeans</th>\n",
              "      <th>MathScore</th>\n",
              "      <th>ReadingScore</th>\n",
              "      <th>WritingScore</th>\n",
              "    </tr>\n",
              "  </thead>\n",
              "  <tbody>\n",
              "    <tr>\n",
              "      <th>0</th>\n",
              "      <td>female</td>\n",
              "      <td>C</td>\n",
              "      <td>bachelor</td>\n",
              "      <td>standard</td>\n",
              "      <td>not completed</td>\n",
              "      <td>schoolbus</td>\n",
              "      <td>71</td>\n",
              "      <td>71</td>\n",
              "      <td>74</td>\n",
              "    </tr>\n",
              "    <tr>\n",
              "      <th>1</th>\n",
              "      <td>female</td>\n",
              "      <td>C</td>\n",
              "      <td>college</td>\n",
              "      <td>standard</td>\n",
              "      <td>not completed</td>\n",
              "      <td>schoolbus</td>\n",
              "      <td>69</td>\n",
              "      <td>90</td>\n",
              "      <td>88</td>\n",
              "    </tr>\n",
              "    <tr>\n",
              "      <th>2</th>\n",
              "      <td>female</td>\n",
              "      <td>B</td>\n",
              "      <td>masters</td>\n",
              "      <td>standard</td>\n",
              "      <td>not completed</td>\n",
              "      <td>schoolbus</td>\n",
              "      <td>87</td>\n",
              "      <td>93</td>\n",
              "      <td>91</td>\n",
              "    </tr>\n",
              "    <tr>\n",
              "      <th>3</th>\n",
              "      <td>male</td>\n",
              "      <td>A</td>\n",
              "      <td>associates</td>\n",
              "      <td>free</td>\n",
              "      <td>not completed</td>\n",
              "      <td>schoolbus</td>\n",
              "      <td>45</td>\n",
              "      <td>56</td>\n",
              "      <td>42</td>\n",
              "    </tr>\n",
              "    <tr>\n",
              "      <th>4</th>\n",
              "      <td>male</td>\n",
              "      <td>C</td>\n",
              "      <td>college</td>\n",
              "      <td>standard</td>\n",
              "      <td>not completed</td>\n",
              "      <td>schoolbus</td>\n",
              "      <td>76</td>\n",
              "      <td>78</td>\n",
              "      <td>75</td>\n",
              "    </tr>\n",
              "  </tbody>\n",
              "</table>\n",
              "</div>"
            ],
            "text/plain": [
              "   Gender EthnicGroup  ParentEduc LunchType       TestPrep TransportMeans  \\\n",
              "0  female           C    bachelor  standard  not completed      schoolbus   \n",
              "1  female           C     college  standard  not completed      schoolbus   \n",
              "2  female           B     masters  standard  not completed      schoolbus   \n",
              "3    male           A  associates      free  not completed      schoolbus   \n",
              "4    male           C     college  standard  not completed      schoolbus   \n",
              "\n",
              "   MathScore  ReadingScore  WritingScore  \n",
              "0         71            71            74  \n",
              "1         69            90            88  \n",
              "2         87            93            91  \n",
              "3         45            56            42  \n",
              "4         76            78            75  "
            ]
          },
          "execution_count": 5,
          "metadata": {},
          "output_type": "execute_result"
        }
      ],
      "source": [
        "columns_to_drop = ['ParentMaritalStatus', 'PracticeSport', 'IsFirstChild','NrSiblings','WklyStudyHours']\n",
        "df_dropped = df.drop(columns=columns_to_drop, axis=1)\n",
        "df_dropped.head()"
      ]
    },
    {
      "cell_type": "markdown",
      "metadata": {},
      "source": [
        "### Defining numerical variable bins.\n",
        "\n",
        "To better visualize the data, the continuous numerical data should be 'discretized' into individual bins to better group the students performance. This would normally be based on client wishes, or the actual established grouping in the educational facility. As a baseline, I will use the mean of 68 with a standard deviation of 14 (Determined in Notebook 3). Based on these values, I will group students performance into:\n",
        "\n",
        "* Exceptional > 96% (2 standard deviations above mean)\n",
        "* Above Average > 82% (1 standard deviation above mean)\n",
        "* Average 54% - 82%  (within 1 SD)\n",
        "* Below Average 40% - 54% (< 1 SD below mean)\n",
        "* Failed        <40% (< 2 SD below mean)\n",
        "\n"
      ]
    },
    {
      "cell_type": "code",
      "execution_count": 6,
      "metadata": {},
      "outputs": [
        {
          "data": {
            "text/html": [
              "<div>\n",
              "<style scoped>\n",
              "    .dataframe tbody tr th:only-of-type {\n",
              "        vertical-align: middle;\n",
              "    }\n",
              "\n",
              "    .dataframe tbody tr th {\n",
              "        vertical-align: top;\n",
              "    }\n",
              "\n",
              "    .dataframe thead th {\n",
              "        text-align: right;\n",
              "    }\n",
              "</style>\n",
              "<table border=\"1\" class=\"dataframe\">\n",
              "  <thead>\n",
              "    <tr style=\"text-align: right;\">\n",
              "      <th></th>\n",
              "      <th>Gender</th>\n",
              "      <th>EthnicGroup</th>\n",
              "      <th>ParentEduc</th>\n",
              "      <th>LunchType</th>\n",
              "      <th>TestPrep</th>\n",
              "      <th>TransportMeans</th>\n",
              "      <th>MathScore</th>\n",
              "      <th>ReadingScore</th>\n",
              "      <th>WritingScore</th>\n",
              "    </tr>\n",
              "  </thead>\n",
              "  <tbody>\n",
              "    <tr>\n",
              "      <th>0</th>\n",
              "      <td>female</td>\n",
              "      <td>C</td>\n",
              "      <td>bachelor</td>\n",
              "      <td>standard</td>\n",
              "      <td>not completed</td>\n",
              "      <td>schoolbus</td>\n",
              "      <td>2</td>\n",
              "      <td>2</td>\n",
              "      <td>2</td>\n",
              "    </tr>\n",
              "    <tr>\n",
              "      <th>1</th>\n",
              "      <td>female</td>\n",
              "      <td>C</td>\n",
              "      <td>college</td>\n",
              "      <td>standard</td>\n",
              "      <td>not completed</td>\n",
              "      <td>schoolbus</td>\n",
              "      <td>2</td>\n",
              "      <td>3</td>\n",
              "      <td>3</td>\n",
              "    </tr>\n",
              "    <tr>\n",
              "      <th>2</th>\n",
              "      <td>female</td>\n",
              "      <td>B</td>\n",
              "      <td>masters</td>\n",
              "      <td>standard</td>\n",
              "      <td>not completed</td>\n",
              "      <td>schoolbus</td>\n",
              "      <td>3</td>\n",
              "      <td>3</td>\n",
              "      <td>3</td>\n",
              "    </tr>\n",
              "    <tr>\n",
              "      <th>3</th>\n",
              "      <td>male</td>\n",
              "      <td>A</td>\n",
              "      <td>associates</td>\n",
              "      <td>free</td>\n",
              "      <td>not completed</td>\n",
              "      <td>schoolbus</td>\n",
              "      <td>1</td>\n",
              "      <td>2</td>\n",
              "      <td>1</td>\n",
              "    </tr>\n",
              "    <tr>\n",
              "      <th>4</th>\n",
              "      <td>male</td>\n",
              "      <td>C</td>\n",
              "      <td>college</td>\n",
              "      <td>standard</td>\n",
              "      <td>not completed</td>\n",
              "      <td>schoolbus</td>\n",
              "      <td>2</td>\n",
              "      <td>2</td>\n",
              "      <td>2</td>\n",
              "    </tr>\n",
              "  </tbody>\n",
              "</table>\n",
              "</div>"
            ],
            "text/plain": [
              "   Gender EthnicGroup  ParentEduc LunchType       TestPrep TransportMeans  \\\n",
              "0  female           C    bachelor  standard  not completed      schoolbus   \n",
              "1  female           C     college  standard  not completed      schoolbus   \n",
              "2  female           B     masters  standard  not completed      schoolbus   \n",
              "3    male           A  associates      free  not completed      schoolbus   \n",
              "4    male           C     college  standard  not completed      schoolbus   \n",
              "\n",
              "   MathScore  ReadingScore  WritingScore  \n",
              "0          2             2             2  \n",
              "1          2             3             3  \n",
              "2          3             3             3  \n",
              "3          1             2             1  \n",
              "4          2             2             2  "
            ]
          },
          "execution_count": 6,
          "metadata": {},
          "output_type": "execute_result"
        }
      ],
      "source": [
        "# from previous notebook\n",
        "mean = 68  \n",
        "std = 14   \n",
        "\n",
        "# define scores_map based on Mean and SD\n",
        "scores_map = [\n",
        "    -np.Inf,\n",
        "    mean - 2 * std,  # Failed\n",
        "    mean - std,      # Below Average\n",
        "    mean + std,      # Above Average\n",
        "    mean + 2 * std,  # Exceptional\n",
        "    np.Inf\n",
        "]\n",
        "discretiser = ArbitraryDiscretiser(binning_dict={\n",
        "    'MathScore': scores_map,\n",
        "    'ReadingScore': scores_map,\n",
        "    'WritingScore': scores_map\n",
        "    })\n",
        "df_parallel = discretiser.fit_transform(df_dropped)\n",
        "df_parallel.head()"
      ]
    },
    {
      "cell_type": "markdown",
      "metadata": {},
      "source": [
        "### Reorder Colums\n",
        "Reorder Columns for more clear diagram (binary categories first then split into more values)"
      ]
    },
    {
      "cell_type": "code",
      "execution_count": 7,
      "metadata": {},
      "outputs": [
        {
          "data": {
            "text/html": [
              "<div>\n",
              "<style scoped>\n",
              "    .dataframe tbody tr th:only-of-type {\n",
              "        vertical-align: middle;\n",
              "    }\n",
              "\n",
              "    .dataframe tbody tr th {\n",
              "        vertical-align: top;\n",
              "    }\n",
              "\n",
              "    .dataframe thead th {\n",
              "        text-align: right;\n",
              "    }\n",
              "</style>\n",
              "<table border=\"1\" class=\"dataframe\">\n",
              "  <thead>\n",
              "    <tr style=\"text-align: right;\">\n",
              "      <th></th>\n",
              "      <th>Gender</th>\n",
              "      <th>LunchType</th>\n",
              "      <th>TestPrep</th>\n",
              "      <th>EthnicGroup</th>\n",
              "      <th>ParentEduc</th>\n",
              "      <th>MathScore</th>\n",
              "      <th>ReadingScore</th>\n",
              "      <th>WritingScore</th>\n",
              "    </tr>\n",
              "  </thead>\n",
              "  <tbody>\n",
              "    <tr>\n",
              "      <th>0</th>\n",
              "      <td>female</td>\n",
              "      <td>standard</td>\n",
              "      <td>not completed</td>\n",
              "      <td>C</td>\n",
              "      <td>bachelor</td>\n",
              "      <td>2</td>\n",
              "      <td>2</td>\n",
              "      <td>2</td>\n",
              "    </tr>\n",
              "    <tr>\n",
              "      <th>1</th>\n",
              "      <td>female</td>\n",
              "      <td>standard</td>\n",
              "      <td>not completed</td>\n",
              "      <td>C</td>\n",
              "      <td>college</td>\n",
              "      <td>2</td>\n",
              "      <td>3</td>\n",
              "      <td>3</td>\n",
              "    </tr>\n",
              "    <tr>\n",
              "      <th>2</th>\n",
              "      <td>female</td>\n",
              "      <td>standard</td>\n",
              "      <td>not completed</td>\n",
              "      <td>B</td>\n",
              "      <td>masters</td>\n",
              "      <td>3</td>\n",
              "      <td>3</td>\n",
              "      <td>3</td>\n",
              "    </tr>\n",
              "    <tr>\n",
              "      <th>3</th>\n",
              "      <td>male</td>\n",
              "      <td>free</td>\n",
              "      <td>not completed</td>\n",
              "      <td>A</td>\n",
              "      <td>associates</td>\n",
              "      <td>1</td>\n",
              "      <td>2</td>\n",
              "      <td>1</td>\n",
              "    </tr>\n",
              "    <tr>\n",
              "      <th>4</th>\n",
              "      <td>male</td>\n",
              "      <td>standard</td>\n",
              "      <td>not completed</td>\n",
              "      <td>C</td>\n",
              "      <td>college</td>\n",
              "      <td>2</td>\n",
              "      <td>2</td>\n",
              "      <td>2</td>\n",
              "    </tr>\n",
              "  </tbody>\n",
              "</table>\n",
              "</div>"
            ],
            "text/plain": [
              "   Gender LunchType       TestPrep EthnicGroup  ParentEduc  MathScore  \\\n",
              "0  female  standard  not completed           C    bachelor          2   \n",
              "1  female  standard  not completed           C     college          2   \n",
              "2  female  standard  not completed           B     masters          3   \n",
              "3    male      free  not completed           A  associates          1   \n",
              "4    male  standard  not completed           C     college          2   \n",
              "\n",
              "   ReadingScore  WritingScore  \n",
              "0             2             2  \n",
              "1             3             3  \n",
              "2             3             3  \n",
              "3             2             1  \n",
              "4             2             2  "
            ]
          },
          "execution_count": 7,
          "metadata": {},
          "output_type": "execute_result"
        }
      ],
      "source": [
        "df_parallel = df_parallel[['Gender', 'LunchType', 'TestPrep', 'EthnicGroup', 'ParentEduc', 'MathScore', 'ReadingScore', 'WritingScore']]\n",
        "df_parallel.head()"
      ]
    },
    {
      "cell_type": "markdown",
      "metadata": {},
      "source": [
        "### Create Labels and Custom Colors for Plots"
      ]
    },
    {
      "cell_type": "code",
      "execution_count": 8,
      "metadata": {},
      "outputs": [],
      "source": [
        "labels_map = {\n",
        "    0: \"Failed\",\n",
        "    1: \"Below Average\",\n",
        "    2: \"Average\",\n",
        "    3: \"Above Average\",\n",
        "    4: \"Exceptional\"\n",
        "}\n",
        "\n",
        "color_scale = [\n",
        "    (0.00, \"red\"),          # Failed\n",
        "    (0.25, \"orange\"),       # Below Average\n",
        "    (0.50, \"yellow\"),       # Average\n",
        "    (0.75, \"lightgreen\"),   # Above Average\n",
        "    (1.00, \"green\")         # Exceptional\n",
        "]\n"
      ]
    },
    {
      "cell_type": "markdown",
      "metadata": {},
      "source": [
        "### Create Parallel Plot for Math Score"
      ]
    },
    {
      "cell_type": "code",
      "execution_count": null,
      "metadata": {},
      "outputs": [],
      "source": [
        "#drop unwanted target variable\n",
        "df_parallel_maths = df_parallel.drop(['ReadingScore', 'WritingScore'], axis=1)\n",
        "\n",
        "# create parallel plot with custom colors\n",
        "fig_parallel_maths = px.parallel_categories(\n",
        "    df_parallel_maths,\n",
        "    color='MathScore',\n",
        "    color_continuous_scale=color_scale,\n",
        "    )\n",
        "\n",
        "# change legend to show categorical names\n",
        "fig_parallel_maths.update_layout(\n",
        "    coloraxis_colorbar=dict(\n",
        "        tickvals=[0, 1, 2, 3, 4],\n",
        "        ticktext=list(labels_map.values())\n",
        "    )\n",
        ")\n",
        "#show figure\n",
        "if save_to_disk:\n",
        "    fig_parallel_maths.write_html('outputs/html/parallel_plot_maths.html')\n",
        "fig_parallel_maths.show()"
      ]
    },
    {
      "cell_type": "markdown",
      "metadata": {},
      "source": [
        "### Create Parallel Plot for Reading Score"
      ]
    },
    {
      "cell_type": "code",
      "execution_count": null,
      "metadata": {},
      "outputs": [],
      "source": [
        "#drop unwanted target variable\n",
        "df_parallel_reading = df_parallel.drop(['MathScore', 'WritingScore'], axis=1)\n",
        "\n",
        "# create parallel plot with custom colors\n",
        "fig_parallel_reading = px.parallel_categories(df_parallel_reading, color='ReadingScore', color_continuous_scale=color_scale)\n",
        "\n",
        "# change legend to show categorical names\n",
        "fig_parallel_reading.update_layout(\n",
        "    coloraxis_colorbar=dict(\n",
        "        tickvals=[0, 1, 2, 3, 4],\n",
        "        ticktext=list(labels_map.values())\n",
        "    )\n",
        ")\n",
        "#show figure\n",
        "if save_to_disk:\n",
        "    fig_parallel_reading.write_html('outputs/html/parallel_plot_reading.html')\n",
        "fig_parallel_reading.show()"
      ]
    },
    {
      "cell_type": "markdown",
      "metadata": {},
      "source": [
        "### Create Parallel Plot for Writing Score"
      ]
    },
    {
      "cell_type": "code",
      "execution_count": null,
      "metadata": {},
      "outputs": [],
      "source": [
        "#drop unwanted target variable\n",
        "df_parallel_writing = df_parallel.drop(['MathScore', 'ReadingScore'], axis=1)\n",
        "\n",
        "# create parallel plot with custom colors\n",
        "fig_parallel_writing = px.parallel_categories(\n",
        "    df_parallel_writing,\n",
        "    color='WritingScore',\n",
        "    color_continuous_scale=color_scale)\n",
        "\n",
        "# change legend to show categorical names\n",
        "fig_parallel_writing.update_layout(\n",
        "    coloraxis_colorbar=dict(\n",
        "        tickvals=[0, 1, 2, 3, 4],\n",
        "        ticktext=list(labels_map.values())\n",
        "    )\n",
        ")\n",
        "#show figure\n",
        "if save_to_disk:\n",
        "    fig_parallel_writing.write_html('outputs/html/parallel_plot_writing.html')\n",
        "fig_parallel_writing.show()"
      ]
    },
    {
      "cell_type": "code",
      "execution_count": null,
      "metadata": {},
      "outputs": [],
      "source": [
        "if save_to_disk:\n",
        "    print('')\n",
        "    print('** SAVING DATA IS ENABLED **')\n",
        "    print(f'boxplots saved/updated.')\n",
        "else:\n",
        "    print('')\n",
        "    print('** SAVING DATA IS DISABLED **')"
      ]
    }
  ],
  "metadata": {
    "accelerator": "GPU",
    "colab": {
      "name": "Data Practitioner Jupyter Notebook.ipynb",
      "provenance": [],
      "toc_visible": true
    },
    "interpreter": {
      "hash": "8b8334dab9339717f727a1deaf837b322d7a41c20d15cc86be99a8e69ceec8ce"
    },
    "kernelspec": {
      "display_name": "Python 3.8.12 64-bit ('3.8.12': pyenv)",
      "name": "python3"
    },
    "language_info": {
      "codemirror_mode": {
        "name": "ipython",
        "version": 3
      },
      "file_extension": ".py",
      "mimetype": "text/x-python",
      "name": "python",
      "nbconvert_exporter": "python",
      "pygments_lexer": "ipython3",
      "version": "3.8.18"
    },
    "orig_nbformat": 2
  },
  "nbformat": 4,
  "nbformat_minor": 2
}
