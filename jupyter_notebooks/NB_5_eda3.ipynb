{
  "cells": [
    {
      "cell_type": "markdown",
      "metadata": {
        "id": "0aStgWSO0E0E"
      },
      "source": [
        "# **STUDENT AI** - PARALLEL PLOTS"
      ]
    },
    {
      "cell_type": "markdown",
      "metadata": {
        "id": "1eLEkw5O0ECa"
      },
      "source": [
        "## Objectives\n",
        "\n",
        "Create interactive parallel box plots to embedd in the streamlit dashboard. This will visualize the feature relationship with the selected target variables.\n",
        "\n",
        "## Inputs\n",
        "\n",
        "standard dataset ... Numerical variables will need to be 'boxed' into discreet buckets to better visualize teh relationships.\n",
        "\n",
        "## Outputs\n",
        "\n",
        "Interactive boxplot for later user display. Saved as html file.\n"
      ]
    },
    {
      "cell_type": "markdown",
      "metadata": {
        "id": "9uWZXH9LwoQg"
      },
      "source": [
        "---"
      ]
    },
    {
      "cell_type": "markdown",
      "metadata": {},
      "source": [
        "# Import required libraries"
      ]
    },
    {
      "cell_type": "code",
      "execution_count": null,
      "metadata": {},
      "outputs": [],
      "source": [
        "import os\n",
        "import numpy as np\n",
        "import pandas as pd\n",
        "import plotly.express as px\n",
        "import matplotlib.pyplot as plt\n",
        "from feature_engine.discretisation import ArbitraryDiscretiser\n",
        "%matplotlib inline\n",
        "\n",
        "print('All Libraries Loaded')"
      ]
    },
    {
      "cell_type": "markdown",
      "metadata": {
        "id": "cqP-UeN-z3i2"
      },
      "source": [
        "# Change working directory"
      ]
    },
    {
      "cell_type": "markdown",
      "metadata": {
        "id": "aOGIGS-uz3i2"
      },
      "source": [
        "### Set the working directory to notebook parent folder\n",
        "If the output does not match, click **'clear all outputs'** and then **'restart'** the notebook. \n",
        "Then run cells from top to bottom."
      ]
    },
    {
      "cell_type": "code",
      "execution_count": null,
      "metadata": {
        "id": "wZfF_j-Bz3i4",
        "outputId": "66943449-1436-4c3d-85c7-b85f9f78349b"
      },
      "outputs": [],
      "source": [
        "current_dir = os.getcwd()\n",
        "os.chdir(os.path.dirname(current_dir))\n",
        "current_dir = os.getcwd()\n",
        "print('If correct, Active Directory should read: /workspace/student-AI')\n",
        "print(f\"Active Directory: {current_dir}\")"
      ]
    },
    {
      "cell_type": "markdown",
      "metadata": {},
      "source": [
        "### Load cleaned dataset"
      ]
    },
    {
      "cell_type": "code",
      "execution_count": null,
      "metadata": {},
      "outputs": [],
      "source": [
        "df = pd.read_csv(f\"outputs/dataset/Expanded_data_with_more_features_clean.csv\")\n",
        "df.head()"
      ]
    },
    {
      "cell_type": "markdown",
      "metadata": {},
      "source": [
        "### Significant Feature Variables\n",
        "Based on the previous analysis, I determined that 'ParentMaritalStatus', 'PracticeSport', 'IsFirstChild', 'NrSiblings', 'WklyStudyHours' features have very limited to no influence on the student performance prediction. For the purpose of a cleaner visualization, these will be dropped."
      ]
    },
    {
      "cell_type": "code",
      "execution_count": null,
      "metadata": {},
      "outputs": [],
      "source": [
        "columns_to_drop = ['ParentMaritalStatus', 'PracticeSport', 'IsFirstChild','NrSiblings','WklyStudyHours']\n",
        "df_dropped = df.drop(columns=columns_to_drop, axis=1)\n",
        "df_dropped.head()"
      ]
    },
    {
      "cell_type": "markdown",
      "metadata": {},
      "source": [
        "### Defining numerical variable bins.\n",
        "\n",
        "To better visualize the data, the continuous numerical data should be 'discretized' into individual bins to better group the students performance. This would normally be based on client wishes, or the actual established grouping in the educational facility. As a baseline, I will use the mean of 68 with a standard deviation of 14 (Determined in Notebook 3). Basedon these values, I will group students performance into:\n",
        "\n",
        "* Exceptional > 96% (2 standard deviations above mean)\n",
        "* Above Average > 82% (1 standard deviation above mean)\n",
        "* Average 54% - 82%  (within 1 SD)\n",
        "* Below Average 40% - 54% (< 1 SD below mean)\n",
        "* Failed        <40% (< 2 SD below mean)\n",
        "\n"
      ]
    },
    {
      "cell_type": "code",
      "execution_count": null,
      "metadata": {},
      "outputs": [],
      "source": [
        "# from previous notebook\n",
        "mean = 68  \n",
        "std = 14   \n",
        "\n",
        "# define scores_map based on Mean and SD\n",
        "scores_map = [\n",
        "    -np.Inf,\n",
        "    mean - 2 * std,  # Failed\n",
        "    mean - std,      # Below Average\n",
        "    mean + std,      # Above Average\n",
        "    mean + 2 * std,  # Exceptional\n",
        "    np.Inf\n",
        "]\n",
        "discretiser = ArbitraryDiscretiser(binning_dict={\n",
        "    'MathScore': scores_map,\n",
        "    'ReadingScore': scores_map,\n",
        "    'WritingScore': scores_map\n",
        "    })\n",
        "df_parallel = discretiser.fit_transform(df_dropped)\n",
        "df_parallel.head()"
      ]
    },
    {
      "cell_type": "markdown",
      "metadata": {},
      "source": [
        "### Reorder Colums\n",
        "Reorder Columns for more clear diagram (binary categories first then split into more values)"
      ]
    },
    {
      "cell_type": "code",
      "execution_count": null,
      "metadata": {},
      "outputs": [],
      "source": [
        "df_parallel = df_parallel[['Gender', 'LunchType', 'TestPrep', 'EthnicGroup', 'ParentEduc', 'MathScore', 'ReadingScore', 'WritingScore']]\n",
        "df_parallel.head()"
      ]
    },
    {
      "cell_type": "markdown",
      "metadata": {},
      "source": [
        "### Create Labels and Custom Colors for Plots"
      ]
    },
    {
      "cell_type": "code",
      "execution_count": null,
      "metadata": {},
      "outputs": [],
      "source": [
        "labels_map = {\n",
        "    0: \"Failed\",\n",
        "    1: \"Below Average\",\n",
        "    2: \"Average\",\n",
        "    3: \"Above Average\",\n",
        "    4: \"Exceptional\"\n",
        "}\n",
        "\n",
        "color_scale = [\n",
        "    (0.00, \"red\"),          # Failed\n",
        "    (0.25, \"orange\"),       # Below Average\n",
        "    (0.50, \"yellow\"),       # Average\n",
        "    (0.75, \"lightgreen\"),   # Above Average\n",
        "    (1.00, \"green\")         # Exceptional\n",
        "]\n"
      ]
    },
    {
      "cell_type": "markdown",
      "metadata": {},
      "source": [
        "### Create Parallel Plot for Math Score"
      ]
    },
    {
      "cell_type": "code",
      "execution_count": null,
      "metadata": {},
      "outputs": [],
      "source": [
        "#drop unwanted target variable\n",
        "df_parallel_maths = df_parallel.drop(['ReadingScore', 'WritingScore'], axis=1)\n",
        "\n",
        "# create parallel plot with custom colors\n",
        "fig_parallel_maths = px.parallel_categories(\n",
        "    df_parallel_maths,\n",
        "    color='MathScore',\n",
        "    color_continuous_scale=color_scale,\n",
        "    )\n",
        "\n",
        "# change legend to show categorical names\n",
        "fig_parallel_maths.update_layout(\n",
        "    coloraxis_colorbar=dict(\n",
        "        tickvals=[0, 1, 2, 3, 4],\n",
        "        ticktext=list(labels_map.values())\n",
        "    )\n",
        ")\n",
        "#show figure\n",
        "fig_parallel_maths.write_html('outputs/html/parallel_plot_maths.html')\n",
        "fig_parallel_maths.show()"
      ]
    },
    {
      "cell_type": "markdown",
      "metadata": {},
      "source": [
        "### Create Parallel Plot for Reading Score"
      ]
    },
    {
      "cell_type": "code",
      "execution_count": null,
      "metadata": {},
      "outputs": [],
      "source": [
        "#drop unwanted target variable\n",
        "df_parallel_reading = df_parallel.drop(['MathScore', 'WritingScore'], axis=1)\n",
        "\n",
        "# create parallel plot with custom colors\n",
        "fig_parallel_reading = px.parallel_categories(df_parallel_reading, color='ReadingScore', color_continuous_scale=color_scale)\n",
        "\n",
        "# change legend to show categorical names\n",
        "fig_parallel_reading.update_layout(\n",
        "    coloraxis_colorbar=dict(\n",
        "        tickvals=[0, 1, 2, 3, 4],\n",
        "        ticktext=list(labels_map.values())\n",
        "    )\n",
        ")\n",
        "#show figure\n",
        "fig_parallel_reading.write_html('outputs/html/parallel_plot_reading.html')\n",
        "fig_parallel_reading.show()"
      ]
    },
    {
      "cell_type": "markdown",
      "metadata": {},
      "source": [
        "### Create Parallel Plot for Writing Score"
      ]
    },
    {
      "cell_type": "code",
      "execution_count": null,
      "metadata": {},
      "outputs": [],
      "source": [
        "#drop unwanted target variable\n",
        "df_parallel_writing = df_parallel.drop(['MathScore', 'ReadingScore'], axis=1)\n",
        "\n",
        "# create parallel plot with custom colors\n",
        "fig_parallel_writing = px.parallel_categories(\n",
        "    df_parallel_writing,\n",
        "    color='WritingScore',\n",
        "    color_continuous_scale=color_scale)\n",
        "\n",
        "# change legend to show categorical names\n",
        "fig_parallel_writing.update_layout(\n",
        "    coloraxis_colorbar=dict(\n",
        "        tickvals=[0, 1, 2, 3, 4],\n",
        "        ticktext=list(labels_map.values())\n",
        "    )\n",
        ")\n",
        "#show figure\n",
        "fig_parallel_writing.write_html('outputs/html/parallel_plot_writing.html')\n",
        "fig_parallel_writing.show()"
      ]
    }
  ],
  "metadata": {
    "accelerator": "GPU",
    "colab": {
      "name": "Data Practitioner Jupyter Notebook.ipynb",
      "provenance": [],
      "toc_visible": true
    },
    "interpreter": {
      "hash": "8b8334dab9339717f727a1deaf837b322d7a41c20d15cc86be99a8e69ceec8ce"
    },
    "kernelspec": {
      "display_name": "Python 3.8.12 64-bit ('3.8.12': pyenv)",
      "name": "python3"
    },
    "language_info": {
      "codemirror_mode": {
        "name": "ipython",
        "version": 3
      },
      "file_extension": ".py",
      "mimetype": "text/x-python",
      "name": "python",
      "nbconvert_exporter": "python",
      "pygments_lexer": "ipython3",
      "version": "3.12.1"
    },
    "orig_nbformat": 2
  },
  "nbformat": 4,
  "nbformat_minor": 2
}
