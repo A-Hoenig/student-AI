{
  "cells": [
    {
      "cell_type": "markdown",
      "metadata": {
        "id": "0aStgWSO0E0E"
      },
      "source": [
        "# **STUDENT AI** - MATH MODEL CREATION (CLASSIFICATION)"
      ]
    },
    {
      "cell_type": "markdown",
      "metadata": {
        "id": "1eLEkw5O0ECa"
      },
      "source": [
        "## Objectives\n",
        "\n",
        "Create a classification model to predict Math score based on Key dataset features. Numerical variables will be grouped into bins. <br> \n",
        "Since the 3 bin classification did not yield promising results, the same steps will be repeated using the 2 bin classification.\n",
        "\n",
        "## Inputs\n",
        "\n",
        "Continues to assess dataset loaded in previous notebook.\n",
        "\n",
        "## Outputs\n",
        "\n",
        "None. Assesses whether the 2 bin classification is viable.\n"
      ]
    },
    {
      "cell_type": "markdown",
      "metadata": {
        "id": "9uWZXH9LwoQg"
      },
      "source": [
        "---"
      ]
    },
    {
      "cell_type": "markdown",
      "metadata": {},
      "source": [
        "# Import required libraries"
      ]
    },
    {
      "cell_type": "code",
      "execution_count": 1,
      "metadata": {},
      "outputs": [
        {
          "name": "stderr",
          "output_type": "stream",
          "text": [
            "/workspace/.pyenv_mirror/user/3.8.18/lib/python3.8/site-packages/xgboost/compat.py:93: FutureWarning: pandas.Int64Index is deprecated and will be removed from pandas in a future version. Use pandas.Index with the appropriate dtype instead.\n",
            "  from pandas import MultiIndex, Int64Index\n"
          ]
        },
        {
          "name": "stdout",
          "output_type": "stream",
          "text": [
            "All Libraries Loaded\n"
          ]
        }
      ],
      "source": [
        "import os\n",
        "import io\n",
        "import joblib\n",
        "import numpy as np\n",
        "import pandas as pd\n",
        "import matplotlib.pyplot as plt\n",
        "import seaborn as sns\n",
        "sns.set_style('whitegrid')\n",
        "\n",
        "### Pipeline\n",
        "from sklearn.pipeline import Pipeline\n",
        "\n",
        "### Feature Engineering\n",
        "from feature_engine.encoding import OrdinalEncoder\n",
        "\n",
        "### Feature Scaling\n",
        "from sklearn.preprocessing import StandardScaler\n",
        "\n",
        "### libraries for custom transformer\n",
        "from sklearn.base import BaseEstimator, TransformerMixin\n",
        "\n",
        "### Feature Balancing\n",
        "from imblearn.pipeline import Pipeline as ImbPipeline\n",
        "from imblearn.under_sampling import RandomUnderSampler\n",
        "from imblearn.over_sampling import SMOTE\n",
        "\n",
        "### Feature  Selection\n",
        "from sklearn.feature_selection import SelectFromModel\n",
        "\n",
        "### ML algorithms \n",
        "from sklearn.tree import DecisionTreeClassifier \n",
        "from sklearn.ensemble import RandomForestClassifier\n",
        "from sklearn.ensemble import GradientBoostingClassifier \n",
        "from sklearn.ensemble import ExtraTreesClassifier\n",
        "from sklearn.ensemble import AdaBoostClassifier\n",
        "from xgboost import XGBClassifier\n",
        "from sklearn.linear_model import SGDClassifier\n",
        "\n",
        "### EqualFrequencyDiscretiser\n",
        "from feature_engine.discretisation import EqualFrequencyDiscretiser\n",
        "\n",
        "### packages for classification report and confusion matrix\n",
        "from sklearn.metrics import make_scorer, recall_score\n",
        "from IPython.display import display, HTML\n",
        "\n",
        "### Train test split\n",
        "from sklearn.model_selection import train_test_split\n",
        "\n",
        "### Packages for generating a classification report and confusion matrix\n",
        "from sklearn.metrics import classification_report, confusion_matrix\n",
        "\n",
        "### GridSearchCV\n",
        "from sklearn.model_selection import GridSearchCV\n",
        "\n",
        "### Load Custom Functions\n",
        "import io\n",
        "import sys\n",
        "sys.path.append('/workspace/student-AI/src')\n",
        "from data_management import save_analysis\n",
        "from data_management import confusion_matrix_and_report, clf_performance\n",
        "\n",
        "print('All Libraries Loaded')"
      ]
    },
    {
      "cell_type": "markdown",
      "metadata": {
        "id": "cqP-UeN-z3i2"
      },
      "source": [
        "# Change working directory"
      ]
    },
    {
      "cell_type": "markdown",
      "metadata": {
        "id": "aOGIGS-uz3i2"
      },
      "source": [
        "### Set the working directory to notebook parent folder\n",
        "If the output does not match, click **'clear all outputs'** and then **'restart'** the notebook. \n",
        "Then run cells from best to bottom."
      ]
    },
    {
      "cell_type": "code",
      "execution_count": 2,
      "metadata": {
        "id": "wZfF_j-Bz3i4",
        "outputId": "66943449-1436-4c3d-85c7-b85f9f78349b"
      },
      "outputs": [
        {
          "name": "stdout",
          "output_type": "stream",
          "text": [
            "If correct, Active Directory should read: /workspace/student-AI\n",
            "Active Directory: /workspace/student-AI\n"
          ]
        }
      ],
      "source": [
        "current_dir = os.getcwd()\n",
        "os.chdir(os.path.dirname(current_dir))\n",
        "current_dir = os.getcwd()\n",
        "print('If correct, Active Directory should read: /workspace/student-AI')\n",
        "print(f\"Active Directory: {current_dir}\")"
      ]
    },
    {
      "cell_type": "markdown",
      "metadata": {},
      "source": [
        "# Define Features and Settings to include in Model analysis"
      ]
    },
    {
      "cell_type": "markdown",
      "metadata": {},
      "source": [
        "### Load full dataset and to help choose which features and target to select"
      ]
    },
    {
      "cell_type": "code",
      "execution_count": 3,
      "metadata": {},
      "outputs": [],
      "source": [
        "# Path to csv dataset\n",
        "source = 'outputs/dataset/Expanded_data_with_more_features_clean.csv'"
      ]
    },
    {
      "cell_type": "code",
      "execution_count": 4,
      "metadata": {},
      "outputs": [
        {
          "data": {
            "text/html": [
              "\n",
              "    <table>\n",
              "        <tr>\n",
              "            <th style=\"text-align:center\">DataSet Summary</th>\n",
              "            <th style=\"text-align:center\">DataSet Statistics (for Numerical Variables)</th>\n",
              "        </tr>\n",
              "        <tr>\n",
              "            <td><pre><class 'pandas.core.frame.DataFrame'>\n",
              "RangeIndex: 30641 entries, 0 to 30640\n",
              "Data columns (total 14 columns):\n",
              " #   Column               Non-Null Count  Dtype \n",
              "---  ------               --------------  ----- \n",
              " 0   Gender               30641 non-null  object\n",
              " 1   EthnicGroup          30641 non-null  object\n",
              " 2   ParentEduc           30641 non-null  object\n",
              " 3   LunchType            30641 non-null  object\n",
              " 4   TestPrep             30641 non-null  object\n",
              " 5   ParentMaritalStatus  30641 non-null  object\n",
              " 6   PracticeSport        30641 non-null  object\n",
              " 7   IsFirstChild         30641 non-null  object\n",
              " 8   NrSiblings           30641 non-null  int64 \n",
              " 9   TransportMeans       30641 non-null  object\n",
              " 10  WklyStudyHours       30641 non-null  object\n",
              " 11  MathScore            30641 non-null  int64 \n",
              " 12  ReadingScore         30641 non-null  int64 \n",
              " 13  WritingScore         30641 non-null  int64 \n",
              "dtypes: int64(4), object(10)\n",
              "memory usage: 3.3+ MB\n",
              "</pre></td>\n",
              "            <td><table border=\"1\" class=\"dataframe\">\n",
              "  <thead>\n",
              "    <tr style=\"text-align: right;\">\n",
              "      <th></th>\n",
              "      <th>NrSiblings</th>\n",
              "      <th>MathScore</th>\n",
              "      <th>ReadingScore</th>\n",
              "      <th>WritingScore</th>\n",
              "    </tr>\n",
              "  </thead>\n",
              "  <tbody>\n",
              "    <tr>\n",
              "      <th>count</th>\n",
              "      <td>30641.000000</td>\n",
              "      <td>30641.000000</td>\n",
              "      <td>30641.000000</td>\n",
              "      <td>30641.000000</td>\n",
              "    </tr>\n",
              "    <tr>\n",
              "      <th>mean</th>\n",
              "      <td>2.138409</td>\n",
              "      <td>66.558402</td>\n",
              "      <td>69.377533</td>\n",
              "      <td>68.418622</td>\n",
              "    </tr>\n",
              "    <tr>\n",
              "      <th>std</th>\n",
              "      <td>1.420707</td>\n",
              "      <td>15.361616</td>\n",
              "      <td>14.758952</td>\n",
              "      <td>15.443525</td>\n",
              "    </tr>\n",
              "    <tr>\n",
              "      <th>min</th>\n",
              "      <td>0.000000</td>\n",
              "      <td>0.000000</td>\n",
              "      <td>10.000000</td>\n",
              "      <td>4.000000</td>\n",
              "    </tr>\n",
              "    <tr>\n",
              "      <th>25%</th>\n",
              "      <td>1.000000</td>\n",
              "      <td>56.000000</td>\n",
              "      <td>59.000000</td>\n",
              "      <td>58.000000</td>\n",
              "    </tr>\n",
              "    <tr>\n",
              "      <th>50%</th>\n",
              "      <td>2.000000</td>\n",
              "      <td>67.000000</td>\n",
              "      <td>70.000000</td>\n",
              "      <td>69.000000</td>\n",
              "    </tr>\n",
              "    <tr>\n",
              "      <th>75%</th>\n",
              "      <td>3.000000</td>\n",
              "      <td>78.000000</td>\n",
              "      <td>80.000000</td>\n",
              "      <td>79.000000</td>\n",
              "    </tr>\n",
              "    <tr>\n",
              "      <th>max</th>\n",
              "      <td>7.000000</td>\n",
              "      <td>100.000000</td>\n",
              "      <td>100.000000</td>\n",
              "      <td>100.000000</td>\n",
              "    </tr>\n",
              "  </tbody>\n",
              "</table></td>\n",
              "        </tr>\n",
              "    </table>\n"
            ],
            "text/plain": [
              "<IPython.core.display.HTML object>"
            ]
          },
          "metadata": {},
          "output_type": "display_data"
        }
      ],
      "source": [
        "df = pd.read_csv(source)\n",
        "\n",
        "# Capture df.info()\n",
        "buffer = io.StringIO()\n",
        "df.info(buf=buffer)\n",
        "info_str = buffer.getvalue()\n",
        "\n",
        "# Convert df.describe() to HTML\n",
        "describe_str = df.describe().to_html()\n",
        "\n",
        "# Display df.info() and df.describe() side by side with titles\n",
        "display(HTML(f\"\"\"\n",
        "    <table>\n",
        "        <tr>\n",
        "            <th style=\"text-align:center\">DataSet Summary</th>\n",
        "            <th style=\"text-align:center\">DataSet Statistics (for Numerical Variables)</th>\n",
        "        </tr>\n",
        "        <tr>\n",
        "            <td><pre>{info_str}</pre></td>\n",
        "            <td>{describe_str}</td>\n",
        "        </tr>\n",
        "    </table>\n",
        "\"\"\"))"
      ]
    },
    {
      "cell_type": "markdown",
      "metadata": {},
      "source": [
        "### Use summary above to setup which type of model to test / create\n",
        "once the test / performance is satifactory, set **save_model** to **True** to output the model to disk."
      ]
    },
    {
      "cell_type": "code",
      "execution_count": 5,
      "metadata": {},
      "outputs": [],
      "source": [
        "# setup features and target variable from dataset to use for model training\n",
        "feature_list = ['Gender', 'EthnicGroup', 'ParentEduc', 'LunchType', 'TestPrep']\n",
        "target_variable = 'MathScore'\n",
        "filters = feature_list + [target_variable]\n",
        "\n",
        "# set random state number (for reproducable results)\n",
        "rs = 42\n",
        "\n",
        "# set number of desired classes for discretizer\n",
        "classes = 2\n",
        "# set class labels - needs to match number of classes!\n",
        "    # 'Might need assistance', 'No assistance needed' -> n=2\n",
        "    # 'Might need assistance', 'Average', 'Above Avg' -> n=3\n",
        "    # 'Will need assistance','Might need assistance','Avg','Above Avg','Excellent' -> n=5\n",
        "class_labels = [\n",
        "    'Might need assistance', 'No assistance needed'\n",
        "    ]\n",
        "\n",
        "# Enable Traninig Set Balancing for Model\n",
        "balance = False    \n",
        "\n",
        "# Set the top n models to test from calculated best model list\n",
        "n = 2\n",
        "\n",
        "# Save model to disk?\n",
        "save_model = False\n",
        "\n",
        "# Set Model Version\n",
        "version = \"v2\""
      ]
    },
    {
      "cell_type": "markdown",
      "metadata": {},
      "source": [
        "---"
      ]
    },
    {
      "cell_type": "markdown",
      "metadata": {},
      "source": [
        "### Filter dataset"
      ]
    },
    {
      "cell_type": "code",
      "execution_count": 6,
      "metadata": {},
      "outputs": [
        {
          "data": {
            "text/html": [
              "<div>\n",
              "<style scoped>\n",
              "    .dataframe tbody tr th:only-of-type {\n",
              "        vertical-align: middle;\n",
              "    }\n",
              "\n",
              "    .dataframe tbody tr th {\n",
              "        vertical-align: top;\n",
              "    }\n",
              "\n",
              "    .dataframe thead th {\n",
              "        text-align: right;\n",
              "    }\n",
              "</style>\n",
              "<table border=\"1\" class=\"dataframe\">\n",
              "  <thead>\n",
              "    <tr style=\"text-align: right;\">\n",
              "      <th></th>\n",
              "      <th>Gender</th>\n",
              "      <th>EthnicGroup</th>\n",
              "      <th>ParentEduc</th>\n",
              "      <th>LunchType</th>\n",
              "      <th>TestPrep</th>\n",
              "      <th>MathScore</th>\n",
              "    </tr>\n",
              "  </thead>\n",
              "  <tbody>\n",
              "    <tr>\n",
              "      <th>0</th>\n",
              "      <td>female</td>\n",
              "      <td>C</td>\n",
              "      <td>bachelor</td>\n",
              "      <td>standard</td>\n",
              "      <td>not completed</td>\n",
              "      <td>71</td>\n",
              "    </tr>\n",
              "    <tr>\n",
              "      <th>1</th>\n",
              "      <td>female</td>\n",
              "      <td>C</td>\n",
              "      <td>college</td>\n",
              "      <td>standard</td>\n",
              "      <td>not completed</td>\n",
              "      <td>69</td>\n",
              "    </tr>\n",
              "    <tr>\n",
              "      <th>2</th>\n",
              "      <td>female</td>\n",
              "      <td>B</td>\n",
              "      <td>masters</td>\n",
              "      <td>standard</td>\n",
              "      <td>not completed</td>\n",
              "      <td>87</td>\n",
              "    </tr>\n",
              "    <tr>\n",
              "      <th>3</th>\n",
              "      <td>male</td>\n",
              "      <td>A</td>\n",
              "      <td>associates</td>\n",
              "      <td>free</td>\n",
              "      <td>not completed</td>\n",
              "      <td>45</td>\n",
              "    </tr>\n",
              "    <tr>\n",
              "      <th>4</th>\n",
              "      <td>male</td>\n",
              "      <td>C</td>\n",
              "      <td>college</td>\n",
              "      <td>standard</td>\n",
              "      <td>not completed</td>\n",
              "      <td>76</td>\n",
              "    </tr>\n",
              "    <tr>\n",
              "      <th>...</th>\n",
              "      <td>...</td>\n",
              "      <td>...</td>\n",
              "      <td>...</td>\n",
              "      <td>...</td>\n",
              "      <td>...</td>\n",
              "      <td>...</td>\n",
              "    </tr>\n",
              "    <tr>\n",
              "      <th>30636</th>\n",
              "      <td>female</td>\n",
              "      <td>D</td>\n",
              "      <td>highschool</td>\n",
              "      <td>standard</td>\n",
              "      <td>not completed</td>\n",
              "      <td>59</td>\n",
              "    </tr>\n",
              "    <tr>\n",
              "      <th>30637</th>\n",
              "      <td>male</td>\n",
              "      <td>E</td>\n",
              "      <td>highschool</td>\n",
              "      <td>standard</td>\n",
              "      <td>not completed</td>\n",
              "      <td>58</td>\n",
              "    </tr>\n",
              "    <tr>\n",
              "      <th>30638</th>\n",
              "      <td>female</td>\n",
              "      <td>C</td>\n",
              "      <td>highschool</td>\n",
              "      <td>free</td>\n",
              "      <td>completed</td>\n",
              "      <td>61</td>\n",
              "    </tr>\n",
              "    <tr>\n",
              "      <th>30639</th>\n",
              "      <td>female</td>\n",
              "      <td>D</td>\n",
              "      <td>associates</td>\n",
              "      <td>standard</td>\n",
              "      <td>completed</td>\n",
              "      <td>82</td>\n",
              "    </tr>\n",
              "    <tr>\n",
              "      <th>30640</th>\n",
              "      <td>male</td>\n",
              "      <td>B</td>\n",
              "      <td>college</td>\n",
              "      <td>standard</td>\n",
              "      <td>not completed</td>\n",
              "      <td>64</td>\n",
              "    </tr>\n",
              "  </tbody>\n",
              "</table>\n",
              "<p>30641 rows × 6 columns</p>\n",
              "</div>"
            ],
            "text/plain": [
              "       Gender EthnicGroup  ParentEduc LunchType       TestPrep  MathScore\n",
              "0      female           C    bachelor  standard  not completed         71\n",
              "1      female           C     college  standard  not completed         69\n",
              "2      female           B     masters  standard  not completed         87\n",
              "3        male           A  associates      free  not completed         45\n",
              "4        male           C     college  standard  not completed         76\n",
              "...       ...         ...         ...       ...            ...        ...\n",
              "30636  female           D  highschool  standard  not completed         59\n",
              "30637    male           E  highschool  standard  not completed         58\n",
              "30638  female           C  highschool      free      completed         61\n",
              "30639  female           D  associates  standard      completed         82\n",
              "30640    male           B     college  standard  not completed         64\n",
              "\n",
              "[30641 rows x 6 columns]"
            ]
          },
          "execution_count": 6,
          "metadata": {},
          "output_type": "execute_result"
        }
      ],
      "source": [
        "df = df.filter(filters)\n",
        "df"
      ]
    },
    {
      "cell_type": "markdown",
      "metadata": {},
      "source": [
        "### Setup test pipeline for evaluation"
      ]
    },
    {
      "cell_type": "code",
      "execution_count": 7,
      "metadata": {},
      "outputs": [],
      "source": [
        "def PipelineOptimization(model):\n",
        "    pipeline_base = Pipeline([\n",
        "\n",
        "        (\"OrdinalCategoricalEncoder\", OrdinalEncoder(\n",
        "            encoding_method='arbitrary', \n",
        "            variables=feature_list\n",
        "                )\n",
        "                ),\n",
        "\n",
        "        (\"feature_selection\", SelectFromModel(model)),\n",
        "\n",
        "        (\"model\", model),\n",
        "\n",
        "    ])\n",
        "\n",
        "    return pipeline_base"
      ]
    },
    {
      "cell_type": "markdown",
      "metadata": {},
      "source": [
        "### Setup model algorithms and blank default hyperparameters\n",
        "list of default hyperparameters provided by CodeInstitute ML course bonus material."
      ]
    },
    {
      "cell_type": "code",
      "execution_count": 8,
      "metadata": {},
      "outputs": [],
      "source": [
        "models_list = {\n",
        "    \"XGBClassifier\": XGBClassifier(random_state=rs),\n",
        "    \"DecisionTreeClassifier\": DecisionTreeClassifier(random_state=rs),\n",
        "    \"RandomForestClassifier\": RandomForestClassifier(random_state=rs),\n",
        "    \"GradientBoostingClassifier\": GradientBoostingClassifier(random_state=rs),\n",
        "    \"ExtraTreesClassifier\": ExtraTreesClassifier(random_state=rs),\n",
        "    \"AdaBoostClassifier\": AdaBoostClassifier(random_state=rs),\n",
        "}\n",
        "\n",
        "parameter_defaults = {\n",
        "    \"LinearRegression\":{},\n",
        "    \"LogisticRegression\":{},\n",
        "    \"DecisionTreeRegressor\":{},\n",
        "    \"RandomForestRegressor\":{},\n",
        "    \"GradientBoostingRegressor\":{},\n",
        "    \"AdaBoostRegressor\":{},\n",
        "    \"XGBRegressor\":{},\n",
        "    \"ExtraTreesRegressor\":{},\n",
        "    \n",
        "    \"XGBClassifier\":{},\n",
        "    \"DecisionTreeClassifier\":{},\n",
        "    \"RandomForestClassifier\":{},\n",
        "    \"GradientBoostingClassifier\":{},\n",
        "    \"ExtraTreesClassifier\":{},\n",
        "    \"AdaBoostClassifier\":{},\n",
        "}\n",
        "\n",
        "parameter_list = {\n",
        "    # Regression Models Default Hyperparameters\n",
        "    \"LinearRegression\":{},\n",
        "\n",
        "    \"LogisticRegression\":{'model__penalty': [\"l2\",\"l1\", \"elasticnet\"],\n",
        "                          'model__C': [1, 0.5, 2],\n",
        "                          'model__tol': [1e-4,1e-3,1e-5],\n",
        "                            },\n",
        "\n",
        "    \"DecisionTreeRegressor\":{'model__max_depth': [None,4, 15],\n",
        "                             'model__min_samples_split': [2,50],\n",
        "                             'model__min_samples_leaf': [1,50],\n",
        "                             'model__max_leaf_nodes': [None,50],\n",
        "                            },\n",
        "\n",
        "    \"RandomForestRegressor\":{'model__n_estimators': [100,50, 140],\n",
        "                             'model__max_depth': [None,4, 15],\n",
        "                             'model__min_samples_split': [2,50],\n",
        "                             'model__min_samples_leaf': [1,50],\n",
        "                             'model__max_leaf_nodes': [None,50],\n",
        "                            },\n",
        "\n",
        "    \"GradientBoostingRegressor\":{'model__n_estimators': [100,50,140],\n",
        "                                  'model__learning_rate':[0.1, 0.01, 0.001],\n",
        "                                  'model__max_depth': [3,15, None],\n",
        "                                  'model__min_samples_split': [2,50],\n",
        "                                  'model__min_samples_leaf': [1,50],\n",
        "                                  'model__max_leaf_nodes': [None,50],\n",
        "                            },\n",
        "\n",
        "    \"AdaBoostRegressor\":{'model__n_estimators': [50,25,80,150],\n",
        "                          'model__learning_rate':[1,0.1, 2],\n",
        "                          'model__loss':['linear', 'square', 'exponential'],\n",
        "                            },\n",
        "\n",
        "    \"XGBRegressor\":{'model__n_estimators': [30,80,200],\n",
        "                    'model__max_depth': [None, 3, 15],\n",
        "                    'model__learning_rate': [0.01,0.1,0.001],\n",
        "                    'model__gamma': [0, 0.1],\n",
        "                            },\n",
        "    \"ExtraTreesRegressor\":{'model__n_estimators': [100,50,150],\n",
        "                          'model__max_depth': [None, 3, 15],\n",
        "                          'model__min_samples_split': [2, 50],\n",
        "                          'model__min_samples_leaf': [1,50],\n",
        "                            },\n",
        "                            \n",
        "    # Classifier Models Default Hyperparameters\n",
        "    \"XGBClassifier\":{'model__n_estimators': [30,80,200],\n",
        "                      'model__max_depth': [None, 3, 15],\n",
        "                      'model__learning_rate': [0.01,0.1,0.001],\n",
        "                      'model__gamma': [0, 0.1],\n",
        "                            },\n",
        "\n",
        "    \"DecisionTreeClassifier\":{'model__max_depth': [None,4, 15],\n",
        "                              'model__min_samples_split': [2,50],\n",
        "                              'model__min_samples_leaf': [1,50],\n",
        "                              'model__max_leaf_nodes': [None,50],\n",
        "                            },\n",
        "\n",
        "    \"GradientBoostingClassifier\":{'model__n_estimators': [100,50,140],\n",
        "                                  'model__learning_rate':[0.1, 0.01, 0.001],\n",
        "                                  'model__max_depth': [3,15, None],\n",
        "                                  'model__min_samples_split': [2,50],\n",
        "                                  'model__min_samples_leaf': [1,50],\n",
        "                                  'model__max_leaf_nodes': [None,50],\n",
        "                            },\n",
        "\n",
        "    \"RandomForestClassifier\":{'model__n_estimators': [100,50,140],\n",
        "                             'model__max_depth': [None,4, 15],\n",
        "                             'model__min_samples_split': [2,50],\n",
        "                             'model__min_samples_leaf': [1,50],\n",
        "                             'model__max_leaf_nodes': [None,50],\n",
        "                            },\n",
        "\n",
        "    \"AdaBoostClassifier\":{'model__n_estimators': [50,25,80,150],\n",
        "                          'model__learning_rate':[1,0.1, 2],\n",
        "                            },\n",
        "\n",
        "    \"ExtraTreesClassifier\":{'model__n_estimators': [100,50,150],\n",
        "                          'model__max_depth': [None, 3, 15],\n",
        "                          'model__min_samples_split': [2, 50],\n",
        "                          'model__min_samples_leaf': [1,50],\n",
        "                            },\n",
        "\n",
        "  }"
      ]
    },
    {
      "cell_type": "markdown",
      "metadata": {},
      "source": [
        "### Custom Hyperparameter search class (same as previous notebook)\n",
        "\n",
        "To select the best algorithm and hyperparameters we will fit a model with each different type / parameter set and compare the results.\n",
        "To do this I can use the custom parameter test function, derived in the CodeInstitute Churnometer Walkthrough [here](https://github.com/AdamBoley/churnometer/blob/main/jupyter_notebooks/06%20-%20Modeling%20and%20Evaluation%20-%20Predict%20Tenure.ipynb)"
      ]
    },
    {
      "cell_type": "code",
      "execution_count": 9,
      "metadata": {},
      "outputs": [],
      "source": [
        "from sklearn.model_selection import GridSearchCV\n",
        "class HyperparameterOptimizationSearch:\n",
        "\n",
        "    def __init__(self, models, parameters):\n",
        "        self.models = models\n",
        "        self.parameters = parameters\n",
        "        self.keys = models.keys()\n",
        "        self.grid_searches = {}\n",
        "\n",
        "    def fit(self, x, y, cv, n_jobs, verbose=1, scoring=None, refit=False):\n",
        "        for key in self.keys:\n",
        "            print(f\"\\nRunning GridSearchCV for {key} \\n\")\n",
        "            model =  PipelineOptimization(self.models[key])\n",
        "\n",
        "            parameters = self.parameters[key]\n",
        "            grid_search = GridSearchCV(model, parameters, cv=cv, n_jobs=n_jobs, verbose=verbose, scoring=scoring)\n",
        "            grid_search.fit(x, y)\n",
        "            self.grid_searches[key] = grid_search\n",
        "\n",
        "    def score_summary(self, sort_by='mean_score'):\n",
        "        def row(key, scores, parameters):\n",
        "            summary = {\n",
        "                 'estimator': key,\n",
        "                 'minimum_score': min(scores),\n",
        "                 'maximum_score': max(scores),\n",
        "                 'mean_score': np.mean(scores),\n",
        "                 'standard_deviation_score': np.std(scores),\n",
        "            }\n",
        "            return pd.Series({**parameters,**summary})\n",
        "\n",
        "        rows = []\n",
        "        for k in self.grid_searches:\n",
        "            parameters = self.grid_searches[k].cv_results_['params']\n",
        "            scores = []\n",
        "            for i in range(self.grid_searches[k].cv):\n",
        "                key = \"split{}_test_score\".format(i)\n",
        "                result = self.grid_searches[k].cv_results_[key]        \n",
        "                scores.append(result.reshape(len(parameters), 1))\n",
        "\n",
        "            all_scores = np.hstack(scores)\n",
        "            for p, s in zip(parameters, all_scores):\n",
        "                rows.append((row(k, s, p)))\n",
        "\n",
        "        df = pd.concat(rows, axis=1).T.sort_values([sort_by], ascending=False)\n",
        "\n",
        "        columns = ['estimator', 'minimum_score', 'mean_score', 'maximum_score', 'standard_deviation_score']\n",
        "        columns = columns + [column for column in df.columns if column not in columns]\n",
        "\n",
        "        return df[columns], self.grid_searches"
      ]
    },
    {
      "cell_type": "markdown",
      "metadata": {},
      "source": [
        "### Create classification bins (2 bins)"
      ]
    },
    {
      "cell_type": "code",
      "execution_count": 10,
      "metadata": {},
      "outputs": [
        {
          "name": "stdout",
          "output_type": "stream",
          "text": [
            "* The classes represent the following ranges: \n",
            "{'MathScore': [-inf, 67.0, inf]} \n",
            "\n"
          ]
        },
        {
          "data": {
            "image/png": "[encoded data removed]",
            "text/plain": [
              "<Figure size 640x480 with 1 Axes>"
            ]
          },
          "metadata": {},
          "output_type": "display_data"
        }
      ],
      "source": [
        "efd = EqualFrequencyDiscretiser(q=classes, variables=target_variable)\n",
        "df_discretized = efd.fit_transform(df)\n",
        "print(f\"* The classes represent the following ranges: \\n{efd.binner_dict_} \\n\")\n",
        "\n",
        "fig_df_discretized = sns.countplot(data=df_discretized, x=target_variable)\n",
        "# Add custom labels\n",
        "for container in fig_df_discretized.containers:\n",
        "    plt.bar_label(container, label_type='edge')\n",
        "plt.xticks([0, 1], class_labels)\n",
        "\n",
        "plt.show()"
      ]
    },
    {
      "cell_type": "code",
      "execution_count": 12,
      "metadata": {},
      "outputs": [
        {
          "data": {
            "text/html": [
              "<div>\n",
              "<style scoped>\n",
              "    .dataframe tbody tr th:only-of-type {\n",
              "        vertical-align: middle;\n",
              "    }\n",
              "\n",
              "    .dataframe tbody tr th {\n",
              "        vertical-align: top;\n",
              "    }\n",
              "\n",
              "    .dataframe thead th {\n",
              "        text-align: right;\n",
              "    }\n",
              "</style>\n",
              "<table border=\"1\" class=\"dataframe\">\n",
              "  <thead>\n",
              "    <tr style=\"text-align: right;\">\n",
              "      <th></th>\n",
              "      <th>Gender</th>\n",
              "      <th>EthnicGroup</th>\n",
              "      <th>ParentEduc</th>\n",
              "      <th>LunchType</th>\n",
              "      <th>TestPrep</th>\n",
              "      <th>MathScore</th>\n",
              "    </tr>\n",
              "  </thead>\n",
              "  <tbody>\n",
              "    <tr>\n",
              "      <th>0</th>\n",
              "      <td>female</td>\n",
              "      <td>C</td>\n",
              "      <td>bachelor</td>\n",
              "      <td>standard</td>\n",
              "      <td>not completed</td>\n",
              "      <td>1</td>\n",
              "    </tr>\n",
              "    <tr>\n",
              "      <th>1</th>\n",
              "      <td>female</td>\n",
              "      <td>C</td>\n",
              "      <td>college</td>\n",
              "      <td>standard</td>\n",
              "      <td>not completed</td>\n",
              "      <td>1</td>\n",
              "    </tr>\n",
              "    <tr>\n",
              "      <th>2</th>\n",
              "      <td>female</td>\n",
              "      <td>B</td>\n",
              "      <td>masters</td>\n",
              "      <td>standard</td>\n",
              "      <td>not completed</td>\n",
              "      <td>1</td>\n",
              "    </tr>\n",
              "    <tr>\n",
              "      <th>3</th>\n",
              "      <td>male</td>\n",
              "      <td>A</td>\n",
              "      <td>associates</td>\n",
              "      <td>free</td>\n",
              "      <td>not completed</td>\n",
              "      <td>0</td>\n",
              "    </tr>\n",
              "    <tr>\n",
              "      <th>4</th>\n",
              "      <td>male</td>\n",
              "      <td>C</td>\n",
              "      <td>college</td>\n",
              "      <td>standard</td>\n",
              "      <td>not completed</td>\n",
              "      <td>1</td>\n",
              "    </tr>\n",
              "  </tbody>\n",
              "</table>\n",
              "</div>"
            ],
            "text/plain": [
              "   Gender EthnicGroup  ParentEduc LunchType       TestPrep  MathScore\n",
              "0  female           C    bachelor  standard  not completed          1\n",
              "1  female           C     college  standard  not completed          1\n",
              "2  female           B     masters  standard  not completed          1\n",
              "3    male           A  associates      free  not completed          0\n",
              "4    male           C     college  standard  not completed          1"
            ]
          },
          "execution_count": 12,
          "metadata": {},
          "output_type": "execute_result"
        }
      ],
      "source": [
        "df_discretized.head()"
      ]
    },
    {
      "cell_type": "markdown",
      "metadata": {},
      "source": [
        "### Start model tests\n",
        "split data into train and test sets and plot the results"
      ]
    },
    {
      "cell_type": "code",
      "execution_count": 13,
      "metadata": {},
      "outputs": [
        {
          "name": "stdout",
          "output_type": "stream",
          "text": [
            "* MathScore Train set: (24512, 5) (24512,) \n",
            "* MathScore Test set: (6129, 5) (6129,)\n"
          ]
        },
        {
          "data": {
            "image/png": "[encoded data removed]",
            "text/plain": [
              "<Figure size 800x400 with 2 Axes>"
            ]
          },
          "metadata": {},
          "output_type": "display_data"
        }
      ],
      "source": [
        "train_features, test_features, train_scores, test_scores = train_test_split(\n",
        "    df_discretized.drop(target_variable, axis=1),\n",
        "    df_discretized[target_variable],\n",
        "    test_size=0.2,\n",
        "    random_state=rs\n",
        ")\n",
        "\n",
        "print(f\"* {target_variable} Train set:\", train_features.shape, train_scores.shape, f\"\\n* {target_variable} Test set:\", test_features.shape, test_scores.shape)\n",
        "\n",
        "# Plot Styles\n",
        "sns.set_style(\"whitegrid\")\n",
        "pastel_palette = sns.color_palette(\"pastel\", n_colors=max(len(train_scores.value_counts()), len(test_scores.value_counts())))\n",
        "plt.figure(figsize=(8, 4))\n",
        "\n",
        "# Plot Train Set Distribution\n",
        "plt.subplot(1, 2, 1)\n",
        "train_counts = train_scores.value_counts()\n",
        "train_counts.plot(kind='bar', title=f'{target_variable} Train Set Distribution', color=pastel_palette[:len(train_counts)])\n",
        "\n",
        "# Add custom labels for the train set\n",
        "for container in plt.gca().containers:\n",
        "    plt.bar_label(container, label_type='edge')\n",
        "\n",
        "plt.xticks(ticks=range(len(train_counts)), labels=class_labels, rotation=45, ha='right')\n",
        "\n",
        "# Plot Test Set Distribution\n",
        "plt.subplot(1, 2, 2)\n",
        "test_counts = test_scores.value_counts()\n",
        "test_counts.plot(kind='bar', title=f'{target_variable} Test Set Distribution', color=pastel_palette[:len(test_counts)])\n",
        "\n",
        "# Add custom labels for the test set\n",
        "for container in plt.gca().containers:\n",
        "    plt.bar_label(container, label_type='edge')\n",
        "\n",
        "plt.xticks(ticks=range(len(test_counts)), labels=class_labels, rotation=45, ha='right')\n",
        "\n",
        "plt.tight_layout()\n",
        "plt.show()"
      ]
    },
    {
      "cell_type": "markdown",
      "metadata": {},
      "source": [
        "### Balance Data If Required"
      ]
    },
    {
      "cell_type": "code",
      "execution_count": 14,
      "metadata": {},
      "outputs": [
        {
          "name": "stdout",
          "output_type": "stream",
          "text": [
            "** Balancing Step skipped **\n"
          ]
        }
      ],
      "source": [
        "if balance:\n",
        "    undersample = RandomUnderSampler(random_state=0)\n",
        "    train_features, train_scores = undersample.fit_resample(train_features, train_scores)\n",
        "    print('** Balanced Dataset Shape **\\n')\n",
        "    print(f\"* {target_variable} Train set:\", train_features.shape, train_scores.shape, f\"\\n* {target_variable} Test set:\", test_features.shape, test_scores.shape)\n",
        "\n",
        "    # Plot Styles\n",
        "    sns.set_style(\"whitegrid\")\n",
        "    pastel_palette = sns.color_palette(\"pastel\", n_colors=max(len(train_scores.value_counts()), len(test_scores.value_counts())))\n",
        "    plt.figure(figsize=(8, 4))\n",
        "\n",
        "    # Plot Train Set Distribution\n",
        "    plt.subplot(1, 2, 1)\n",
        "    train_counts = train_scores.value_counts()\n",
        "    train_counts.plot(kind='bar', title=f'{target_variable} Train Set Distribution', color=pastel_palette[:len(train_counts)])\n",
        "\n",
        "    # Add custom labels for the train set\n",
        "    for container in plt.gca().containers:\n",
        "        plt.bar_label(container, label_type='edge')\n",
        "\n",
        "    plt.xticks(ticks=range(len(train_counts)), labels=class_labels, rotation=45, ha='right')\n",
        "\n",
        "    # Plot Test Set Distribution\n",
        "    plt.subplot(1, 2, 2)\n",
        "    test_counts = test_scores.value_counts()\n",
        "    test_counts.plot(kind='bar', title=f'{target_variable} Test Set Distribution', color=pastel_palette[:len(test_counts)])\n",
        "\n",
        "    # Add custom labels for the test set\n",
        "    for container in plt.gca().containers:\n",
        "        plt.bar_label(container, label_type='edge')\n",
        "\n",
        "    plt.xticks(ticks=range(len(test_counts)), labels=class_labels, rotation=45, ha='right')\n",
        "\n",
        "    plt.tight_layout()\n",
        "    plt.show()\n",
        "\n",
        "else:\n",
        "    print('** Balancing Step skipped **')"
      ]
    },
    {
      "cell_type": "markdown",
      "metadata": {},
      "source": [
        "### Search for best algorithm using default hyperparameters"
      ]
    },
    {
      "cell_type": "code",
      "execution_count": 15,
      "metadata": {},
      "outputs": [
        {
          "name": "stdout",
          "output_type": "stream",
          "text": [
            "\n",
            "Running GridSearchCV for XGBClassifier \n",
            "\n",
            "Fitting 5 folds for each of 1 candidates, totalling 5 fits\n"
          ]
        },
        {
          "name": "stderr",
          "output_type": "stream",
          "text": [
            "/workspace/.pyenv_mirror/user/3.8.18/lib/python3.8/site-packages/xgboost/compat.py:93: FutureWarning: pandas.Int64Index is deprecated and will be removed from pandas in a future version. Use pandas.Index with the appropriate dtype instead.\n",
            "  from pandas import MultiIndex, Int64Index\n",
            "/workspace/.pyenv_mirror/user/3.8.18/lib/python3.8/site-packages/xgboost/compat.py:93: FutureWarning: pandas.Int64Index is deprecated and will be removed from pandas in a future version. Use pandas.Index with the appropriate dtype instead.\n",
            "  from pandas import MultiIndex, Int64Index\n",
            "/workspace/.pyenv_mirror/user/3.8.18/lib/python3.8/site-packages/xgboost/compat.py:93: FutureWarning: pandas.Int64Index is deprecated and will be removed from pandas in a future version. Use pandas.Index with the appropriate dtype instead.\n",
            "  from pandas import MultiIndex, Int64Index\n",
            "/workspace/.pyenv_mirror/user/3.8.18/lib/python3.8/site-packages/xgboost/compat.py:93: FutureWarning: pandas.Int64Index is deprecated and will be removed from pandas in a future version. Use pandas.Index with the appropriate dtype instead.\n",
            "  from pandas import MultiIndex, Int64Index\n",
            "/workspace/.pyenv_mirror/user/3.8.18/lib/python3.8/site-packages/xgboost/compat.py:93: FutureWarning: pandas.Int64Index is deprecated and will be removed from pandas in a future version. Use pandas.Index with the appropriate dtype instead.\n",
            "  from pandas import MultiIndex, Int64Index\n",
            "/workspace/.pyenv_mirror/user/3.8.18/lib/python3.8/site-packages/xgboost/data.py:173: FutureWarning: pandas.Int64Index is deprecated and will be removed from pandas in a future version. Use pandas.Index with the appropriate dtype instead.\n",
            "  from pandas import MultiIndex, Int64Index\n",
            "/workspace/.pyenv_mirror/user/3.8.18/lib/python3.8/site-packages/xgboost/data.py:173: FutureWarning: pandas.Int64Index is deprecated and will be removed from pandas in a future version. Use pandas.Index with the appropriate dtype instead.\n",
            "  from pandas import MultiIndex, Int64Index\n",
            "/workspace/.pyenv_mirror/user/3.8.18/lib/python3.8/site-packages/xgboost/data.py:173: FutureWarning: pandas.Int64Index is deprecated and will be removed from pandas in a future version. Use pandas.Index with the appropriate dtype instead.\n",
            "  from pandas import MultiIndex, Int64Index\n",
            "/workspace/.pyenv_mirror/user/3.8.18/lib/python3.8/site-packages/xgboost/data.py:173: FutureWarning: pandas.Int64Index is deprecated and will be removed from pandas in a future version. Use pandas.Index with the appropriate dtype instead.\n",
            "  from pandas import MultiIndex, Int64Index\n",
            "/workspace/.pyenv_mirror/user/3.8.18/lib/python3.8/site-packages/xgboost/data.py:173: FutureWarning: pandas.Int64Index is deprecated and will be removed from pandas in a future version. Use pandas.Index with the appropriate dtype instead.\n",
            "  from pandas import MultiIndex, Int64Index\n",
            "/workspace/.pyenv_mirror/user/3.8.18/lib/python3.8/site-packages/xgboost/data.py:173: FutureWarning: pandas.Int64Index is deprecated and will be removed from pandas in a future version. Use pandas.Index with the appropriate dtype instead.\n",
            "  from pandas import MultiIndex, Int64Index\n"
          ]
        },
        {
          "name": "stdout",
          "output_type": "stream",
          "text": [
            "\n",
            "Running GridSearchCV for DecisionTreeClassifier \n",
            "\n",
            "Fitting 5 folds for each of 1 candidates, totalling 5 fits\n",
            "\n",
            "Running GridSearchCV for RandomForestClassifier \n",
            "\n",
            "Fitting 5 folds for each of 1 candidates, totalling 5 fits\n",
            "\n",
            "Running GridSearchCV for GradientBoostingClassifier \n",
            "\n",
            "Fitting 5 folds for each of 1 candidates, totalling 5 fits\n",
            "\n",
            "Running GridSearchCV for ExtraTreesClassifier \n",
            "\n",
            "Fitting 5 folds for each of 1 candidates, totalling 5 fits\n",
            "\n",
            "Running GridSearchCV for AdaBoostClassifier \n",
            "\n",
            "Fitting 5 folds for each of 1 candidates, totalling 5 fits\n"
          ]
        }
      ],
      "source": [
        "model_search = HyperparameterOptimizationSearch(models=models_list, parameters=parameter_defaults)\n",
        "model_search.fit(train_features, train_scores, scoring=make_scorer(recall_score, labels=[0], average=None), n_jobs=-1, cv=5)"
      ]
    },
    {
      "cell_type": "code",
      "execution_count": 16,
      "metadata": {},
      "outputs": [
        {
          "data": {
            "text/html": [
              "<div>\n",
              "<style scoped>\n",
              "    .dataframe tbody tr th:only-of-type {\n",
              "        vertical-align: middle;\n",
              "    }\n",
              "\n",
              "    .dataframe tbody tr th {\n",
              "        vertical-align: top;\n",
              "    }\n",
              "\n",
              "    .dataframe thead th {\n",
              "        text-align: right;\n",
              "    }\n",
              "</style>\n",
              "<table border=\"1\" class=\"dataframe\">\n",
              "  <thead>\n",
              "    <tr style=\"text-align: right;\">\n",
              "      <th></th>\n",
              "      <th>estimator</th>\n",
              "      <th>minimum_score</th>\n",
              "      <th>mean_score</th>\n",
              "      <th>maximum_score</th>\n",
              "      <th>standard_deviation_score</th>\n",
              "    </tr>\n",
              "  </thead>\n",
              "  <tbody>\n",
              "    <tr>\n",
              "      <th>5</th>\n",
              "      <td>AdaBoostClassifier</td>\n",
              "      <td>0.695822</td>\n",
              "      <td>0.707536</td>\n",
              "      <td>0.722374</td>\n",
              "      <td>0.010221</td>\n",
              "    </tr>\n",
              "    <tr>\n",
              "      <th>1</th>\n",
              "      <td>DecisionTreeClassifier</td>\n",
              "      <td>0.476767</td>\n",
              "      <td>0.488715</td>\n",
              "      <td>0.504881</td>\n",
              "      <td>0.010169</td>\n",
              "    </tr>\n",
              "    <tr>\n",
              "      <th>2</th>\n",
              "      <td>RandomForestClassifier</td>\n",
              "      <td>0.476767</td>\n",
              "      <td>0.488715</td>\n",
              "      <td>0.504881</td>\n",
              "      <td>0.010169</td>\n",
              "    </tr>\n",
              "    <tr>\n",
              "      <th>3</th>\n",
              "      <td>GradientBoostingClassifier</td>\n",
              "      <td>0.476767</td>\n",
              "      <td>0.488715</td>\n",
              "      <td>0.504881</td>\n",
              "      <td>0.010169</td>\n",
              "    </tr>\n",
              "    <tr>\n",
              "      <th>4</th>\n",
              "      <td>ExtraTreesClassifier</td>\n",
              "      <td>0.476767</td>\n",
              "      <td>0.488715</td>\n",
              "      <td>0.504881</td>\n",
              "      <td>0.010169</td>\n",
              "    </tr>\n",
              "    <tr>\n",
              "      <th>0</th>\n",
              "      <td>XGBClassifier</td>\n",
              "      <td>0.465053</td>\n",
              "      <td>0.483561</td>\n",
              "      <td>0.496291</td>\n",
              "      <td>0.01101</td>\n",
              "    </tr>\n",
              "  </tbody>\n",
              "</table>\n",
              "</div>"
            ],
            "text/plain": [
              "                    estimator minimum_score mean_score maximum_score  \\\n",
              "5          AdaBoostClassifier      0.695822   0.707536      0.722374   \n",
              "1      DecisionTreeClassifier      0.476767   0.488715      0.504881   \n",
              "2      RandomForestClassifier      0.476767   0.488715      0.504881   \n",
              "3  GradientBoostingClassifier      0.476767   0.488715      0.504881   \n",
              "4        ExtraTreesClassifier      0.476767   0.488715      0.504881   \n",
              "0               XGBClassifier      0.465053   0.483561      0.496291   \n",
              "\n",
              "  standard_deviation_score  \n",
              "5                 0.010221  \n",
              "1                 0.010169  \n",
              "2                 0.010169  \n",
              "3                 0.010169  \n",
              "4                 0.010169  \n",
              "0                  0.01101  "
            ]
          },
          "execution_count": 16,
          "metadata": {},
          "output_type": "execute_result"
        }
      ],
      "source": [
        "classifier_summary, grid_search_pipelines = model_search.score_summary(sort_by='mean_score')\n",
        "classifier_summary"
      ]
    },
    {
      "cell_type": "markdown",
      "metadata": {},
      "source": [
        "### Analysis\n",
        "Reducing the bins to 2 has achieved an acceptable result of 0.68 above a desired mean score of 0.6. The AdaBoostClassifier was clearly the best. The next best algorithm (DecisionTree) was significantly lower ... I do not expect updated hyperparameters to achieve a better value, but I will run the test nonetheless."
      ]
    },
    {
      "cell_type": "markdown",
      "metadata": {},
      "source": [
        "### Determine best n models and fetch their recommended hyperparameters from the list:\n",
        "In the function below uses **n** set at the beginning of the notebook to set how many of the best models to test with alternate hyperparameters. **Default should be 1 or 2**.<br>\n",
        "3 or more might not achieve any better results and also result in very long calculation times!"
      ]
    },
    {
      "cell_type": "code",
      "execution_count": 17,
      "metadata": {},
      "outputs": [
        {
          "name": "stdout",
          "output_type": "stream",
          "text": [
            "Best 2 Models and hyperparameterlist for tuning:\n",
            "\n",
            "----------------------------------------\n",
            "Model: AdaBoostClassifier\n",
            "Parameters:\n",
            "  model__n_estimators: [50, 25, 80, 150]\n",
            "  model__learning_rate: [1, 0.1, 2]\n",
            "----------------------------------------\n",
            "Model: DecisionTreeClassifier\n",
            "Parameters:\n",
            "  model__max_depth: [None, 4, 15]\n",
            "  model__min_samples_split: [2, 50]\n",
            "  model__min_samples_leaf: [1, 50]\n",
            "  model__max_leaf_nodes: [None, 50]\n",
            "----------------------------------------\n"
          ]
        }
      ],
      "source": [
        "def select_best_n_with_params(performance_summary, models_dict, params_dict, n):\n",
        "    best_performers = performance_summary.sort_values(by='mean_score', ascending=False).head(n)\n",
        "    \n",
        "    best_models = {name: models_dict[name] for name in best_performers['estimator'] if name in models_dict}\n",
        "    best_params = {name: params_dict[name] for name in best_performers['estimator'] if name in params_dict}\n",
        "    \n",
        "    # Create human-readable format\n",
        "    print(f\"Best {n} Models and hyperparameterlist for tuning:\\n\")\n",
        "    print(\"-\" * 40)\n",
        "    for name in best_models:\n",
        "        print(f\"Model: {name}\")\n",
        "        print(\"Parameters:\")\n",
        "        if name in best_params:\n",
        "            for param, values in best_params[name].items():\n",
        "                print(f\"  {param}: {values}\")\n",
        "        else:\n",
        "            print(\"  No parameters listed.\")\n",
        "        print(\"-\" * 40)\n",
        "\n",
        "    return best_models, best_params\n",
        "\n",
        "best_models, best_params = select_best_n_with_params(classifier_summary, models_list, parameter_list, n)"
      ]
    },
    {
      "cell_type": "code",
      "execution_count": 18,
      "metadata": {},
      "outputs": [
        {
          "name": "stdout",
          "output_type": "stream",
          "text": [
            "\n",
            "Running GridSearchCV for AdaBoostClassifier \n",
            "\n",
            "Fitting 5 folds for each of 12 candidates, totalling 60 fits\n",
            "\n",
            "Running GridSearchCV for DecisionTreeClassifier \n",
            "\n",
            "Fitting 5 folds for each of 24 candidates, totalling 120 fits\n"
          ]
        }
      ],
      "source": [
        "parameters_search = HyperparameterOptimizationSearch(models=best_models, parameters=parameter_list)\n",
        "parameters_search.fit(train_features, train_scores, scoring=make_scorer(recall_score, labels=[0], average=None), n_jobs=-1, cv=5)"
      ]
    },
    {
      "cell_type": "code",
      "execution_count": 19,
      "metadata": {},
      "outputs": [
        {
          "data": {
            "text/html": [
              "<div>\n",
              "<style scoped>\n",
              "    .dataframe tbody tr th:only-of-type {\n",
              "        vertical-align: middle;\n",
              "    }\n",
              "\n",
              "    .dataframe tbody tr th {\n",
              "        vertical-align: top;\n",
              "    }\n",
              "\n",
              "    .dataframe thead th {\n",
              "        text-align: right;\n",
              "    }\n",
              "</style>\n",
              "<table border=\"1\" class=\"dataframe\">\n",
              "  <thead>\n",
              "    <tr style=\"text-align: right;\">\n",
              "      <th></th>\n",
              "      <th>estimator</th>\n",
              "      <th>minimum_score</th>\n",
              "      <th>mean_score</th>\n",
              "      <th>maximum_score</th>\n",
              "      <th>standard_deviation_score</th>\n",
              "      <th>model__learning_rate</th>\n",
              "      <th>model__n_estimators</th>\n",
              "      <th>model__max_depth</th>\n",
              "      <th>model__max_leaf_nodes</th>\n",
              "      <th>model__min_samples_leaf</th>\n",
              "      <th>model__min_samples_split</th>\n",
              "    </tr>\n",
              "  </thead>\n",
              "  <tbody>\n",
              "    <tr>\n",
              "      <th>4</th>\n",
              "      <td>AdaBoostClassifier</td>\n",
              "      <td>0.781335</td>\n",
              "      <td>0.809606</td>\n",
              "      <td>0.874658</td>\n",
              "      <td>0.033189</td>\n",
              "      <td>0.1</td>\n",
              "      <td>50</td>\n",
              "      <td>NaN</td>\n",
              "      <td>NaN</td>\n",
              "      <td>NaN</td>\n",
              "      <td>NaN</td>\n",
              "    </tr>\n",
              "    <tr>\n",
              "      <th>6</th>\n",
              "      <td>AdaBoostClassifier</td>\n",
              "      <td>0.755955</td>\n",
              "      <td>0.785865</td>\n",
              "      <td>0.80125</td>\n",
              "      <td>0.016347</td>\n",
              "      <td>0.1</td>\n",
              "      <td>80</td>\n",
              "      <td>NaN</td>\n",
              "      <td>NaN</td>\n",
              "      <td>NaN</td>\n",
              "      <td>NaN</td>\n",
              "    </tr>\n",
              "    <tr>\n",
              "      <th>5</th>\n",
              "      <td>AdaBoostClassifier</td>\n",
              "      <td>0.733307</td>\n",
              "      <td>0.779305</td>\n",
              "      <td>0.929324</td>\n",
              "      <td>0.075326</td>\n",
              "      <td>0.1</td>\n",
              "      <td>25</td>\n",
              "      <td>NaN</td>\n",
              "      <td>NaN</td>\n",
              "      <td>NaN</td>\n",
              "      <td>NaN</td>\n",
              "    </tr>\n",
              "    <tr>\n",
              "      <th>2</th>\n",
              "      <td>AdaBoostClassifier</td>\n",
              "      <td>0.696603</td>\n",
              "      <td>0.712066</td>\n",
              "      <td>0.730184</td>\n",
              "      <td>0.012467</td>\n",
              "      <td>1</td>\n",
              "      <td>80</td>\n",
              "      <td>NaN</td>\n",
              "      <td>NaN</td>\n",
              "      <td>NaN</td>\n",
              "      <td>NaN</td>\n",
              "    </tr>\n",
              "    <tr>\n",
              "      <th>3</th>\n",
              "      <td>AdaBoostClassifier</td>\n",
              "      <td>0.696603</td>\n",
              "      <td>0.712066</td>\n",
              "      <td>0.730184</td>\n",
              "      <td>0.012467</td>\n",
              "      <td>1</td>\n",
              "      <td>150</td>\n",
              "      <td>NaN</td>\n",
              "      <td>NaN</td>\n",
              "      <td>NaN</td>\n",
              "      <td>NaN</td>\n",
              "    </tr>\n",
              "  </tbody>\n",
              "</table>\n",
              "</div>"
            ],
            "text/plain": [
              "            estimator minimum_score mean_score maximum_score  \\\n",
              "4  AdaBoostClassifier      0.781335   0.809606      0.874658   \n",
              "6  AdaBoostClassifier      0.755955   0.785865       0.80125   \n",
              "5  AdaBoostClassifier      0.733307   0.779305      0.929324   \n",
              "2  AdaBoostClassifier      0.696603   0.712066      0.730184   \n",
              "3  AdaBoostClassifier      0.696603   0.712066      0.730184   \n",
              "\n",
              "  standard_deviation_score model__learning_rate model__n_estimators  \\\n",
              "4                 0.033189                  0.1                  50   \n",
              "6                 0.016347                  0.1                  80   \n",
              "5                 0.075326                  0.1                  25   \n",
              "2                 0.012467                    1                  80   \n",
              "3                 0.012467                    1                 150   \n",
              "\n",
              "  model__max_depth model__max_leaf_nodes model__min_samples_leaf  \\\n",
              "4              NaN                   NaN                     NaN   \n",
              "6              NaN                   NaN                     NaN   \n",
              "5              NaN                   NaN                     NaN   \n",
              "2              NaN                   NaN                     NaN   \n",
              "3              NaN                   NaN                     NaN   \n",
              "\n",
              "  model__min_samples_split  \n",
              "4                      NaN  \n",
              "6                      NaN  \n",
              "5                      NaN  \n",
              "2                      NaN  \n",
              "3                      NaN  "
            ]
          },
          "execution_count": 19,
          "metadata": {},
          "output_type": "execute_result"
        }
      ],
      "source": [
        "parameters_summary, parameters_pipeliness = parameters_search.score_summary(sort_by='mean_score')\n",
        "parameters_summary.head()"
      ]
    },
    {
      "cell_type": "markdown",
      "metadata": {},
      "source": [
        "### Analysis\n",
        "Tweaking the hyperparameters has achieved an imrovement of the score to 0.81. This is good, but suspicious as in the previous analyses. As expected, the DecisionTreeClassifier did not improve significantly."
      ]
    },
    {
      "cell_type": "code",
      "execution_count": 20,
      "metadata": {},
      "outputs": [
        {
          "data": {
            "text/plain": [
              "'AdaBoostClassifier'"
            ]
          },
          "execution_count": 20,
          "metadata": {},
          "output_type": "execute_result"
        }
      ],
      "source": [
        "best_model = parameters_summary.iloc[0,0]\n",
        "best_model"
      ]
    },
    {
      "cell_type": "code",
      "execution_count": 21,
      "metadata": {},
      "outputs": [
        {
          "data": {
            "text/plain": [
              "{'model__learning_rate': 0.1, 'model__n_estimators': 50}"
            ]
          },
          "execution_count": 21,
          "metadata": {},
          "output_type": "execute_result"
        }
      ],
      "source": [
        "best_parameters = parameters_pipeliness[best_model].best_params_\n",
        "best_parameters"
      ]
    },
    {
      "cell_type": "code",
      "execution_count": 22,
      "metadata": {},
      "outputs": [
        {
          "data": {
            "text/plain": [
              "Pipeline(steps=[('OrdinalCategoricalEncoder',\n",
              "                 OrdinalEncoder(encoding_method='arbitrary',\n",
              "                                variables=['Gender', 'EthnicGroup',\n",
              "                                           'ParentEduc', 'LunchType',\n",
              "                                           'TestPrep'])),\n",
              "                ('feature_selection',\n",
              "                 SelectFromModel(estimator=AdaBoostClassifier(random_state=42))),\n",
              "                ('model',\n",
              "                 AdaBoostClassifier(learning_rate=0.1, random_state=42))])"
            ]
          },
          "execution_count": 22,
          "metadata": {},
          "output_type": "execute_result"
        }
      ],
      "source": [
        "test_pipeline = parameters_pipeliness[best_model].best_estimator_\n",
        "test_pipeline"
      ]
    },
    {
      "cell_type": "code",
      "execution_count": 23,
      "metadata": {},
      "outputs": [
        {
          "name": "stdout",
          "output_type": "stream",
          "text": [
            "* These are the 2 most important features in descending order. The model was trained on them: \n",
            "['EthnicGroup', 'ParentEduc']\n"
          ]
        },
        {
          "data": {
            "image/png": "[encoded data removed]",
            "text/plain": [
              "<Figure size 640x480 with 1 Axes>"
            ]
          },
          "metadata": {},
          "output_type": "display_data"
        }
      ],
      "source": [
        "data_cleaning_feat_eng_steps = 1\n",
        "columns_after_data_cleaning_feat_eng = (Pipeline(test_pipeline.steps[:data_cleaning_feat_eng_steps])\n",
        "                                        .transform(train_features)\n",
        "                                        .columns)\n",
        "\n",
        "best_features = columns_after_data_cleaning_feat_eng[test_pipeline['feature_selection'].get_support()].to_list()\n",
        "\n",
        "# create DataFrame to display feature importance\n",
        "df_feature_importance = (pd.DataFrame(data={\n",
        "          'Feature': columns_after_data_cleaning_feat_eng[test_pipeline['feature_selection'].get_support()],\n",
        "          'Importance': test_pipeline['model'].feature_importances_})\n",
        "  .sort_values(by='Importance', ascending=False)\n",
        "  )\n",
        "\n",
        "maths_efd_2_best_features = df_feature_importance['Feature'].to_list() # reassign best features in order\n",
        "\n",
        "# Most important features statement and plot\n",
        "print(f\"* These are the {len(best_features)} most important features in descending order. \"\n",
        "      f\"The model was trained on them: \\n{best_features}\")\n",
        "\n",
        "df_feature_importance.plot(kind='bar',x='Feature',y='Importance')\n",
        "plt.show()"
      ]
    },
    {
      "cell_type": "markdown",
      "metadata": {},
      "source": [
        "### Analysis\n",
        "This is a surprise and not expected. The LunchType Variable was not added to the training of the model and EthnicGroup and ParentEducational level are used to predict the  Math Score. <br>\n",
        "I will check the accuracy of using these features of the model on the test set next."
      ]
    },
    {
      "cell_type": "markdown",
      "metadata": {},
      "source": [
        "### Classification bin cutoff determined by discretizer:"
      ]
    },
    {
      "cell_type": "code",
      "execution_count": 24,
      "metadata": {},
      "outputs": [
        {
          "data": {
            "text/plain": [
              "[-inf, 67.0, inf]"
            ]
          },
          "execution_count": 24,
          "metadata": {},
          "output_type": "execute_result"
        }
      ],
      "source": [
        "efd.binner_dict_[target_variable]"
      ]
    },
    {
      "cell_type": "markdown",
      "metadata": {},
      "source": [
        "### Define classification labels for the bins:"
      ]
    },
    {
      "cell_type": "code",
      "execution_count": 25,
      "metadata": {},
      "outputs": [
        {
          "data": {
            "text/plain": [
              "['Might need assistance', 'No assistance needed']"
            ]
          },
          "execution_count": 25,
          "metadata": {},
          "output_type": "execute_result"
        }
      ],
      "source": [
        "label_map = class_labels\n",
        "label_map"
      ]
    },
    {
      "cell_type": "markdown",
      "metadata": {},
      "source": [
        "### Calculate and export Confusion Matrix for Training and Test Data"
      ]
    },
    {
      "cell_type": "code",
      "execution_count": 26,
      "metadata": {},
      "outputs": [
        {
          "name": "stdout",
          "output_type": "stream",
          "text": [
            "Mathscore - Train Set\n",
            "\n",
            "#### Confusion Matrix\n",
            "\n",
            "|                                  |   Actual Might need assistance |   Actual No assistance needed |\n",
            "|:---------------------------------|-------------------------------:|------------------------------:|\n",
            "| Prediction Might need assistance |                          10153 |                          2652 |\n",
            "| Prediction No assistance needed  |                           7286 |                          4421 |\n",
            "\n",
            "#### Classification Report\n",
            "\n",
            "|                       | precision   | recall   |   f1-score | support   |\n",
            "|:----------------------|:------------|:---------|-----------:|:----------|\n",
            "| Might need assistance | 0.582       | 0.793    |      0.671 | 12805     |\n",
            "| No assistance needed  | 0.625       | 0.378    |      0.471 | 11707     |\n",
            "| accuracy              |             |          |      0.595 |           |\n",
            "| macro avg             | 0.604       | 0.585    |      0.571 | 24512     |\n",
            "| weighted avg          | 0.603       | 0.595    |      0.576 | 24512     |\n",
            "\n",
            "Mathscore - Test Set\n",
            "\n",
            "#### Confusion Matrix\n",
            "\n",
            "|                                  |   Actual Might need assistance |   Actual No assistance needed |\n",
            "|:---------------------------------|-------------------------------:|------------------------------:|\n",
            "| Prediction Might need assistance |                           2502 |                           663 |\n",
            "| Prediction No assistance needed  |                           1871 |                          1093 |\n",
            "\n",
            "#### Classification Report\n",
            "\n",
            "|                       | precision   | recall   |   f1-score | support   |\n",
            "|:----------------------|:------------|:---------|-----------:|:----------|\n",
            "| Might need assistance | 0.572       | 0.791    |      0.664 | 3165      |\n",
            "| No assistance needed  | 0.622       | 0.369    |      0.463 | 2964      |\n",
            "| accuracy              |             |          |      0.587 |           |\n",
            "| macro avg             | 0.597       | 0.58     |      0.563 | 6129      |\n",
            "| weighted avg          | 0.596       | 0.587    |      0.567 | 6129      |\n",
            "\n"
          ]
        }
      ],
      "source": [
        "clf_performance(\n",
        "    train_features,\n",
        "    train_scores,\n",
        "    test_features,\n",
        "    test_scores,\n",
        "    test_pipeline,\n",
        "    label_map,\n",
        "    target_variable)"
      ]
    },
    {
      "cell_type": "markdown",
      "metadata": {},
      "source": [
        "## Save Model to disk automatically"
      ]
    },
    {
      "cell_type": "code",
      "execution_count": 27,
      "metadata": {},
      "outputs": [
        {
          "name": "stdout",
          "output_type": "stream",
          "text": [
            "Model not saved.\n"
          ]
        }
      ],
      "source": [
        "if save_model:\n",
        "    # Define which files to save/update\n",
        "    target = target_variable\n",
        "    file_names = [\n",
        "        f\"{target}-train-features.csv\",\n",
        "        f\"{target}-train-scores.csv\",\n",
        "        f\"{target}-test-features.csv\",\n",
        "        f\"{target}-test-scores.csv\",\n",
        "        f\"{target}-model.pkl\",\n",
        "        f\"{target}-labels.pkl\",\n",
        "        f\"{target}-feature-importance.png\",\n",
        "    ]\n",
        "\n",
        "    # Ensure the directory exists\n",
        "    os.makedirs(file_path, exist_ok=True)\n",
        "\n",
        "    # Remove files if they exist\n",
        "    print(f'*** Removing previous files  ***')\n",
        "    for name in file_names:\n",
        "        file = os.path.join(file_path, name)\n",
        "        if os.path.exists(file):\n",
        "            os.remove(file)\n",
        "            print(f\"{file} removed\")\n",
        "        else:\n",
        "            print(f\"{file} does not exist\")\n",
        "\n",
        "    print('')\n",
        "\n",
        "    # Save .csv files\n",
        "    print(f'*** Creating files in: {file_path} ***')\n",
        "\n",
        "    math_train_features.to_csv(f\"{file_path}/{target}-train-features.csv\", index=False)\n",
        "    print(f'{target}-train-features.csv created')\n",
        "\n",
        "    math_train_scores.to_csv(f\"{file_path}/{target}-train-scores.csv\", index=False)\n",
        "    print(f'{target}-train-scores.csv created')\n",
        "\n",
        "    math_test_features.to_csv(f\"{file_path}/{target}-test-features.csv\", index=False)\n",
        "    print(f'{target}-test-features.csv created')\n",
        "\n",
        "    math_test_scores.to_csv(f\"{file_path}/{target}-test-scores.csv\", index=False)\n",
        "    print(f'{target}-test-scores.csv created')\n",
        "\n",
        "    # Save .pkl model files\n",
        "    joblib.dump(value=pipeline_clf_final, filename=f\"{file_path}/{target}-model.pkl\")\n",
        "    print(f'{target}_model.pkl created')\n",
        "\n",
        "    joblib.dump(value=label_map, filename=f\"{file_path}/{target}-labels.pkl\")\n",
        "    print(f'{target}_labels created')\n",
        "\n",
        "    # Save features plot image\n",
        "    df_feature_importance_final.plot(kind='bar',x='Feature',y='Importance')\n",
        "    plt.savefig(f'{file_path}/{target}-feature-importance.png', bbox_inches='tight')\n",
        "else:\n",
        "    print('Model not saved.')"
      ]
    },
    {
      "cell_type": "markdown",
      "metadata": {},
      "source": [
        "## Conclusion\n",
        "### Confusion Matrix\n",
        "| Test |  Result | \n",
        "|---|---|\n",
        "|True Positives (TP)|2502 correctly predicted \"Might need assistance.\"|\n",
        "|False Positives (FP)|663 incorrectly predicted \"Might need assistance\" with actual \"No assistance needed.\"|\n",
        "|True Negatives (TN)|1871 correctly predicted \"No assistance needed.\"|\n",
        "|False Negatives (FN)|1093 incorrectly predicted \"No assistance needed\" with actual \"Might need assistance.\"|\n",
        "\n",
        "**Might Need Assistance:**\n",
        "* Precision 0.57 indicates that model identifies someone might need help 57% of the time.\n",
        "* Recall 0.79 indicates model successfully identifies 79% of all students who might need help\n",
        "* F1 - balance of Precision and recall of 0.68 indicates reasonable performance above the 0.6 target\n",
        "\n",
        "**No Assistance Needed:**\n",
        "* Precision 0.62 indicates that model identifies no help needed 62% of the time.\n",
        "* Recall 0.32 indicates model identifies only 32% of students who actually do not need help are correctly identified\n",
        "* F1 - balance of Precision and recall of 0.64 indicates model is less accurate at identifying students who do not need help\n",
        "\n",
        "the Macro Averages are very similar indicating balanced performance accross both classes, but not at a particularly high level. \n",
        "\n",
        "Since the model is more likely to predict a false positive, the worst case scenario is that a better student might be 'wrongly' identified as in need of additional help. This is an acceptable outcome as the oppososite would the most problematic ... ie falsley identifying students in need as not needing help.\n",
        "\n",
        "**This would need to be discussed with the customer to see if the outcome is acceptable. The dataset might allow some more tweaking, and sourcing a dataset with no missing values (eliminating the need to impute data) might further improve the model.**"
      ]
    }
  ],
  "metadata": {
    "accelerator": "GPU",
    "colab": {
      "name": "Data Practitioner Jupyter Notebook.ipynb",
      "provenance": [],
      "toc_visible": true
    },
    "interpreter": {
      "hash": "8b8334dab9339717f727a1deaf837b322d7a41c20d15cc86be99a8e69ceec8ce"
    },
    "kernelspec": {
      "display_name": "Python 3.8.12 64-bit ('3.8.12': pyenv)",
      "name": "python3"
    },
    "language_info": {
      "codemirror_mode": {
        "name": "ipython",
        "version": 3
      },
      "file_extension": ".py",
      "mimetype": "text/x-python",
      "name": "python",
      "nbconvert_exporter": "python",
      "pygments_lexer": "ipython3",
      "version": "3.12.1"
    },
    "orig_nbformat": 2
  },
  "nbformat": 4,
  "nbformat_minor": 2
}
