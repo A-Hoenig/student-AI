{
  "cells": [
    {
      "cell_type": "markdown",
      "metadata": {
        "id": "0aStgWSO0E0E"
      },
      "source": [
        "# **STUDENT AI** - MATH MODEL CREATION (CLASSIFICATION)"
      ]
    },
    {
      "cell_type": "markdown",
      "metadata": {
        "id": "1eLEkw5O0ECa"
      },
      "source": [
        "## Objectives\n",
        "\n",
        "Create a classification model to predict Math score based on Key dataset features. Numerical variables will be grouped into bins. <br> \n",
        "Since the 3 bin classification did not yield promising results, the same steps will be repeated using the 2 bin classification.\n",
        "\n",
        "## Inputs\n",
        "\n",
        "Continues to assess dataset loaded in previous notebook.\n",
        "\n",
        "## Outputs\n",
        "\n",
        "None. Assesses whether the 2 bin classification is viable.\n"
      ]
    },
    {
      "cell_type": "markdown",
      "metadata": {
        "id": "9uWZXH9LwoQg"
      },
      "source": [
        "---"
      ]
    },
    {
      "cell_type": "markdown",
      "metadata": {},
      "source": [
        "# Import required libraries"
      ]
    },
    {
      "cell_type": "code",
      "execution_count": 1,
      "metadata": {},
      "outputs": [
        {
          "name": "stderr",
          "output_type": "stream",
          "text": [
            "/workspace/.pyenv_mirror/user/3.8.18/lib/python3.8/site-packages/xgboost/compat.py:93: FutureWarning: pandas.Int64Index is deprecated and will be removed from pandas in a future version. Use pandas.Index with the appropriate dtype instead.\n",
            "  from pandas import MultiIndex, Int64Index\n"
          ]
        },
        {
          "name": "stdout",
          "output_type": "stream",
          "text": [
            "All Libraries Loaded\n"
          ]
        }
      ],
      "source": [
        "import os\n",
        "import joblib\n",
        "import numpy as np\n",
        "import pandas as pd\n",
        "import matplotlib.pyplot as plt\n",
        "import seaborn as sns\n",
        "sns.set_style('whitegrid')\n",
        "\n",
        "### Pipeline\n",
        "from sklearn.pipeline import Pipeline\n",
        "\n",
        "### Feature Engineering\n",
        "from feature_engine.encoding import OrdinalEncoder\n",
        "\n",
        "### Feature Scaling\n",
        "from sklearn.preprocessing import StandardScaler\n",
        "\n",
        "### libraries for custom transformer\n",
        "from sklearn.base import BaseEstimator, TransformerMixin\n",
        "\n",
        "### Feature Balancing\n",
        "from imblearn.pipeline import Pipeline as ImbPipeline\n",
        "from imblearn.under_sampling import RandomUnderSampler\n",
        "from imblearn.over_sampling import SMOTE\n",
        "\n",
        "### Feature  Selection\n",
        "from sklearn.feature_selection import SelectFromModel\n",
        "\n",
        "### ML algorithms \n",
        "from sklearn.tree import DecisionTreeClassifier \n",
        "from sklearn.ensemble import RandomForestClassifier\n",
        "from sklearn.ensemble import GradientBoostingClassifier \n",
        "from sklearn.ensemble import ExtraTreesClassifier\n",
        "from sklearn.ensemble import AdaBoostClassifier\n",
        "from xgboost import XGBClassifier\n",
        "from sklearn.linear_model import SGDClassifier\n",
        "\n",
        "### EqualFrequencyDiscretiser\n",
        "from feature_engine.discretisation import EqualFrequencyDiscretiser\n",
        "\n",
        "### packages for classification report and confusion matrix\n",
        "from sklearn.metrics import make_scorer, recall_score\n",
        "\n",
        "### Train test split\n",
        "from sklearn.model_selection import train_test_split\n",
        "\n",
        "### Packages for generating a classification report and confusion matrix\n",
        "from sklearn.metrics import classification_report, confusion_matrix\n",
        "\n",
        "### GridSearchCV\n",
        "from sklearn.model_selection import GridSearchCV\n",
        "\n",
        "### Load Custom Functions\n",
        "import io\n",
        "import sys\n",
        "sys.path.append('/workspace/student-AI/src')\n",
        "from data_management import save_analysis\n",
        "from data_management import confusion_matrix_and_report, clf_performance\n",
        "\n",
        "print('All Libraries Loaded')"
      ]
    },
    {
      "cell_type": "markdown",
      "metadata": {
        "id": "cqP-UeN-z3i2"
      },
      "source": [
        "# Change working directory"
      ]
    },
    {
      "cell_type": "markdown",
      "metadata": {
        "id": "aOGIGS-uz3i2"
      },
      "source": [
        "### Set the working directory to notebook parent folder\n",
        "If the output does not match, click **'clear all outputs'** and then **'restart'** the notebook. \n",
        "Then run cells from best to bottom."
      ]
    },
    {
      "cell_type": "code",
      "execution_count": 2,
      "metadata": {
        "id": "wZfF_j-Bz3i4",
        "outputId": "66943449-1436-4c3d-85c7-b85f9f78349b"
      },
      "outputs": [
        {
          "name": "stdout",
          "output_type": "stream",
          "text": [
            "If correct, Active Directory should read: /workspace/student-AI\n",
            "Active Directory: /workspace/student-AI\n"
          ]
        }
      ],
      "source": [
        "current_dir = os.getcwd()\n",
        "os.chdir(os.path.dirname(current_dir))\n",
        "current_dir = os.getcwd()\n",
        "print('If correct, Active Directory should read: /workspace/student-AI')\n",
        "print(f\"Active Directory: {current_dir}\")"
      ]
    },
    {
      "cell_type": "markdown",
      "metadata": {},
      "source": [
        "### Load cleaned dataset"
      ]
    },
    {
      "cell_type": "code",
      "execution_count": 3,
      "metadata": {},
      "outputs": [
        {
          "data": {
            "text/html": [
              "<div>\n",
              "<style scoped>\n",
              "    .dataframe tbody tr th:only-of-type {\n",
              "        vertical-align: middle;\n",
              "    }\n",
              "\n",
              "    .dataframe tbody tr th {\n",
              "        vertical-align: top;\n",
              "    }\n",
              "\n",
              "    .dataframe thead th {\n",
              "        text-align: right;\n",
              "    }\n",
              "</style>\n",
              "<table border=\"1\" class=\"dataframe\">\n",
              "  <thead>\n",
              "    <tr style=\"text-align: right;\">\n",
              "      <th></th>\n",
              "      <th>Gender</th>\n",
              "      <th>EthnicGroup</th>\n",
              "      <th>ParentEduc</th>\n",
              "      <th>LunchType</th>\n",
              "      <th>TestPrep</th>\n",
              "      <th>MathScore</th>\n",
              "    </tr>\n",
              "  </thead>\n",
              "  <tbody>\n",
              "    <tr>\n",
              "      <th>0</th>\n",
              "      <td>female</td>\n",
              "      <td>C</td>\n",
              "      <td>bachelor</td>\n",
              "      <td>standard</td>\n",
              "      <td>not completed</td>\n",
              "      <td>71</td>\n",
              "    </tr>\n",
              "    <tr>\n",
              "      <th>1</th>\n",
              "      <td>female</td>\n",
              "      <td>C</td>\n",
              "      <td>college</td>\n",
              "      <td>standard</td>\n",
              "      <td>not completed</td>\n",
              "      <td>69</td>\n",
              "    </tr>\n",
              "    <tr>\n",
              "      <th>2</th>\n",
              "      <td>female</td>\n",
              "      <td>B</td>\n",
              "      <td>masters</td>\n",
              "      <td>standard</td>\n",
              "      <td>not completed</td>\n",
              "      <td>87</td>\n",
              "    </tr>\n",
              "    <tr>\n",
              "      <th>3</th>\n",
              "      <td>male</td>\n",
              "      <td>A</td>\n",
              "      <td>associates</td>\n",
              "      <td>free</td>\n",
              "      <td>not completed</td>\n",
              "      <td>45</td>\n",
              "    </tr>\n",
              "    <tr>\n",
              "      <th>4</th>\n",
              "      <td>male</td>\n",
              "      <td>C</td>\n",
              "      <td>college</td>\n",
              "      <td>standard</td>\n",
              "      <td>not completed</td>\n",
              "      <td>76</td>\n",
              "    </tr>\n",
              "    <tr>\n",
              "      <th>...</th>\n",
              "      <td>...</td>\n",
              "      <td>...</td>\n",
              "      <td>...</td>\n",
              "      <td>...</td>\n",
              "      <td>...</td>\n",
              "      <td>...</td>\n",
              "    </tr>\n",
              "    <tr>\n",
              "      <th>30636</th>\n",
              "      <td>female</td>\n",
              "      <td>D</td>\n",
              "      <td>highschool</td>\n",
              "      <td>standard</td>\n",
              "      <td>not completed</td>\n",
              "      <td>59</td>\n",
              "    </tr>\n",
              "    <tr>\n",
              "      <th>30637</th>\n",
              "      <td>male</td>\n",
              "      <td>E</td>\n",
              "      <td>highschool</td>\n",
              "      <td>standard</td>\n",
              "      <td>not completed</td>\n",
              "      <td>58</td>\n",
              "    </tr>\n",
              "    <tr>\n",
              "      <th>30638</th>\n",
              "      <td>female</td>\n",
              "      <td>C</td>\n",
              "      <td>highschool</td>\n",
              "      <td>free</td>\n",
              "      <td>completed</td>\n",
              "      <td>61</td>\n",
              "    </tr>\n",
              "    <tr>\n",
              "      <th>30639</th>\n",
              "      <td>female</td>\n",
              "      <td>D</td>\n",
              "      <td>associates</td>\n",
              "      <td>standard</td>\n",
              "      <td>completed</td>\n",
              "      <td>82</td>\n",
              "    </tr>\n",
              "    <tr>\n",
              "      <th>30640</th>\n",
              "      <td>male</td>\n",
              "      <td>B</td>\n",
              "      <td>college</td>\n",
              "      <td>standard</td>\n",
              "      <td>not completed</td>\n",
              "      <td>64</td>\n",
              "    </tr>\n",
              "  </tbody>\n",
              "</table>\n",
              "<p>30641 rows × 6 columns</p>\n",
              "</div>"
            ],
            "text/plain": [
              "       Gender EthnicGroup  ParentEduc LunchType       TestPrep  MathScore\n",
              "0      female           C    bachelor  standard  not completed         71\n",
              "1      female           C     college  standard  not completed         69\n",
              "2      female           B     masters  standard  not completed         87\n",
              "3        male           A  associates      free  not completed         45\n",
              "4        male           C     college  standard  not completed         76\n",
              "...       ...         ...         ...       ...            ...        ...\n",
              "30636  female           D  highschool  standard  not completed         59\n",
              "30637    male           E  highschool  standard  not completed         58\n",
              "30638  female           C  highschool      free      completed         61\n",
              "30639  female           D  associates  standard      completed         82\n",
              "30640    male           B     college  standard  not completed         64\n",
              "\n",
              "[30641 rows x 6 columns]"
            ]
          },
          "execution_count": 3,
          "metadata": {},
          "output_type": "execute_result"
        }
      ],
      "source": [
        "df_maths = pd.read_csv('outputs/dataset/Expanded_data_with_more_features_clean.csv').filter(['Gender', 'EthnicGroup', 'ParentEduc', 'LunchType', 'TestPrep', 'MathScore'])\n",
        "df_maths"
      ]
    },
    {
      "cell_type": "markdown",
      "metadata": {},
      "source": [
        "### Setup test pipeline for evaluation"
      ]
    },
    {
      "cell_type": "code",
      "execution_count": 4,
      "metadata": {},
      "outputs": [],
      "source": [
        "def PipelineOptimization(model):\n",
        "    pipeline_base = Pipeline([\n",
        "\n",
        "        (\"OrdinalCategoricalEncoder\", OrdinalEncoder(\n",
        "            encoding_method='arbitrary', \n",
        "            variables=[\n",
        "                'Gender',\n",
        "                'EthnicGroup',\n",
        "                'ParentEduc',\n",
        "                'LunchType',\n",
        "                'TestPrep',\n",
        "                ])),\n",
        "\n",
        "        (\"feature_selection\", SelectFromModel(model)),\n",
        "\n",
        "        (\"model\", model),\n",
        "\n",
        "    ])\n",
        "\n",
        "    return pipeline_base"
      ]
    },
    {
      "cell_type": "markdown",
      "metadata": {},
      "source": [
        "### Setup model algorithms and blank default hyperparameters\n",
        "list of default hyperparameters provided by CodeInstitute ML course bonus material."
      ]
    },
    {
      "cell_type": "code",
      "execution_count": 26,
      "metadata": {},
      "outputs": [],
      "source": [
        "models_list = {\n",
        "    \"XGBClassifier\": XGBClassifier(random_state=0),\n",
        "    \"DecisionTreeClassifier\": DecisionTreeClassifier(random_state=0),\n",
        "    \"RandomForestClassifier\": RandomForestClassifier(random_state=0),\n",
        "    \"GradientBoostingClassifier\": GradientBoostingClassifier(random_state=0),\n",
        "    \"ExtraTreesClassifier\": ExtraTreesClassifier(random_state=0),\n",
        "    \"AdaBoostClassifier\": AdaBoostClassifier(random_state=0),\n",
        "}\n",
        "\n",
        "parameter_defaults = {\n",
        "    \"LinearRegression\":{},\n",
        "    \"LogisticRegression\":{},\n",
        "    \"DecisionTreeRegressor\":{},\n",
        "    \"RandomForestRegressor\":{},\n",
        "    \"GradientBoostingRegressor\":{},\n",
        "    \"AdaBoostRegressor\":{},\n",
        "    \"XGBRegressor\":{},\n",
        "    \"ExtraTreesRegressor\":{},\n",
        "    \n",
        "    \"XGBClassifier\":{},\n",
        "    \"DecisionTreeClassifier\":{},\n",
        "    \"RandomForestClassifier\":{},\n",
        "    \"GradientBoostingClassifier\":{},\n",
        "    \"ExtraTreesClassifier\":{},\n",
        "    \"AdaBoostClassifier\":{},\n",
        "}\n",
        "\n",
        "parameter_list = {\n",
        "    # Regression Models Default Hyperparameters\n",
        "    \"LinearRegression\":{},\n",
        "\n",
        "    \"LogisticRegression\":{'model__penalty': [\"l2\",\"l1\", \"elasticnet\"],\n",
        "                          'model__C': [1, 0.5, 2],\n",
        "                          'model__tol': [1e-4,1e-3,1e-5],\n",
        "                            },\n",
        "\n",
        "    \"DecisionTreeRegressor\":{'model__max_depth': [None,4, 15],\n",
        "                             'model__min_samples_split': [2,50],\n",
        "                             'model__min_samples_leaf': [1,50],\n",
        "                             'model__max_leaf_nodes': [None,50],\n",
        "                            },\n",
        "\n",
        "    \"RandomForestRegressor\":{'model__n_estimators': [100,50, 140],\n",
        "                             'model__max_depth': [None,4, 15],\n",
        "                             'model__min_samples_split': [2,50],\n",
        "                             'model__min_samples_leaf': [1,50],\n",
        "                             'model__max_leaf_nodes': [None,50],\n",
        "                            },\n",
        "\n",
        "    \"GradientBoostingRegressor\":{'model__n_estimators': [100,50,140],\n",
        "                                  'model__learning_rate':[0.1, 0.01, 0.001],\n",
        "                                  'model__max_depth': [3,15, None],\n",
        "                                  'model__min_samples_split': [2,50],\n",
        "                                  'model__min_samples_leaf': [1,50],\n",
        "                                  'model__max_leaf_nodes': [None,50],\n",
        "                            },\n",
        "\n",
        "    \"AdaBoostRegressor\":{'model__n_estimators': [50,25,80,150],\n",
        "                          'model__learning_rate':[1,0.1, 2],\n",
        "                          'model__loss':['linear', 'square', 'exponential'],\n",
        "                            },\n",
        "\n",
        "    \"XGBRegressor\":{'model__n_estimators': [30,80,200],\n",
        "                    'model__max_depth': [None, 3, 15],\n",
        "                    'model__learning_rate': [0.01,0.1,0.001],\n",
        "                    'model__gamma': [0, 0.1],\n",
        "                            },\n",
        "    \"ExtraTreesRegressor\":{'model__n_estimators': [100,50,150],\n",
        "                          'model__max_depth': [None, 3, 15],\n",
        "                          'model__min_samples_split': [2, 50],\n",
        "                          'model__min_samples_leaf': [1,50],\n",
        "                            },\n",
        "                            \n",
        "    # Classifier Models Default Hyperparameters\n",
        "    \"XGBClassifier\":{'model__n_estimators': [30,80,200],\n",
        "                      'model__max_depth': [None, 3, 15],\n",
        "                      'model__learning_rate': [0.01,0.1,0.001],\n",
        "                      'model__gamma': [0, 0.1],\n",
        "                            },\n",
        "\n",
        "    \"DecisionTreeClassifier\":{'model__max_depth': [None,4, 15],\n",
        "                              'model__min_samples_split': [2,50],\n",
        "                              'model__min_samples_leaf': [1,50],\n",
        "                              'model__max_leaf_nodes': [None,50],\n",
        "                            },\n",
        "\n",
        "    \"GradientBoostingClassifier\":{'model__n_estimators': [100,50,140],\n",
        "                                  'model__learning_rate':[0.1, 0.01, 0.001],\n",
        "                                  'model__max_depth': [3,15, None],\n",
        "                                  'model__min_samples_split': [2,50],\n",
        "                                  'model__min_samples_leaf': [1,50],\n",
        "                                  'model__max_leaf_nodes': [None,50],\n",
        "                            },\n",
        "\n",
        "    \"RandomForestClassifier\":{'model__n_estimators': [100,50,140],\n",
        "                             'model__max_depth': [None,4, 15],\n",
        "                             'model__min_samples_split': [2,50],\n",
        "                             'model__min_samples_leaf': [1,50],\n",
        "                             'model__max_leaf_nodes': [None,50],\n",
        "                            },\n",
        "\n",
        "    \"AdaBoostClassifier\":{'model__n_estimators': [50,25,80,150],\n",
        "                          'model__learning_rate':[1,0.1, 2],\n",
        "                            },\n",
        "\n",
        "    \"ExtraTreesClassifier\":{'model__n_estimators': [100,50,150],\n",
        "                          'model__max_depth': [None, 3, 15],\n",
        "                          'model__min_samples_split': [2, 50],\n",
        "                          'model__min_samples_leaf': [1,50],\n",
        "                            },\n",
        "\n",
        "  }"
      ]
    },
    {
      "cell_type": "markdown",
      "metadata": {},
      "source": [
        "### Custom Hyperparameter search class (same as previous notebook)\n",
        "\n",
        "To select the best algorithm and hyperparameters we will fit a model with each different type / parameter set and compare the results.\n",
        "To do this I can use the custom parameter test function, derived in the CodeInstitute Churnometer Walkthrough [here](https://github.com/AdamBoley/churnometer/blob/main/jupyter_notebooks/06%20-%20Modeling%20and%20Evaluation%20-%20Predict%20Tenure.ipynb)"
      ]
    },
    {
      "cell_type": "code",
      "execution_count": 6,
      "metadata": {},
      "outputs": [],
      "source": [
        "from sklearn.model_selection import GridSearchCV\n",
        "class HyperparameterOptimizationSearch:\n",
        "\n",
        "    def __init__(self, models, parameters):\n",
        "        self.models = models\n",
        "        self.parameters = parameters\n",
        "        self.keys = models.keys()\n",
        "        self.grid_searches = {}\n",
        "\n",
        "    def fit(self, x, y, cv, n_jobs, verbose=1, scoring=None, refit=False):\n",
        "        for key in self.keys:\n",
        "            print(f\"\\nRunning GridSearchCV for {key} \\n\")\n",
        "            model =  PipelineOptimization(self.models[key])\n",
        "\n",
        "            parameters = self.parameters[key]\n",
        "            grid_search = GridSearchCV(model, parameters, cv=cv, n_jobs=n_jobs, verbose=verbose, scoring=scoring)\n",
        "            grid_search.fit(x, y)\n",
        "            self.grid_searches[key] = grid_search\n",
        "\n",
        "    def score_summary(self, sort_by='mean_score'):\n",
        "        def row(key, scores, parameters):\n",
        "            summary = {\n",
        "                 'estimator': key,\n",
        "                 'minimum_score': min(scores),\n",
        "                 'maximum_score': max(scores),\n",
        "                 'mean_score': np.mean(scores),\n",
        "                 'standard_deviation_score': np.std(scores),\n",
        "            }\n",
        "            return pd.Series({**parameters,**summary})\n",
        "\n",
        "        rows = []\n",
        "        for k in self.grid_searches:\n",
        "            parameters = self.grid_searches[k].cv_results_['params']\n",
        "            scores = []\n",
        "            for i in range(self.grid_searches[k].cv):\n",
        "                key = \"split{}_test_score\".format(i)\n",
        "                result = self.grid_searches[k].cv_results_[key]        \n",
        "                scores.append(result.reshape(len(parameters), 1))\n",
        "\n",
        "            all_scores = np.hstack(scores)\n",
        "            for p, s in zip(parameters, all_scores):\n",
        "                rows.append((row(k, s, p)))\n",
        "\n",
        "        df = pd.concat(rows, axis=1).T.sort_values([sort_by], ascending=False)\n",
        "\n",
        "        columns = ['estimator', 'minimum_score', 'mean_score', 'maximum_score', 'standard_deviation_score']\n",
        "        columns = columns + [column for column in df.columns if column not in columns]\n",
        "\n",
        "        return df[columns], self.grid_searches"
      ]
    },
    {
      "cell_type": "markdown",
      "metadata": {},
      "source": [
        "### Create classification bins (2 bins)"
      ]
    },
    {
      "cell_type": "code",
      "execution_count": 7,
      "metadata": {},
      "outputs": [
        {
          "name": "stdout",
          "output_type": "stream",
          "text": [
            "* The classes represent the following ranges: \n",
            "{'MathScore': [-inf, 67.0, inf]} \n",
            "\n"
          ]
        },
        {
          "data": {
            "image/png": "[encoded data removed]",
            "text/plain": [
              "<Figure size 640x480 with 1 Axes>"
            ]
          },
          "metadata": {},
          "output_type": "display_data"
        }
      ],
      "source": [
        "efd = EqualFrequencyDiscretiser(q=2, variables=['MathScore'])\n",
        "df_maths_efd = efd.fit_transform(df_maths)\n",
        "\n",
        "print(f\"* The classes represent the following ranges: \\n{efd.binner_dict_} \\n\")\n",
        "fig_maths_efd = sns.countplot(data=df_maths_efd, x='MathScore')\n",
        "plt.bar_label(fig_maths_efd.containers[0])\n",
        "plt.show()"
      ]
    },
    {
      "cell_type": "code",
      "execution_count": 8,
      "metadata": {},
      "outputs": [
        {
          "data": {
            "text/html": [
              "<div>\n",
              "<style scoped>\n",
              "    .dataframe tbody tr th:only-of-type {\n",
              "        vertical-align: middle;\n",
              "    }\n",
              "\n",
              "    .dataframe tbody tr th {\n",
              "        vertical-align: top;\n",
              "    }\n",
              "\n",
              "    .dataframe thead th {\n",
              "        text-align: right;\n",
              "    }\n",
              "</style>\n",
              "<table border=\"1\" class=\"dataframe\">\n",
              "  <thead>\n",
              "    <tr style=\"text-align: right;\">\n",
              "      <th></th>\n",
              "      <th>Gender</th>\n",
              "      <th>EthnicGroup</th>\n",
              "      <th>ParentEduc</th>\n",
              "      <th>LunchType</th>\n",
              "      <th>TestPrep</th>\n",
              "      <th>MathScore</th>\n",
              "    </tr>\n",
              "  </thead>\n",
              "  <tbody>\n",
              "    <tr>\n",
              "      <th>0</th>\n",
              "      <td>female</td>\n",
              "      <td>C</td>\n",
              "      <td>bachelor</td>\n",
              "      <td>standard</td>\n",
              "      <td>not completed</td>\n",
              "      <td>1</td>\n",
              "    </tr>\n",
              "    <tr>\n",
              "      <th>1</th>\n",
              "      <td>female</td>\n",
              "      <td>C</td>\n",
              "      <td>college</td>\n",
              "      <td>standard</td>\n",
              "      <td>not completed</td>\n",
              "      <td>1</td>\n",
              "    </tr>\n",
              "    <tr>\n",
              "      <th>2</th>\n",
              "      <td>female</td>\n",
              "      <td>B</td>\n",
              "      <td>masters</td>\n",
              "      <td>standard</td>\n",
              "      <td>not completed</td>\n",
              "      <td>1</td>\n",
              "    </tr>\n",
              "    <tr>\n",
              "      <th>3</th>\n",
              "      <td>male</td>\n",
              "      <td>A</td>\n",
              "      <td>associates</td>\n",
              "      <td>free</td>\n",
              "      <td>not completed</td>\n",
              "      <td>0</td>\n",
              "    </tr>\n",
              "    <tr>\n",
              "      <th>4</th>\n",
              "      <td>male</td>\n",
              "      <td>C</td>\n",
              "      <td>college</td>\n",
              "      <td>standard</td>\n",
              "      <td>not completed</td>\n",
              "      <td>1</td>\n",
              "    </tr>\n",
              "    <tr>\n",
              "      <th>...</th>\n",
              "      <td>...</td>\n",
              "      <td>...</td>\n",
              "      <td>...</td>\n",
              "      <td>...</td>\n",
              "      <td>...</td>\n",
              "      <td>...</td>\n",
              "    </tr>\n",
              "    <tr>\n",
              "      <th>30636</th>\n",
              "      <td>female</td>\n",
              "      <td>D</td>\n",
              "      <td>highschool</td>\n",
              "      <td>standard</td>\n",
              "      <td>not completed</td>\n",
              "      <td>0</td>\n",
              "    </tr>\n",
              "    <tr>\n",
              "      <th>30637</th>\n",
              "      <td>male</td>\n",
              "      <td>E</td>\n",
              "      <td>highschool</td>\n",
              "      <td>standard</td>\n",
              "      <td>not completed</td>\n",
              "      <td>0</td>\n",
              "    </tr>\n",
              "    <tr>\n",
              "      <th>30638</th>\n",
              "      <td>female</td>\n",
              "      <td>C</td>\n",
              "      <td>highschool</td>\n",
              "      <td>free</td>\n",
              "      <td>completed</td>\n",
              "      <td>0</td>\n",
              "    </tr>\n",
              "    <tr>\n",
              "      <th>30639</th>\n",
              "      <td>female</td>\n",
              "      <td>D</td>\n",
              "      <td>associates</td>\n",
              "      <td>standard</td>\n",
              "      <td>completed</td>\n",
              "      <td>1</td>\n",
              "    </tr>\n",
              "    <tr>\n",
              "      <th>30640</th>\n",
              "      <td>male</td>\n",
              "      <td>B</td>\n",
              "      <td>college</td>\n",
              "      <td>standard</td>\n",
              "      <td>not completed</td>\n",
              "      <td>0</td>\n",
              "    </tr>\n",
              "  </tbody>\n",
              "</table>\n",
              "<p>30641 rows × 6 columns</p>\n",
              "</div>"
            ],
            "text/plain": [
              "       Gender EthnicGroup  ParentEduc LunchType       TestPrep  MathScore\n",
              "0      female           C    bachelor  standard  not completed          1\n",
              "1      female           C     college  standard  not completed          1\n",
              "2      female           B     masters  standard  not completed          1\n",
              "3        male           A  associates      free  not completed          0\n",
              "4        male           C     college  standard  not completed          1\n",
              "...       ...         ...         ...       ...            ...        ...\n",
              "30636  female           D  highschool  standard  not completed          0\n",
              "30637    male           E  highschool  standard  not completed          0\n",
              "30638  female           C  highschool      free      completed          0\n",
              "30639  female           D  associates  standard      completed          1\n",
              "30640    male           B     college  standard  not completed          0\n",
              "\n",
              "[30641 rows x 6 columns]"
            ]
          },
          "execution_count": 8,
          "metadata": {},
          "output_type": "execute_result"
        }
      ],
      "source": [
        "df_maths_efd"
      ]
    },
    {
      "cell_type": "markdown",
      "metadata": {},
      "source": [
        "### Start model tests\n",
        "split data into train and test sets"
      ]
    },
    {
      "cell_type": "code",
      "execution_count": 9,
      "metadata": {},
      "outputs": [
        {
          "name": "stdout",
          "output_type": "stream",
          "text": [
            "* Train set: (24512, 5) (24512,) \n",
            "* Test set: (6129, 5) (6129,)\n"
          ]
        }
      ],
      "source": [
        "math_train_features, math_test_features, math_train_scores, math_test_scores = train_test_split(\n",
        "    df_maths_efd.drop(['MathScore'], axis=1),\n",
        "    df_maths_efd['MathScore'],\n",
        "    test_size = 0.2,\n",
        "    random_state = 7\n",
        ")\n",
        "\n",
        "print(\"* Train set:\", math_train_features.shape, math_train_scores.shape, \"\\n* Test set:\",  math_test_features.shape, math_test_scores.shape)"
      ]
    },
    {
      "cell_type": "markdown",
      "metadata": {},
      "source": [
        "### Search for best algorithm using default hyperparameters"
      ]
    },
    {
      "cell_type": "code",
      "execution_count": 10,
      "metadata": {},
      "outputs": [
        {
          "name": "stdout",
          "output_type": "stream",
          "text": [
            "\n",
            "Running GridSearchCV for XGBClassifier \n",
            "\n",
            "Fitting 5 folds for each of 1 candidates, totalling 5 fits\n"
          ]
        },
        {
          "name": "stderr",
          "output_type": "stream",
          "text": [
            "/workspace/.pyenv_mirror/user/3.8.18/lib/python3.8/site-packages/xgboost/compat.py:93: FutureWarning: pandas.Int64Index is deprecated and will be removed from pandas in a future version. Use pandas.Index with the appropriate dtype instead.\n",
            "  from pandas import MultiIndex, Int64Index\n",
            "/workspace/.pyenv_mirror/user/3.8.18/lib/python3.8/site-packages/xgboost/compat.py:93: FutureWarning: pandas.Int64Index is deprecated and will be removed from pandas in a future version. Use pandas.Index with the appropriate dtype instead.\n",
            "  from pandas import MultiIndex, Int64Index\n",
            "/workspace/.pyenv_mirror/user/3.8.18/lib/python3.8/site-packages/xgboost/compat.py:93: FutureWarning: pandas.Int64Index is deprecated and will be removed from pandas in a future version. Use pandas.Index with the appropriate dtype instead.\n",
            "  from pandas import MultiIndex, Int64Index\n",
            "/workspace/.pyenv_mirror/user/3.8.18/lib/python3.8/site-packages/xgboost/compat.py:93: FutureWarning: pandas.Int64Index is deprecated and will be removed from pandas in a future version. Use pandas.Index with the appropriate dtype instead.\n",
            "  from pandas import MultiIndex, Int64Index\n",
            "/workspace/.pyenv_mirror/user/3.8.18/lib/python3.8/site-packages/xgboost/data.py:173: FutureWarning: pandas.Int64Index is deprecated and will be removed from pandas in a future version. Use pandas.Index with the appropriate dtype instead.\n",
            "  from pandas import MultiIndex, Int64Index\n",
            "/workspace/.pyenv_mirror/user/3.8.18/lib/python3.8/site-packages/xgboost/data.py:173: FutureWarning: pandas.Int64Index is deprecated and will be removed from pandas in a future version. Use pandas.Index with the appropriate dtype instead.\n",
            "  from pandas import MultiIndex, Int64Index\n",
            "/workspace/.pyenv_mirror/user/3.8.18/lib/python3.8/site-packages/xgboost/compat.py:93: FutureWarning: pandas.Int64Index is deprecated and will be removed from pandas in a future version. Use pandas.Index with the appropriate dtype instead.\n",
            "  from pandas import MultiIndex, Int64Index\n",
            "/workspace/.pyenv_mirror/user/3.8.18/lib/python3.8/site-packages/xgboost/data.py:173: FutureWarning: pandas.Int64Index is deprecated and will be removed from pandas in a future version. Use pandas.Index with the appropriate dtype instead.\n",
            "  from pandas import MultiIndex, Int64Index\n",
            "/workspace/.pyenv_mirror/user/3.8.18/lib/python3.8/site-packages/xgboost/data.py:173: FutureWarning: pandas.Int64Index is deprecated and will be removed from pandas in a future version. Use pandas.Index with the appropriate dtype instead.\n",
            "  from pandas import MultiIndex, Int64Index\n",
            "/workspace/.pyenv_mirror/user/3.8.18/lib/python3.8/site-packages/xgboost/data.py:173: FutureWarning: pandas.Int64Index is deprecated and will be removed from pandas in a future version. Use pandas.Index with the appropriate dtype instead.\n",
            "  from pandas import MultiIndex, Int64Index\n",
            "/workspace/.pyenv_mirror/user/3.8.18/lib/python3.8/site-packages/xgboost/data.py:173: FutureWarning: pandas.Int64Index is deprecated and will be removed from pandas in a future version. Use pandas.Index with the appropriate dtype instead.\n",
            "  from pandas import MultiIndex, Int64Index\n"
          ]
        },
        {
          "name": "stdout",
          "output_type": "stream",
          "text": [
            "\n",
            "Running GridSearchCV for DecisionTreeClassifier \n",
            "\n",
            "Fitting 5 folds for each of 1 candidates, totalling 5 fits\n",
            "\n",
            "Running GridSearchCV for RandomForestClassifier \n",
            "\n",
            "Fitting 5 folds for each of 1 candidates, totalling 5 fits\n",
            "\n",
            "Running GridSearchCV for GradientBoostingClassifier \n",
            "\n",
            "Fitting 5 folds for each of 1 candidates, totalling 5 fits\n",
            "\n",
            "Running GridSearchCV for ExtraTreesClassifier \n",
            "\n",
            "Fitting 5 folds for each of 1 candidates, totalling 5 fits\n",
            "\n",
            "Running GridSearchCV for AdaBoostClassifier \n",
            "\n",
            "Fitting 5 folds for each of 1 candidates, totalling 5 fits\n"
          ]
        }
      ],
      "source": [
        "model_search = HyperparameterOptimizationSearch(models=models_list, parameters=parameter_defaults)\n",
        "model_search.fit(math_train_features, math_train_scores, scoring=make_scorer(recall_score, labels=[0], average=None), n_jobs=-1, cv=5)"
      ]
    },
    {
      "cell_type": "code",
      "execution_count": 24,
      "metadata": {},
      "outputs": [
        {
          "data": {
            "text/html": [
              "<div>\n",
              "<style scoped>\n",
              "    .dataframe tbody tr th:only-of-type {\n",
              "        vertical-align: middle;\n",
              "    }\n",
              "\n",
              "    .dataframe tbody tr th {\n",
              "        vertical-align: top;\n",
              "    }\n",
              "\n",
              "    .dataframe thead th {\n",
              "        text-align: right;\n",
              "    }\n",
              "</style>\n",
              "<table border=\"1\" class=\"dataframe\">\n",
              "  <thead>\n",
              "    <tr style=\"text-align: right;\">\n",
              "      <th></th>\n",
              "      <th>estimator</th>\n",
              "      <th>minimum_score</th>\n",
              "      <th>mean_score</th>\n",
              "      <th>maximum_score</th>\n",
              "      <th>standard_deviation_score</th>\n",
              "    </tr>\n",
              "  </thead>\n",
              "  <tbody>\n",
              "    <tr>\n",
              "      <th>5</th>\n",
              "      <td>AdaBoostClassifier</td>\n",
              "      <td>0.686151</td>\n",
              "      <td>0.710553</td>\n",
              "      <td>0.727344</td>\n",
              "      <td>0.013909</td>\n",
              "    </tr>\n",
              "    <tr>\n",
              "      <th>1</th>\n",
              "      <td>DecisionTreeClassifier</td>\n",
              "      <td>0.473911</td>\n",
              "      <td>0.486544</td>\n",
              "      <td>0.498235</td>\n",
              "      <td>0.008492</td>\n",
              "    </tr>\n",
              "    <tr>\n",
              "      <th>3</th>\n",
              "      <td>GradientBoostingClassifier</td>\n",
              "      <td>0.473911</td>\n",
              "      <td>0.486544</td>\n",
              "      <td>0.498235</td>\n",
              "      <td>0.008492</td>\n",
              "    </tr>\n",
              "    <tr>\n",
              "      <th>4</th>\n",
              "      <td>ExtraTreesClassifier</td>\n",
              "      <td>0.473911</td>\n",
              "      <td>0.486544</td>\n",
              "      <td>0.498235</td>\n",
              "      <td>0.008492</td>\n",
              "    </tr>\n",
              "    <tr>\n",
              "      <th>0</th>\n",
              "      <td>XGBClassifier</td>\n",
              "      <td>0.477442</td>\n",
              "      <td>0.485995</td>\n",
              "      <td>0.494311</td>\n",
              "      <td>0.006367</td>\n",
              "    </tr>\n",
              "    <tr>\n",
              "      <th>2</th>\n",
              "      <td>RandomForestClassifier</td>\n",
              "      <td>0.443311</td>\n",
              "      <td>0.478776</td>\n",
              "      <td>0.498235</td>\n",
              "      <td>0.019538</td>\n",
              "    </tr>\n",
              "  </tbody>\n",
              "</table>\n",
              "</div>"
            ],
            "text/plain": [
              "                    estimator minimum_score mean_score maximum_score  \\\n",
              "5          AdaBoostClassifier      0.686151   0.710553      0.727344   \n",
              "1      DecisionTreeClassifier      0.473911   0.486544      0.498235   \n",
              "3  GradientBoostingClassifier      0.473911   0.486544      0.498235   \n",
              "4        ExtraTreesClassifier      0.473911   0.486544      0.498235   \n",
              "0               XGBClassifier      0.477442   0.485995      0.494311   \n",
              "2      RandomForestClassifier      0.443311   0.478776      0.498235   \n",
              "\n",
              "  standard_deviation_score  \n",
              "5                 0.013909  \n",
              "1                 0.008492  \n",
              "3                 0.008492  \n",
              "4                 0.008492  \n",
              "0                 0.006367  \n",
              "2                 0.019538  "
            ]
          },
          "execution_count": 24,
          "metadata": {},
          "output_type": "execute_result"
        }
      ],
      "source": [
        "classifier_summary, grid_search_pipelines = model_search.score_summary(sort_by='mean_score')\n",
        "classifier_summary"
      ]
    },
    {
      "cell_type": "markdown",
      "metadata": {},
      "source": [
        "### Analysis\n",
        "Reducing the bins to 2 has achieved an acceptable result of 0.71 above a desired mean score of 0.6. The AdaBoostClassifier was clearly the best. The next best algorithm (DecisionTree) was significantly lower ... I do not expect updated hyperparameters to achieve a value better than 0.70, but I will run the test nonetheless."
      ]
    },
    {
      "cell_type": "markdown",
      "metadata": {},
      "source": [
        "### Determine best n models and fetch their recommended hyperparameters from the list:\n",
        "In the function below set **n** to how many of the top models to test with alternate hyperparameters. **Default should be 1 or 2**.<br>\n",
        "3 or more might not achieve any better results and also result in very long calculation times!"
      ]
    },
    {
      "cell_type": "code",
      "execution_count": 34,
      "metadata": {},
      "outputs": [
        {
          "name": "stdout",
          "output_type": "stream",
          "text": [
            "Best 2 Models and hyperparameterlist for tuning:\n",
            "\n",
            "----------------------------------------\n",
            "Model: AdaBoostClassifier\n",
            "Parameters:\n",
            "  model__n_estimators: [50, 25, 80, 150]\n",
            "  model__learning_rate: [1, 0.1, 2]\n",
            "----------------------------------------\n",
            "Model: DecisionTreeClassifier\n",
            "Parameters:\n",
            "  model__max_depth: [None, 4, 15]\n",
            "  model__min_samples_split: [2, 50]\n",
            "  model__min_samples_leaf: [1, 50]\n",
            "  model__max_leaf_nodes: [None, 50]\n",
            "----------------------------------------\n"
          ]
        }
      ],
      "source": [
        "# select how many best models to use:\n",
        "n=2\n",
        "\n",
        "def select_best_n_with_params(performance_summary, models_dict, params_dict, n):\n",
        "    best_performers = performance_summary.sort_values(by='mean_score', ascending=False).head(n)\n",
        "    \n",
        "    best_models = {name: models_dict[name] for name in best_performers['estimator'] if name in models_dict}\n",
        "    best_params = {name: params_dict[name] for name in best_performers['estimator'] if name in params_dict}\n",
        "    \n",
        "    # Create human-readable format\n",
        "    print(f\"Best {n} Models and hyperparameterlist for tuning:\\n\")\n",
        "    print(\"-\" * 40)\n",
        "    for name in best_models:\n",
        "        print(f\"Model: {name}\")\n",
        "        print(\"Parameters:\")\n",
        "        if name in best_params:\n",
        "            for param, values in best_params[name].items():\n",
        "                print(f\"  {param}: {values}\")\n",
        "        else:\n",
        "            print(\"  No parameters listed.\")\n",
        "        print(\"-\" * 40)\n",
        "\n",
        "    return best_models, best_params\n",
        "\n",
        "best_models, best_params = select_best_n_with_params(classifier_summary, models_list, parameter_list, n)"
      ]
    },
    {
      "cell_type": "code",
      "execution_count": 14,
      "metadata": {},
      "outputs": [
        {
          "name": "stdout",
          "output_type": "stream",
          "text": [
            "\n",
            "Running GridSearchCV for AdaBoostClassifier \n",
            "\n",
            "Fitting 5 folds for each of 12 candidates, totalling 60 fits\n",
            "\n",
            "Running GridSearchCV for DecisionTreeClassifier \n",
            "\n",
            "Fitting 5 folds for each of 24 candidates, totalling 120 fits\n"
          ]
        }
      ],
      "source": [
        "parameters_search = HyperparameterOptimizationSearch(models=best_models, parameters=parameter_list)\n",
        "parameters_search.fit(math_train_features, math_train_scores, scoring=make_scorer(recall_score, labels=[0], average=None), n_jobs=-1, cv=5)"
      ]
    },
    {
      "cell_type": "code",
      "execution_count": 15,
      "metadata": {},
      "outputs": [
        {
          "data": {
            "text/html": [
              "<div>\n",
              "<style scoped>\n",
              "    .dataframe tbody tr th:only-of-type {\n",
              "        vertical-align: middle;\n",
              "    }\n",
              "\n",
              "    .dataframe tbody tr th {\n",
              "        vertical-align: top;\n",
              "    }\n",
              "\n",
              "    .dataframe thead th {\n",
              "        text-align: right;\n",
              "    }\n",
              "</style>\n",
              "<table border=\"1\" class=\"dataframe\">\n",
              "  <thead>\n",
              "    <tr style=\"text-align: right;\">\n",
              "      <th></th>\n",
              "      <th>estimator</th>\n",
              "      <th>minimum_score</th>\n",
              "      <th>mean_score</th>\n",
              "      <th>maximum_score</th>\n",
              "      <th>standard_deviation_score</th>\n",
              "      <th>model__learning_rate</th>\n",
              "      <th>model__n_estimators</th>\n",
              "      <th>model__max_depth</th>\n",
              "      <th>model__max_leaf_nodes</th>\n",
              "      <th>model__min_samples_leaf</th>\n",
              "      <th>model__min_samples_split</th>\n",
              "    </tr>\n",
              "  </thead>\n",
              "  <tbody>\n",
              "    <tr>\n",
              "      <th>5</th>\n",
              "      <td>AdaBoostClassifier</td>\n",
              "      <td>0.782268</td>\n",
              "      <td>0.802668</td>\n",
              "      <td>0.830129</td>\n",
              "      <td>0.021151</td>\n",
              "      <td>0.1</td>\n",
              "      <td>25</td>\n",
              "      <td>NaN</td>\n",
              "      <td>NaN</td>\n",
              "      <td>NaN</td>\n",
              "      <td>NaN</td>\n",
              "    </tr>\n",
              "    <tr>\n",
              "      <th>4</th>\n",
              "      <td>AdaBoostClassifier</td>\n",
              "      <td>0.732052</td>\n",
              "      <td>0.745704</td>\n",
              "      <td>0.758337</td>\n",
              "      <td>0.009215</td>\n",
              "      <td>0.1</td>\n",
              "      <td>50</td>\n",
              "      <td>NaN</td>\n",
              "      <td>NaN</td>\n",
              "      <td>NaN</td>\n",
              "      <td>NaN</td>\n",
              "    </tr>\n",
              "    <tr>\n",
              "      <th>6</th>\n",
              "      <td>AdaBoostClassifier</td>\n",
              "      <td>0.732052</td>\n",
              "      <td>0.745704</td>\n",
              "      <td>0.758337</td>\n",
              "      <td>0.009215</td>\n",
              "      <td>0.1</td>\n",
              "      <td>80</td>\n",
              "      <td>NaN</td>\n",
              "      <td>NaN</td>\n",
              "      <td>NaN</td>\n",
              "      <td>NaN</td>\n",
              "    </tr>\n",
              "    <tr>\n",
              "      <th>7</th>\n",
              "      <td>AdaBoostClassifier</td>\n",
              "      <td>0.711652</td>\n",
              "      <td>0.738564</td>\n",
              "      <td>0.758337</td>\n",
              "      <td>0.017289</td>\n",
              "      <td>0.1</td>\n",
              "      <td>150</td>\n",
              "      <td>NaN</td>\n",
              "      <td>NaN</td>\n",
              "      <td>NaN</td>\n",
              "      <td>NaN</td>\n",
              "    </tr>\n",
              "    <tr>\n",
              "      <th>3</th>\n",
              "      <td>AdaBoostClassifier</td>\n",
              "      <td>0.692821</td>\n",
              "      <td>0.723107</td>\n",
              "      <td>0.778344</td>\n",
              "      <td>0.029111</td>\n",
              "      <td>1</td>\n",
              "      <td>150</td>\n",
              "      <td>NaN</td>\n",
              "      <td>NaN</td>\n",
              "      <td>NaN</td>\n",
              "      <td>NaN</td>\n",
              "    </tr>\n",
              "  </tbody>\n",
              "</table>\n",
              "</div>"
            ],
            "text/plain": [
              "            estimator minimum_score mean_score maximum_score  \\\n",
              "5  AdaBoostClassifier      0.782268   0.802668      0.830129   \n",
              "4  AdaBoostClassifier      0.732052   0.745704      0.758337   \n",
              "6  AdaBoostClassifier      0.732052   0.745704      0.758337   \n",
              "7  AdaBoostClassifier      0.711652   0.738564      0.758337   \n",
              "3  AdaBoostClassifier      0.692821   0.723107      0.778344   \n",
              "\n",
              "  standard_deviation_score model__learning_rate model__n_estimators  \\\n",
              "5                 0.021151                  0.1                  25   \n",
              "4                 0.009215                  0.1                  50   \n",
              "6                 0.009215                  0.1                  80   \n",
              "7                 0.017289                  0.1                 150   \n",
              "3                 0.029111                    1                 150   \n",
              "\n",
              "  model__max_depth model__max_leaf_nodes model__min_samples_leaf  \\\n",
              "5              NaN                   NaN                     NaN   \n",
              "4              NaN                   NaN                     NaN   \n",
              "6              NaN                   NaN                     NaN   \n",
              "7              NaN                   NaN                     NaN   \n",
              "3              NaN                   NaN                     NaN   \n",
              "\n",
              "  model__min_samples_split  \n",
              "5                      NaN  \n",
              "4                      NaN  \n",
              "6                      NaN  \n",
              "7                      NaN  \n",
              "3                      NaN  "
            ]
          },
          "execution_count": 15,
          "metadata": {},
          "output_type": "execute_result"
        }
      ],
      "source": [
        "parameters_summary, parameters_pipeliness = parameters_search.score_summary(sort_by='mean_score')\n",
        "parameters_summary.head()"
      ]
    },
    {
      "cell_type": "markdown",
      "metadata": {},
      "source": [
        "### Analysis\n",
        "Tweaking the hyperparameters has achieved an imrovement of the score to 0.80. This is good, but suspicious as in he previous analyses. As expected, the DecisionTreeClassifier did not improve significantly."
      ]
    },
    {
      "cell_type": "code",
      "execution_count": 16,
      "metadata": {},
      "outputs": [
        {
          "data": {
            "text/plain": [
              "'AdaBoostClassifier'"
            ]
          },
          "execution_count": 16,
          "metadata": {},
          "output_type": "execute_result"
        }
      ],
      "source": [
        "best_model = parameters_summary.iloc[0,0]\n",
        "best_model"
      ]
    },
    {
      "cell_type": "code",
      "execution_count": 17,
      "metadata": {},
      "outputs": [
        {
          "data": {
            "text/plain": [
              "{'model__learning_rate': 0.1, 'model__n_estimators': 25}"
            ]
          },
          "execution_count": 17,
          "metadata": {},
          "output_type": "execute_result"
        }
      ],
      "source": [
        "best_parameters = parameters_pipeliness[best_model].best_params_\n",
        "best_parameters"
      ]
    },
    {
      "cell_type": "code",
      "execution_count": 18,
      "metadata": {},
      "outputs": [
        {
          "data": {
            "text/plain": [
              "Pipeline(steps=[('OrdinalCategoricalEncoder',\n",
              "                 OrdinalEncoder(encoding_method='arbitrary',\n",
              "                                variables=['Gender', 'EthnicGroup',\n",
              "                                           'ParentEduc', 'LunchType',\n",
              "                                           'TestPrep'])),\n",
              "                ('feature_selection',\n",
              "                 SelectFromModel(estimator=AdaBoostClassifier(random_state=0))),\n",
              "                ('model',\n",
              "                 AdaBoostClassifier(learning_rate=0.1, n_estimators=25,\n",
              "                                    random_state=0))])"
            ]
          },
          "execution_count": 18,
          "metadata": {},
          "output_type": "execute_result"
        }
      ],
      "source": [
        "test_pipeline = parameters_pipeliness[best_model].best_estimator_\n",
        "test_pipeline"
      ]
    },
    {
      "cell_type": "code",
      "execution_count": 19,
      "metadata": {},
      "outputs": [
        {
          "name": "stdout",
          "output_type": "stream",
          "text": [
            "* These are the 2 most important features in descending order. The model was trained on them: \n",
            "['EthnicGroup', 'ParentEduc']\n"
          ]
        },
        {
          "data": {
            "image/png": "[encoded data removed]",
            "text/plain": [
              "<Figure size 640x480 with 1 Axes>"
            ]
          },
          "metadata": {},
          "output_type": "display_data"
        }
      ],
      "source": [
        "data_cleaning_feat_eng_steps = 1\n",
        "columns_after_data_cleaning_feat_eng = (Pipeline(test_pipeline.steps[:data_cleaning_feat_eng_steps])\n",
        "                                        .transform(math_train_features)\n",
        "                                        .columns)\n",
        "\n",
        "best_features_2 = columns_after_data_cleaning_feat_eng[test_pipeline['feature_selection'].get_support()].to_list()\n",
        "\n",
        "# create DataFrame to display feature importance\n",
        "df_feature_importance_2 = (pd.DataFrame(data={\n",
        "          'Feature': columns_after_data_cleaning_feat_eng[test_pipeline['feature_selection'].get_support()],\n",
        "          'Importance': test_pipeline['model'].feature_importances_})\n",
        "  .sort_values(by='Importance', ascending=False)\n",
        "  )\n",
        "\n",
        "maths_efd_2_best_features = df_feature_importance_2['Feature'].to_list() # reassign best features in order\n",
        "\n",
        "# Most important features statement and plot\n",
        "print(f\"* These are the {len(best_features_2)} most important features in descending order. \"\n",
        "      f\"The model was trained on them: \\n{best_features_2}\")\n",
        "\n",
        "df_feature_importance_2.plot(kind='bar',x='Feature',y='Importance')\n",
        "plt.show()"
      ]
    },
    {
      "cell_type": "markdown",
      "metadata": {},
      "source": [
        "### Analysis\n",
        "This is a surprise and not expected. The LunchType Variable was not added to the training of the model and EthnicGroup and ParentEducational level are used to predict the  Math Score. <br>\n",
        "I will check the accuracy of using these features of the model on the test set next."
      ]
    },
    {
      "cell_type": "code",
      "execution_count": 20,
      "metadata": {},
      "outputs": [
        {
          "data": {
            "text/plain": [
              "[-inf, 67.0, inf]"
            ]
          },
          "execution_count": 20,
          "metadata": {},
          "output_type": "execute_result"
        }
      ],
      "source": [
        "efd.binner_dict_['MathScore']"
      ]
    },
    {
      "cell_type": "code",
      "execution_count": 21,
      "metadata": {},
      "outputs": [
        {
          "data": {
            "text/plain": [
              "['Might need assistance', 'No assistance needed']"
            ]
          },
          "execution_count": 21,
          "metadata": {},
          "output_type": "execute_result"
        }
      ],
      "source": [
        "label_map = ['Might need assistance', 'No assistance needed']\n",
        "label_map"
      ]
    },
    {
      "cell_type": "code",
      "execution_count": 22,
      "metadata": {},
      "outputs": [
        {
          "name": "stdout",
          "output_type": "stream",
          "text": [
            "Math - Train Set\n",
            "\n",
            "#### Confusion Matrix\n",
            "\n",
            "|                                  |   Actual Might need assistance |   Actual No assistance needed |\n",
            "|:---------------------------------|-------------------------------:|------------------------------:|\n",
            "| Prediction Might need assistance |                          10531 |                          2214 |\n",
            "| Prediction No assistance needed  |                           8120 |                          3647 |\n",
            "\n",
            "#### Classification Report\n",
            "\n",
            "|                       | precision   | recall   |   f1-score | support   |\n",
            "|:----------------------|:------------|:---------|-----------:|:----------|\n",
            "| Might need assistance | 0.565       | 0.826    |      0.671 | 12745     |\n",
            "| No assistance needed  | 0.622       | 0.31     |      0.414 | 11767     |\n",
            "| accuracy              |             |          |      0.578 |           |\n",
            "| macro avg             | 0.593       | 0.568    |      0.542 | 24512     |\n",
            "| weighted avg          | 0.592       | 0.578    |      0.547 | 24512     |\n",
            "\n",
            "Math - Test Set\n",
            "\n",
            "#### Confusion Matrix\n",
            "\n",
            "|                                  |   Actual Might need assistance |   Actual No assistance needed |\n",
            "|:---------------------------------|-------------------------------:|------------------------------:|\n",
            "| Prediction Might need assistance |                           2664 |                           561 |\n",
            "| Prediction No assistance needed  |                           1970 |                           934 |\n",
            "\n",
            "#### Classification Report\n",
            "\n",
            "|                       | precision   | recall   |   f1-score | support   |\n",
            "|:----------------------|:------------|:---------|-----------:|:----------|\n",
            "| Might need assistance | 0.575       | 0.826    |      0.678 | 3225      |\n",
            "| No assistance needed  | 0.625       | 0.322    |      0.425 | 2904      |\n",
            "| accuracy              |             |          |      0.587 |           |\n",
            "| macro avg             | 0.6         | 0.574    |      0.551 | 6129      |\n",
            "| weighted avg          | 0.599       | 0.587    |      0.558 | 6129      |\n",
            "\n"
          ]
        }
      ],
      "source": [
        "clf_performance(\n",
        "    math_train_features,\n",
        "    math_train_scores,\n",
        "    math_test_features,\n",
        "    math_test_scores,\n",
        "    test_pipeline,\n",
        "    label_map,\n",
        "    'math')"
      ]
    },
    {
      "cell_type": "markdown",
      "metadata": {},
      "source": [
        "## Conclusion\n",
        "### Confusion Matrix\n",
        "| Test |  Result | \n",
        "|---|---|\n",
        "|True Positives (TP)|2664 correctly predicted \"Might need assistance.\"|\n",
        "|False Positives (FP)|561 incorrectly predicted \"Might need assistance\" with actual \"No assistance needed.\"|\n",
        "|True Negatives (TN)|1970 correctly predicted \"No assistance needed.\"|\n",
        "|False Negatives (FN)|934 incorrectly predicted \"No assistance needed\" with actual \"Might need assistance.\"|\n",
        "\n",
        "**Might Need Assistance:**\n",
        "* Precision 0.57 indicates that model identifies someone might need help 57% of the time.\n",
        "* Recall 0.83 indicates model successfully identifies 83% of all students who might need help\n",
        "* F1 - balance of Precision and recall of 0.68 indicates reasonable performance above the 0.6 target\n",
        "\n",
        "**No Assistance Needed:**\n",
        "* Precision 0.62 indicates that model identifies no help needed 62% of the time.\n",
        "* Recall 0.32 indicates model identifies only 32% of students who actually do not need help are correctly identified\n",
        "* F1 - balance of Precision and recall of 0.55 indicates model is less accurate at identifying students who do not need help\n",
        "\n",
        "the Macro Averages are very similar indicating balanced performance accross both classes, but not at a particularly high level. \n",
        "\n",
        "Since the model is more likely to predict a false positive, the worst case scenario is that a better student might be 'wrongly' identified as in need of additional help. This is an acceptable outcome as the oppososite would the most problematic ... ie falsley identifying students in need as not needing help.\n",
        "\n",
        "This would need to be discussed with the customer to see if the outcome is acceptable. The dataset might allow some more tweaking, and sourcing a dataset with no missing values (eliminating the need to impute data) might further improve the model."
      ]
    }
  ],
  "metadata": {
    "accelerator": "GPU",
    "colab": {
      "name": "Data Practitioner Jupyter Notebook.ipynb",
      "provenance": [],
      "toc_visible": true
    },
    "interpreter": {
      "hash": "8b8334dab9339717f727a1deaf837b322d7a41c20d15cc86be99a8e69ceec8ce"
    },
    "kernelspec": {
      "display_name": "Python 3.8.12 64-bit ('3.8.12': pyenv)",
      "name": "python3"
    },
    "language_info": {
      "codemirror_mode": {
        "name": "ipython",
        "version": 3
      },
      "file_extension": ".py",
      "mimetype": "text/x-python",
      "name": "python",
      "nbconvert_exporter": "python",
      "pygments_lexer": "ipython3",
      "version": "3.8.18"
    },
    "orig_nbformat": 2
  },
  "nbformat": 4,
  "nbformat_minor": 2
}
