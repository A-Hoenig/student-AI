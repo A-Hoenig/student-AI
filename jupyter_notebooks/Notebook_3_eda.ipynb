{
  "cells": [
    {
      "cell_type": "markdown",
      "metadata": {
        "id": "0aStgWSO0E0E"
      },
      "source": [
        "# **STUDENT AI** - EDA\n",
        "Exploratory Data Analysis"
      ]
    },
    {
      "cell_type": "markdown",
      "metadata": {
        "id": "1eLEkw5O0ECa"
      },
      "source": [
        "## Objectives\n",
        "\n",
        "Conduct Exploratory analyis of the data to glean insights into how it might be used to solve the business case. Final objective is to identify significant variables to train the model on.\n",
        "\n",
        "## Inputs\n",
        "\n",
        "Cleaned Dataset from previous notebook.\n",
        "\n",
        "## Outputs\n",
        "\n",
        "None\n"
      ]
    },
    {
      "cell_type": "markdown",
      "metadata": {},
      "source": [
        "### Install new libraries needed for EDA"
      ]
    },
    {
      "cell_type": "code",
      "execution_count": 1,
      "metadata": {},
      "outputs": [
        {
          "name": "stdout",
          "output_type": "stream",
          "text": [
            "Requirement already satisfied: pingouin in /workspace/.pyenv_mirror/fakeroot/versions/3.8.18/lib/python3.8/site-packages (0.5.4)\n",
            "Requirement already satisfied: numpy in /workspace/.pyenv_mirror/user/3.8.18/lib/python3.8/site-packages (from pingouin) (1.24.4)\n",
            "Requirement already satisfied: scipy in /workspace/.pyenv_mirror/user/3.8.18/lib/python3.8/site-packages (from pingouin) (1.9.3)\n",
            "Requirement already satisfied: pandas>=1.5 in /workspace/.pyenv_mirror/fakeroot/versions/3.8.18/lib/python3.8/site-packages (from pingouin) (2.0.3)\n",
            "Requirement already satisfied: matplotlib in /workspace/.pyenv_mirror/user/3.8.18/lib/python3.8/site-packages (from pingouin) (3.3.1)\n",
            "Requirement already satisfied: seaborn in /workspace/.pyenv_mirror/user/3.8.18/lib/python3.8/site-packages (from pingouin) (0.11.0)\n",
            "Requirement already satisfied: statsmodels in /workspace/.pyenv_mirror/user/3.8.18/lib/python3.8/site-packages (from pingouin) (0.14.1)\n",
            "Requirement already satisfied: scikit-learn in /workspace/.pyenv_mirror/fakeroot/versions/3.8.18/lib/python3.8/site-packages (from pingouin) (1.3.2)\n",
            "Requirement already satisfied: pandas-flavor in /workspace/.pyenv_mirror/fakeroot/versions/3.8.18/lib/python3.8/site-packages (from pingouin) (0.6.0)\n",
            "Requirement already satisfied: tabulate in /workspace/.pyenv_mirror/fakeroot/versions/3.8.18/lib/python3.8/site-packages (from pingouin) (0.9.0)\n",
            "Requirement already satisfied: python-dateutil>=2.8.2 in /workspace/.pyenv_mirror/user/3.8.18/lib/python3.8/site-packages (from pandas>=1.5->pingouin) (2.8.2)\n",
            "Requirement already satisfied: pytz>=2020.1 in /workspace/.pyenv_mirror/user/3.8.18/lib/python3.8/site-packages (from pandas>=1.5->pingouin) (2024.1)\n",
            "Requirement already satisfied: tzdata>=2022.1 in /workspace/.pyenv_mirror/user/3.8.18/lib/python3.8/site-packages (from pandas>=1.5->pingouin) (2024.1)\n",
            "Requirement already satisfied: certifi>=2020.06.20 in /workspace/.pyenv_mirror/user/3.8.18/lib/python3.8/site-packages (from matplotlib->pingouin) (2024.2.2)\n",
            "Requirement already satisfied: cycler>=0.10 in /workspace/.pyenv_mirror/user/3.8.18/lib/python3.8/site-packages (from matplotlib->pingouin) (0.12.1)\n",
            "Requirement already satisfied: kiwisolver>=1.0.1 in /workspace/.pyenv_mirror/user/3.8.18/lib/python3.8/site-packages (from matplotlib->pingouin) (1.4.5)\n",
            "Requirement already satisfied: pillow>=6.2.0 in /workspace/.pyenv_mirror/user/3.8.18/lib/python3.8/site-packages (from matplotlib->pingouin) (10.2.0)\n",
            "Requirement already satisfied: pyparsing!=2.0.4,!=2.1.2,!=2.1.6,>=2.0.3 in /workspace/.pyenv_mirror/user/3.8.18/lib/python3.8/site-packages (from matplotlib->pingouin) (3.1.1)\n",
            "Requirement already satisfied: xarray in /workspace/.pyenv_mirror/fakeroot/versions/3.8.18/lib/python3.8/site-packages (from pandas-flavor->pingouin) (2023.1.0)\n",
            "Requirement already satisfied: joblib>=1.1.1 in /workspace/.pyenv_mirror/user/3.8.18/lib/python3.8/site-packages (from scikit-learn->pingouin) (1.3.2)\n",
            "Requirement already satisfied: threadpoolctl>=2.0.0 in /workspace/.pyenv_mirror/user/3.8.18/lib/python3.8/site-packages (from scikit-learn->pingouin) (3.3.0)\n",
            "Requirement already satisfied: patsy>=0.5.4 in /workspace/.pyenv_mirror/user/3.8.18/lib/python3.8/site-packages (from statsmodels->pingouin) (0.5.6)\n",
            "Requirement already satisfied: packaging>=21.3 in /workspace/.pyenv_mirror/user/3.8.18/lib/python3.8/site-packages (from statsmodels->pingouin) (23.2)\n",
            "Requirement already satisfied: six in /workspace/.pyenv_mirror/user/3.8.18/lib/python3.8/site-packages (from patsy>=0.5.4->statsmodels->pingouin) (1.16.0)\n",
            "Requirement already satisfied: feature_engine in /workspace/.pyenv_mirror/fakeroot/versions/3.8.18/lib/python3.8/site-packages (1.6.2)\n",
            "Requirement already satisfied: numpy>=1.18.2 in /workspace/.pyenv_mirror/user/3.8.18/lib/python3.8/site-packages (from feature_engine) (1.24.4)\n",
            "Requirement already satisfied: pandas>=1.0.3 in /workspace/.pyenv_mirror/fakeroot/versions/3.8.18/lib/python3.8/site-packages (from feature_engine) (2.0.3)\n",
            "Requirement already satisfied: scikit-learn>=1.0.0 in /workspace/.pyenv_mirror/fakeroot/versions/3.8.18/lib/python3.8/site-packages (from feature_engine) (1.3.2)\n",
            "Requirement already satisfied: scipy>=1.4.1 in /workspace/.pyenv_mirror/user/3.8.18/lib/python3.8/site-packages (from feature_engine) (1.9.3)\n",
            "Requirement already satisfied: statsmodels>=0.11.1 in /workspace/.pyenv_mirror/user/3.8.18/lib/python3.8/site-packages (from feature_engine) (0.14.1)\n",
            "Requirement already satisfied: python-dateutil>=2.8.2 in /workspace/.pyenv_mirror/user/3.8.18/lib/python3.8/site-packages (from pandas>=1.0.3->feature_engine) (2.8.2)\n",
            "Requirement already satisfied: pytz>=2020.1 in /workspace/.pyenv_mirror/user/3.8.18/lib/python3.8/site-packages (from pandas>=1.0.3->feature_engine) (2024.1)\n",
            "Requirement already satisfied: tzdata>=2022.1 in /workspace/.pyenv_mirror/user/3.8.18/lib/python3.8/site-packages (from pandas>=1.0.3->feature_engine) (2024.1)\n",
            "Requirement already satisfied: joblib>=1.1.1 in /workspace/.pyenv_mirror/user/3.8.18/lib/python3.8/site-packages (from scikit-learn>=1.0.0->feature_engine) (1.3.2)\n",
            "Requirement already satisfied: threadpoolctl>=2.0.0 in /workspace/.pyenv_mirror/user/3.8.18/lib/python3.8/site-packages (from scikit-learn>=1.0.0->feature_engine) (3.3.0)\n",
            "Requirement already satisfied: patsy>=0.5.4 in /workspace/.pyenv_mirror/user/3.8.18/lib/python3.8/site-packages (from statsmodels>=0.11.1->feature_engine) (0.5.6)\n",
            "Requirement already satisfied: packaging>=21.3 in /workspace/.pyenv_mirror/user/3.8.18/lib/python3.8/site-packages (from statsmodels>=0.11.1->feature_engine) (23.2)\n",
            "Requirement already satisfied: six in /workspace/.pyenv_mirror/user/3.8.18/lib/python3.8/site-packages (from patsy>=0.5.4->statsmodels>=0.11.1->feature_engine) (1.16.0)\n"
          ]
        }
      ],
      "source": [
        "!pip install pingouin\n",
        "!pip install feature_engine"
      ]
    },
    {
      "cell_type": "markdown",
      "metadata": {
        "id": "9uWZXH9LwoQg"
      },
      "source": [
        "---"
      ]
    },
    {
      "cell_type": "markdown",
      "metadata": {},
      "source": [
        "# Import required libraries"
      ]
    },
    {
      "cell_type": "code",
      "execution_count": 2,
      "metadata": {},
      "outputs": [
        {
          "name": "stdout",
          "output_type": "stream",
          "text": [
            "All Libraries Loaded\n"
          ]
        },
        {
          "name": "stderr",
          "output_type": "stream",
          "text": [
            "/tmp/ipykernel_800/2796199378.py:7: DeprecationWarning: `import pandas_profiling` is going to be deprecated by April 1st. Please use `import ydata_profiling` instead.\n",
            "  from pandas_profiling import ProfileReport\n"
          ]
        }
      ],
      "source": [
        "import os\n",
        "import pandas as pd\n",
        "import seaborn as sns\n",
        "import numpy as np\n",
        "import ppscore as pps\n",
        "import pingouin as pg\n",
        "from pandas_profiling import ProfileReport\n",
        "import matplotlib.pyplot as plt\n",
        "\n",
        "from feature_engine import transformation as vt\n",
        "from sklearn.pipeline import Pipeline\n",
        "\n",
        "print('All Libraries Loaded')"
      ]
    },
    {
      "cell_type": "markdown",
      "metadata": {
        "id": "cqP-UeN-z3i2"
      },
      "source": [
        "# Change working directory"
      ]
    },
    {
      "cell_type": "markdown",
      "metadata": {
        "id": "aOGIGS-uz3i2"
      },
      "source": [
        "### Set the working directory to notebook parent folder\n",
        "If the output does not match, click **'clear all outputs'** and then **'restart'** the notebook. \n",
        "Then run cells from top to bottom."
      ]
    },
    {
      "cell_type": "code",
      "execution_count": 3,
      "metadata": {
        "id": "wZfF_j-Bz3i4",
        "outputId": "66943449-1436-4c3d-85c7-b85f9f78349b"
      },
      "outputs": [
        {
          "name": "stdout",
          "output_type": "stream",
          "text": [
            "If correct, Active Directory should read: /workspace/student-AI\n",
            "Active Directory: /workspace/student-AI\n"
          ]
        }
      ],
      "source": [
        "current_dir = os.getcwd()\n",
        "os.chdir(os.path.dirname(current_dir))\n",
        "current_dir = os.getcwd()\n",
        "print('If correct, Active Directory should read: /workspace/student-AI')\n",
        "print(f\"Active Directory: {current_dir}\")"
      ]
    },
    {
      "cell_type": "markdown",
      "metadata": {},
      "source": [
        "### Load cleaned dataset"
      ]
    },
    {
      "cell_type": "code",
      "execution_count": 4,
      "metadata": {},
      "outputs": [
        {
          "data": {
            "text/html": [
              "<div>\n",
              "<style scoped>\n",
              "    .dataframe tbody tr th:only-of-type {\n",
              "        vertical-align: middle;\n",
              "    }\n",
              "\n",
              "    .dataframe tbody tr th {\n",
              "        vertical-align: top;\n",
              "    }\n",
              "\n",
              "    .dataframe thead th {\n",
              "        text-align: right;\n",
              "    }\n",
              "</style>\n",
              "<table border=\"1\" class=\"dataframe\">\n",
              "  <thead>\n",
              "    <tr style=\"text-align: right;\">\n",
              "      <th></th>\n",
              "      <th>Gender</th>\n",
              "      <th>EthnicGroup</th>\n",
              "      <th>ParentEduc</th>\n",
              "      <th>LunchType</th>\n",
              "      <th>TestPrep</th>\n",
              "      <th>ParentMaritalStatus</th>\n",
              "      <th>PracticeSport</th>\n",
              "      <th>IsFirstChild</th>\n",
              "      <th>NrSiblings</th>\n",
              "      <th>TransportMeans</th>\n",
              "      <th>WklyStudyHours</th>\n",
              "      <th>MathScore</th>\n",
              "      <th>ReadingScore</th>\n",
              "      <th>WritingScore</th>\n",
              "    </tr>\n",
              "  </thead>\n",
              "  <tbody>\n",
              "    <tr>\n",
              "      <th>0</th>\n",
              "      <td>female</td>\n",
              "      <td>group B</td>\n",
              "      <td>master's degree</td>\n",
              "      <td>standard</td>\n",
              "      <td>none</td>\n",
              "      <td>single</td>\n",
              "      <td>sometimes</td>\n",
              "      <td>yes</td>\n",
              "      <td>4</td>\n",
              "      <td>school_bus</td>\n",
              "      <td>&lt; 5</td>\n",
              "      <td>87</td>\n",
              "      <td>93</td>\n",
              "      <td>91</td>\n",
              "    </tr>\n",
              "    <tr>\n",
              "      <th>1</th>\n",
              "      <td>male</td>\n",
              "      <td>group C</td>\n",
              "      <td>some college</td>\n",
              "      <td>standard</td>\n",
              "      <td>none</td>\n",
              "      <td>married</td>\n",
              "      <td>sometimes</td>\n",
              "      <td>yes</td>\n",
              "      <td>0</td>\n",
              "      <td>school_bus</td>\n",
              "      <td>5 - 10</td>\n",
              "      <td>76</td>\n",
              "      <td>78</td>\n",
              "      <td>75</td>\n",
              "    </tr>\n",
              "    <tr>\n",
              "      <th>2</th>\n",
              "      <td>female</td>\n",
              "      <td>group B</td>\n",
              "      <td>associate's degree</td>\n",
              "      <td>standard</td>\n",
              "      <td>none</td>\n",
              "      <td>married</td>\n",
              "      <td>regularly</td>\n",
              "      <td>yes</td>\n",
              "      <td>1</td>\n",
              "      <td>school_bus</td>\n",
              "      <td>5 - 10</td>\n",
              "      <td>73</td>\n",
              "      <td>84</td>\n",
              "      <td>79</td>\n",
              "    </tr>\n",
              "    <tr>\n",
              "      <th>3</th>\n",
              "      <td>female</td>\n",
              "      <td>group B</td>\n",
              "      <td>some college</td>\n",
              "      <td>standard</td>\n",
              "      <td>completed</td>\n",
              "      <td>widowed</td>\n",
              "      <td>never</td>\n",
              "      <td>no</td>\n",
              "      <td>1</td>\n",
              "      <td>private</td>\n",
              "      <td>5 - 10</td>\n",
              "      <td>85</td>\n",
              "      <td>93</td>\n",
              "      <td>89</td>\n",
              "    </tr>\n",
              "    <tr>\n",
              "      <th>4</th>\n",
              "      <td>male</td>\n",
              "      <td>group B</td>\n",
              "      <td>some college</td>\n",
              "      <td>free/reduced</td>\n",
              "      <td>none</td>\n",
              "      <td>married</td>\n",
              "      <td>sometimes</td>\n",
              "      <td>yes</td>\n",
              "      <td>1</td>\n",
              "      <td>private</td>\n",
              "      <td>&gt; 10</td>\n",
              "      <td>41</td>\n",
              "      <td>43</td>\n",
              "      <td>39</td>\n",
              "    </tr>\n",
              "  </tbody>\n",
              "</table>\n",
              "</div>"
            ],
            "text/plain": [
              "   Gender EthnicGroup          ParentEduc     LunchType   TestPrep  \\\n",
              "0  female     group B     master's degree      standard       none   \n",
              "1    male     group C        some college      standard       none   \n",
              "2  female     group B  associate's degree      standard       none   \n",
              "3  female     group B        some college      standard  completed   \n",
              "4    male     group B        some college  free/reduced       none   \n",
              "\n",
              "  ParentMaritalStatus PracticeSport IsFirstChild  NrSiblings TransportMeans  \\\n",
              "0              single     sometimes          yes           4     school_bus   \n",
              "1             married     sometimes          yes           0     school_bus   \n",
              "2             married     regularly          yes           1     school_bus   \n",
              "3             widowed         never           no           1        private   \n",
              "4             married     sometimes          yes           1        private   \n",
              "\n",
              "  WklyStudyHours  MathScore  ReadingScore  WritingScore  \n",
              "0            < 5         87            93            91  \n",
              "1         5 - 10         76            78            75  \n",
              "2         5 - 10         73            84            79  \n",
              "3         5 - 10         85            93            89  \n",
              "4           > 10         41            43            39  "
            ]
          },
          "execution_count": 4,
          "metadata": {},
          "output_type": "execute_result"
        }
      ],
      "source": [
        "df = pd.read_csv(f\"outputs/dataset/Expanded_data_with_more_features_clean.csv\")\n",
        "df.head()"
      ]
    },
    {
      "cell_type": "code",
      "execution_count": 5,
      "metadata": {},
      "outputs": [
        {
          "name": "stdout",
          "output_type": "stream",
          "text": [
            "<class 'pandas.core.frame.DataFrame'>\n",
            "RangeIndex: 19243 entries, 0 to 19242\n",
            "Data columns (total 14 columns):\n",
            " #   Column               Non-Null Count  Dtype \n",
            "---  ------               --------------  ----- \n",
            " 0   Gender               19243 non-null  object\n",
            " 1   EthnicGroup          19243 non-null  object\n",
            " 2   ParentEduc           19243 non-null  object\n",
            " 3   LunchType            19243 non-null  object\n",
            " 4   TestPrep             19243 non-null  object\n",
            " 5   ParentMaritalStatus  19243 non-null  object\n",
            " 6   PracticeSport        19243 non-null  object\n",
            " 7   IsFirstChild         19243 non-null  object\n",
            " 8   NrSiblings           19243 non-null  int64 \n",
            " 9   TransportMeans       19243 non-null  object\n",
            " 10  WklyStudyHours       19243 non-null  object\n",
            " 11  MathScore            19243 non-null  int64 \n",
            " 12  ReadingScore         19243 non-null  int64 \n",
            " 13  WritingScore         19243 non-null  int64 \n",
            "dtypes: int64(4), object(10)\n",
            "memory usage: 2.1+ MB\n"
          ]
        }
      ],
      "source": [
        "df.info()"
      ]
    },
    {
      "cell_type": "markdown",
      "metadata": {},
      "source": [
        "## Initial review of pandas report to decide further analysis"
      ]
    },
    {
      "cell_type": "code",
      "execution_count": null,
      "metadata": {},
      "outputs": [],
      "source": [
        "pandas_report = ProfileReport(df=df, minimal=True)\n",
        "pandas_report.to_notebook_iframe()"
      ]
    },
    {
      "cell_type": "markdown",
      "metadata": {},
      "source": [
        "## Pandas Report\n",
        "\n",
        "Clicking on each variable to view the specific report fo each variable:\n",
        "\n",
        "| Variable |  Obvious Insights  | \n",
        "|---|---|\n",
        "| Gender  |  shows equal disribution of 50.8% to 49.2% and no missing values |\n",
        "|EthnicGroup|report is not much value as it gives the word 'group' most emphasis - **string 'group ' needs to be removed from data**|\n",
        "|ParentEduc|again here the word 'some' is not accurate. this categorical variable should be changed to a linear numerical one indicating 0 none to n highest level of education, with 'some as intermediary values|\n",
        "|LunchType|this feature is imbalanced with 64.8% standard and 35.2% free/reduced. Will require some feature engineering|\n",
        "|TestPrep|this feature is imbalanced with 65.4% completed and 34.6% none. Will require some feature engineering|\n",
        "|ParentMaritalStatus|this feature is imbalanced with the majority rows (57.2%) labelled married|\n",
        "|practiceSport|this feature is imbalanced with the majority rows (50.5%) labelled sometimes will need to be engineered or dropped|\n",
        "|IsFirstChild|this feature is imbalanced with 64.5% yes and 35.6% no. Will require some feature engineering|\n",
        "|NrSiblings|this numerical feature looks skewed and has a few outliers that might be able to be removed - further analysis required|\n",
        "|TransportMeans|this feature is slightly imbalanced 58.6% private vs 41.4% school_bus|\n",
        "|WklyStudyHours|this is a categorical feature with options <5, 5-10 ,and >10 hours ... distribution is reasonable balanced 39.3%/32.4%/28.3%|\n",
        "|MathScore|at first glance looks like normal distribution, but obvious missing values that were dropped|\n",
        "|ReadingScore|at first glance looks like normal distribution, but more obvious missing values that were dropped|\n",
        "|WritingScore|at first glance looks like normal distribution, but some missing values that were dropped|\n",
        "\n"
      ]
    },
    {
      "cell_type": "markdown",
      "metadata": {},
      "source": [
        "## remove 'group ' string from 'EthnicGroup'"
      ]
    },
    {
      "cell_type": "code",
      "execution_count": 6,
      "metadata": {},
      "outputs": [
        {
          "data": {
            "text/html": [
              "<div>\n",
              "<style scoped>\n",
              "    .dataframe tbody tr th:only-of-type {\n",
              "        vertical-align: middle;\n",
              "    }\n",
              "\n",
              "    .dataframe tbody tr th {\n",
              "        vertical-align: top;\n",
              "    }\n",
              "\n",
              "    .dataframe thead th {\n",
              "        text-align: right;\n",
              "    }\n",
              "</style>\n",
              "<table border=\"1\" class=\"dataframe\">\n",
              "  <thead>\n",
              "    <tr style=\"text-align: right;\">\n",
              "      <th></th>\n",
              "      <th>Gender</th>\n",
              "      <th>EthnicGroup</th>\n",
              "      <th>ParentEduc</th>\n",
              "      <th>LunchType</th>\n",
              "      <th>TestPrep</th>\n",
              "      <th>ParentMaritalStatus</th>\n",
              "      <th>PracticeSport</th>\n",
              "      <th>IsFirstChild</th>\n",
              "      <th>NrSiblings</th>\n",
              "      <th>TransportMeans</th>\n",
              "      <th>WklyStudyHours</th>\n",
              "      <th>MathScore</th>\n",
              "      <th>ReadingScore</th>\n",
              "      <th>WritingScore</th>\n",
              "    </tr>\n",
              "  </thead>\n",
              "  <tbody>\n",
              "    <tr>\n",
              "      <th>0</th>\n",
              "      <td>female</td>\n",
              "      <td>B</td>\n",
              "      <td>master's degree</td>\n",
              "      <td>standard</td>\n",
              "      <td>none</td>\n",
              "      <td>single</td>\n",
              "      <td>sometimes</td>\n",
              "      <td>yes</td>\n",
              "      <td>4</td>\n",
              "      <td>school_bus</td>\n",
              "      <td>&lt; 5</td>\n",
              "      <td>87</td>\n",
              "      <td>93</td>\n",
              "      <td>91</td>\n",
              "    </tr>\n",
              "    <tr>\n",
              "      <th>1</th>\n",
              "      <td>male</td>\n",
              "      <td>C</td>\n",
              "      <td>some college</td>\n",
              "      <td>standard</td>\n",
              "      <td>none</td>\n",
              "      <td>married</td>\n",
              "      <td>sometimes</td>\n",
              "      <td>yes</td>\n",
              "      <td>0</td>\n",
              "      <td>school_bus</td>\n",
              "      <td>5 - 10</td>\n",
              "      <td>76</td>\n",
              "      <td>78</td>\n",
              "      <td>75</td>\n",
              "    </tr>\n",
              "    <tr>\n",
              "      <th>2</th>\n",
              "      <td>female</td>\n",
              "      <td>B</td>\n",
              "      <td>associate's degree</td>\n",
              "      <td>standard</td>\n",
              "      <td>none</td>\n",
              "      <td>married</td>\n",
              "      <td>regularly</td>\n",
              "      <td>yes</td>\n",
              "      <td>1</td>\n",
              "      <td>school_bus</td>\n",
              "      <td>5 - 10</td>\n",
              "      <td>73</td>\n",
              "      <td>84</td>\n",
              "      <td>79</td>\n",
              "    </tr>\n",
              "    <tr>\n",
              "      <th>3</th>\n",
              "      <td>female</td>\n",
              "      <td>B</td>\n",
              "      <td>some college</td>\n",
              "      <td>standard</td>\n",
              "      <td>completed</td>\n",
              "      <td>widowed</td>\n",
              "      <td>never</td>\n",
              "      <td>no</td>\n",
              "      <td>1</td>\n",
              "      <td>private</td>\n",
              "      <td>5 - 10</td>\n",
              "      <td>85</td>\n",
              "      <td>93</td>\n",
              "      <td>89</td>\n",
              "    </tr>\n",
              "    <tr>\n",
              "      <th>4</th>\n",
              "      <td>male</td>\n",
              "      <td>B</td>\n",
              "      <td>some college</td>\n",
              "      <td>free/reduced</td>\n",
              "      <td>none</td>\n",
              "      <td>married</td>\n",
              "      <td>sometimes</td>\n",
              "      <td>yes</td>\n",
              "      <td>1</td>\n",
              "      <td>private</td>\n",
              "      <td>&gt; 10</td>\n",
              "      <td>41</td>\n",
              "      <td>43</td>\n",
              "      <td>39</td>\n",
              "    </tr>\n",
              "  </tbody>\n",
              "</table>\n",
              "</div>"
            ],
            "text/plain": [
              "   Gender EthnicGroup          ParentEduc     LunchType   TestPrep  \\\n",
              "0  female           B     master's degree      standard       none   \n",
              "1    male           C        some college      standard       none   \n",
              "2  female           B  associate's degree      standard       none   \n",
              "3  female           B        some college      standard  completed   \n",
              "4    male           B        some college  free/reduced       none   \n",
              "\n",
              "  ParentMaritalStatus PracticeSport IsFirstChild  NrSiblings TransportMeans  \\\n",
              "0              single     sometimes          yes           4     school_bus   \n",
              "1             married     sometimes          yes           0     school_bus   \n",
              "2             married     regularly          yes           1     school_bus   \n",
              "3             widowed         never           no           1        private   \n",
              "4             married     sometimes          yes           1        private   \n",
              "\n",
              "  WklyStudyHours  MathScore  ReadingScore  WritingScore  \n",
              "0            < 5         87            93            91  \n",
              "1         5 - 10         76            78            75  \n",
              "2         5 - 10         73            84            79  \n",
              "3         5 - 10         85            93            89  \n",
              "4           > 10         41            43            39  "
            ]
          },
          "execution_count": 6,
          "metadata": {},
          "output_type": "execute_result"
        }
      ],
      "source": [
        "df['EthnicGroup'] = df['EthnicGroup'].str.replace('group ', '', regex=False)\n",
        "df.head()"
      ]
    },
    {
      "cell_type": "code",
      "execution_count": 7,
      "metadata": {},
      "outputs": [
        {
          "data": {
            "image/png": "[encoded data removed]",
            "text/plain": [
              "<Figure size 640x480 with 1 Axes>"
            ]
          },
          "metadata": {},
          "output_type": "display_data"
        }
      ],
      "source": [
        "distribution = df['EthnicGroup'].value_counts()\n",
        "distribution.plot(kind='bar')\n",
        "plt.title('Distribution of Ethnicgroups')\n",
        "plt.xlabel('Categories')\n",
        "plt.ylabel('Frequency')\n",
        "plt.xticks(rotation=0)\n",
        "plt.show()"
      ]
    },
    {
      "cell_type": "markdown",
      "metadata": {},
      "source": [
        "removing the string 'groups' and assessing the distribution of EthnicGroup shows the data is also not balanced and will need to be eningeered."
      ]
    },
    {
      "cell_type": "markdown",
      "metadata": {},
      "source": [
        "## Assess distribution of numerical data"
      ]
    },
    {
      "cell_type": "code",
      "execution_count": 10,
      "metadata": {},
      "outputs": [
        {
          "data": {
            "image/png": "[encoded data removed]",
            "text/plain": [
              "<Figure size 640x480 with 1 Axes>"
            ]
          },
          "metadata": {},
          "output_type": "display_data"
        }
      ],
      "source": [
        "sns.histplot(df[['MathScore', 'ReadingScore', 'WritingScore']])\n",
        "plt.title('Distribution of the test scores');\n"
      ]
    },
    {
      "cell_type": "code",
      "execution_count": 11,
      "metadata": {},
      "outputs": [
        {
          "data": {
            "text/html": [
              "<div>\n",
              "<style scoped>\n",
              "    .dataframe tbody tr th:only-of-type {\n",
              "        vertical-align: middle;\n",
              "    }\n",
              "\n",
              "    .dataframe tbody tr th {\n",
              "        vertical-align: top;\n",
              "    }\n",
              "\n",
              "    .dataframe thead th {\n",
              "        text-align: right;\n",
              "    }\n",
              "</style>\n",
              "<table border=\"1\" class=\"dataframe\">\n",
              "  <thead>\n",
              "    <tr style=\"text-align: right;\">\n",
              "      <th></th>\n",
              "      <th>MathScore</th>\n",
              "      <th>ReadingScore</th>\n",
              "      <th>WritingScore</th>\n",
              "    </tr>\n",
              "    <tr>\n",
              "      <th>Gender</th>\n",
              "      <th></th>\n",
              "      <th></th>\n",
              "      <th></th>\n",
              "    </tr>\n",
              "  </thead>\n",
              "  <tbody>\n",
              "    <tr>\n",
              "      <th>female</th>\n",
              "      <td>64.256164</td>\n",
              "      <td>73.068338</td>\n",
              "      <td>73.070588</td>\n",
              "    </tr>\n",
              "    <tr>\n",
              "      <th>male</th>\n",
              "      <td>69.091994</td>\n",
              "      <td>65.885720</td>\n",
              "      <td>63.990283</td>\n",
              "    </tr>\n",
              "  </tbody>\n",
              "</table>\n",
              "</div>"
            ],
            "text/plain": [
              "        MathScore  ReadingScore  WritingScore\n",
              "Gender                                       \n",
              "female  64.256164     73.068338     73.070588\n",
              "male    69.091994     65.885720     63.990283"
            ]
          },
          "execution_count": 11,
          "metadata": {},
          "output_type": "execute_result"
        }
      ],
      "source": [
        "df.groupby(['Gender'])[['MathScore', 'ReadingScore', 'WritingScore']].agg(np.mean)"
      ]
    }
  ],
  "metadata": {
    "accelerator": "GPU",
    "colab": {
      "name": "Data Practitioner Jupyter Notebook.ipynb",
      "provenance": [],
      "toc_visible": true
    },
    "interpreter": {
      "hash": "8b8334dab9339717f727a1deaf837b322d7a41c20d15cc86be99a8e69ceec8ce"
    },
    "kernelspec": {
      "display_name": "Python 3.8.12 64-bit ('3.8.12': pyenv)",
      "name": "python3"
    },
    "language_info": {
      "codemirror_mode": {
        "name": "ipython",
        "version": 3
      },
      "file_extension": ".py",
      "mimetype": "text/x-python",
      "name": "python",
      "nbconvert_exporter": "python",
      "pygments_lexer": "ipython3",
      "version": "3.8.18"
    },
    "orig_nbformat": 2
  },
  "nbformat": 4,
  "nbformat_minor": 2
}
