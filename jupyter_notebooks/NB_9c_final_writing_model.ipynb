{
  "cells": [
    {
      "cell_type": "markdown",
      "metadata": {
        "id": "0aStgWSO0E0E"
      },
      "source": [
        "# **STUDENT AI** - MATH MODEL CREATION (CLASSIFICATION)"
      ]
    },
    {
      "cell_type": "markdown",
      "metadata": {
        "id": "1eLEkw5O0ECa"
      },
      "source": [
        "## Objectives\n",
        "\n",
        "Output a usable model for predicting student performance for use in a streamlit dashboard.\n",
        "In this case the model will predict writing performance on the assumption that all target variables are influenced by the same features by only a minor degree.\n",
        "\n",
        "## Inputs\n",
        "\n",
        "Main Data set cleaned and engineered for model training.\n",
        "\n",
        "## Outputs\n",
        "\n",
        "Pipeline and .pkl file to use for predicting a students writing score based on the derived calculated best feature variables.\n"
      ]
    },
    {
      "cell_type": "markdown",
      "metadata": {
        "id": "9uWZXH9LwoQg"
      },
      "source": [
        "---"
      ]
    },
    {
      "cell_type": "markdown",
      "metadata": {},
      "source": [
        "# Import required libraries"
      ]
    },
    {
      "cell_type": "code",
      "execution_count": null,
      "metadata": {},
      "outputs": [],
      "source": [
        "import os\n",
        "import joblib\n",
        "import numpy as np\n",
        "import pandas as pd\n",
        "import matplotlib.pyplot as plt\n",
        "import seaborn as sns\n",
        "sns.set_style('whitegrid')\n",
        "\n",
        "### Pipeline\n",
        "from sklearn.pipeline import Pipeline\n",
        "\n",
        "### Feature Engineering\n",
        "from feature_engine.encoding import OrdinalEncoder\n",
        "\n",
        "### Feature Scaling\n",
        "from sklearn.preprocessing import StandardScaler\n",
        "\n",
        "### libraries for custom transformer\n",
        "from sklearn.base import BaseEstimator, TransformerMixin\n",
        "\n",
        "### Feature Balancing\n",
        "from imblearn.pipeline import Pipeline as ImbPipeline\n",
        "from imblearn.under_sampling import RandomUnderSampler\n",
        "from imblearn.over_sampling import SMOTE\n",
        "\n",
        "### Feature  Selection\n",
        "from sklearn.feature_selection import SelectFromModel\n",
        "\n",
        "### ML algorithms \n",
        "from sklearn.tree import DecisionTreeClassifier \n",
        "from sklearn.ensemble import RandomForestClassifier\n",
        "from sklearn.ensemble import GradientBoostingClassifier \n",
        "from sklearn.ensemble import ExtraTreesClassifier\n",
        "from sklearn.ensemble import AdaBoostClassifier\n",
        "from xgboost import XGBClassifier\n",
        "from sklearn.linear_model import SGDClassifier\n",
        "\n",
        "### EqualFrequencyDiscretiser\n",
        "from feature_engine.discretisation import EqualFrequencyDiscretiser\n",
        "\n",
        "### packages for classification report and confusion matrix\n",
        "from sklearn.metrics import make_scorer, recall_score\n",
        "\n",
        "### Train test split\n",
        "from sklearn.model_selection import train_test_split\n",
        "\n",
        "### Packages for generating a classification report and confusion matrix\n",
        "from sklearn.metrics import classification_report, confusion_matrix\n",
        "\n",
        "### GridSearchCV\n",
        "from sklearn.model_selection import GridSearchCV\n",
        "\n",
        "print('All Libraries Loaded')"
      ]
    },
    {
      "cell_type": "markdown",
      "metadata": {
        "id": "cqP-UeN-z3i2"
      },
      "source": [
        "# Change working directory"
      ]
    },
    {
      "cell_type": "markdown",
      "metadata": {
        "id": "aOGIGS-uz3i2"
      },
      "source": [
        "### Set the working directory to notebook parent folder\n",
        "If the output does not match, click **'clear all outputs'** and then **'restart'** the notebook. \n",
        "Then run cells from top to bottom."
      ]
    },
    {
      "cell_type": "code",
      "execution_count": null,
      "metadata": {
        "id": "wZfF_j-Bz3i4",
        "outputId": "66943449-1436-4c3d-85c7-b85f9f78349b"
      },
      "outputs": [],
      "source": [
        "current_dir = os.getcwd()\n",
        "os.chdir(os.path.dirname(current_dir))\n",
        "current_dir = os.getcwd()\n",
        "print('If correct, Active Directory should read: /workspace/student-AI')\n",
        "print(f\"Active Directory: {current_dir}\")"
      ]
    },
    {
      "cell_type": "markdown",
      "metadata": {},
      "source": [
        "### Load cleaned dataset"
      ]
    },
    {
      "cell_type": "code",
      "execution_count": 4,
      "metadata": {},
      "outputs": [
        {
          "data": {
            "text/html": [
              "<div>\n",
              "<style scoped>\n",
              "    .dataframe tbody tr th:only-of-type {\n",
              "        vertical-align: middle;\n",
              "    }\n",
              "\n",
              "    .dataframe tbody tr th {\n",
              "        vertical-align: top;\n",
              "    }\n",
              "\n",
              "    .dataframe thead th {\n",
              "        text-align: right;\n",
              "    }\n",
              "</style>\n",
              "<table border=\"1\" class=\"dataframe\">\n",
              "  <thead>\n",
              "    <tr style=\"text-align: right;\">\n",
              "      <th></th>\n",
              "      <th>Gender</th>\n",
              "      <th>EthnicGroup</th>\n",
              "      <th>ParentEduc</th>\n",
              "      <th>LunchType</th>\n",
              "      <th>TestPrep</th>\n",
              "      <th>WritingScore</th>\n",
              "    </tr>\n",
              "  </thead>\n",
              "  <tbody>\n",
              "    <tr>\n",
              "      <th>0</th>\n",
              "      <td>female</td>\n",
              "      <td>group C</td>\n",
              "      <td>bachelor's degree</td>\n",
              "      <td>standard</td>\n",
              "      <td>none</td>\n",
              "      <td>74</td>\n",
              "    </tr>\n",
              "    <tr>\n",
              "      <th>1</th>\n",
              "      <td>female</td>\n",
              "      <td>group C</td>\n",
              "      <td>some college</td>\n",
              "      <td>standard</td>\n",
              "      <td>none</td>\n",
              "      <td>88</td>\n",
              "    </tr>\n",
              "    <tr>\n",
              "      <th>2</th>\n",
              "      <td>female</td>\n",
              "      <td>group B</td>\n",
              "      <td>master's degree</td>\n",
              "      <td>standard</td>\n",
              "      <td>none</td>\n",
              "      <td>91</td>\n",
              "    </tr>\n",
              "    <tr>\n",
              "      <th>3</th>\n",
              "      <td>male</td>\n",
              "      <td>group A</td>\n",
              "      <td>associate's degree</td>\n",
              "      <td>free/reduced</td>\n",
              "      <td>none</td>\n",
              "      <td>42</td>\n",
              "    </tr>\n",
              "    <tr>\n",
              "      <th>4</th>\n",
              "      <td>male</td>\n",
              "      <td>group C</td>\n",
              "      <td>some college</td>\n",
              "      <td>standard</td>\n",
              "      <td>none</td>\n",
              "      <td>75</td>\n",
              "    </tr>\n",
              "    <tr>\n",
              "      <th>...</th>\n",
              "      <td>...</td>\n",
              "      <td>...</td>\n",
              "      <td>...</td>\n",
              "      <td>...</td>\n",
              "      <td>...</td>\n",
              "      <td>...</td>\n",
              "    </tr>\n",
              "    <tr>\n",
              "      <th>30636</th>\n",
              "      <td>female</td>\n",
              "      <td>group D</td>\n",
              "      <td>high school</td>\n",
              "      <td>standard</td>\n",
              "      <td>none</td>\n",
              "      <td>65</td>\n",
              "    </tr>\n",
              "    <tr>\n",
              "      <th>30637</th>\n",
              "      <td>male</td>\n",
              "      <td>group E</td>\n",
              "      <td>high school</td>\n",
              "      <td>standard</td>\n",
              "      <td>none</td>\n",
              "      <td>51</td>\n",
              "    </tr>\n",
              "    <tr>\n",
              "      <th>30638</th>\n",
              "      <td>female</td>\n",
              "      <td>group C</td>\n",
              "      <td>high school</td>\n",
              "      <td>free/reduced</td>\n",
              "      <td>completed</td>\n",
              "      <td>67</td>\n",
              "    </tr>\n",
              "    <tr>\n",
              "      <th>30639</th>\n",
              "      <td>female</td>\n",
              "      <td>group D</td>\n",
              "      <td>associate's degree</td>\n",
              "      <td>standard</td>\n",
              "      <td>completed</td>\n",
              "      <td>93</td>\n",
              "    </tr>\n",
              "    <tr>\n",
              "      <th>30640</th>\n",
              "      <td>male</td>\n",
              "      <td>group B</td>\n",
              "      <td>some college</td>\n",
              "      <td>standard</td>\n",
              "      <td>none</td>\n",
              "      <td>58</td>\n",
              "    </tr>\n",
              "  </tbody>\n",
              "</table>\n",
              "<p>30641 rows × 6 columns</p>\n",
              "</div>"
            ],
            "text/plain": [
              "       Gender EthnicGroup          ParentEduc     LunchType   TestPrep  \\\n",
              "0      female     group C   bachelor's degree      standard       none   \n",
              "1      female     group C        some college      standard       none   \n",
              "2      female     group B     master's degree      standard       none   \n",
              "3        male     group A  associate's degree  free/reduced       none   \n",
              "4        male     group C        some college      standard       none   \n",
              "...       ...         ...                 ...           ...        ...   \n",
              "30636  female     group D         high school      standard       none   \n",
              "30637    male     group E         high school      standard       none   \n",
              "30638  female     group C         high school  free/reduced  completed   \n",
              "30639  female     group D  associate's degree      standard  completed   \n",
              "30640    male     group B        some college      standard       none   \n",
              "\n",
              "       WritingScore  \n",
              "0                74  \n",
              "1                88  \n",
              "2                91  \n",
              "3                42  \n",
              "4                75  \n",
              "...             ...  \n",
              "30636            65  \n",
              "30637            51  \n",
              "30638            67  \n",
              "30639            93  \n",
              "30640            58  \n",
              "\n",
              "[30641 rows x 6 columns]"
            ]
          },
          "execution_count": 4,
          "metadata": {},
          "output_type": "execute_result"
        }
      ],
      "source": [
        "df_writing = pd.read_csv('outputs/dataset/Expanded_data_with_more_features_clean.csv').filter(['Gender', 'EthnicGroup', 'ParentEduc', 'LunchType', 'TestPrep', 'WritingScore'])\n",
        "df_writing"
      ]
    },
    {
      "cell_type": "code",
      "execution_count": 5,
      "metadata": {},
      "outputs": [
        {
          "name": "stdout",
          "output_type": "stream",
          "text": [
            "* The classes represent the following ranges: \n",
            "{'WritingScore': [-inf, 69.0, inf]} \n",
            "\n"
          ]
        },
        {
          "data": {
            "image/png": "[encoded data removed]",
            "text/plain": [
              "<Figure size 640x480 with 1 Axes>"
            ]
          },
          "metadata": {},
          "output_type": "display_data"
        }
      ],
      "source": [
        "efd = EqualFrequencyDiscretiser(q=2, variables=['WritingScore'])\n",
        "df_writing_efd = efd.fit_transform(df_writing)\n",
        "\n",
        "print(f\"* The classes represent the following ranges: \\n{efd.binner_dict_} \\n\")\n",
        "fig_maths_efd = sns.countplot(data=df_writing_efd, x='WritingScore')\n",
        "plt.bar_label(fig_maths_efd.containers[0])\n",
        "plt.show()"
      ]
    },
    {
      "cell_type": "code",
      "execution_count": 6,
      "metadata": {},
      "outputs": [
        {
          "data": {
            "text/html": [
              "<div>\n",
              "<style scoped>\n",
              "    .dataframe tbody tr th:only-of-type {\n",
              "        vertical-align: middle;\n",
              "    }\n",
              "\n",
              "    .dataframe tbody tr th {\n",
              "        vertical-align: top;\n",
              "    }\n",
              "\n",
              "    .dataframe thead th {\n",
              "        text-align: right;\n",
              "    }\n",
              "</style>\n",
              "<table border=\"1\" class=\"dataframe\">\n",
              "  <thead>\n",
              "    <tr style=\"text-align: right;\">\n",
              "      <th></th>\n",
              "      <th>Gender</th>\n",
              "      <th>EthnicGroup</th>\n",
              "      <th>ParentEduc</th>\n",
              "      <th>LunchType</th>\n",
              "      <th>TestPrep</th>\n",
              "      <th>WritingScore</th>\n",
              "    </tr>\n",
              "  </thead>\n",
              "  <tbody>\n",
              "    <tr>\n",
              "      <th>0</th>\n",
              "      <td>female</td>\n",
              "      <td>group C</td>\n",
              "      <td>bachelor's degree</td>\n",
              "      <td>standard</td>\n",
              "      <td>none</td>\n",
              "      <td>1</td>\n",
              "    </tr>\n",
              "    <tr>\n",
              "      <th>1</th>\n",
              "      <td>female</td>\n",
              "      <td>group C</td>\n",
              "      <td>some college</td>\n",
              "      <td>standard</td>\n",
              "      <td>none</td>\n",
              "      <td>1</td>\n",
              "    </tr>\n",
              "    <tr>\n",
              "      <th>2</th>\n",
              "      <td>female</td>\n",
              "      <td>group B</td>\n",
              "      <td>master's degree</td>\n",
              "      <td>standard</td>\n",
              "      <td>none</td>\n",
              "      <td>1</td>\n",
              "    </tr>\n",
              "    <tr>\n",
              "      <th>3</th>\n",
              "      <td>male</td>\n",
              "      <td>group A</td>\n",
              "      <td>associate's degree</td>\n",
              "      <td>free/reduced</td>\n",
              "      <td>none</td>\n",
              "      <td>0</td>\n",
              "    </tr>\n",
              "    <tr>\n",
              "      <th>4</th>\n",
              "      <td>male</td>\n",
              "      <td>group C</td>\n",
              "      <td>some college</td>\n",
              "      <td>standard</td>\n",
              "      <td>none</td>\n",
              "      <td>1</td>\n",
              "    </tr>\n",
              "    <tr>\n",
              "      <th>...</th>\n",
              "      <td>...</td>\n",
              "      <td>...</td>\n",
              "      <td>...</td>\n",
              "      <td>...</td>\n",
              "      <td>...</td>\n",
              "      <td>...</td>\n",
              "    </tr>\n",
              "    <tr>\n",
              "      <th>30636</th>\n",
              "      <td>female</td>\n",
              "      <td>group D</td>\n",
              "      <td>high school</td>\n",
              "      <td>standard</td>\n",
              "      <td>none</td>\n",
              "      <td>0</td>\n",
              "    </tr>\n",
              "    <tr>\n",
              "      <th>30637</th>\n",
              "      <td>male</td>\n",
              "      <td>group E</td>\n",
              "      <td>high school</td>\n",
              "      <td>standard</td>\n",
              "      <td>none</td>\n",
              "      <td>0</td>\n",
              "    </tr>\n",
              "    <tr>\n",
              "      <th>30638</th>\n",
              "      <td>female</td>\n",
              "      <td>group C</td>\n",
              "      <td>high school</td>\n",
              "      <td>free/reduced</td>\n",
              "      <td>completed</td>\n",
              "      <td>0</td>\n",
              "    </tr>\n",
              "    <tr>\n",
              "      <th>30639</th>\n",
              "      <td>female</td>\n",
              "      <td>group D</td>\n",
              "      <td>associate's degree</td>\n",
              "      <td>standard</td>\n",
              "      <td>completed</td>\n",
              "      <td>1</td>\n",
              "    </tr>\n",
              "    <tr>\n",
              "      <th>30640</th>\n",
              "      <td>male</td>\n",
              "      <td>group B</td>\n",
              "      <td>some college</td>\n",
              "      <td>standard</td>\n",
              "      <td>none</td>\n",
              "      <td>0</td>\n",
              "    </tr>\n",
              "  </tbody>\n",
              "</table>\n",
              "<p>30641 rows × 6 columns</p>\n",
              "</div>"
            ],
            "text/plain": [
              "       Gender EthnicGroup          ParentEduc     LunchType   TestPrep  \\\n",
              "0      female     group C   bachelor's degree      standard       none   \n",
              "1      female     group C        some college      standard       none   \n",
              "2      female     group B     master's degree      standard       none   \n",
              "3        male     group A  associate's degree  free/reduced       none   \n",
              "4        male     group C        some college      standard       none   \n",
              "...       ...         ...                 ...           ...        ...   \n",
              "30636  female     group D         high school      standard       none   \n",
              "30637    male     group E         high school      standard       none   \n",
              "30638  female     group C         high school  free/reduced  completed   \n",
              "30639  female     group D  associate's degree      standard  completed   \n",
              "30640    male     group B        some college      standard       none   \n",
              "\n",
              "       WritingScore  \n",
              "0                 1  \n",
              "1                 1  \n",
              "2                 1  \n",
              "3                 0  \n",
              "4                 1  \n",
              "...             ...  \n",
              "30636             0  \n",
              "30637             0  \n",
              "30638             0  \n",
              "30639             1  \n",
              "30640             0  \n",
              "\n",
              "[30641 rows x 6 columns]"
            ]
          },
          "execution_count": 6,
          "metadata": {},
          "output_type": "execute_result"
        }
      ],
      "source": [
        "df_writing_efd"
      ]
    },
    {
      "cell_type": "markdown",
      "metadata": {},
      "source": [
        "### Split Data Set into Train and Test sets"
      ]
    },
    {
      "cell_type": "code",
      "execution_count": 7,
      "metadata": {},
      "outputs": [
        {
          "name": "stdout",
          "output_type": "stream",
          "text": [
            "* Train set: (24512, 5) (24512,) \n",
            "* Test set: (6129, 5) (6129,)\n"
          ]
        }
      ],
      "source": [
        " writing_train_features, writing_train_test_features, writing_train_scores, writing_test_scores = train_test_split(\n",
        "    df_writing_efd.drop(['WritingScore'], axis=1),\n",
        "    df_writing_efd['WritingScore'],\n",
        "    test_size = 0.2,\n",
        "    random_state = 7\n",
        ")\n",
        "\n",
        "print(\"* Train set:\", writing_train_features.shape, writing_train_scores.shape, \"\\n* Test set:\",  writing_train_test_features.shape, writing_test_scores.shape)"
      ]
    },
    {
      "cell_type": "code",
      "execution_count": 8,
      "metadata": {},
      "outputs": [
        {
          "data": {
            "image/png": "[encoded data removed]",
            "text/plain": [
              "<Figure size 640x480 with 1 Axes>"
            ]
          },
          "metadata": {},
          "output_type": "display_data"
        }
      ],
      "source": [
        "sns.set_style(\"whitegrid\")\n",
        "writing_train_scores.value_counts().plot(kind='bar', title='Train Set Target Distribution')\n",
        "plt.show()"
      ]
    },
    {
      "cell_type": "code",
      "execution_count": 9,
      "metadata": {},
      "outputs": [],
      "source": [
        "feature_set = ['ParentEduc','EthnicGroup']"
      ]
    },
    {
      "cell_type": "markdown",
      "metadata": {},
      "source": [
        "### Remove all other features..."
      ]
    },
    {
      "cell_type": "code",
      "execution_count": 10,
      "metadata": {},
      "outputs": [
        {
          "data": {
            "text/html": [
              "<div>\n",
              "<style scoped>\n",
              "    .dataframe tbody tr th:only-of-type {\n",
              "        vertical-align: middle;\n",
              "    }\n",
              "\n",
              "    .dataframe tbody tr th {\n",
              "        vertical-align: top;\n",
              "    }\n",
              "\n",
              "    .dataframe thead th {\n",
              "        text-align: right;\n",
              "    }\n",
              "</style>\n",
              "<table border=\"1\" class=\"dataframe\">\n",
              "  <thead>\n",
              "    <tr style=\"text-align: right;\">\n",
              "      <th></th>\n",
              "      <th>ParentEduc</th>\n",
              "      <th>EthnicGroup</th>\n",
              "    </tr>\n",
              "  </thead>\n",
              "  <tbody>\n",
              "    <tr>\n",
              "      <th>28031</th>\n",
              "      <td>master's degree</td>\n",
              "      <td>group C</td>\n",
              "    </tr>\n",
              "    <tr>\n",
              "      <th>14300</th>\n",
              "      <td>bachelor's degree</td>\n",
              "      <td>group B</td>\n",
              "    </tr>\n",
              "    <tr>\n",
              "      <th>21304</th>\n",
              "      <td>some college</td>\n",
              "      <td>group D</td>\n",
              "    </tr>\n",
              "    <tr>\n",
              "      <th>19953</th>\n",
              "      <td>associate's degree</td>\n",
              "      <td>group E</td>\n",
              "    </tr>\n",
              "    <tr>\n",
              "      <th>28702</th>\n",
              "      <td>high school</td>\n",
              "      <td>group C</td>\n",
              "    </tr>\n",
              "    <tr>\n",
              "      <th>...</th>\n",
              "      <td>...</td>\n",
              "      <td>...</td>\n",
              "    </tr>\n",
              "    <tr>\n",
              "      <th>10709</th>\n",
              "      <td>associate's degree</td>\n",
              "      <td>group C</td>\n",
              "    </tr>\n",
              "    <tr>\n",
              "      <th>29370</th>\n",
              "      <td>some high school</td>\n",
              "      <td>group C</td>\n",
              "    </tr>\n",
              "    <tr>\n",
              "      <th>6591</th>\n",
              "      <td>some high school</td>\n",
              "      <td>group B</td>\n",
              "    </tr>\n",
              "    <tr>\n",
              "      <th>18170</th>\n",
              "      <td>associate's degree</td>\n",
              "      <td>group D</td>\n",
              "    </tr>\n",
              "    <tr>\n",
              "      <th>6836</th>\n",
              "      <td>high school</td>\n",
              "      <td>group C</td>\n",
              "    </tr>\n",
              "  </tbody>\n",
              "</table>\n",
              "<p>6129 rows × 2 columns</p>\n",
              "</div>"
            ],
            "text/plain": [
              "               ParentEduc EthnicGroup\n",
              "28031     master's degree     group C\n",
              "14300   bachelor's degree     group B\n",
              "21304        some college     group D\n",
              "19953  associate's degree     group E\n",
              "28702         high school     group C\n",
              "...                   ...         ...\n",
              "10709  associate's degree     group C\n",
              "29370    some high school     group C\n",
              "6591     some high school     group B\n",
              "18170  associate's degree     group D\n",
              "6836          high school     group C\n",
              "\n",
              "[6129 rows x 2 columns]"
            ]
          },
          "execution_count": 10,
          "metadata": {},
          "output_type": "execute_result"
        }
      ],
      "source": [
        "writing_train_features = writing_train_features.filter(feature_set)\n",
        "writing_train_test_features = writing_train_test_features.filter(feature_set)\n",
        "writing_train_test_features"
      ]
    },
    {
      "cell_type": "code",
      "execution_count": 11,
      "metadata": {},
      "outputs": [],
      "source": [
        "def PipelineOptimization(model):\n",
        "    pipeline_base = Pipeline([\n",
        "\n",
        "        (\"OrdinalCategoricalEncoder\", OrdinalEncoder(\n",
        "            encoding_method='arbitrary', \n",
        "            variables=feature_set)),\n",
        "\n",
        "        (\"model\", model),\n",
        "\n",
        "    ])\n",
        "\n",
        "    return pipeline_base"
      ]
    },
    {
      "cell_type": "markdown",
      "metadata": {},
      "source": [
        "### Define best algorithm and hyperparameters"
      ]
    },
    {
      "cell_type": "code",
      "execution_count": 12,
      "metadata": {},
      "outputs": [
        {
          "data": {
            "text/plain": [
              "{'AdaBoostClassifier': {'model__n_estimators': [80],\n",
              "  'model__learning_rate': [0.1]}}"
            ]
          },
          "execution_count": 12,
          "metadata": {},
          "output_type": "execute_result"
        }
      ],
      "source": [
        "selected_model = {\"AdaBoostClassifier\": AdaBoostClassifier(random_state=0),}\n",
        "selected_model_parameters = {\"AdaBoostClassifier\": {\n",
        "    'model__n_estimators': [80],\n",
        "    'model__learning_rate':[0.1],\n",
        "    }\n",
        "  }\n",
        "\n",
        "selected_model_parameters"
      ]
    },
    {
      "cell_type": "markdown",
      "metadata": {},
      "source": [
        "### Final GridSearch CV"
      ]
    },
    {
      "cell_type": "code",
      "execution_count": 13,
      "metadata": {},
      "outputs": [],
      "source": [
        "from sklearn.model_selection import GridSearchCV\n",
        "class HyperparameterOptimizationSearch:\n",
        "\n",
        "    def __init__(self, models, parameters):\n",
        "        self.models = models\n",
        "        self.parameters = parameters\n",
        "        self.keys = models.keys()\n",
        "        self.grid_searches = {}\n",
        "\n",
        "    def fit(self, x, y, cv, n_jobs, verbose=1, scoring=None, refit=False):\n",
        "        for key in self.keys:\n",
        "            print(f\"\\nRunning GridSearchCV for {key} \\n\")\n",
        "            model =  PipelineOptimization(self.models[key])\n",
        "\n",
        "            parameters = self.parameters[key]\n",
        "            grid_search = GridSearchCV(model, parameters, cv=cv, n_jobs=n_jobs, verbose=verbose, scoring=scoring)\n",
        "            grid_search.fit(x, y)\n",
        "            self.grid_searches[key] = grid_search\n",
        "\n",
        "    def score_summary(self, sort_by='mean_score'):\n",
        "        def row(key, scores, parameters):\n",
        "            summary = {\n",
        "                 'estimator': key,\n",
        "                 'minimum_score': min(scores),\n",
        "                 'maximum_score': max(scores),\n",
        "                 'mean_score': np.mean(scores),\n",
        "                 'standard_deviation_score': np.std(scores),\n",
        "            }\n",
        "            return pd.Series({**parameters,**summary})\n",
        "\n",
        "        rows = []\n",
        "        for k in self.grid_searches:\n",
        "            parameters = self.grid_searches[k].cv_results_['params']\n",
        "            scores = []\n",
        "            for i in range(self.grid_searches[k].cv):\n",
        "                key = \"split{}_test_score\".format(i)\n",
        "                result = self.grid_searches[k].cv_results_[key]        \n",
        "                scores.append(result.reshape(len(parameters), 1))\n",
        "\n",
        "            all_scores = np.hstack(scores)\n",
        "            for p, s in zip(parameters, all_scores):\n",
        "                rows.append((row(k, s, p)))\n",
        "\n",
        "        df = pd.concat(rows, axis=1).T.sort_values([sort_by], ascending=False)\n",
        "\n",
        "        columns = ['estimator', 'minimum_score', 'mean_score', 'maximum_score', 'standard_deviation_score']\n",
        "        columns = columns + [column for column in df.columns if column not in columns]\n",
        "\n",
        "        return df[columns], self.grid_searches"
      ]
    },
    {
      "cell_type": "code",
      "execution_count": 14,
      "metadata": {},
      "outputs": [
        {
          "name": "stdout",
          "output_type": "stream",
          "text": [
            "\n",
            "Running GridSearchCV for AdaBoostClassifier \n",
            "\n",
            "Fitting 5 folds for each of 1 candidates, totalling 5 fits\n"
          ]
        }
      ],
      "source": [
        "writing_model = HyperparameterOptimizationSearch(models=selected_model, parameters=selected_model_parameters)\n",
        "writing_model.fit(writing_train_features, writing_train_scores,\n",
        "           scoring = make_scorer(recall_score, labels=[0], average=None),\n",
        "           n_jobs=-1,cv=5)\n"
      ]
    },
    {
      "cell_type": "markdown",
      "metadata": {},
      "source": [
        "### Custom Confusion Matrix Function from CI Customer Churn Course"
      ]
    },
    {
      "cell_type": "code",
      "execution_count": 15,
      "metadata": {},
      "outputs": [],
      "source": [
        "def confusion_matrix_and_report(x, y, pipeline, label_map):\n",
        "\n",
        "  prediction = pipeline.predict(x)\n",
        "\n",
        "  print('---  Confusion Matrix  ---')\n",
        "  print(pd.DataFrame(confusion_matrix(y_true=prediction, y_pred=y),\n",
        "        columns=[ [\"Actual \" + sub for sub in label_map] ], \n",
        "        index= [ [\"Prediction \" + sub for sub in label_map ]]\n",
        "        ))\n",
        "  print(\"\\n\")\n",
        "\n",
        "  print('---  Classification Report  ---')\n",
        "  print(classification_report(y, prediction, target_names=label_map),\"\\n\")\n",
        "\n",
        "def clf_performance(writing_train_features, writing_train_scores, writing_train_test_features, writing_test_scores, pipeline, label_map):\n",
        "  print(\"#### Train Set #### \\n\")\n",
        "  confusion_matrix_and_report(writing_train_features, writing_train_scores, pipeline, label_map)\n",
        "\n",
        "  print(\"#### Test Set ####\\n\")\n",
        "  confusion_matrix_and_report(writing_train_test_features, writing_test_scores, pipeline, label_map)"
      ]
    },
    {
      "cell_type": "code",
      "execution_count": 16,
      "metadata": {},
      "outputs": [
        {
          "data": {
            "text/html": [
              "<div>\n",
              "<style scoped>\n",
              "    .dataframe tbody tr th:only-of-type {\n",
              "        vertical-align: middle;\n",
              "    }\n",
              "\n",
              "    .dataframe tbody tr th {\n",
              "        vertical-align: top;\n",
              "    }\n",
              "\n",
              "    .dataframe thead th {\n",
              "        text-align: right;\n",
              "    }\n",
              "</style>\n",
              "<table border=\"1\" class=\"dataframe\">\n",
              "  <thead>\n",
              "    <tr style=\"text-align: right;\">\n",
              "      <th></th>\n",
              "      <th>estimator</th>\n",
              "      <th>minimum_score</th>\n",
              "      <th>mean_score</th>\n",
              "      <th>maximum_score</th>\n",
              "      <th>standard_deviation_score</th>\n",
              "      <th>model__learning_rate</th>\n",
              "      <th>model__n_estimators</th>\n",
              "    </tr>\n",
              "  </thead>\n",
              "  <tbody>\n",
              "    <tr>\n",
              "      <th>0</th>\n",
              "      <td>AdaBoostClassifier</td>\n",
              "      <td>0.655416</td>\n",
              "      <td>0.667739</td>\n",
              "      <td>0.678571</td>\n",
              "      <td>0.009316</td>\n",
              "      <td>0.1</td>\n",
              "      <td>80</td>\n",
              "    </tr>\n",
              "  </tbody>\n",
              "</table>\n",
              "</div>"
            ],
            "text/plain": [
              "            estimator minimum_score mean_score maximum_score  \\\n",
              "0  AdaBoostClassifier      0.655416   0.667739      0.678571   \n",
              "\n",
              "  standard_deviation_score model__learning_rate model__n_estimators  \n",
              "0                 0.009316                  0.1                  80  "
            ]
          },
          "execution_count": 16,
          "metadata": {},
          "output_type": "execute_result"
        }
      ],
      "source": [
        "grid_search_summary_final, grid_search_pipelines_final = writing_model.score_summary()\n",
        "grid_search_summary_final"
      ]
    },
    {
      "cell_type": "code",
      "execution_count": 17,
      "metadata": {},
      "outputs": [
        {
          "data": {
            "text/plain": [
              "'AdaBoostClassifier'"
            ]
          },
          "execution_count": 17,
          "metadata": {},
          "output_type": "execute_result"
        }
      ],
      "source": [
        "final_model = grid_search_summary_final.iloc[0,0]\n",
        "final_model"
      ]
    },
    {
      "cell_type": "code",
      "execution_count": 18,
      "metadata": {},
      "outputs": [
        {
          "data": {
            "text/html": [
              "<style>#sk-container-id-1 {color: black;}#sk-container-id-1 pre{padding: 0;}#sk-container-id-1 div.sk-toggleable {background-color: white;}#sk-container-id-1 label.sk-toggleable__label {cursor: pointer;display: block;width: 100%;margin-bottom: 0;padding: 0.3em;box-sizing: border-box;text-align: center;}#sk-container-id-1 label.sk-toggleable__label-arrow:before {content: \"▸\";float: left;margin-right: 0.25em;color: #696969;}#sk-container-id-1 label.sk-toggleable__label-arrow:hover:before {color: black;}#sk-container-id-1 div.sk-estimator:hover label.sk-toggleable__label-arrow:before {color: black;}#sk-container-id-1 div.sk-toggleable__content {max-height: 0;max-width: 0;overflow: hidden;text-align: left;background-color: #f0f8ff;}#sk-container-id-1 div.sk-toggleable__content pre {margin: 0.2em;color: black;border-radius: 0.25em;background-color: #f0f8ff;}#sk-container-id-1 input.sk-toggleable__control:checked~div.sk-toggleable__content {max-height: 200px;max-width: 100%;overflow: auto;}#sk-container-id-1 input.sk-toggleable__control:checked~label.sk-toggleable__label-arrow:before {content: \"▾\";}#sk-container-id-1 div.sk-estimator input.sk-toggleable__control:checked~label.sk-toggleable__label {background-color: #d4ebff;}#sk-container-id-1 div.sk-label input.sk-toggleable__control:checked~label.sk-toggleable__label {background-color: #d4ebff;}#sk-container-id-1 input.sk-hidden--visually {border: 0;clip: rect(1px 1px 1px 1px);clip: rect(1px, 1px, 1px, 1px);height: 1px;margin: -1px;overflow: hidden;padding: 0;position: absolute;width: 1px;}#sk-container-id-1 div.sk-estimator {font-family: monospace;background-color: #f0f8ff;border: 1px dotted black;border-radius: 0.25em;box-sizing: border-box;margin-bottom: 0.5em;}#sk-container-id-1 div.sk-estimator:hover {background-color: #d4ebff;}#sk-container-id-1 div.sk-parallel-item::after {content: \"\";width: 100%;border-bottom: 1px solid gray;flex-grow: 1;}#sk-container-id-1 div.sk-label:hover label.sk-toggleable__label {background-color: #d4ebff;}#sk-container-id-1 div.sk-serial::before {content: \"\";position: absolute;border-left: 1px solid gray;box-sizing: border-box;top: 0;bottom: 0;left: 50%;z-index: 0;}#sk-container-id-1 div.sk-serial {display: flex;flex-direction: column;align-items: center;background-color: white;padding-right: 0.2em;padding-left: 0.2em;position: relative;}#sk-container-id-1 div.sk-item {position: relative;z-index: 1;}#sk-container-id-1 div.sk-parallel {display: flex;align-items: stretch;justify-content: center;background-color: white;position: relative;}#sk-container-id-1 div.sk-item::before, #sk-container-id-1 div.sk-parallel-item::before {content: \"\";position: absolute;border-left: 1px solid gray;box-sizing: border-box;top: 0;bottom: 0;left: 50%;z-index: -1;}#sk-container-id-1 div.sk-parallel-item {display: flex;flex-direction: column;z-index: 1;position: relative;background-color: white;}#sk-container-id-1 div.sk-parallel-item:first-child::after {align-self: flex-end;width: 50%;}#sk-container-id-1 div.sk-parallel-item:last-child::after {align-self: flex-start;width: 50%;}#sk-container-id-1 div.sk-parallel-item:only-child::after {width: 0;}#sk-container-id-1 div.sk-dashed-wrapped {border: 1px dashed gray;margin: 0 0.4em 0.5em 0.4em;box-sizing: border-box;padding-bottom: 0.4em;background-color: white;}#sk-container-id-1 div.sk-label label {font-family: monospace;font-weight: bold;display: inline-block;line-height: 1.2em;}#sk-container-id-1 div.sk-label-container {text-align: center;}#sk-container-id-1 div.sk-container {/* jupyter's `normalize.less` sets `[hidden] { display: none; }` but bootstrap.min.css set `[hidden] { display: none !important; }` so we also need the `!important` here to be able to override the default hidden behavior on the sphinx rendered scikit-learn.org. See: https://github.com/scikit-learn/scikit-learn/issues/21755 */display: inline-block !important;position: relative;}#sk-container-id-1 div.sk-text-repr-fallback {display: none;}</style><div id=\"sk-container-id-1\" class=\"sk-top-container\"><div class=\"sk-text-repr-fallback\"><pre>Pipeline(steps=[(&#x27;OrdinalCategoricalEncoder&#x27;,\n",
              "                 OrdinalEncoder(encoding_method=&#x27;arbitrary&#x27;,\n",
              "                                variables=[&#x27;ParentEduc&#x27;, &#x27;EthnicGroup&#x27;])),\n",
              "                (&#x27;model&#x27;,\n",
              "                 AdaBoostClassifier(learning_rate=0.1, n_estimators=80,\n",
              "                                    random_state=0))])</pre><b>In a Jupyter environment, please rerun this cell to show the HTML representation or trust the notebook. <br />On GitHub, the HTML representation is unable to render, please try loading this page with nbviewer.org.</b></div><div class=\"sk-container\" hidden><div class=\"sk-item sk-dashed-wrapped\"><div class=\"sk-label-container\"><div class=\"sk-label sk-toggleable\"><input class=\"sk-toggleable__control sk-hidden--visually\" id=\"sk-estimator-id-1\" type=\"checkbox\" ><label for=\"sk-estimator-id-1\" class=\"sk-toggleable__label sk-toggleable__label-arrow\">Pipeline</label><div class=\"sk-toggleable__content\"><pre>Pipeline(steps=[(&#x27;OrdinalCategoricalEncoder&#x27;,\n",
              "                 OrdinalEncoder(encoding_method=&#x27;arbitrary&#x27;,\n",
              "                                variables=[&#x27;ParentEduc&#x27;, &#x27;EthnicGroup&#x27;])),\n",
              "                (&#x27;model&#x27;,\n",
              "                 AdaBoostClassifier(learning_rate=0.1, n_estimators=80,\n",
              "                                    random_state=0))])</pre></div></div></div><div class=\"sk-serial\"><div class=\"sk-item\"><div class=\"sk-estimator sk-toggleable\"><input class=\"sk-toggleable__control sk-hidden--visually\" id=\"sk-estimator-id-2\" type=\"checkbox\" ><label for=\"sk-estimator-id-2\" class=\"sk-toggleable__label sk-toggleable__label-arrow\">OrdinalEncoder</label><div class=\"sk-toggleable__content\"><pre>OrdinalEncoder(encoding_method=&#x27;arbitrary&#x27;,\n",
              "               variables=[&#x27;ParentEduc&#x27;, &#x27;EthnicGroup&#x27;])</pre></div></div></div><div class=\"sk-item\"><div class=\"sk-estimator sk-toggleable\"><input class=\"sk-toggleable__control sk-hidden--visually\" id=\"sk-estimator-id-3\" type=\"checkbox\" ><label for=\"sk-estimator-id-3\" class=\"sk-toggleable__label sk-toggleable__label-arrow\">AdaBoostClassifier</label><div class=\"sk-toggleable__content\"><pre>AdaBoostClassifier(learning_rate=0.1, n_estimators=80, random_state=0)</pre></div></div></div></div></div></div></div>"
            ],
            "text/plain": [
              "Pipeline(steps=[('OrdinalCategoricalEncoder',\n",
              "                 OrdinalEncoder(encoding_method='arbitrary',\n",
              "                                variables=['ParentEduc', 'EthnicGroup'])),\n",
              "                ('model',\n",
              "                 AdaBoostClassifier(learning_rate=0.1, n_estimators=80,\n",
              "                                    random_state=0))])"
            ]
          },
          "execution_count": 18,
          "metadata": {},
          "output_type": "execute_result"
        }
      ],
      "source": [
        "pipeline_clf_final = grid_search_pipelines_final[final_model].best_estimator_\n",
        "pipeline_clf_final"
      ]
    },
    {
      "cell_type": "code",
      "execution_count": 19,
      "metadata": {},
      "outputs": [
        {
          "name": "stdout",
          "output_type": "stream",
          "text": [
            "* These are the 2 most important features in descending order. The model was trained on them: \n",
            "['ParentEduc', 'EthnicGroup']\n"
          ]
        },
        {
          "data": {
            "image/png": "[encoded data removed]",
            "text/plain": [
              "<Figure size 640x480 with 1 Axes>"
            ]
          },
          "metadata": {},
          "output_type": "display_data"
        }
      ],
      "source": [
        "data_cleaning_feat_eng_steps = 1\n",
        "columns_after_data_cleaning_feat_eng = (Pipeline(pipeline_clf_final.steps[:data_cleaning_feat_eng_steps])\n",
        "                                        .transform(writing_train_features)\n",
        "                                        .columns)\n",
        "\n",
        "# create DataFrame to display feature importance\n",
        "df_feature_importance_final = (pd.DataFrame(data={\n",
        "          'Feature': columns_after_data_cleaning_feat_eng,\n",
        "          'Importance': pipeline_clf_final['model'].feature_importances_})\n",
        "  .sort_values(by='Importance', ascending=False)\n",
        "  )\n",
        "\n",
        "best_features_final = df_feature_importance_final['Feature'].to_list() # reassign best features in order\n",
        "\n",
        "# Most important features statement and plot\n",
        "print(f\"* These are the {len(best_features_final)} most important features in descending order. \"\n",
        "      f\"The model was trained on them: \\n{best_features_final}\")\n",
        "\n",
        "df_feature_importance_final.plot(kind='bar', x='Feature', y='Importance')\n",
        "plt.show()"
      ]
    },
    {
      "cell_type": "code",
      "execution_count": 20,
      "metadata": {},
      "outputs": [],
      "source": [
        "def confusion_matrix_and_report(x, y, pipeline, label_map):\n",
        "\n",
        "  prediction = pipeline.predict(x)\n",
        "\n",
        "  print('---  Confusion Matrix  ---')\n",
        "  print(pd.DataFrame(confusion_matrix(y_true=prediction, y_pred=y),\n",
        "        columns=[ [\"Actual \" + sub for sub in label_map] ], \n",
        "        index= [ [\"Prediction \" + sub for sub in label_map ]]\n",
        "        ))\n",
        "  print(\"\\n\")\n",
        "\n",
        "  print('---  Classification Report  ---')\n",
        "  print(classification_report(y, prediction, target_names=label_map),\"\\n\")\n",
        "\n",
        "def clf_performance(writing_train_features, writing_train_scores, writing_train_test_features, writing_test_scores, pipeline, label_map):\n",
        "  print(\"#### Train Set #### \\n\")\n",
        "  confusion_matrix_and_report(writing_train_features, writing_train_scores, pipeline, label_map)\n",
        "\n",
        "  print(\"#### Test Set ####\\n\")\n",
        "  confusion_matrix_and_report(writing_train_test_features, writing_test_scores, pipeline, label_map)"
      ]
    },
    {
      "cell_type": "code",
      "execution_count": 21,
      "metadata": {},
      "outputs": [],
      "source": [
        "label_map = ['Might need assistance', 'No assistance needed']"
      ]
    },
    {
      "cell_type": "code",
      "execution_count": 22,
      "metadata": {},
      "outputs": [
        {
          "name": "stdout",
          "output_type": "stream",
          "text": [
            "#### Train Set #### \n",
            "\n",
            "---  Confusion Matrix  ---\n",
            "                                 Actual Might need assistance  \\\n",
            "Prediction Might need assistance                         8479   \n",
            "Prediction No assistance needed                          4261   \n",
            "\n",
            "                                 Actual No assistance needed  \n",
            "Prediction Might need assistance                        5863  \n",
            "Prediction No assistance needed                         5909  \n",
            "\n",
            "\n",
            "---  Classification Report  ---\n",
            "                       precision    recall  f1-score   support\n",
            "\n",
            "Might need assistance       0.59      0.67      0.63     12740\n",
            " No assistance needed       0.58      0.50      0.54     11772\n",
            "\n",
            "             accuracy                           0.59     24512\n",
            "            macro avg       0.59      0.58      0.58     24512\n",
            "         weighted avg       0.59      0.59      0.58     24512\n",
            " \n",
            "\n",
            "#### Test Set ####\n",
            "\n",
            "---  Confusion Matrix  ---\n",
            "                                 Actual Might need assistance  \\\n",
            "Prediction Might need assistance                         2190   \n",
            "Prediction No assistance needed                          1056   \n",
            "\n",
            "                                 Actual No assistance needed  \n",
            "Prediction Might need assistance                        1399  \n",
            "Prediction No assistance needed                         1484  \n",
            "\n",
            "\n",
            "---  Classification Report  ---\n",
            "                       precision    recall  f1-score   support\n",
            "\n",
            "Might need assistance       0.61      0.67      0.64      3246\n",
            " No assistance needed       0.58      0.51      0.55      2883\n",
            "\n",
            "             accuracy                           0.60      6129\n",
            "            macro avg       0.60      0.59      0.59      6129\n",
            "         weighted avg       0.60      0.60      0.60      6129\n",
            " \n",
            "\n"
          ]
        }
      ],
      "source": [
        "clf_performance(writing_train_features, writing_train_scores, writing_train_test_features, writing_test_scores, pipeline_clf_final, label_map )\n"
      ]
    },
    {
      "cell_type": "markdown",
      "metadata": {},
      "source": [
        "# Analysis\n",
        "This is a good verification that the same pipeline produced similar results to the math model, however the overall performance is a little lower."
      ]
    },
    {
      "cell_type": "markdown",
      "metadata": {},
      "source": [
        "## Create Final Model Files"
      ]
    },
    {
      "cell_type": "markdown",
      "metadata": {},
      "source": [
        "#### Check variable content before saving"
      ]
    },
    {
      "cell_type": "code",
      "execution_count": null,
      "metadata": {},
      "outputs": [],
      "source": [
        "# writing_train_features.head()\n",
        "# writing_train_scores.head()\n",
        "# writing_train_test_features.head()\n",
        "# writing_test_scores.head()"
      ]
    },
    {
      "cell_type": "markdown",
      "metadata": {},
      "source": [
        "### Set Model Type / Version and destination"
      ]
    },
    {
      "cell_type": "code",
      "execution_count": 23,
      "metadata": {},
      "outputs": [
        {
          "data": {
            "text/plain": [
              "'outputs/models/writing/v1'"
            ]
          },
          "execution_count": 23,
          "metadata": {},
          "output_type": "execute_result"
        }
      ],
      "source": [
        "version = \"v1\"\n",
        "target = \"writing\"\n",
        "\n",
        "file_path = f\"outputs/models/{target}/{version}\"\n",
        "file_path"
      ]
    },
    {
      "cell_type": "markdown",
      "metadata": {},
      "source": [
        "### Output files"
      ]
    },
    {
      "cell_type": "code",
      "execution_count": 24,
      "metadata": {},
      "outputs": [
        {
          "name": "stdout",
          "output_type": "stream",
          "text": [
            "*** Removing previous files  ***\n",
            "outputs/models/writing/v1/writing-train-features.csv does not exist\n",
            "outputs/models/writing/v1/writing-train-scores.csv does not exist\n",
            "outputs/models/writing/v1/writing-test-features.csv does not exist\n",
            "outputs/models/writing/v1/writing-test-scores.csv does not exist\n",
            "outputs/models/writing/v1/writing-model.pkl does not exist\n",
            "outputs/models/writing/v1/writing-labels.pkl does not exist\n",
            "outputs/models/writing/v1/writing-feature-importance.png does not exist\n",
            "\n",
            "*** Creating files in: outputs/models/writing/v1 ***\n",
            "writing-train-features.csv created\n",
            "writing-train-scores.csv created\n",
            "writing-test-features.csv created\n",
            "writing-test-scores.csv created\n",
            "writing_model.pkl created\n",
            "writing_labels created\n"
          ]
        },
        {
          "data": {
            "image/png": "[encoded data removed]",
            "text/plain": [
              "<Figure size 640x480 with 1 Axes>"
            ]
          },
          "metadata": {},
          "output_type": "display_data"
        }
      ],
      "source": [
        "# Define which files to save/update\n",
        "file_names = [\n",
        "    f\"{target}-train-features.csv\",\n",
        "    f\"{target}-train-scores.csv\",\n",
        "    f\"{target}-test-features.csv\",\n",
        "    f\"{target}-test-scores.csv\",\n",
        "    f\"{target}-model.pkl\",\n",
        "    f\"{target}-labels.pkl\",\n",
        "    f\"{target}-feature-importance.png\",\n",
        "]\n",
        "\n",
        "# Ensure the directory exists\n",
        "os.makedirs(file_path, exist_ok=True)\n",
        "\n",
        "# Remove files if they exist\n",
        "print(f'*** Removing previous files  ***')\n",
        "for name in file_names:\n",
        "    file = os.path.join(file_path, name)\n",
        "    if os.path.exists(file):\n",
        "        os.remove(file)\n",
        "        print(f\"{file} removed\")\n",
        "    else:\n",
        "        print(f\"{file} does not exist\")\n",
        "\n",
        "print('')\n",
        "\n",
        "# Save .csv files\n",
        "print(f'*** Creating files in: {file_path} ***')\n",
        "\n",
        "writing_train_features.to_csv(f\"{file_path}/{target}-train-features.csv\", index=False)\n",
        "print(f'{target}-train-features.csv created')\n",
        "\n",
        "writing_train_scores.to_csv(f\"{file_path}/{target}-train-scores.csv\", index=False)\n",
        "print(f'{target}-train-scores.csv created')\n",
        "\n",
        "writing_train_test_features.to_csv(f\"{file_path}/{target}-test-features.csv\", index=False)\n",
        "print(f'{target}-test-features.csv created')\n",
        "\n",
        "writing_test_scores.to_csv(f\"{file_path}/{target}-test-scores.csv\", index=False)\n",
        "print(f'{target}-test-scores.csv created')\n",
        "\n",
        "# Save .pkl model files\n",
        "joblib.dump(value=pipeline_clf_final, filename=f\"{file_path}/{target}-model.pkl\")\n",
        "print(f'{target}_model.pkl created')\n",
        "\n",
        "joblib.dump(value=label_map, filename=f\"{file_path}/{target}-labels.pkl\")\n",
        "print(f'{target}_labels created')\n",
        "\n",
        "# Save features plot image\n",
        "df_feature_importance_final.plot(kind='bar',x='Feature',y='Importance')\n",
        "plt.savefig(f'{file_path}/{target}-feature-importance.png', bbox_inches='tight')\n",
        "\n"
      ]
    }
  ],
  "metadata": {
    "accelerator": "GPU",
    "colab": {
      "name": "Data Practitioner Jupyter Notebook.ipynb",
      "provenance": [],
      "toc_visible": true
    },
    "interpreter": {
      "hash": "8b8334dab9339717f727a1deaf837b322d7a41c20d15cc86be99a8e69ceec8ce"
    },
    "kernelspec": {
      "display_name": "Python 3.8.12 64-bit ('3.8.12': pyenv)",
      "name": "python3"
    },
    "language_info": {
      "codemirror_mode": {
        "name": "ipython",
        "version": 3
      },
      "file_extension": ".py",
      "mimetype": "text/x-python",
      "name": "python",
      "nbconvert_exporter": "python",
      "pygments_lexer": "ipython3",
      "version": "3.8.18"
    },
    "orig_nbformat": 2
  },
  "nbformat": 4,
  "nbformat_minor": 2
}
