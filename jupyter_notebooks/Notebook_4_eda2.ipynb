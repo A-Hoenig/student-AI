{
  "cells": [
    {
      "cell_type": "markdown",
      "metadata": {
        "id": "0aStgWSO0E0E"
      },
      "source": [
        "# **STUDENT AI** - CORRELATION ASSESSMENT"
      ]
    },
    {
      "cell_type": "markdown",
      "metadata": {
        "id": "1eLEkw5O0ECa"
      },
      "source": [
        "## Objectives\n",
        "\n",
        "Complete a correlation study to assess if any features of the dataset strongly influence the numerical target (Math, Reading, Writing) scores.\n",
        "\n",
        "## Inputs\n",
        "\n",
        "Cleaned data set from previous notebook with Mean scores added\n",
        "\n",
        "## Outputs\n",
        "\n",
        "Determine which, if any, features to use for model training and prediction\n"
      ]
    },
    {
      "cell_type": "markdown",
      "metadata": {
        "id": "9uWZXH9LwoQg"
      },
      "source": [
        "---"
      ]
    },
    {
      "cell_type": "markdown",
      "metadata": {},
      "source": [
        "# Import required libraries"
      ]
    },
    {
      "cell_type": "code",
      "execution_count": 1,
      "metadata": {},
      "outputs": [
        {
          "name": "stdout",
          "output_type": "stream",
          "text": [
            "All Libraries Loaded\n"
          ]
        }
      ],
      "source": [
        "import os\n",
        "import pandas as pd\n",
        "from feature_engine.encoding import OneHotEncoder\n",
        "import ppscore as pps\n",
        "\n",
        "print('All Libraries Loaded')"
      ]
    },
    {
      "cell_type": "markdown",
      "metadata": {
        "id": "cqP-UeN-z3i2"
      },
      "source": [
        "# Change working directory"
      ]
    },
    {
      "cell_type": "markdown",
      "metadata": {
        "id": "aOGIGS-uz3i2"
      },
      "source": [
        "### Set the working directory to notebook parent folder\n",
        "If the output does not match, click **'clear all outputs'** and then **'restart'** the notebook. \n",
        "Then run cells from top to bottom."
      ]
    },
    {
      "cell_type": "code",
      "execution_count": 2,
      "metadata": {
        "id": "wZfF_j-Bz3i4",
        "outputId": "66943449-1436-4c3d-85c7-b85f9f78349b"
      },
      "outputs": [
        {
          "name": "stdout",
          "output_type": "stream",
          "text": [
            "If correct, Active Directory should read: /workspace/student-AI\n",
            "Active Directory: /workspace/student-AI\n"
          ]
        }
      ],
      "source": [
        "current_dir = os.getcwd()\n",
        "os.chdir(os.path.dirname(current_dir))\n",
        "current_dir = os.getcwd()\n",
        "print('If correct, Active Directory should read: /workspace/student-AI')\n",
        "print(f\"Active Directory: {current_dir}\")"
      ]
    },
    {
      "cell_type": "markdown",
      "metadata": {},
      "source": [
        "### Load cleaned dataset and add mean score"
      ]
    },
    {
      "cell_type": "code",
      "execution_count": 3,
      "metadata": {},
      "outputs": [
        {
          "data": {
            "text/html": [
              "<div>\n",
              "<style scoped>\n",
              "    .dataframe tbody tr th:only-of-type {\n",
              "        vertical-align: middle;\n",
              "    }\n",
              "\n",
              "    .dataframe tbody tr th {\n",
              "        vertical-align: top;\n",
              "    }\n",
              "\n",
              "    .dataframe thead th {\n",
              "        text-align: right;\n",
              "    }\n",
              "</style>\n",
              "<table border=\"1\" class=\"dataframe\">\n",
              "  <thead>\n",
              "    <tr style=\"text-align: right;\">\n",
              "      <th></th>\n",
              "      <th>Gender</th>\n",
              "      <th>EthnicGroup</th>\n",
              "      <th>ParentEduc</th>\n",
              "      <th>LunchType</th>\n",
              "      <th>TestPrep</th>\n",
              "      <th>ParentMaritalStatus</th>\n",
              "      <th>PracticeSport</th>\n",
              "      <th>IsFirstChild</th>\n",
              "      <th>NrSiblings</th>\n",
              "      <th>WklyStudyHours</th>\n",
              "      <th>MathScore</th>\n",
              "      <th>ReadingScore</th>\n",
              "      <th>WritingScore</th>\n",
              "      <th>MeanScore</th>\n",
              "    </tr>\n",
              "  </thead>\n",
              "  <tbody>\n",
              "    <tr>\n",
              "      <th>0</th>\n",
              "      <td>female</td>\n",
              "      <td>group C</td>\n",
              "      <td>bachelor's degree</td>\n",
              "      <td>standard</td>\n",
              "      <td>none</td>\n",
              "      <td>married</td>\n",
              "      <td>regularly</td>\n",
              "      <td>yes</td>\n",
              "      <td>3</td>\n",
              "      <td>&lt; 5</td>\n",
              "      <td>71</td>\n",
              "      <td>71</td>\n",
              "      <td>74</td>\n",
              "      <td>72</td>\n",
              "    </tr>\n",
              "    <tr>\n",
              "      <th>1</th>\n",
              "      <td>female</td>\n",
              "      <td>group C</td>\n",
              "      <td>some college</td>\n",
              "      <td>standard</td>\n",
              "      <td>none</td>\n",
              "      <td>married</td>\n",
              "      <td>sometimes</td>\n",
              "      <td>yes</td>\n",
              "      <td>0</td>\n",
              "      <td>5 - 10</td>\n",
              "      <td>69</td>\n",
              "      <td>90</td>\n",
              "      <td>88</td>\n",
              "      <td>82</td>\n",
              "    </tr>\n",
              "    <tr>\n",
              "      <th>2</th>\n",
              "      <td>female</td>\n",
              "      <td>group B</td>\n",
              "      <td>master's degree</td>\n",
              "      <td>standard</td>\n",
              "      <td>none</td>\n",
              "      <td>single</td>\n",
              "      <td>sometimes</td>\n",
              "      <td>yes</td>\n",
              "      <td>4</td>\n",
              "      <td>&lt; 5</td>\n",
              "      <td>87</td>\n",
              "      <td>93</td>\n",
              "      <td>91</td>\n",
              "      <td>90</td>\n",
              "    </tr>\n",
              "    <tr>\n",
              "      <th>3</th>\n",
              "      <td>male</td>\n",
              "      <td>group A</td>\n",
              "      <td>associate's degree</td>\n",
              "      <td>free/reduced</td>\n",
              "      <td>none</td>\n",
              "      <td>married</td>\n",
              "      <td>never</td>\n",
              "      <td>no</td>\n",
              "      <td>1</td>\n",
              "      <td>5 - 10</td>\n",
              "      <td>45</td>\n",
              "      <td>56</td>\n",
              "      <td>42</td>\n",
              "      <td>48</td>\n",
              "    </tr>\n",
              "    <tr>\n",
              "      <th>4</th>\n",
              "      <td>male</td>\n",
              "      <td>group C</td>\n",
              "      <td>some college</td>\n",
              "      <td>standard</td>\n",
              "      <td>none</td>\n",
              "      <td>married</td>\n",
              "      <td>sometimes</td>\n",
              "      <td>yes</td>\n",
              "      <td>0</td>\n",
              "      <td>5 - 10</td>\n",
              "      <td>76</td>\n",
              "      <td>78</td>\n",
              "      <td>75</td>\n",
              "      <td>76</td>\n",
              "    </tr>\n",
              "  </tbody>\n",
              "</table>\n",
              "</div>"
            ],
            "text/plain": [
              "   Gender EthnicGroup          ParentEduc     LunchType TestPrep  \\\n",
              "0  female     group C   bachelor's degree      standard     none   \n",
              "1  female     group C        some college      standard     none   \n",
              "2  female     group B     master's degree      standard     none   \n",
              "3    male     group A  associate's degree  free/reduced     none   \n",
              "4    male     group C        some college      standard     none   \n",
              "\n",
              "  ParentMaritalStatus PracticeSport IsFirstChild  NrSiblings WklyStudyHours  \\\n",
              "0             married     regularly          yes           3            < 5   \n",
              "1             married     sometimes          yes           0         5 - 10   \n",
              "2              single     sometimes          yes           4            < 5   \n",
              "3             married         never           no           1         5 - 10   \n",
              "4             married     sometimes          yes           0         5 - 10   \n",
              "\n",
              "   MathScore  ReadingScore  WritingScore  MeanScore  \n",
              "0         71            71            74         72  \n",
              "1         69            90            88         82  \n",
              "2         87            93            91         90  \n",
              "3         45            56            42         48  \n",
              "4         76            78            75         76  "
            ]
          },
          "execution_count": 3,
          "metadata": {},
          "output_type": "execute_result"
        }
      ],
      "source": [
        "df = pd.read_csv(f\"outputs/dataset/Expanded_data_with_more_features_clean.csv\")\n",
        "df['MeanScore'] = df[['MathScore', 'ReadingScore', 'WritingScore']].mean(axis=1).round().astype(int)\n",
        "df.head()"
      ]
    },
    {
      "cell_type": "markdown",
      "metadata": {},
      "source": [
        "# Assess Feature Correlation\n",
        "\n",
        "I will use Pearson and Spearman tests as well as predictive Power Score Library to assess the dataset and see where correlations can be found, and if they match my hypothesis from the previous notebook. \n",
        "Pearson and Spearman require numerical data only, so all categorical variable data has to be encoded as a number.\n",
        "\n",
        "male = 0, female = 1 etc ....\n",
        "\n",
        "this can be automatically achieved using the one_hot_encoder function."
      ]
    },
    {
      "cell_type": "code",
      "execution_count": 6,
      "metadata": {},
      "outputs": [
        {
          "data": {
            "text/html": [
              "<div>\n",
              "<style scoped>\n",
              "    .dataframe tbody tr th:only-of-type {\n",
              "        vertical-align: middle;\n",
              "    }\n",
              "\n",
              "    .dataframe tbody tr th {\n",
              "        vertical-align: top;\n",
              "    }\n",
              "\n",
              "    .dataframe thead th {\n",
              "        text-align: right;\n",
              "    }\n",
              "</style>\n",
              "<table border=\"1\" class=\"dataframe\">\n",
              "  <thead>\n",
              "    <tr style=\"text-align: right;\">\n",
              "      <th></th>\n",
              "      <th>NrSiblings</th>\n",
              "      <th>MathScore</th>\n",
              "      <th>ReadingScore</th>\n",
              "      <th>WritingScore</th>\n",
              "      <th>MeanScore</th>\n",
              "      <th>Gender_female</th>\n",
              "      <th>Gender_male</th>\n",
              "      <th>EthnicGroup_group C</th>\n",
              "      <th>EthnicGroup_group B</th>\n",
              "      <th>EthnicGroup_group A</th>\n",
              "      <th>...</th>\n",
              "      <th>ParentMaritalStatus_widowed</th>\n",
              "      <th>ParentMaritalStatus_divorced</th>\n",
              "      <th>PracticeSport_regularly</th>\n",
              "      <th>PracticeSport_sometimes</th>\n",
              "      <th>PracticeSport_never</th>\n",
              "      <th>IsFirstChild_yes</th>\n",
              "      <th>IsFirstChild_no</th>\n",
              "      <th>WklyStudyHours_&lt; 5</th>\n",
              "      <th>WklyStudyHours_5 - 10</th>\n",
              "      <th>WklyStudyHours_&gt; 10</th>\n",
              "    </tr>\n",
              "  </thead>\n",
              "  <tbody>\n",
              "    <tr>\n",
              "      <th>0</th>\n",
              "      <td>3</td>\n",
              "      <td>71</td>\n",
              "      <td>71</td>\n",
              "      <td>74</td>\n",
              "      <td>72</td>\n",
              "      <td>1</td>\n",
              "      <td>0</td>\n",
              "      <td>1</td>\n",
              "      <td>0</td>\n",
              "      <td>0</td>\n",
              "      <td>...</td>\n",
              "      <td>0</td>\n",
              "      <td>0</td>\n",
              "      <td>1</td>\n",
              "      <td>0</td>\n",
              "      <td>0</td>\n",
              "      <td>1</td>\n",
              "      <td>0</td>\n",
              "      <td>1</td>\n",
              "      <td>0</td>\n",
              "      <td>0</td>\n",
              "    </tr>\n",
              "    <tr>\n",
              "      <th>1</th>\n",
              "      <td>0</td>\n",
              "      <td>69</td>\n",
              "      <td>90</td>\n",
              "      <td>88</td>\n",
              "      <td>82</td>\n",
              "      <td>1</td>\n",
              "      <td>0</td>\n",
              "      <td>1</td>\n",
              "      <td>0</td>\n",
              "      <td>0</td>\n",
              "      <td>...</td>\n",
              "      <td>0</td>\n",
              "      <td>0</td>\n",
              "      <td>0</td>\n",
              "      <td>1</td>\n",
              "      <td>0</td>\n",
              "      <td>1</td>\n",
              "      <td>0</td>\n",
              "      <td>0</td>\n",
              "      <td>1</td>\n",
              "      <td>0</td>\n",
              "    </tr>\n",
              "    <tr>\n",
              "      <th>2</th>\n",
              "      <td>4</td>\n",
              "      <td>87</td>\n",
              "      <td>93</td>\n",
              "      <td>91</td>\n",
              "      <td>90</td>\n",
              "      <td>1</td>\n",
              "      <td>0</td>\n",
              "      <td>0</td>\n",
              "      <td>1</td>\n",
              "      <td>0</td>\n",
              "      <td>...</td>\n",
              "      <td>0</td>\n",
              "      <td>0</td>\n",
              "      <td>0</td>\n",
              "      <td>1</td>\n",
              "      <td>0</td>\n",
              "      <td>1</td>\n",
              "      <td>0</td>\n",
              "      <td>1</td>\n",
              "      <td>0</td>\n",
              "      <td>0</td>\n",
              "    </tr>\n",
              "    <tr>\n",
              "      <th>3</th>\n",
              "      <td>1</td>\n",
              "      <td>45</td>\n",
              "      <td>56</td>\n",
              "      <td>42</td>\n",
              "      <td>48</td>\n",
              "      <td>0</td>\n",
              "      <td>1</td>\n",
              "      <td>0</td>\n",
              "      <td>0</td>\n",
              "      <td>1</td>\n",
              "      <td>...</td>\n",
              "      <td>0</td>\n",
              "      <td>0</td>\n",
              "      <td>0</td>\n",
              "      <td>0</td>\n",
              "      <td>1</td>\n",
              "      <td>0</td>\n",
              "      <td>1</td>\n",
              "      <td>0</td>\n",
              "      <td>1</td>\n",
              "      <td>0</td>\n",
              "    </tr>\n",
              "    <tr>\n",
              "      <th>4</th>\n",
              "      <td>0</td>\n",
              "      <td>76</td>\n",
              "      <td>78</td>\n",
              "      <td>75</td>\n",
              "      <td>76</td>\n",
              "      <td>0</td>\n",
              "      <td>1</td>\n",
              "      <td>1</td>\n",
              "      <td>0</td>\n",
              "      <td>0</td>\n",
              "      <td>...</td>\n",
              "      <td>0</td>\n",
              "      <td>0</td>\n",
              "      <td>0</td>\n",
              "      <td>1</td>\n",
              "      <td>0</td>\n",
              "      <td>1</td>\n",
              "      <td>0</td>\n",
              "      <td>0</td>\n",
              "      <td>1</td>\n",
              "      <td>0</td>\n",
              "    </tr>\n",
              "  </tbody>\n",
              "</table>\n",
              "<p>5 rows × 34 columns</p>\n",
              "</div>"
            ],
            "text/plain": [
              "   NrSiblings  MathScore  ReadingScore  WritingScore  MeanScore  \\\n",
              "0           3         71            71            74         72   \n",
              "1           0         69            90            88         82   \n",
              "2           4         87            93            91         90   \n",
              "3           1         45            56            42         48   \n",
              "4           0         76            78            75         76   \n",
              "\n",
              "   Gender_female  Gender_male  EthnicGroup_group C  EthnicGroup_group B  \\\n",
              "0              1            0                    1                    0   \n",
              "1              1            0                    1                    0   \n",
              "2              1            0                    0                    1   \n",
              "3              0            1                    0                    0   \n",
              "4              0            1                    1                    0   \n",
              "\n",
              "   EthnicGroup_group A  ...  ParentMaritalStatus_widowed  \\\n",
              "0                    0  ...                            0   \n",
              "1                    0  ...                            0   \n",
              "2                    0  ...                            0   \n",
              "3                    1  ...                            0   \n",
              "4                    0  ...                            0   \n",
              "\n",
              "   ParentMaritalStatus_divorced  PracticeSport_regularly  \\\n",
              "0                             0                        1   \n",
              "1                             0                        0   \n",
              "2                             0                        0   \n",
              "3                             0                        0   \n",
              "4                             0                        0   \n",
              "\n",
              "   PracticeSport_sometimes  PracticeSport_never  IsFirstChild_yes  \\\n",
              "0                        0                    0                 1   \n",
              "1                        1                    0                 1   \n",
              "2                        1                    0                 1   \n",
              "3                        0                    1                 0   \n",
              "4                        1                    0                 1   \n",
              "\n",
              "   IsFirstChild_no  WklyStudyHours_< 5  WklyStudyHours_5 - 10  \\\n",
              "0                0                   1                      0   \n",
              "1                0                   0                      1   \n",
              "2                0                   1                      0   \n",
              "3                1                   0                      1   \n",
              "4                0                   0                      1   \n",
              "\n",
              "   WklyStudyHours_> 10  \n",
              "0                    0  \n",
              "1                    0  \n",
              "2                    0  \n",
              "3                    0  \n",
              "4                    0  \n",
              "\n",
              "[5 rows x 34 columns]"
            ]
          },
          "execution_count": 6,
          "metadata": {},
          "output_type": "execute_result"
        }
      ],
      "source": [
        "encoded_data = OneHotEncoder(variables = df.columns[df.dtypes=='object'].to_list(), drop_last=False)\n",
        "encoded_data = one_hot_encoder.fit_transform(df)\n",
        "encoded_data.head()"
      ]
    },
    {
      "cell_type": "markdown",
      "metadata": {},
      "source": [
        "All variable and categorical values have been converted to its own column using the fit.transform method. Creating a much simpler binary option for each value. There are now 34 columns. Now the Pearson algorithm can be applied to calculate the level of correlation with the selected target variable. I will use the mean as it best represents the overall performance of a student."
      ]
    },
    {
      "cell_type": "markdown",
      "metadata": {},
      "source": [
        "## Calculate Pearson Correlation Table"
      ]
    },
    {
      "cell_type": "code",
      "execution_count": 18,
      "metadata": {},
      "outputs": [
        {
          "data": {
            "text/plain": [
              "MeanScore                      1.000000\n",
              "ReadingScore                   0.969200\n",
              "WritingScore                   0.966114\n",
              "MathScore                      0.919876\n",
              "LunchType_free/reduced        -0.315839\n",
              "LunchType_standard             0.315839\n",
              "TestPrep_none                 -0.218126\n",
              "TestPrep_completed             0.218126\n",
              "EthnicGroup_group E            0.160630\n",
              "ParentEduc_some high school   -0.136453\n",
              "Name: MeanScore, dtype: float64"
            ]
          },
          "execution_count": 18,
          "metadata": {},
          "output_type": "execute_result"
        }
      ],
      "source": [
        "correlation_pearson = encoded_data.corr(method='pearson')['MeanScore'].sort_values(key=abs, ascending=False).head(10)\n",
        "correlation_pearson"
      ]
    },
    {
      "cell_type": "markdown",
      "metadata": {},
      "source": [
        "The top 10 correlation Features are listed. The pearson test also lists the correlation between other numerical variables and of course each score directly correlates to the mean score, as does the mean score perfectly correlate with itself. \n",
        "**Therefore I only consider the 5th value onwards for investigating correlation...**"
      ]
    },
    {
      "cell_type": "code",
      "execution_count": 19,
      "metadata": {},
      "outputs": [
        {
          "data": {
            "text/plain": [
              "LunchType_free/reduced         -0.315839\n",
              "LunchType_standard              0.315839\n",
              "TestPrep_none                  -0.218126\n",
              "TestPrep_completed              0.218126\n",
              "EthnicGroup_group E             0.160630\n",
              "ParentEduc_some high school    -0.136453\n",
              "Gender_female                   0.126188\n",
              "Gender_male                    -0.126188\n",
              "ParentEduc_master's degree      0.123639\n",
              "ParentEduc_bachelor's degree    0.101549\n",
              "Name: MeanScore, dtype: float64"
            ]
          },
          "execution_count": 19,
          "metadata": {},
          "output_type": "execute_result"
        }
      ],
      "source": [
        "correlation_pearson = encoded_data.corr(method='pearson')['MeanScore'].sort_values(key=abs, ascending=False)[4:].head(10)\n",
        "correlation_pearson"
      ]
    },
    {
      "cell_type": "markdown",
      "metadata": {},
      "source": [
        "## Calculate Spearman correlation table\n",
        "I also investigate the spearman correlation calculation and list the top features without the numercial variables"
      ]
    },
    {
      "cell_type": "code",
      "execution_count": 20,
      "metadata": {},
      "outputs": [
        {
          "data": {
            "text/plain": [
              "LunchType_standard              0.308989\n",
              "TestPrep_completed              0.213853\n",
              "TestPrep_none                  -0.213853\n",
              "EthnicGroup_group E             0.158113\n",
              "ParentEduc_some high school    -0.132208\n",
              "Gender_male                    -0.124251\n",
              "Gender_female                   0.124251\n",
              "ParentEduc_master's degree      0.121891\n",
              "ParentEduc_bachelor's degree    0.098894\n",
              "EthnicGroup_group B            -0.082000\n",
              "Name: MeanScore, dtype: float64"
            ]
          },
          "execution_count": 20,
          "metadata": {},
          "output_type": "execute_result"
        }
      ],
      "source": [
        "correlation_spearman = encoded_data.corr(method='spearman')['MeanScore'].sort_values(key=abs, ascending=False)[5:].head(10)\n",
        "correlation_spearman"
      ]
    },
    {
      "cell_type": "markdown",
      "metadata": {},
      "source": [
        "### Individual Score analysis.\n",
        "\n",
        "It shows that Pearson is able to determine slightly higher correlations on the mean target variable. Using this same method on idnvidual scores might show minor details in the overall correlation. For instance it is possible that gender will have a higher correlation specifically for the maths scores..."
      ]
    },
    {
      "cell_type": "code",
      "execution_count": 23,
      "metadata": {},
      "outputs": [
        {
          "data": {
            "text/plain": [
              "LunchType_standard             0.367942\n",
              "LunchType_free/reduced        -0.367942\n",
              "EthnicGroup_group E            0.221775\n",
              "Gender_male                    0.162391\n",
              "Gender_female                 -0.162391\n",
              "TestPrep_none                 -0.134949\n",
              "TestPrep_completed             0.134949\n",
              "ParentEduc_some high school   -0.121240\n",
              "ParentEduc_master's degree     0.100001\n",
              "EthnicGroup_group B           -0.096779\n",
              "Name: MathScore, dtype: float64"
            ]
          },
          "execution_count": 23,
          "metadata": {},
          "output_type": "execute_result"
        }
      ],
      "source": [
        "correlation_pearson_maths = encoded_data.corr(method='pearson')['MathScore'].sort_values(key=abs, ascending=False)[4:].head(10)\n",
        "correlation_pearson_maths"
      ]
    },
    {
      "cell_type": "code",
      "execution_count": 24,
      "metadata": {},
      "outputs": [
        {
          "data": {
            "text/plain": [
              "LunchType_standard              0.258152\n",
              "LunchType_free/reduced         -0.258152\n",
              "Gender_male                    -0.237097\n",
              "Gender_female                   0.237097\n",
              "TestPrep_none                  -0.204724\n",
              "TestPrep_completed              0.204724\n",
              "EthnicGroup_group E             0.128716\n",
              "ParentEduc_some high school    -0.122773\n",
              "ParentEduc_master's degree      0.116293\n",
              "ParentEduc_bachelor's degree    0.087993\n",
              "Name: ReadingScore, dtype: float64"
            ]
          },
          "execution_count": 24,
          "metadata": {},
          "output_type": "execute_result"
        }
      ],
      "source": [
        "correlation_pearson_reading = encoded_data.corr(method='pearson')['ReadingScore'].sort_values(key=abs, ascending=False)[4:].head(10)\n",
        "correlation_pearson_reading"
      ]
    },
    {
      "cell_type": "code",
      "execution_count": 25,
      "metadata": {},
      "outputs": [
        {
          "data": {
            "text/plain": [
              "LunchType_standard             0.367942\n",
              "LunchType_free/reduced        -0.367942\n",
              "EthnicGroup_group E            0.221775\n",
              "Gender_male                    0.162391\n",
              "Gender_female                 -0.162391\n",
              "TestPrep_none                 -0.134949\n",
              "TestPrep_completed             0.134949\n",
              "ParentEduc_some high school   -0.121240\n",
              "ParentEduc_master's degree     0.100001\n",
              "EthnicGroup_group B           -0.096779\n",
              "Name: MathScore, dtype: float64"
            ]
          },
          "execution_count": 25,
          "metadata": {},
          "output_type": "execute_result"
        }
      ],
      "source": [
        "correlation_pearson_writing = encoded_data.corr(method='pearson')['MathScore'].sort_values(key=abs, ascending=False)[4:].head(10)\n",
        "correlation_pearson_writing"
      ]
    },
    {
      "cell_type": "markdown",
      "metadata": {},
      "source": [
        "## Correlation Conclusions\n",
        "\n",
        "Since a perfect correlation for both tests is represented by a value of 1.0, we can see that the categorical features only have a relatively weak correlation with a best value of 0.315 for the LunchType Feature of the pearson test.\n",
        "\n",
        "However, the test does align with my previous hypothesis that LunchType, EthnicGroup, Parental Education, TestPrep and Gender are most likey to influence the numerical target variables.\n",
        "\n",
        "the individual score evaluations all agree on lunchtype being teh most significant indicator. Interestingly, the Specific Maths score showed a lower correlation of gender, against my initial hypothesis."
      ]
    },
    {
      "cell_type": "markdown",
      "metadata": {},
      "source": [
        "## PPS Correlation\n",
        "\n",
        "to prevent the numerical variables from being considered against each other, I will drop them so that only one target variable remains before the prediction."
      ]
    },
    {
      "cell_type": "code",
      "execution_count": 26,
      "metadata": {},
      "outputs": [
        {
          "data": {
            "text/html": [
              "<div>\n",
              "<style scoped>\n",
              "    .dataframe tbody tr th:only-of-type {\n",
              "        vertical-align: middle;\n",
              "    }\n",
              "\n",
              "    .dataframe tbody tr th {\n",
              "        vertical-align: top;\n",
              "    }\n",
              "\n",
              "    .dataframe thead th {\n",
              "        text-align: right;\n",
              "    }\n",
              "</style>\n",
              "<table border=\"1\" class=\"dataframe\">\n",
              "  <thead>\n",
              "    <tr style=\"text-align: right;\">\n",
              "      <th></th>\n",
              "      <th>x</th>\n",
              "      <th>y</th>\n",
              "      <th>ppscore</th>\n",
              "      <th>case</th>\n",
              "      <th>is_valid_score</th>\n",
              "      <th>metric</th>\n",
              "      <th>baseline_score</th>\n",
              "      <th>model_score</th>\n",
              "      <th>model</th>\n",
              "    </tr>\n",
              "  </thead>\n",
              "  <tbody>\n",
              "    <tr>\n",
              "      <th>0</th>\n",
              "      <td>Gender</td>\n",
              "      <td>Gender</td>\n",
              "      <td>1.0</td>\n",
              "      <td>predict_itself</td>\n",
              "      <td>True</td>\n",
              "      <td>None</td>\n",
              "      <td>0.0000</td>\n",
              "      <td>1.000000</td>\n",
              "      <td>None</td>\n",
              "    </tr>\n",
              "    <tr>\n",
              "      <th>1</th>\n",
              "      <td>Gender</td>\n",
              "      <td>EthnicGroup</td>\n",
              "      <td>0.0</td>\n",
              "      <td>classification</td>\n",
              "      <td>True</td>\n",
              "      <td>weighted F1</td>\n",
              "      <td>0.2468</td>\n",
              "      <td>0.195202</td>\n",
              "      <td>DecisionTreeClassifier()</td>\n",
              "    </tr>\n",
              "    <tr>\n",
              "      <th>2</th>\n",
              "      <td>Gender</td>\n",
              "      <td>ParentEduc</td>\n",
              "      <td>0.0</td>\n",
              "      <td>classification</td>\n",
              "      <td>True</td>\n",
              "      <td>weighted F1</td>\n",
              "      <td>0.2008</td>\n",
              "      <td>0.128795</td>\n",
              "      <td>DecisionTreeClassifier()</td>\n",
              "    </tr>\n",
              "    <tr>\n",
              "      <th>3</th>\n",
              "      <td>Gender</td>\n",
              "      <td>LunchType</td>\n",
              "      <td>0.0</td>\n",
              "      <td>classification</td>\n",
              "      <td>True</td>\n",
              "      <td>weighted F1</td>\n",
              "      <td>0.5392</td>\n",
              "      <td>0.513640</td>\n",
              "      <td>DecisionTreeClassifier()</td>\n",
              "    </tr>\n",
              "    <tr>\n",
              "      <th>4</th>\n",
              "      <td>Gender</td>\n",
              "      <td>TestPrep</td>\n",
              "      <td>0.0</td>\n",
              "      <td>classification</td>\n",
              "      <td>True</td>\n",
              "      <td>weighted F1</td>\n",
              "      <td>0.5564</td>\n",
              "      <td>0.543773</td>\n",
              "      <td>DecisionTreeClassifier()</td>\n",
              "    </tr>\n",
              "    <tr>\n",
              "      <th>...</th>\n",
              "      <td>...</td>\n",
              "      <td>...</td>\n",
              "      <td>...</td>\n",
              "      <td>...</td>\n",
              "      <td>...</td>\n",
              "      <td>...</td>\n",
              "      <td>...</td>\n",
              "      <td>...</td>\n",
              "      <td>...</td>\n",
              "    </tr>\n",
              "    <tr>\n",
              "      <th>116</th>\n",
              "      <td>MeanScore</td>\n",
              "      <td>PracticeSport</td>\n",
              "      <td>0.0</td>\n",
              "      <td>classification</td>\n",
              "      <td>True</td>\n",
              "      <td>weighted F1</td>\n",
              "      <td>0.3992</td>\n",
              "      <td>0.393912</td>\n",
              "      <td>DecisionTreeClassifier()</td>\n",
              "    </tr>\n",
              "    <tr>\n",
              "      <th>117</th>\n",
              "      <td>MeanScore</td>\n",
              "      <td>IsFirstChild</td>\n",
              "      <td>0.0</td>\n",
              "      <td>classification</td>\n",
              "      <td>True</td>\n",
              "      <td>weighted F1</td>\n",
              "      <td>0.5412</td>\n",
              "      <td>0.521804</td>\n",
              "      <td>DecisionTreeClassifier()</td>\n",
              "    </tr>\n",
              "    <tr>\n",
              "      <th>118</th>\n",
              "      <td>MeanScore</td>\n",
              "      <td>NrSiblings</td>\n",
              "      <td>0.0</td>\n",
              "      <td>regression</td>\n",
              "      <td>True</td>\n",
              "      <td>mean absolute error</td>\n",
              "      <td>1.0820</td>\n",
              "      <td>1.136556</td>\n",
              "      <td>DecisionTreeRegressor()</td>\n",
              "    </tr>\n",
              "    <tr>\n",
              "      <th>119</th>\n",
              "      <td>MeanScore</td>\n",
              "      <td>WklyStudyHours</td>\n",
              "      <td>0.0</td>\n",
              "      <td>classification</td>\n",
              "      <td>True</td>\n",
              "      <td>weighted F1</td>\n",
              "      <td>0.4142</td>\n",
              "      <td>0.403903</td>\n",
              "      <td>DecisionTreeClassifier()</td>\n",
              "    </tr>\n",
              "    <tr>\n",
              "      <th>120</th>\n",
              "      <td>MeanScore</td>\n",
              "      <td>MeanScore</td>\n",
              "      <td>1.0</td>\n",
              "      <td>predict_itself</td>\n",
              "      <td>True</td>\n",
              "      <td>None</td>\n",
              "      <td>0.0000</td>\n",
              "      <td>1.000000</td>\n",
              "      <td>None</td>\n",
              "    </tr>\n",
              "  </tbody>\n",
              "</table>\n",
              "<p>121 rows × 9 columns</p>\n",
              "</div>"
            ],
            "text/plain": [
              "             x               y  ppscore            case  is_valid_score  \\\n",
              "0       Gender          Gender      1.0  predict_itself            True   \n",
              "1       Gender     EthnicGroup      0.0  classification            True   \n",
              "2       Gender      ParentEduc      0.0  classification            True   \n",
              "3       Gender       LunchType      0.0  classification            True   \n",
              "4       Gender        TestPrep      0.0  classification            True   \n",
              "..         ...             ...      ...             ...             ...   \n",
              "116  MeanScore   PracticeSport      0.0  classification            True   \n",
              "117  MeanScore    IsFirstChild      0.0  classification            True   \n",
              "118  MeanScore      NrSiblings      0.0      regression            True   \n",
              "119  MeanScore  WklyStudyHours      0.0  classification            True   \n",
              "120  MeanScore       MeanScore      1.0  predict_itself            True   \n",
              "\n",
              "                  metric  baseline_score  model_score  \\\n",
              "0                   None          0.0000     1.000000   \n",
              "1            weighted F1          0.2468     0.195202   \n",
              "2            weighted F1          0.2008     0.128795   \n",
              "3            weighted F1          0.5392     0.513640   \n",
              "4            weighted F1          0.5564     0.543773   \n",
              "..                   ...             ...          ...   \n",
              "116          weighted F1          0.3992     0.393912   \n",
              "117          weighted F1          0.5412     0.521804   \n",
              "118  mean absolute error          1.0820     1.136556   \n",
              "119          weighted F1          0.4142     0.403903   \n",
              "120                 None          0.0000     1.000000   \n",
              "\n",
              "                        model  \n",
              "0                        None  \n",
              "1    DecisionTreeClassifier()  \n",
              "2    DecisionTreeClassifier()  \n",
              "3    DecisionTreeClassifier()  \n",
              "4    DecisionTreeClassifier()  \n",
              "..                        ...  \n",
              "116  DecisionTreeClassifier()  \n",
              "117  DecisionTreeClassifier()  \n",
              "118   DecisionTreeRegressor()  \n",
              "119  DecisionTreeClassifier()  \n",
              "120                      None  \n",
              "\n",
              "[121 rows x 9 columns]"
            ]
          },
          "execution_count": 26,
          "metadata": {},
          "output_type": "execute_result"
        }
      ],
      "source": [
        "df_mean = df.drop(['MathScore', 'ReadingScore', 'WritingScore'], axis=1)\n",
        "\n",
        "pps_correlation = pps.matrix(df=df_mean)\n",
        "pps_correlation"
      ]
    },
    {
      "cell_type": "markdown",
      "metadata": {},
      "source": [
        "### Filter pps results for mean score correlation..."
      ]
    },
    {
      "cell_type": "code",
      "execution_count": 28,
      "metadata": {},
      "outputs": [
        {
          "data": {
            "text/html": [
              "<div>\n",
              "<style scoped>\n",
              "    .dataframe tbody tr th:only-of-type {\n",
              "        vertical-align: middle;\n",
              "    }\n",
              "\n",
              "    .dataframe tbody tr th {\n",
              "        vertical-align: top;\n",
              "    }\n",
              "\n",
              "    .dataframe thead th {\n",
              "        text-align: right;\n",
              "    }\n",
              "</style>\n",
              "<table border=\"1\" class=\"dataframe\">\n",
              "  <thead>\n",
              "    <tr style=\"text-align: right;\">\n",
              "      <th></th>\n",
              "      <th>x</th>\n",
              "      <th>y</th>\n",
              "      <th>ppscore</th>\n",
              "    </tr>\n",
              "  </thead>\n",
              "  <tbody>\n",
              "    <tr>\n",
              "      <th>110</th>\n",
              "      <td>MeanScore</td>\n",
              "      <td>Gender</td>\n",
              "      <td>0.047392</td>\n",
              "    </tr>\n",
              "    <tr>\n",
              "      <th>111</th>\n",
              "      <td>MeanScore</td>\n",
              "      <td>EthnicGroup</td>\n",
              "      <td>0.011235</td>\n",
              "    </tr>\n",
              "    <tr>\n",
              "      <th>112</th>\n",
              "      <td>MeanScore</td>\n",
              "      <td>ParentEduc</td>\n",
              "      <td>0.000000</td>\n",
              "    </tr>\n",
              "    <tr>\n",
              "      <th>113</th>\n",
              "      <td>MeanScore</td>\n",
              "      <td>LunchType</td>\n",
              "      <td>0.220754</td>\n",
              "    </tr>\n",
              "    <tr>\n",
              "      <th>114</th>\n",
              "      <td>MeanScore</td>\n",
              "      <td>TestPrep</td>\n",
              "      <td>0.133310</td>\n",
              "    </tr>\n",
              "    <tr>\n",
              "      <th>115</th>\n",
              "      <td>MeanScore</td>\n",
              "      <td>ParentMaritalStatus</td>\n",
              "      <td>0.002409</td>\n",
              "    </tr>\n",
              "    <tr>\n",
              "      <th>116</th>\n",
              "      <td>MeanScore</td>\n",
              "      <td>PracticeSport</td>\n",
              "      <td>0.000000</td>\n",
              "    </tr>\n",
              "    <tr>\n",
              "      <th>117</th>\n",
              "      <td>MeanScore</td>\n",
              "      <td>IsFirstChild</td>\n",
              "      <td>0.000000</td>\n",
              "    </tr>\n",
              "    <tr>\n",
              "      <th>118</th>\n",
              "      <td>MeanScore</td>\n",
              "      <td>NrSiblings</td>\n",
              "      <td>0.000000</td>\n",
              "    </tr>\n",
              "    <tr>\n",
              "      <th>119</th>\n",
              "      <td>MeanScore</td>\n",
              "      <td>WklyStudyHours</td>\n",
              "      <td>0.000000</td>\n",
              "    </tr>\n",
              "    <tr>\n",
              "      <th>120</th>\n",
              "      <td>MeanScore</td>\n",
              "      <td>MeanScore</td>\n",
              "      <td>1.000000</td>\n",
              "    </tr>\n",
              "  </tbody>\n",
              "</table>\n",
              "</div>"
            ],
            "text/plain": [
              "             x                    y   ppscore\n",
              "110  MeanScore               Gender  0.047392\n",
              "111  MeanScore          EthnicGroup  0.011235\n",
              "112  MeanScore           ParentEduc  0.000000\n",
              "113  MeanScore            LunchType  0.220754\n",
              "114  MeanScore             TestPrep  0.133310\n",
              "115  MeanScore  ParentMaritalStatus  0.002409\n",
              "116  MeanScore        PracticeSport  0.000000\n",
              "117  MeanScore         IsFirstChild  0.000000\n",
              "118  MeanScore           NrSiblings  0.000000\n",
              "119  MeanScore       WklyStudyHours  0.000000\n",
              "120  MeanScore            MeanScore  1.000000"
            ]
          },
          "execution_count": 28,
          "metadata": {},
          "output_type": "execute_result"
        }
      ],
      "source": [
        "df_mean_pps_filtered = pps_correlation.filter(['x', 'y', 'ppscore']).query('x == \"MeanScore\"')\n",
        "df_mean_pps_filtered"
      ]
    }
  ],
  "metadata": {
    "accelerator": "GPU",
    "colab": {
      "name": "Data Practitioner Jupyter Notebook.ipynb",
      "provenance": [],
      "toc_visible": true
    },
    "interpreter": {
      "hash": "8b8334dab9339717f727a1deaf837b322d7a41c20d15cc86be99a8e69ceec8ce"
    },
    "kernelspec": {
      "display_name": "Python 3.8.12 64-bit ('3.8.12': pyenv)",
      "name": "python3"
    },
    "language_info": {
      "codemirror_mode": {
        "name": "ipython",
        "version": 3
      },
      "file_extension": ".py",
      "mimetype": "text/x-python",
      "name": "python",
      "nbconvert_exporter": "python",
      "pygments_lexer": "ipython3",
      "version": "3.8.18"
    },
    "orig_nbformat": 2
  },
  "nbformat": 4,
  "nbformat_minor": 2
}
