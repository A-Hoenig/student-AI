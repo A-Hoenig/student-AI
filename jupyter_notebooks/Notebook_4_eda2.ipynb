{
  "cells": [
    {
      "cell_type": "markdown",
      "metadata": {
        "id": "0aStgWSO0E0E"
      },
      "source": [
        "# **STUDENT AI** - CORRELATION ASSESSMENT"
      ]
    },
    {
      "cell_type": "markdown",
      "metadata": {
        "id": "1eLEkw5O0ECa"
      },
      "source": [
        "## Objectives\n",
        "\n",
        "Inspect the dataset and solve any issues that might arise from wrong data types, or missing / wrong values\n",
        "\n",
        "## Inputs\n",
        "\n",
        "Continues to assess dataset loaded in previous notebook.\n",
        "\n",
        "## Outputs\n",
        "\n",
        "Saves the cleaned dataset back to inputs/dataset folder for futher use\n"
      ]
    },
    {
      "cell_type": "markdown",
      "metadata": {
        "id": "9uWZXH9LwoQg"
      },
      "source": [
        "---"
      ]
    },
    {
      "cell_type": "markdown",
      "metadata": {},
      "source": [
        "# Import required libraries"
      ]
    },
    {
      "cell_type": "code",
      "execution_count": 1,
      "metadata": {},
      "outputs": [
        {
          "name": "stdout",
          "output_type": "stream",
          "text": [
            "All Libraries Loaded\n"
          ]
        },
        {
          "name": "stderr",
          "output_type": "stream",
          "text": [
            "/tmp/ipykernel_11147/881926697.py:3: DeprecationWarning: `import pandas_profiling` is going to be deprecated by April 1st. Please use `import ydata_profiling` instead.\n",
            "  from pandas_profiling import ProfileReport\n"
          ]
        }
      ],
      "source": [
        "import os\n",
        "import pandas as pd\n",
        "from pandas_profiling import ProfileReport\n",
        "\n",
        "print('All Libraries Loaded')"
      ]
    },
    {
      "cell_type": "markdown",
      "metadata": {
        "id": "cqP-UeN-z3i2"
      },
      "source": [
        "# Change working directory"
      ]
    },
    {
      "cell_type": "markdown",
      "metadata": {
        "id": "aOGIGS-uz3i2"
      },
      "source": [
        "### Set the working directory to notebook parent folder\n",
        "If the output does not match, click **'clear all outputs'** and then **'restart'** the notebook. \n",
        "Then run cells from top to bottom."
      ]
    },
    {
      "cell_type": "code",
      "execution_count": 2,
      "metadata": {
        "id": "wZfF_j-Bz3i4",
        "outputId": "66943449-1436-4c3d-85c7-b85f9f78349b"
      },
      "outputs": [
        {
          "name": "stdout",
          "output_type": "stream",
          "text": [
            "If correct, Active Directory should read: /workspace/student-AI\n",
            "Active Directory: /workspace/student-AI\n"
          ]
        }
      ],
      "source": [
        "current_dir = os.getcwd()\n",
        "os.chdir(os.path.dirname(current_dir))\n",
        "current_dir = os.getcwd()\n",
        "print('If correct, Active Directory should read: /workspace/student-AI')\n",
        "print(f\"Active Directory: {current_dir}\")"
      ]
    },
    {
      "cell_type": "markdown",
      "metadata": {},
      "source": [
        "### Load cleaned dataset and add mean score"
      ]
    },
    {
      "cell_type": "code",
      "execution_count": 4,
      "metadata": {},
      "outputs": [
        {
          "data": {
            "text/html": [
              "<div>\n",
              "<style scoped>\n",
              "    .dataframe tbody tr th:only-of-type {\n",
              "        vertical-align: middle;\n",
              "    }\n",
              "\n",
              "    .dataframe tbody tr th {\n",
              "        vertical-align: top;\n",
              "    }\n",
              "\n",
              "    .dataframe thead th {\n",
              "        text-align: right;\n",
              "    }\n",
              "</style>\n",
              "<table border=\"1\" class=\"dataframe\">\n",
              "  <thead>\n",
              "    <tr style=\"text-align: right;\">\n",
              "      <th></th>\n",
              "      <th>Gender</th>\n",
              "      <th>EthnicGroup</th>\n",
              "      <th>ParentEduc</th>\n",
              "      <th>LunchType</th>\n",
              "      <th>TestPrep</th>\n",
              "      <th>ParentMaritalStatus</th>\n",
              "      <th>PracticeSport</th>\n",
              "      <th>IsFirstChild</th>\n",
              "      <th>NrSiblings</th>\n",
              "      <th>WklyStudyHours</th>\n",
              "      <th>MathScore</th>\n",
              "      <th>ReadingScore</th>\n",
              "      <th>WritingScore</th>\n",
              "      <th>MeanScore</th>\n",
              "    </tr>\n",
              "  </thead>\n",
              "  <tbody>\n",
              "    <tr>\n",
              "      <th>0</th>\n",
              "      <td>female</td>\n",
              "      <td>group C</td>\n",
              "      <td>bachelor's degree</td>\n",
              "      <td>standard</td>\n",
              "      <td>none</td>\n",
              "      <td>married</td>\n",
              "      <td>regularly</td>\n",
              "      <td>yes</td>\n",
              "      <td>3</td>\n",
              "      <td>&lt; 5</td>\n",
              "      <td>71</td>\n",
              "      <td>71</td>\n",
              "      <td>74</td>\n",
              "      <td>72</td>\n",
              "    </tr>\n",
              "    <tr>\n",
              "      <th>1</th>\n",
              "      <td>female</td>\n",
              "      <td>group C</td>\n",
              "      <td>some college</td>\n",
              "      <td>standard</td>\n",
              "      <td>none</td>\n",
              "      <td>married</td>\n",
              "      <td>sometimes</td>\n",
              "      <td>yes</td>\n",
              "      <td>0</td>\n",
              "      <td>5 - 10</td>\n",
              "      <td>69</td>\n",
              "      <td>90</td>\n",
              "      <td>88</td>\n",
              "      <td>82</td>\n",
              "    </tr>\n",
              "    <tr>\n",
              "      <th>2</th>\n",
              "      <td>female</td>\n",
              "      <td>group B</td>\n",
              "      <td>master's degree</td>\n",
              "      <td>standard</td>\n",
              "      <td>none</td>\n",
              "      <td>single</td>\n",
              "      <td>sometimes</td>\n",
              "      <td>yes</td>\n",
              "      <td>4</td>\n",
              "      <td>&lt; 5</td>\n",
              "      <td>87</td>\n",
              "      <td>93</td>\n",
              "      <td>91</td>\n",
              "      <td>90</td>\n",
              "    </tr>\n",
              "    <tr>\n",
              "      <th>3</th>\n",
              "      <td>male</td>\n",
              "      <td>group A</td>\n",
              "      <td>associate's degree</td>\n",
              "      <td>free/reduced</td>\n",
              "      <td>none</td>\n",
              "      <td>married</td>\n",
              "      <td>never</td>\n",
              "      <td>no</td>\n",
              "      <td>1</td>\n",
              "      <td>5 - 10</td>\n",
              "      <td>45</td>\n",
              "      <td>56</td>\n",
              "      <td>42</td>\n",
              "      <td>48</td>\n",
              "    </tr>\n",
              "    <tr>\n",
              "      <th>4</th>\n",
              "      <td>male</td>\n",
              "      <td>group C</td>\n",
              "      <td>some college</td>\n",
              "      <td>standard</td>\n",
              "      <td>none</td>\n",
              "      <td>married</td>\n",
              "      <td>sometimes</td>\n",
              "      <td>yes</td>\n",
              "      <td>0</td>\n",
              "      <td>5 - 10</td>\n",
              "      <td>76</td>\n",
              "      <td>78</td>\n",
              "      <td>75</td>\n",
              "      <td>76</td>\n",
              "    </tr>\n",
              "  </tbody>\n",
              "</table>\n",
              "</div>"
            ],
            "text/plain": [
              "   Gender EthnicGroup          ParentEduc     LunchType TestPrep  \\\n",
              "0  female     group C   bachelor's degree      standard     none   \n",
              "1  female     group C        some college      standard     none   \n",
              "2  female     group B     master's degree      standard     none   \n",
              "3    male     group A  associate's degree  free/reduced     none   \n",
              "4    male     group C        some college      standard     none   \n",
              "\n",
              "  ParentMaritalStatus PracticeSport IsFirstChild  NrSiblings WklyStudyHours  \\\n",
              "0             married     regularly          yes           3            < 5   \n",
              "1             married     sometimes          yes           0         5 - 10   \n",
              "2              single     sometimes          yes           4            < 5   \n",
              "3             married         never           no           1         5 - 10   \n",
              "4             married     sometimes          yes           0         5 - 10   \n",
              "\n",
              "   MathScore  ReadingScore  WritingScore  MeanScore  \n",
              "0         71            71            74         72  \n",
              "1         69            90            88         82  \n",
              "2         87            93            91         90  \n",
              "3         45            56            42         48  \n",
              "4         76            78            75         76  "
            ]
          },
          "execution_count": 4,
          "metadata": {},
          "output_type": "execute_result"
        }
      ],
      "source": [
        "df = pd.read_csv(f\"outputs/dataset/Expanded_data_with_more_features_clean.csv\")\n",
        "df['MeanScore'] = df[['MathScore', 'ReadingScore', 'WritingScore']].mean(axis=1).round().astype(int)\n",
        "df.head()"
      ]
    }
  ],
  "metadata": {
    "accelerator": "GPU",
    "colab": {
      "name": "Data Practitioner Jupyter Notebook.ipynb",
      "provenance": [],
      "toc_visible": true
    },
    "interpreter": {
      "hash": "8b8334dab9339717f727a1deaf837b322d7a41c20d15cc86be99a8e69ceec8ce"
    },
    "kernelspec": {
      "display_name": "Python 3.8.12 64-bit ('3.8.12': pyenv)",
      "name": "python3"
    },
    "language_info": {
      "codemirror_mode": {
        "name": "ipython",
        "version": 3
      },
      "file_extension": ".py",
      "mimetype": "text/x-python",
      "name": "python",
      "nbconvert_exporter": "python",
      "pygments_lexer": "ipython3",
      "version": "3.8.18"
    },
    "orig_nbformat": 2
  },
  "nbformat": 4,
  "nbformat_minor": 2
}
